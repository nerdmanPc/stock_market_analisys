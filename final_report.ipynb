{
 "cells": [
  {
   "cell_type": "code",
   "execution_count": 2,
   "metadata": {
    "editable": true,
    "slideshow": {
     "slide_type": ""
    },
    "tags": []
   },
   "outputs": [],
   "source": [
    "import pandas as pd\n",
    "import numpy as np\n",
    "import seaborn as sns\n",
    "import matplotlib.pyplot as plt\n",
    "import plotly.express as plx\n",
    "from pathlib import Path\n",
    "from random import random\n",
    "from datetime import timedelta\n",
    "\n",
    "from sec import *\n",
    "from stooq import *\n",
    "\n",
    "import json\n",
    "from tqdm.notebook import tqdm\n",
    "\n",
    "from pandas.plotting import autocorrelation_plot, lag_plot\n",
    "from statsmodels.graphics.tsaplots import plot_acf, plot_pacf"
   ]
  },
  {
   "cell_type": "markdown",
   "metadata": {},
   "source": [
    "## Construção da Tabela de Preços\n",
    "\n",
    "### Aquisição dos dados\n",
    "\n",
    "#### Preços e macroeconomia\n",
    "\n",
    " > O site polonês [Stooq](https://stooq.com/db/h/) ofereçe dados históricos de preços e indicadores macroeconômicos de graça. Não se preocupe, a página não está em Polonês! Basta baixar as tabelas necessárias e organizar os arquivos de acordo com o recomendado no site.\n",
    "\n",
    "#### Tabela tickers para CIK\n",
    "\n",
    "> A SEC, comissão de valores mobiliários americana, disponibiliza uma [tabela de tickers para CIK](https://www.sec.gov/file/company-tickers). Este caderno utiliza o CIK como identificador de ativos porque é imutável, ao contrário dos tickers.\n",
    "\n",
    "#### Fundamentos\n",
    "\n",
    "> A SEC também disponibilia um grande volume de [dados contábeis](http://www.sec.gov/Archives/edgar/daily-index/xbrl/companyfacts.zip) das companhias publicamente negociadas nos Estados Unidos. Baixe o arquivo ZIP e extraia no diretório indicado &fundamentals_dir& abaixo."
   ]
  },
  {
   "cell_type": "code",
   "execution_count": 3,
   "metadata": {},
   "outputs": [],
   "source": [
    "# Altere estas variáveis caso os arquivos não tenham sido encontrados\n",
    "stooq_dir = 'data/stooq'\n",
    "fundamentals_dir = 'data/sec/companyfacts'\n",
    "tickers_path = 'data/sec/company_tickers.json'"
   ]
  },
  {
   "cell_type": "code",
   "execution_count": 4,
   "metadata": {},
   "outputs": [],
   "source": [
    "period = 'daily'\n",
    "market = 'us'\n",
    "sample_companies = [\n",
    "    'MSFT.US',\n",
    "    'AVGO.US',\n",
    "    'NVDA.US',\n",
    "    'TSM.US',\n",
    "    'TSLA.US',\n",
    "    'META.US',\n",
    "    'IBM.US',\n",
    "    'AAPL.US',\n",
    "    'ASML.US',\n",
    "    'AMZN.US',\n",
    "    'GOOG.US',\n",
    "    'LLY.US',\n",
    "    'WMT.US',\n",
    "    'JPM.US',\n",
    "    'V.US',\n",
    "    'UNH.US',\n",
    "    'XOM.US',\n",
    "    'ORCL.US',\n",
    "    'MA.US'\n",
    "]"
   ]
  },
  {
   "cell_type": "code",
   "execution_count": 5,
   "metadata": {},
   "outputs": [],
   "source": [
    "cik_by_ticker = None\n",
    "with open(tickers_path, 'r') as file:\n",
    "    cik_by_ticker = json.load(file)\n",
    "cik_by_ticker = { value['ticker'] + '.US': value['cik_str'] for _key, value in cik_by_ticker.items() }"
   ]
  },
  {
   "cell_type": "markdown",
   "metadata": {},
   "source": [
    "### Limpeza dos dados"
   ]
  },
  {
   "cell_type": "code",
   "execution_count": 3,
   "metadata": {},
   "outputs": [],
   "source": [
    "prices = build_prices_table(stooq_dir, period, market)\n",
    "add_one_cent_noise(prices)"
   ]
  },
  {
   "cell_type": "markdown",
   "metadata": {},
   "source": [
    "### Criação de variáveis"
   ]
  },
  {
   "cell_type": "code",
   "execution_count": null,
   "metadata": {},
   "outputs": [],
   "source": [
    "add_columns_prices(prices)\n",
    "#prices = pd.read_parquet(Path(f'data/stooq/{period}/{market}/all_stocks_processed.parquet'))\n",
    "prices.columns = [col[1:-1].lower() for col in prices.columns]\n",
    "prices['delta_date'] = prices.date - prices.groupby('ticker')['date'].shift()\n",
    "prices['daily_log_return'] = prices.log_return / prices.delta_date.dt.days"
   ]
  },
  {
   "cell_type": "code",
   "execution_count": 5,
   "metadata": {},
   "outputs": [],
   "source": [
    "prices['cik'] = prices.ticker.map(cik_by_ticker)\n",
    "prices.dropna(inplace=True)\n",
    "prices['cik'] = prices.cik.astype(int)"
   ]
  },
  {
   "cell_type": "markdown",
   "metadata": {},
   "source": [
    "### Formatação final"
   ]
  },
  {
   "cell_type": "code",
   "execution_count": 6,
   "metadata": {},
   "outputs": [],
   "source": [
    "prices.drop(columns=['open', 'high', 'low', 'vol', 'delta_date', 'daily_log_return'], inplace=True, errors='ignore')\n",
    "prices.set_index(['cik', 'date'], inplace=True)\n",
    "prices.drop_duplicates(inplace=True)"
   ]
  },
  {
   "cell_type": "markdown",
   "metadata": {},
   "source": [
    "## Contrução da tabela de fundamentos\n",
    "\n",
    "### Aquisição dos Dados"
   ]
  },
  {
   "cell_type": "code",
   "execution_count": 7,
   "metadata": {},
   "outputs": [
    {
     "data": {
      "application/vnd.jupyter.widget-view+json": {
       "model_id": "31080345559c40df8018b812b11b53e5",
       "version_major": 2,
       "version_minor": 0
      },
      "text/plain": [
       "  0%|          | 0/2 [00:00<?, ?it/s]"
      ]
     },
     "metadata": {},
     "output_type": "display_data"
    },
    {
     "data": {
      "application/vnd.jupyter.widget-view+json": {
       "model_id": "0b43d389e9ce481aab92ae8e5551743c",
       "version_major": 2,
       "version_minor": 0
      },
      "text/plain": [
       "  0%|          | 0/5719 [00:00<?, ?it/s]"
      ]
     },
     "metadata": {},
     "output_type": "display_data"
    },
    {
     "data": {
      "application/vnd.jupyter.widget-view+json": {
       "model_id": "9543fae76685427a9dea9153bd8873aa",
       "version_major": 2,
       "version_minor": 0
      },
      "text/plain": [
       "  0%|          | 0/5719 [00:00<?, ?it/s]"
      ]
     },
     "metadata": {},
     "output_type": "display_data"
    }
   ],
   "source": [
    "fundamentals_raw = {\n",
    "    #'Revenues': ('USD', 'revenue'),\n",
    "    'NetIncomeLoss': ('USD', 'net_income'),\n",
    "    #'OperatingExpenses': ('USD', 'op_costs'),\n",
    "    #'InterestExpense': ('USD', 'interest_paid'),\n",
    "    #'IncomeTaxesPaidNet': ('USD', 'taxes_paid'),\n",
    "    'EarningsPerShareDiluted': ('USD/shares', 'eps'),\n",
    "    #'DepreciationAndAmortization': ('USD', 'deprec_amort'),\n",
    "    #'CommonStockSharesOutstanding': ('shares', 'share_count')\n",
    "}\n",
    "companies = prices.index.get_level_values('cik').unique()\n",
    "for column_name, (unit, col_alias) in tqdm(fundamentals_raw.items()):\n",
    "    fundamentals_raw[column_name] = build_fundamental_col(fundamentals_dir, column_name, unit, col_alias, companies)\n"
   ]
  },
  {
   "cell_type": "code",
   "execution_count": 8,
   "metadata": {},
   "outputs": [],
   "source": [
    "fundamentals = fundamentals_raw['NetIncomeLoss']\\\n",
    "    .join(fundamentals_raw['EarningsPerShareDiluted'], how='outer')\\\n",
    "#    .join(fundamentals_raw['Revenues'], how='outer')\\\n",
    "#    .join(fundamentals_raw['OperatingExpenses'], how='outer')\\\n",
    "#    .join(fundamentals_raw['CommonStockSharesOutstanding'], how='outer')\n"
   ]
  },
  {
   "cell_type": "code",
   "execution_count": 9,
   "metadata": {},
   "outputs": [],
   "source": [
    "fundamentals.to_parquet('data/sec/fundamentals_processed.parquet')"
   ]
  },
  {
   "cell_type": "markdown",
   "metadata": {},
   "source": [
    "### Limpeza dos dados"
   ]
  },
  {
   "cell_type": "code",
   "execution_count": 10,
   "metadata": {},
   "outputs": [],
   "source": [
    "fundamentals = pd.read_parquet('data/sec/fundamentals_processed.parquet')"
   ]
  },
  {
   "cell_type": "code",
   "execution_count": 11,
   "metadata": {},
   "outputs": [],
   "source": [
    "#fundamentals['revenue'] = fundamentals['revenue'].fillna(fundamentals['op_costs'] + fundamentals['net_income'])\n",
    "#fundamentals['cost_margin'] = fundamentals['op_costs'] / fundamentals['revenue']\n",
    "fundamentals['adj_factor'] = (fundamentals['net_income'] / fundamentals['eps'])\n",
    "fundamentals['eps_adj_factor'] = fundamentals['adj_factor'] / fundamentals['adj_factor'].groupby(level='cik').last()\n",
    "#fundamentals['rps'] = fundamentals['revenue'] / fundamentals['adj_factor']\n",
    "fundamentals['eps'] = fundamentals['eps'] * fundamentals['eps_adj_factor']"
   ]
  },
  {
   "cell_type": "code",
   "execution_count": 12,
   "metadata": {},
   "outputs": [],
   "source": [
    "fundamentals = fundamentals[['eps']]"
   ]
  },
  {
   "cell_type": "markdown",
   "metadata": {},
   "source": [
    "### Criação de variáveis"
   ]
  },
  {
   "cell_type": "code",
   "execution_count": 13,
   "metadata": {},
   "outputs": [],
   "source": [
    "fundamentals.sort_index(inplace=True)\n",
    "fundamentals = {'lag_0': fundamentals}\n",
    "for i in range(1, 5):\n",
    "    fundamentals[f'lag_{i}'] = fundamentals[f'lag_{i-1}'].groupby(level='cik').shift()"
   ]
  },
  {
   "cell_type": "code",
   "execution_count": 14,
   "metadata": {},
   "outputs": [],
   "source": [
    "fundamentals = pd.concat(fundamentals, axis='columns')\n",
    "rename_map = {\n",
    "    'filed': 'date', \n",
    "    #'val_eps': 'eps', \n",
    "    #'val': 'op_costs', \n",
    "    #'val_interest': 'interest_paid', \n",
    "    #'val_taxes': 'taxes_paid',\n",
    "    #'val_deprec_amort': 'deprec_amort',\n",
    "}\n",
    "fundamentals = fundamentals.reset_index().rename(rename_map, axis='columns').set_index(['cik', 'date'])\n",
    "fundamentals.columns = [f'{col}_{lag}' for lag, col in fundamentals.columns]"
   ]
  },
  {
   "cell_type": "code",
   "execution_count": 15,
   "metadata": {},
   "outputs": [],
   "source": [
    "fundamentals['eps_moving_sum'] = fundamentals.eps_lag_0 + fundamentals.eps_lag_1 + fundamentals.eps_lag_2 + fundamentals.eps_lag_3\n",
    "fundamentals['eps_growth'] = fundamentals.eps_lag_0 / fundamentals.eps_lag_4"
   ]
  },
  {
   "cell_type": "markdown",
   "metadata": {},
   "source": [
    "## Construção da tabela final"
   ]
  },
  {
   "cell_type": "code",
   "execution_count": 16,
   "metadata": {},
   "outputs": [],
   "source": [
    "final_table = prices.merge(fundamentals, 'outer', left_index=True, right_index=True)\n",
    "final_table.sort_index(inplace=True)\n",
    "final_table.iloc[:,5:] = final_table.iloc[:,5:].groupby(level='cik').ffill(limit=65)"
   ]
  },
  {
   "cell_type": "markdown",
   "metadata": {},
   "source": [
    "### Criação de variáveis\n",
    "\n",
    "#### Earnings yield ajustado\n",
    "\n",
    "Trata-se do $earnings\\_yield + 1$. Foi escolhida esta métrica pelos seguintes motivos:\n",
    " - Raramente dá valores negativos, o que permite o processamento em escala logarítmica;\n",
    " - Depende de dois dados relativamente fáceis de obter: o preço e o EPS;\n",
    " - É relativamente estável no tempo;"
   ]
  },
  {
   "cell_type": "code",
   "execution_count": 17,
   "metadata": {},
   "outputs": [
    {
     "name": "stderr",
     "output_type": "stream",
     "text": [
      "/home/pedro/.local/lib/python3.10/site-packages/pandas/core/arraylike.py:399: RuntimeWarning: invalid value encountered in log\n",
      "  result = getattr(ufunc, method)(*inputs, **kwargs)\n",
      "/home/pedro/.local/lib/python3.10/site-packages/pandas/core/arraylike.py:399: RuntimeWarning: invalid value encountered in log\n",
      "  result = getattr(ufunc, method)(*inputs, **kwargs)\n"
     ]
    }
   ],
   "source": [
    "final_table['yesterday_close'] = final_table['close'].groupby(level='cik').shift()\n",
    "final_table['log_yday_close'] = np.log(final_table['yesterday_close'])\n",
    "\n",
    "final_table[f'adj_ey_ms'] = 1 + (final_table[f'eps_moving_sum'] / final_table['close'])\n",
    "final_table[f'log_adj_ey_ms'] = np.log(final_table[f'adj_ey_ms'])\n",
    "\n",
    "final_table[f'adj_ey_delta'] = 1 + (final_table[f'eps_growth'] / final_table['close'])\n",
    "final_table[f'log_adj_ey_delta'] = np.log(final_table[f'adj_ey_delta'])"
   ]
  },
  {
   "cell_type": "code",
   "execution_count": 18,
   "metadata": {},
   "outputs": [],
   "source": [
    "final_table['log_adj_ey_l1'] = final_table['log_adj_ey_ms'] - final_table['log_adj_ey_ms'].groupby('cik').shift()\n",
    "final_table['log_adj_ey_l2'] = final_table['log_adj_ey_l1'] - final_table['log_adj_ey_l1'].groupby('cik').shift()"
   ]
  },
  {
   "cell_type": "code",
   "execution_count": 20,
   "metadata": {},
   "outputs": [],
   "source": [
    "interest_rate = pd.read_csv(f'{stooq_dir}/daily/macro/us/inrtus.m.txt')\n",
    "interest_rate = interest_rate[['<DATE>', '<CLOSE>']].copy()"
   ]
  },
  {
   "cell_type": "code",
   "execution_count": 21,
   "metadata": {},
   "outputs": [],
   "source": [
    "interest_rate.rename(columns={'<DATE>': 'date', '<CLOSE>': 'interest'}, inplace=True) \n",
    "interest_rate['date'] = pd.to_datetime(interest_rate['date'].astype(str))\n",
    "interest_rate.set_index('date', inplace=True)\n",
    "final_table = final_table.join(interest_rate, how='left')"
   ]
  },
  {
   "cell_type": "code",
   "execution_count": 23,
   "metadata": {},
   "outputs": [],
   "source": [
    "final_table['interest'] = final_table['interest'].groupby(level='cik').ffill()\n",
    "final_table['interest'] = 1 + (final_table.interest / 100)\n",
    "final_table['log_interest'] = np.log(final_table.interest)"
   ]
  },
  {
   "cell_type": "markdown",
   "metadata": {},
   "source": [
    "### Limpeza final"
   ]
  },
  {
   "cell_type": "code",
   "execution_count": 19,
   "metadata": {},
   "outputs": [],
   "source": [
    "final_table = final_table.replace([-np.inf, np.inf], np.nan)\n",
    "final_table = final_table[['ticker', 'log_close', 'log_return', 'log_yday_close', 'log_adj_ey_ms', 'log_adj_ey_l1', 'log_adj_ey_l2', 'log_interest']]\n",
    "final_table.to_parquet('data/final_table.parquet')\n",
    "final_table"
   ]
  },
  {
   "cell_type": "markdown",
   "metadata": {},
   "source": [
    "## Treinamento do modelo"
   ]
  },
  {
   "cell_type": "code",
   "execution_count": 6,
   "metadata": {},
   "outputs": [],
   "source": [
    "final_table = pd.read_parquet('data/final_table.parquet')"
   ]
  },
  {
   "cell_type": "code",
   "execution_count": 7,
   "metadata": {},
   "outputs": [],
   "source": [
    "from statsmodels.graphics.tsaplots import plot_acf, plot_pacf\n",
    "from statsmodels.tsa.arima.model import ARIMA\n",
    "import statsmodels.formula.api as smf\n",
    "import statsmodels.api as sm"
   ]
  },
  {
   "cell_type": "code",
   "execution_count": 8,
   "metadata": {},
   "outputs": [],
   "source": [
    "#sample_ciks = [cik_by_ticker[ticker] for ticker in sample_companies]\n",
    "sample_ciks = [cik_by_ticker[ticker] for ticker in ['LLY.US']]\n",
    "\n",
    "sample_table = final_table[final_table.index.get_level_values('cik').isin(sample_ciks)].dropna()\n",
    "#sample_table = final_table.dropna()"
   ]
  },
  {
   "cell_type": "markdown",
   "metadata": {},
   "source": [
    "### Exploração de dados"
   ]
  },
  {
   "cell_type": "code",
   "execution_count": 9,
   "metadata": {},
   "outputs": [
    {
     "data": {
      "image/png": "[encoded data removed]",
      "text/plain": [
       "<Figure size 640x480 with 1 Axes>"
      ]
     },
     "metadata": {},
     "output_type": "display_data"
    }
   ],
   "source": [
    "pacf = plot_pacf(sample_table['log_adj_ey_ms'], lags=10)\n"
   ]
  },
  {
   "cell_type": "markdown",
   "metadata": {},
   "source": [
    "No gráfico de autocorrelação parcial, podemos ver que apenas um lag do earnings yield ajustado tem correlação com a variável final. "
   ]
  },
  {
   "cell_type": "code",
   "execution_count": 10,
   "metadata": {},
   "outputs": [
    {
     "data": {
      "text/html": [
       "<div>\n",
       "<style scoped>\n",
       "    .dataframe tbody tr th:only-of-type {\n",
       "        vertical-align: middle;\n",
       "    }\n",
       "\n",
       "    .dataframe tbody tr th {\n",
       "        vertical-align: top;\n",
       "    }\n",
       "\n",
       "    .dataframe thead th {\n",
       "        text-align: right;\n",
       "    }\n",
       "</style>\n",
       "<table border=\"1\" class=\"dataframe\">\n",
       "  <thead>\n",
       "    <tr style=\"text-align: right;\">\n",
       "      <th></th>\n",
       "      <th>log_adj_ey_ms</th>\n",
       "      <th>log_adj_ey_l1</th>\n",
       "      <th>log_adj_ey_l2</th>\n",
       "      <th>log_interest</th>\n",
       "    </tr>\n",
       "  </thead>\n",
       "  <tbody>\n",
       "    <tr>\n",
       "      <th>log_adj_ey_ms</th>\n",
       "      <td>1.000000</td>\n",
       "      <td>0.049223</td>\n",
       "      <td>0.008128</td>\n",
       "      <td>-0.609177</td>\n",
       "    </tr>\n",
       "    <tr>\n",
       "      <th>log_adj_ey_l1</th>\n",
       "      <td>0.049223</td>\n",
       "      <td>1.000000</td>\n",
       "      <td>0.744583</td>\n",
       "      <td>0.003672</td>\n",
       "    </tr>\n",
       "    <tr>\n",
       "      <th>log_adj_ey_l2</th>\n",
       "      <td>0.008128</td>\n",
       "      <td>0.744583</td>\n",
       "      <td>1.000000</td>\n",
       "      <td>-0.002794</td>\n",
       "    </tr>\n",
       "    <tr>\n",
       "      <th>log_interest</th>\n",
       "      <td>-0.609177</td>\n",
       "      <td>0.003672</td>\n",
       "      <td>-0.002794</td>\n",
       "      <td>1.000000</td>\n",
       "    </tr>\n",
       "  </tbody>\n",
       "</table>\n",
       "</div>"
      ],
      "text/plain": [
       "               log_adj_ey_ms  log_adj_ey_l1  log_adj_ey_l2  log_interest\n",
       "log_adj_ey_ms       1.000000       0.049223       0.008128     -0.609177\n",
       "log_adj_ey_l1       0.049223       1.000000       0.744583      0.003672\n",
       "log_adj_ey_l2       0.008128       0.744583       1.000000     -0.002794\n",
       "log_interest       -0.609177       0.003672      -0.002794      1.000000"
      ]
     },
     "execution_count": 10,
     "metadata": {},
     "output_type": "execute_result"
    }
   ],
   "source": [
    "sample_table[['log_adj_ey_ms', 'log_adj_ey_l1', 'log_adj_ey_l2', 'log_interest']].corr()"
   ]
  },
  {
   "cell_type": "markdown",
   "metadata": {},
   "source": [
    "Além disso, l1 e l2 são extremamente correlatos, ou seja, manter ambos atrapalharia o modelo.\n",
    "\n",
    "### Treinamento de um modelo"
   ]
  },
  {
   "cell_type": "code",
   "execution_count": 11,
   "metadata": {},
   "outputs": [
    {
     "data": {
      "text/html": [
       "<table class=\"simpletable\">\n",
       "<caption>OLS Regression Results</caption>\n",
       "<tr>\n",
       "  <th>Dep. Variable:</th>       <td>log_return</td>    <th>  R-squared:         </th> <td>   0.845</td> \n",
       "</tr>\n",
       "<tr>\n",
       "  <th>Model:</th>                   <td>OLS</td>       <th>  Adj. R-squared:    </th> <td>   0.844</td> \n",
       "</tr>\n",
       "<tr>\n",
       "  <th>Method:</th>             <td>Least Squares</td>  <th>  F-statistic:       </th> <td>   1181.</td> \n",
       "</tr>\n",
       "<tr>\n",
       "  <th>Date:</th>             <td>Wed, 25 Sep 2024</td> <th>  Prob (F-statistic):</th> <td>7.63e-263</td>\n",
       "</tr>\n",
       "<tr>\n",
       "  <th>Time:</th>                 <td>14:27:41</td>     <th>  Log-Likelihood:    </th> <td>  2363.7</td> \n",
       "</tr>\n",
       "<tr>\n",
       "  <th>No. Observations:</th>      <td>   655</td>      <th>  AIC:               </th> <td>  -4719.</td> \n",
       "</tr>\n",
       "<tr>\n",
       "  <th>Df Residuals:</th>          <td>   651</td>      <th>  BIC:               </th> <td>  -4701.</td> \n",
       "</tr>\n",
       "<tr>\n",
       "  <th>Df Model:</th>              <td>     3</td>      <th>                     </th>     <td> </td>    \n",
       "</tr>\n",
       "<tr>\n",
       "  <th>Covariance Type:</th>      <td>nonrobust</td>    <th>                     </th>     <td> </td>    \n",
       "</tr>\n",
       "</table>\n",
       "<table class=\"simpletable\">\n",
       "<tr>\n",
       "        <td></td>           <th>coef</th>     <th>std err</th>      <th>t</th>      <th>P>|t|</th>  <th>[0.025</th>    <th>0.975]</th>  \n",
       "</tr>\n",
       "<tr>\n",
       "  <th>Intercept</th>     <td>    0.0002</td> <td>    0.001</td> <td>    0.145</td> <td> 0.885</td> <td>   -0.002</td> <td>    0.003</td>\n",
       "</tr>\n",
       "<tr>\n",
       "  <th>log_adj_ey_ms</th> <td>   -0.0036</td> <td>    0.035</td> <td>   -0.102</td> <td> 0.919</td> <td>   -0.073</td> <td>    0.066</td>\n",
       "</tr>\n",
       "<tr>\n",
       "  <th>log_adj_ey_l1</th> <td>  -30.8673</td> <td>    0.520</td> <td>  -59.402</td> <td> 0.000</td> <td>  -31.888</td> <td>  -29.847</td>\n",
       "</tr>\n",
       "<tr>\n",
       "  <th>log_interest</th>  <td>   -0.0015</td> <td>    0.025</td> <td>   -0.061</td> <td> 0.952</td> <td>   -0.051</td> <td>    0.048</td>\n",
       "</tr>\n",
       "</table>\n",
       "<table class=\"simpletable\">\n",
       "<tr>\n",
       "  <th>Omnibus:</th>       <td>227.649</td> <th>  Durbin-Watson:     </th> <td>   2.051</td> \n",
       "</tr>\n",
       "<tr>\n",
       "  <th>Prob(Omnibus):</th> <td> 0.000</td>  <th>  Jarque-Bera (JB):  </th> <td>23545.511</td>\n",
       "</tr>\n",
       "<tr>\n",
       "  <th>Skew:</th>          <td> 0.474</td>  <th>  Prob(JB):          </th> <td>    0.00</td> \n",
       "</tr>\n",
       "<tr>\n",
       "  <th>Kurtosis:</th>      <td>32.357</td>  <th>  Cond. No.          </th> <td>2.02e+03</td> \n",
       "</tr>\n",
       "</table><br/><br/>Notes:<br/>[1] Standard Errors assume that the covariance matrix of the errors is correctly specified.<br/>[2] The condition number is large, 2.02e+03. This might indicate that there are<br/>strong multicollinearity or other numerical problems."
      ],
      "text/latex": [
       "\\begin{center}\n",
       "\\begin{tabular}{lclc}\n",
       "\\toprule\n",
       "\\textbf{Dep. Variable:}    &   log\\_return    & \\textbf{  R-squared:         } &     0.845   \\\\\n",
       "\\textbf{Model:}            &       OLS        & \\textbf{  Adj. R-squared:    } &     0.844   \\\\\n",
       "\\textbf{Method:}           &  Least Squares   & \\textbf{  F-statistic:       } &     1181.   \\\\\n",
       "\\textbf{Date:}             & Wed, 25 Sep 2024 & \\textbf{  Prob (F-statistic):} & 7.63e-263   \\\\\n",
       "\\textbf{Time:}             &     14:27:41     & \\textbf{  Log-Likelihood:    } &    2363.7   \\\\\n",
       "\\textbf{No. Observations:} &         655      & \\textbf{  AIC:               } &    -4719.   \\\\\n",
       "\\textbf{Df Residuals:}     &         651      & \\textbf{  BIC:               } &    -4701.   \\\\\n",
       "\\textbf{Df Model:}         &           3      & \\textbf{                     } &             \\\\\n",
       "\\textbf{Covariance Type:}  &    nonrobust     & \\textbf{                     } &             \\\\\n",
       "\\bottomrule\n",
       "\\end{tabular}\n",
       "\\begin{tabular}{lcccccc}\n",
       "                          & \\textbf{coef} & \\textbf{std err} & \\textbf{t} & \\textbf{P$> |$t$|$} & \\textbf{[0.025} & \\textbf{0.975]}  \\\\\n",
       "\\midrule\n",
       "\\textbf{Intercept}        &       0.0002  &        0.001     &     0.145  &         0.885        &       -0.002    &        0.003     \\\\\n",
       "\\textbf{log\\_adj\\_ey\\_ms} &      -0.0036  &        0.035     &    -0.102  &         0.919        &       -0.073    &        0.066     \\\\\n",
       "\\textbf{log\\_adj\\_ey\\_l1} &     -30.8673  &        0.520     &   -59.402  &         0.000        &      -31.888    &      -29.847     \\\\\n",
       "\\textbf{log\\_interest}    &      -0.0015  &        0.025     &    -0.061  &         0.952        &       -0.051    &        0.048     \\\\\n",
       "\\bottomrule\n",
       "\\end{tabular}\n",
       "\\begin{tabular}{lclc}\n",
       "\\textbf{Omnibus:}       & 227.649 & \\textbf{  Durbin-Watson:     } &     2.051  \\\\\n",
       "\\textbf{Prob(Omnibus):} &   0.000 & \\textbf{  Jarque-Bera (JB):  } & 23545.511  \\\\\n",
       "\\textbf{Skew:}          &   0.474 & \\textbf{  Prob(JB):          } &      0.00  \\\\\n",
       "\\textbf{Kurtosis:}      &  32.357 & \\textbf{  Cond. No.          } &  2.02e+03  \\\\\n",
       "\\bottomrule\n",
       "\\end{tabular}\n",
       "%\\caption{OLS Regression Results}\n",
       "\\end{center}\n",
       "\n",
       "Notes: \\newline\n",
       " [1] Standard Errors assume that the covariance matrix of the errors is correctly specified. \\newline\n",
       " [2] The condition number is large, 2.02e+03. This might indicate that there are \\newline\n",
       " strong multicollinearity or other numerical problems."
      ],
      "text/plain": [
       "<class 'statsmodels.iolib.summary.Summary'>\n",
       "\"\"\"\n",
       "                            OLS Regression Results                            \n",
       "==============================================================================\n",
       "Dep. Variable:             log_return   R-squared:                       0.845\n",
       "Model:                            OLS   Adj. R-squared:                  0.844\n",
       "Method:                 Least Squares   F-statistic:                     1181.\n",
       "Date:                Wed, 25 Sep 2024   Prob (F-statistic):          7.63e-263\n",
       "Time:                        14:27:41   Log-Likelihood:                 2363.7\n",
       "No. Observations:                 655   AIC:                            -4719.\n",
       "Df Residuals:                     651   BIC:                            -4701.\n",
       "Df Model:                           3                                         \n",
       "Covariance Type:            nonrobust                                         \n",
       "=================================================================================\n",
       "                    coef    std err          t      P>|t|      [0.025      0.975]\n",
       "---------------------------------------------------------------------------------\n",
       "Intercept         0.0002      0.001      0.145      0.885      -0.002       0.003\n",
       "log_adj_ey_ms    -0.0036      0.035     -0.102      0.919      -0.073       0.066\n",
       "log_adj_ey_l1   -30.8673      0.520    -59.402      0.000     -31.888     -29.847\n",
       "log_interest     -0.0015      0.025     -0.061      0.952      -0.051       0.048\n",
       "==============================================================================\n",
       "Omnibus:                      227.649   Durbin-Watson:                   2.051\n",
       "Prob(Omnibus):                  0.000   Jarque-Bera (JB):            23545.511\n",
       "Skew:                           0.474   Prob(JB):                         0.00\n",
       "Kurtosis:                      32.357   Cond. No.                     2.02e+03\n",
       "==============================================================================\n",
       "\n",
       "Notes:\n",
       "[1] Standard Errors assume that the covariance matrix of the errors is correctly specified.\n",
       "[2] The condition number is large, 2.02e+03. This might indicate that there are\n",
       "strong multicollinearity or other numerical problems.\n",
       "\"\"\""
      ]
     },
     "execution_count": 11,
     "metadata": {},
     "output_type": "execute_result"
    }
   ],
   "source": [
    "model = smf.ols('log_return ~ log_adj_ey_ms + log_adj_ey_l1 + log_interest', data=sample_table).fit()\n",
    "model.summary()"
   ]
  },
  {
   "cell_type": "markdown",
   "metadata": {},
   "source": [
    "O único coeficiente significativo parece ser o lag 1 do earnings yield ajustado!"
   ]
  },
  {
   "cell_type": "code",
   "execution_count": 12,
   "metadata": {},
   "outputs": [],
   "source": [
    "sample_table.dropna(inplace=True)\n",
    "sample_table['predictions'] = model.predict()\n",
    "comparison = pd.DataFrame({\n",
    "    'random_walk': sample_table.log_return,\n",
    "    'markov_chain': sample_table.log_return - sample_table.predictions,\n",
    "}).dropna()"
   ]
  },
  {
   "cell_type": "markdown",
   "metadata": {},
   "source": [
    "Abaixo, temos a comparação de duas premissas: \n",
    "- A Random Walk, que presume que a mehlor previsão do retorno é 0;\n",
    "- A Cadeia de Markov, que presume que a tendência do retorno é previsível por meio de variáveis ocultas;"
   ]
  },
  {
   "cell_type": "code",
   "execution_count": 13,
   "metadata": {},
   "outputs": [
    {
     "name": "stderr",
     "output_type": "stream",
     "text": [
      "/home/pedro/.local/lib/python3.10/site-packages/plotly/express/_core.py:1979: FutureWarning: When grouping with a length-1 list-like, you will need to pass a length-1 tuple to get_group in a future version of pandas. Pass `(name,)` instead of `name` to silence this warning.\n",
      "  sf: grouped.get_group(s if len(s) > 1 else s[0])\n"
     ]
    },
    {
     "data": {
      "application/vnd.plotly.v1+json": {
       "config": {
        "plotlyServerURL": "https://plot.ly"
       },
       "data": [
        {
         "alignmentgroup": "True",
         "bingroup": "x",
         "hovertemplate": "variable=random_walk<br>value=%{x}<br>count=%{y}<extra></extra>",
         "legendgroup": "random_walk",
         "marker": {
          "color": "#636efa",
          "opacity": 0.5,
          "pattern": {
           "shape": ""
          }
         },
         "name": "random_walk",
         "nbinsx": 512,
         "offsetgroup": "random_walk",
         "orientation": "v",
         "showlegend": true,
         "type": "histogram",
         "x": [
          0.008883606030692392,
          -0.0007138933614591539,
          -0.016977386024465548,
          0.014840333250006646,
          -0.0014471649607741832,
          0.003270595110794722,
          -0.004055121502733751,
          -0.004221446645494783,
          0.008899905050426671,
          -0.0006241383674355362,
          -0.022736786448885042,
          -0.01663305247039685,
          0.014817809980844523,
          -0.006330469798319629,
          -0.026217024471818107,
          -0.002025976563212382,
          -0.012101254121818082,
          0.0015975629118547274,
          -0.013752989769413478,
          0.039987735350401295,
          -0.01582268435447351,
          0.024158172753296653,
          -0.007348352343625829,
          -0.014896886973953938,
          0.013205618809570323,
          -0.00929219587823089,
          0.0029582707132293144,
          -0.002438612094431754,
          -0.06241231873173087,
          0.029345026894167896,
          -0.00887738936234459,
          -0.02722059229159463,
          -0.002608806423834319,
          -0.024211409118816644,
          0.006289355154462852,
          0.008525420679076813,
          0.009732785845394613,
          -0.016550921175903083,
          -0.02195155541801617,
          0.01021087849850343,
          0.017433628558805245,
          -0.010348602292119688,
          0.004668874264867443,
          -0.002753758207702014,
          -0.005390597904852568,
          0.0072897205042959405,
          -0.007096104376757406,
          0.02218917420905209,
          -0.010008626147851748,
          -0.03677862994203431,
          0.01735605364744148,
          -0.048353930499169716,
          0.026870303118155123,
          -0.009864621756719573,
          0.023419341492630395,
          -0.010384754735155844,
          -0.0007594053413911341,
          -0.007006540331001144,
          0.015204341670275394,
          0.0010510837220708284,
          0.0032287707243683337,
          0.01939125134394908,
          -0.0033741538821755544,
          -0.001822596116089988,
          0.023297893937159895,
          -0.002390897283440279,
          -0.002637122284670754,
          -0.005980062404696346,
          0.008411673598823673,
          0.0079512203814679,
          0.006171606644889922,
          -0.0012767665763931517,
          0.022036012824859577,
          0.00043024222863345923,
          -0.0021656020184950445,
          0.0036883999981335205,
          0.005916270698636177,
          0.0014547072161877298,
          -0.02173260341227441,
          0.003277174236983165,
          -0.0007141432512879973,
          -0.012291676330222342,
          0.016073270001407108,
          -0.006573680623851798,
          -0.0181941155774397,
          0.005261129491791017,
          -0.008875394520700752,
          0.013170089947033824,
          0.0168954372839277,
          -0.0007089581698746222,
          -0.004591843534953641,
          0.004823494106256308,
          0.025307787243215394,
          -0.024538813311366526,
          -0.0007524496601098914,
          -0.02682816903835635,
          0.006684926980033692,
          -0.009849324459395173,
          0.012167260454288316,
          -0.0059048155089185105,
          0.013084081854686845,
          -0.007190784658576508,
          0.0005910268736822298,
          -0.0011419673202189666,
          0.0069458939610192085,
          -0.004535227032232208,
          -0.0038075125352846993,
          -0.0018246146067141368,
          0.002835439415737433,
          -0.006413610402947952,
          -0.006558282826588806,
          -0.0012206045406102006,
          0.006226354995672422,
          -0.008245730547234573,
          0.007257251828201236,
          -0.005175912742579914,
          -0.00798034654521309,
          -0.009690207442285688,
          0.0068332056806144565,
          0.011950496373878135,
          0.005160172974101517,
          0.007569087143922108,
          0.0034115001405143255,
          0.03915698316795833,
          0.007712907924023356,
          0.002486432792801842,
          0.008677642013570776,
          0.004815583042299377,
          -0.008778259692832522,
          0.004263918455522615,
          -0.006632477339002188,
          0.006766968059726961,
          -0.00398074776081923,
          0.015452050754782377,
          -0.0046146826224391,
          -0.003383201945504175,
          0.00021020143528172974,
          0.0038866404720029808,
          0.0015658875758948548,
          0.014656802842921332,
          0.0047924696582836036,
          0.0012281276160007381,
          0.015885945037767593,
          -0.005697329645803687,
          -0.0004638606055308913,
          0.0035348563203255606,
          0.001663823771668894,
          -0.007271683499558501,
          -0.0035631239052587756,
          -0.010538191695442133,
          0.0004731013827221096,
          -0.001228866970655381,
          -0.011699741429010639,
          0.006459909861744069,
          -0.004107643181820675,
          0.0003858986027293638,
          -0.005227710340063136,
          0.0034367258424409975,
          -0.004189738570214101,
          -0.009013050244184154,
          0.0028600861294956637,
          0.0034810822536977025,
          -0.014314843694099032,
          -0.005382869290258703,
          0.002876495255988046,
          0.004657443652060799,
          -0.010703259896235108,
          -0.00025835983331132863,
          -0.006607613159614041,
          -0.004941219604293155,
          0.02137683386218866,
          0.0009999704457716485,
          0.01634641205593338,
          -0.02082005310560299,
          0.010696241183398448,
          -0.007639762541617453,
          -0.00244669516339405,
          0.006796254577687778,
          -0.00033709390397053255,
          0.004567131785612675,
          0.009034295055985025,
          0.012330906767481893,
          0.005254703708748528,
          -0.0016055303674033143,
          -0.020490159554734287,
          0.016972720907240623,
          -0.0021143566212570414,
          -0.012085688887391224,
          0.006494524990893141,
          0.009232799944081448,
          0.0013905210135630004,
          0.007721719646216254,
          -0.0033538653998939822,
          0.0076562061416824865,
          0.011609766081820792,
          -0.01508929761346901,
          -0.015971200860254664,
          -0.006422723483165843,
          -0.009173636299528448,
          -0.009294323374705952,
          0.003018530139783379,
          -0.0027511281083128112,
          0.002308590453615125,
          -0.0062490128390661585,
          -0.008729362429775993,
          0.0023215280544418805,
          -0.0128415119319907,
          -0.007747925382615471,
          -0.021709158815113646,
          -0.009315290452805996,
          -0.011648342194899373,
          -0.004465201307094247,
          -0.007561254115021892,
          0.005284582643646427,
          0.019040988501417607,
          0.001785588818063883,
          0.057495495844688146,
          0.005768512204368312,
          -0.008622895113425587,
          -0.008390318039465472,
          0.003981707584866667,
          -0.004942638050893999,
          0.009991870893242235,
          -0.013495845530531759,
          -0.00044827128071408086,
          -0.008422972474128595,
          -0.11117034708364089,
          0.01637953370730911,
          -0.028178593043650484,
          -0.0006944983817569033,
          -0.0005949295200508828,
          -0.01716627353383587,
          0.02602275266445929,
          -0.006671272819050122,
          0.007991727626771014,
          -0.006268973288052067,
          -0.002851552482962841,
          0.009809788673540185,
          -0.0035006199728496324,
          0.015043665506559905,
          -0.014102762615607802,
          0.05320144082163368,
          0.026829833815869085,
          0.0014553929317149441,
          -0.0005303795614701363,
          -0.0018543101632969166,
          0.0001975590053950408,
          0.007226239593751015,
          0.0002784137510632449,
          -0.01019852537693809,
          0.006812014558518115,
          -0.0002016716635395593,
          0.014219281707375542,
          0.0015533474655036773,
          0.011620290395151596,
          0.001093448297242319,
          0.007815378053388906,
          -0.0000157448927590076,
          -0.013270465024180266,
          0.02486985663329286,
          0.0031908078460263483,
          -0.007132391166190269,
          0.008824794457089788,
          -0.008942652539748621,
          -0.0003710471819839272,
          -0.006432690101569145,
          -0.019412449842680195,
          -0.00006513920390562932,
          -0.003537191860194867,
          0.010627814160782538,
          -0.009069943346410281,
          0.030638703571350755,
          0.007394619381766512,
          -0.0026881773590454712,
          0.012252976024191106,
          0.024158466617761543,
          0.005631163794125428,
          0.007797531965986215,
          -0.0033786001791473097,
          -0.00005720696920798958,
          -0.007934220686350399,
          0.013310548702716503,
          0.006521870089118124,
          -0.003481954739786873,
          -0.004604091579261122,
          0.009675178130972734,
          0.015243257604080912,
          0.0017354476879075642,
          0.005627214161528953,
          -0.00892862671653834,
          0.008764091403226622,
          -0.00889991290283826,
          0.002726155364116072,
          -0.006687936936119885,
          0.003650131701124094,
          0.017739520493687592,
          -0.003342289556450966,
          0.0965733653324029,
          -0.008171859406511862,
          0.023735698296097136,
          0.03285212811494473,
          -0.04134979292158384,
          0.008940293308766013,
          -0.011480063639407692,
          -0.012397251789004554,
          0.006473475704763958,
          -0.016537744952075467,
          0.01862351095905229,
          -0.005457044117534093,
          -0.019872162159220334,
          0.07060425975266857,
          -0.011895808448329338,
          -0.008735442111502553,
          0.004997741375231551,
          0.0006602027677394987,
          0.007041630790004088,
          0.012140651331702149,
          0.006203947073503355,
          0.001739558897180887,
          0.005511440460948048,
          -0.009071624892508274,
          0.004380702424551526,
          -0.003056361071723746,
          0.004445517312239257,
          -0.020871658652985955,
          0.004293887736032225,
          0.007194273943942364,
          0.003724358423431424,
          0.009629352925581577,
          0.005001830352897019,
          0.02346597505837315,
          -0.0037544399323860963,
          0.0014296182436860433,
          0.011970959209805893,
          -0.004766195239825056,
          -0.007513469248996087,
          0.012665904108026958,
          0.03735455223557398,
          0.025018793847837683,
          0.00652561374440467,
          -0.0028769187219964674,
          0.014060482270385312,
          0.008521187827604677,
          -0.020061929663331864,
          0.0008717230053301293,
          0.002764703163592054,
          0.02148941041538126,
          0.010200627013282965,
          -0.015487577072665492,
          0.006934499502771409,
          0.0019033472883031848,
          -0.011462986465587539,
          -0.019019698299488276,
          0.0041860786279227045,
          -0.009726382042632613,
          -0.006047209417902742,
          0.00981701133179519,
          -0.015432819221279178,
          -0.003440089772806936,
          0.008366103102195308,
          -0.000153768200680032,
          -0.01837683586076017,
          0.0001662179873892151,
          -0.060001131811864894,
          -0.0021074152587875795,
          -0.0064576488643878,
          -0.020643561753584404,
          0.0027273390929428015,
          -0.01161471854667262,
          -0.00400937130664722,
          0.006632900604250566,
          -0.00629412583992488,
          -0.008261462507726554,
          0.016916605363935105,
          -0.0021532190115556163,
          -0.023063325512426378,
          -0.02148004857450078,
          0.03879110843954531,
          0.0029771789550737857,
          -0.006302070460074632,
          -0.020873362466003107,
          0.026672508725310386,
          -0.01338905123143971,
          0.023117722277561117,
          0.003197793269162777,
          -0.0011509168700811903,
          -0.0037542292003191107,
          0.015545222107471767,
          0.0010784537445717973,
          0.005007578310531336,
          0.004619345860045585,
          0.013874565424005916,
          0.005753685009337059,
          -0.01048717848003897,
          0.01062520439199999,
          0.005331916009257268,
          0.013726127198017597,
          0.006915022521997996,
          0.01265711423381356,
          0.005532017477855823,
          -0.02161539313710056,
          0.02980693037314574,
          0.03599395587245048,
          0.017613944344054132,
          -0.022383151671119473,
          -0.01699336895706575,
          0.005677092231089417,
          0.009966290865275196,
          -0.00764928776441044,
          -0.008151543322934988,
          -0.004704841826354275,
          -0.0027580682124199525,
          0.013331412833105155,
          0.0005903382988296391,
          -0.0024120176682846627,
          -0.000999308331818376,
          0.005825117431159216,
          0.00012202638463384498,
          -0.006206305850500394,
          -0.021511065861452794,
          -0.027023883508844534,
          0.004356028160150159,
          -0.004987406458920201,
          -0.009323192390234518,
          0.003046071502874324,
          -0.00495673181810071,
          -0.0032521146920784965,
          -0.005820158483187546,
          0.005102899542327201,
          0.01781687274449321,
          0.0034134980597436844,
          0.09880575845861314,
          0.013577349829432624,
          -0.04255224167160312,
          -0.014831528137229696,
          0.005298359820186025,
          0.006076901536503877,
          0.02445292861754932,
          0.01928172398626081,
          -0.007138500231284405,
          0.0071644195391994655,
          -0.0041694161755274385,
          -0.0037680043107927207,
          -0.016364528124452236,
          -0.018277289937547576,
          -0.023346891610544308,
          -0.005077334456805472,
          0.0006361177101651389,
          0.0023718265554354846,
          0.008437163469784362,
          -0.024659938669595885,
          -0.02474329190683012,
          -0.02245375685414324,
          0.011945478581971897,
          -0.00817948144614613,
          -0.007850654895195035,
          -0.00029558012909511376,
          -0.01093981353227822,
          -0.004004765789980482,
          -0.006675790202159664,
          -0.004815022917343347,
          0.034767928146625535,
          0.0011969187094705601,
          -0.005173023363124971,
          0.02343696734476036,
          -0.00861867568316865,
          0.015393567515203677,
          -0.026200386068568043,
          -0.012281504176507398,
          0.0034841050442608397,
          0.017668313471725094,
          0.002757159716590554,
          0.02622979058197952,
          0.00674434498307755,
          -0.020830982388588316,
          -0.030694483530636384,
          0.043019183205291654,
          0.012475839946417561,
          0.011028068638817598,
          0.003447359634315578,
          0.020761470916393993,
          0.03148433368130597,
          -0.03153341740580362,
          -0.007566373617779195,
          -0.028196573110743275,
          -0.0025866606464031387,
          0.005651221890908731,
          0.028426249145083928,
          0.004418170276522522,
          -0.03319288374782834,
          -0.020791175560887526,
          -0.0194811847899384,
          -0.0016843718180068127,
          0.00751973228995,
          -0.016918265384148444,
          0.009759630473249938,
          0.021919156466082036,
          0.030954429914758625,
          0.019458229898803022,
          0.04043774422564131,
          0.005059896128014333,
          -0.029932967002800324,
          0.016789547221093444,
          0.0038063958096543455,
          0.0014830211222875381,
          0.007558285022683412,
          0.00905150707602417,
          -0.006686250297549098,
          0.0076363482465412694,
          0.0018235812514241403,
          -0.022860809838095308,
          -0.003470149198275152,
          0.013627599157907427,
          0.014299047107477574,
          -0.030088808615644353,
          0.013695145129026736,
          -0.012891248074568989,
          0.015080627027216768,
          0.005577384473793951,
          0.00849494875232676,
          0.00002165053827455582,
          -0.00792751950750864,
          0.005623063333448515,
          -0.0033444481240937395,
          -0.01695290023834559,
          -0.012273906287162299,
          -0.020097025600479827,
          -0.02594915980519857,
          -0.014705579761520052,
          0.003892266524803729,
          0.0017360431678518158,
          0.005205199139877724,
          -0.011325989840317881,
          0.025915884109589532,
          0.01885540012422468,
          -0.011621343869079308,
          0.02074304054326537,
          -0.0003129682635205207,
          0.018925188610634754,
          0.0010117932393004965,
          -0.025057570598581897,
          0.011901470048960309,
          0.013295941950483572,
          -0.023730622689954708,
          -0.01730014630870644,
          -0.01009014362623373,
          -0.019078321192868862,
          0.025861376206860173,
          -0.02553487947969993,
          0.01804981199968353,
          0.015454036791001147,
          0.012453551629640548,
          0.006933401648967613,
          -0.007830480864770834,
          -0.028109319559222013,
          0.010147171685844131,
          -0.00044482337909533423,
          -0.0018821979873125904,
          -0.012394032069535111,
          -0.011042726633144973,
          -0.01756418438200297,
          0.04739543491957162,
          0.0018807824117288588,
          -0.012770585421011869,
          0.011616365593557805,
          0.07216651458718103,
          -0.013161938910686075,
          -0.020360807443796806,
          -0.005610553776358357,
          0.025608077955426335,
          0.005729918723409429,
          0.0035069013154279023,
          -0.019073525733880495,
          -0.008513191468914041,
          0.011381247804048455,
          -0.009274066745386923,
          0.02293639715472742,
          -0.0021331509918651173,
          0.0040977579252300545,
          0.006807689609521582,
          -0.017291381097821242,
          -0.0006388187198876443,
          0.034924220912136365,
          0.02071737230973493,
          0.009731653939300386,
          0.018477214357372228,
          -0.0042890745502821605,
          0.009988700272278352,
          0.00604680693889241,
          -0.02659803477263467,
          0.00672895371170676,
          0.018747057628044687,
          -0.011890950087092983,
          0.021215111782938927,
          0.004353692716089208,
          -0.009283329059531263,
          0.01489002278654764,
          -0.04556792897945973,
          0.013394499529224667,
          -0.017297609236769797,
          0.008472270525120344,
          0.021965426427063266,
          0.00249710265952765,
          -0.0013704359874460324,
          -0.0008028865383208662,
          0.0023293171954347713,
          0.00969671859033011,
          0.001437661978810035,
          -0.005001544568575002,
          0.019410526499407183,
          -0.002022849622819555,
          0.01189199959745671,
          -0.014714133646016928,
          -0.0020256949926077605,
          0.009260190866641002,
          -0.00047785698473747665,
          -0.0294949870408017,
          0.017191759315137105,
          -0.023658863782436784,
          0.013392381561138738,
          -0.009640717235153067,
          -0.0003867781607721076,
          -0.005823534710050243,
          0.005177228115175157,
          0.023014082525916333,
          -0.007356845118359487,
          0.007071276838832301,
          -0.008241782997770179,
          0.0009124659523144668,
          0.004931343523338366,
          -0.0032348551405543963,
          -0.0023186624228200307,
          -0.005182122429630692,
          -0.01159915390394607,
          0.011162832665666986,
          -0.03680934351396764,
          0.008327726994438525,
          0.021475727542982524,
          -0.0035814653811196027,
          0.006919192249352833,
          -0.01077973444598663,
          -0.016153185052834043,
          -0.002626000008634852,
          -0.014393477688109106,
          -0.011191459384017397,
          0.012119617534143227,
          0.00959998113591164,
          -0.004932015064187601,
          -0.017122389324862906,
          -0.0046984883666657895,
          0.010673021559108391,
          -0.004588965271336493,
          -0.03526245660796497,
          0.02501437533198237,
          -0.004193396852423182
         ],
         "xaxis": "x",
         "yaxis": "y"
        },
        {
         "alignmentgroup": "True",
         "bingroup": "x",
         "hovertemplate": "variable=markov_chain<br>value=%{x}<br>count=%{y}<extra></extra>",
         "legendgroup": "markov_chain",
         "marker": {
          "color": "#EF553B",
          "opacity": 0.5,
          "pattern": {
           "shape": ""
          }
         },
         "name": "markov_chain",
         "nbinsx": 512,
         "offsetgroup": "markov_chain",
         "orientation": "v",
         "showlegend": true,
         "type": "histogram",
         "x": [
          -0.0004848215997972048,
          -0.000013201846433158384,
          0.0008781362447822863,
          -0.0008669868166746014,
          0.00002516346284794479,
          -0.00020129559034978445,
          0.0001497619108727184,
          0.00017598891822172974,
          -0.0004892992402114743,
          -0.000017003175351465146,
          0.0012657990946313563,
          0.0012539357195502192,
          -0.0012097174925259375,
          0.00042901964841014686,
          0.0023575112833853044,
          0.00017730842269027096,
          0.0013416581058660216,
          -0.00022770322518696033,
          0.0016995694506084045,
          -0.004519950724837463,
          0.0015298671023278032,
          -0.0023289406989716113,
          0.0005905347774491738,
          0.0014149804734355457,
          -0.0013401382925431332,
          0.0008567196254493196,
          -0.00033423653819666553,
          0.00020362248790983112,
          0.008364988699208882,
          -0.00451254733832019,
          0.0012206166745090813,
          0.004360778599431448,
          0.00043510333959493816,
          0.0046555201475738765,
          -0.0015334119196503283,
          -0.001996908750500681,
          -0.0021731335026143675,
          0.003696477118271247,
          0.005414916096421005,
          -0.002620677187903318,
          -0.004174025476883399,
          0.0023980742449495208,
          -0.0011303093760022314,
          0.0006277925442727613,
          0.0012771990034225328,
          -0.0017706913527909289,
          0.0016792464668272328,
          -0.005145072070567261,
          0.0022142159905812614,
          0.009228428334713448,
          -0.004586403801665445,
          0.013626144900164727,
          -0.007951204783395824,
          0.0027928015077060726,
          -0.006493106428369165,
          0.0027699988640186354,
          0.00019129292915756537,
          0.0019451655923142684,
          -0.004200011227068187,
          -0.00029772121525722126,
          -0.0008670911160339203,
          -0.004848541689876178,
          0.0007855484899495693,
          0.00042015660000550717,
          -0.005376096119963116,
          0.0004950890934073554,
          0.0005567485327552138,
          0.0013243804598505387,
          -0.0019084130555434165,
          -0.0017302379525392982,
          -0.0012989243042482715,
          0.00023318182118933556,
          -0.004247143126328231,
          -0.00010636054035747914,
          0.00035962829835549945,
          -0.0006888505331261192,
          -0.0010556428471365717,
          -0.0002767536187798334,
          0.0038969821126725868,
          -0.0006544606807580788,
          0.00010730794652044607,
          -0.04234061286974419,
          -0.0024805138956439272,
          0.0009331772942807121,
          0.002893840345876135,
          -0.0009147899045088611,
          0.0014788197790618924,
          -0.002238792881446938,
          -0.0025820804038572537,
          0.00006669009842003959,
          0.0006315717114370126,
          -0.0007316962816377951,
          -0.0032816375100107355,
          0.0031014978585144765,
          0.00007260396938133038,
          0.004178013349964368,
          -0.0011549575014008443,
          0.0016433424768130794,
          -0.0020826952925732008,
          0.0009439152629152729,
          -0.002139669873566454,
          0.0011028504022612476,
          -0.00012702522890509303,
          0.00015324790522018355,
          -0.001133357148018323,
          0.0006809777489726141,
          0.0005848468719284088,
          0.0002699814801707676,
          -0.0004975572842194007,
          0.0010367506867835653,
          0.0011096054545901542,
          0.0001879276084021989,
          -0.0011216623333308333,
          0.0014255211454624762,
          -0.0013145722590320458,
          0.0008804475479926724,
          0.0014341343154946461,
          0.0018466709493557623,
          -0.0013604533081899286,
          -0.0022316417848040216,
          -0.0009310527336162389,
          -0.0012982990745499965,
          -0.0005818612819907601,
          -0.005430501555919259,
          -0.000903983911293477,
          -0.00030392777947557074,
          -0.0009148447921339536,
          -0.0004914587193916966,
          0.0008023091022669182,
          -0.0004582752745576303,
          0.0006211310335252828,
          -0.0007121558675889867,
          0.00035083010566255846,
          -0.0014606533459837652,
          0.00035730720245095646,
          0.00026581521766334175,
          -0.00005931361273738239,
          -0.0003898235893722989,
          -0.00017692872104812097,
          -0.0011939225947165868,
          -0.00037125663068977594,
          -0.00012353119087038576,
          -0.0009446050906414087,
          0.06697115680756818,
          0.00001849159550450279,
          -0.0004517046550948185,
          -0.00022783354450961338,
          0.0008180302190804031,
          0.00040356922037500676,
          0.0013460647518286004,
          -0.00009919654371857826,
          0.00013379734466120925,
          0.0016521217884925693,
          -0.0009827683382957857,
          0.0005648955206577193,
          -0.0000902457557638426,
          0.0007533776301098527,
          -0.0005531132932643829,
          0.0006033324440927251,
          0.0014026850547196532,
          -0.0004964801277056756,
          -0.0005855503523914231,
          0.0023325450103631393,
          0.0009186968858485101,
          -0.0005405554267253567,
          -0.0008375729389318836,
          0.0018624566707685572,
          0.000018307204167480678,
          0.0012065544611060842,
          0.000928528486739002,
          -0.003965293855179443,
          -0.00020181611647554889,
          -0.002675207512517496,
          0.0033882087047049994,
          -0.0018479375933674342,
          0.001254146504051176,
          0.0003953212313585648,
          -0.0011953535212713851,
          0.00002574352557097628,
          -0.0007865296451290251,
          -0.0014576824885742575,
          -0.0018333044663521193,
          -0.0007508078720749852,
          0.00018076052078217593,
          0.0029673842051013456,
          -0.002551681840601318,
          0.00026226062462103355,
          0.0017556842911713392,
          -0.0010141930737009135,
          -0.0013488634529792917,
          -0.00022451789298489006,
          -0.0010514995394181308,
          0.000397974040329836,
          -0.001007336660922199,
          -0.0013894545949837845,
          0.001749333835903786,
          0.0021250600948120833,
          0.0009142799270641213,
          0.001400509086188181,
          0.0015165263298798012,
          -0.0005437606400784749,
          0.0004367792912344905,
          -0.00042327017571772716,
          0.0010467091847073664,
          0.0015492066578934663,
          -0.0004570264969487015,
          0.0024179008866114116,
          0.0015408312672059036,
          -0.006106327143564447,
          0.0020936057300975763,
          0.002769986772622711,
          0.0010923048499344237,
          0.0019197450852820137,
          -0.0013828823125912656,
          -0.004655057062743811,
          -0.0004355571968326427,
          -0.01132768376262823,
          -0.0009578080458185522,
          0.0013666600598686088,
          0.0014102402965372202,
          -0.0007235746254873488,
          0.000833621739568904,
          -0.0017476926026731981,
          0.002316279272497805,
          0.00005234835043338643,
          0.0015449216595809466,
          0.028609174269816587,
          -0.005178604658357205,
          0.00908543648029472,
          0.00022718998315688786,
          0.0001938088881881662,
          0.006059975038169154,
          -0.009059638480154925,
          0.002226724950674641,
          -0.002683896111958378,
          0.0020793972337259607,
          0.0009573308972165308,
          -0.0032947867908203025,
          0.0011468281279984165,
          -0.004877723227289016,
          0.004544842846674783,
          -0.015888531610788778,
          -0.006710403055928113,
          -0.0003576648791986975,
          0.00010385785654330412,
          0.0004138600696830003,
          -0.00006524082125177041,
          -0.0016818562437506323,
          -0.00008281027113693295,
          0.0023414717832232618,
          -0.0016095164128472617,
          0.000026782730768890836,
          -0.00316769319438146,
          -0.0003511049896865782,
          -0.002398492363356715,
          -0.00023898805603371335,
          -0.001524692144855084,
          -0.0000216510828601874,
          0.002566218213724077,
          -0.004713356141337256,
          -0.0005770843899926292,
          0.0012206478032129485,
          -0.0015604707062580655,
          0.0015290451649363143,
          0.000040870870618505,
          0.0011523678263770246,
          0.003817532870317577,
          -0.000008373659353630176,
          0.0007253080236851242,
          -0.0022230865085303645,
          0.0018476873447343702,
          -0.00596099012754886,
          -0.001299142617134201,
          0.0004287331355370982,
          0.00014694939279487687,
          0.0007577263557217231,
          0.00020782628967035578,
          0.0003585129954215378,
          -0.0002503492983194325,
          -0.00006450236464610018,
          -0.000462627023227552,
          0.0006454292124357976,
          0.0003430339278226238,
          -0.0002837421200916836,
          -0.0003376626361423843,
          0.0005391221923917756,
          0.0010555349438740626,
          0.00007602285696321569,
          0.0004094197540107248,
          -0.0008044480266943786,
          0.0006605473638544093,
          -0.0008008640558891944,
          0.00015349625016504746,
          -0.0005871525915414144,
          0.0002163259022829856,
          0.001466488433907065,
          -0.00037589054714821544,
          0.012732035938476438,
          -0.0014591730760956656,
          0.004092352427506791,
          0.006426025804817652,
          -0.008126995434453985,
          0.0015495153001221203,
          -0.0021530846294221355,
          -0.0021991460415481216,
          0.0010183625506230308,
          -0.0028005833571780638,
          0.0030107408717645195,
          -0.001008608962462145,
          -0.0032680781433325097,
          0.012705898688120353,
          -0.002509321949101381,
          -0.001792609855710189,
          0.0008952147634404793,
          0.00005157145874412248,
          0.001329454407789741,
          0.002438641513758756,
          0.001250103172075732,
          0.00029746185454298515,
          0.0011328165222049902,
          -0.0020671341307219055,
          0.0008703471529254805,
          -0.0007461589666202333,
          0.0008888966973337282,
          -0.004502569458658279,
          0.000802907981887647,
          0.001430309879861356,
          0.000716964949300482,
          0.0020298508766894846,
          0.0010424834879887027,
          0.0054418489918985555,
          -0.0009954269033600129,
          0.000262001347039436,
          0.00287059719102686,
          -0.0012738943489919471,
          -0.0019249031447138966,
          0.00304249549545056,
          0.0010026086269423959,
          0.007304646769898004,
          0.0019076914207532547,
          -0.0009766147383178986,
          0.00428590631989449,
          0.0026246863798557426,
          -0.006413517893511267,
          0.0001772443062937908,
          0.0007647181317377394,
          0.0067402610781009745,
          0.003256505005535656,
          -0.005154256454441284,
          0.002152585471354604,
          0.0005281180946377323,
          -0.0038038703525540745,
          -0.006055299698896521,
          0.0011997349630394165,
          -0.003074146310040114,
          -0.0019128544069920914,
          0.0028792584279970883,
          -0.004730706939770407,
          -0.0011020662339723342,
          0.0023850170697292785,
          -0.00013654040544442092,
          -0.0054614994174565674,
          -0.000041561456274277574,
          -0.015970115308802504,
          -0.0005943045527670185,
          -0.0016270802098977489,
          -0.004807544886056218,
          0.0005243816827373306,
          -0.0026219835217093455,
          -0.0009335587329077238,
          0.0013376469778536952,
          -0.0014270286786911193,
          -0.0018010137056108134,
          0.0035003810962392218,
          -0.0005488520359545129,
          -0.004868389631072761,
          -0.004164361330397413,
          0.007564142021647961,
          0.0005544243677974869,
          -0.0014160643849105217,
          -0.004283891578695385,
          0.005353678051137106,
          -0.0028761149571101124,
          0.004833888396923575,
          0.0006303607462324191,
          -0.00033874916086695903,
          -0.0009131239936307932,
          0.0034311828882910376,
          0.00016777759386088736,
          0.0010914278310998641,
          0.001016511738043235,
          0.0033142866642421696,
          0.0013656921937062064,
          -0.0027109795815038664,
          0.0025763573871234926,
          0.0012808973343583462,
          0.0035257737921673277,
          -0.03914836660921839,
          0.003922466346010817,
          0.0016948781755662758,
          -0.006965073285904766,
          0.009464228882787865,
          0.01221968330837895,
          0.006229396429481653,
          -0.008104367338725509,
          -0.005962565872585191,
          0.0018435172045059207,
          0.0033580890457308122,
          -0.002753377760635189,
          -0.002885933757303104,
          -0.0016861696604537463,
          -0.0010209353120698734,
          0.004425745811980006,
          0.00010690005785552554,
          -0.000923310593929908,
          -0.00043746460052226195,
          0.0019049639372594324,
          -0.000054019276224082235,
          -0.002227502498159217,
          -0.007289803219330027,
          -0.008699576438495178,
          0.0012622512215053868,
          -0.001641592436011966,
          -0.0029429886201679514,
          0.0008339501535668827,
          -0.001593375355202143,
          -0.001067312167879194,
          -0.0018199515182227097,
          0.0014247269714115522,
          0.005338144163312117,
          0.0009725647806484287,
          0.03401473430540733,
          0.005066151193888473,
          -0.01591282300995478,
          -0.005343954067363706,
          0.00176155351432074,
          0.0020560994911605216,
          0.008800354674167583,
          0.007176931405120379,
          -0.0028208881942770212,
          0.002630005339890968,
          -0.0016933003301799563,
          -0.001530595344708972,
          -0.006210872767366829,
          -0.006727945057341294,
          -0.008258855185478203,
          -0.0018244577146830873,
          0.00012027571654073927,
          0.000710998757023074,
          0.0028024365819196958,
          -0.008437271897588226,
          -0.008063054100584301,
          -0.00696848358372101,
          0.0035249344616952137,
          -0.0025777614367201458,
          -0.0024341775754901174,
          -0.00017766803473252406,
          -0.003282529500142974,
          -0.001237182824231076,
          -0.0019775012204416168,
          -0.0014311308157290694,
          0.009970023089797771,
          0.0002701896302300991,
          -0.0017869677190116896,
          0.0077435051251392925,
          -0.0030037309637060746,
          0.005164423401809358,
          -0.008925221050069505,
          -0.004072278922418203,
          0.0010398600541074434,
          0.005729108133144424,
          0.0008418151370989293,
          0.008963616189226795,
          0.0023114731124835195,
          -0.007396955020789579,
          -0.010347945562668971,
          0.014473310995364794,
          0.00435739014677781,
          0.003922131402697213,
          0.0011813158603249142,
          0.007706920578247995,
          0.01222769430025765,
          -0.012426731893466565,
          -0.0029599574696723644,
          -0.010477415560702832,
          -0.001014698627939993,
          0.0019472846566523485,
          0.010442728942511182,
          0.0015922942106250024,
          -0.012425398475110767,
          -0.007464190174157885,
          -0.006747620132517479,
          -0.0006480978469983172,
          0.0024624939360250193,
          -0.00572322092113297,
          0.003165560589935906,
          0.007422732089257764,
          0.011030542196556796,
          0.0072087646157571825,
          0.01579224138105405,
          0.0019733995239894254,
          -0.012011313679724689,
          0.006548303691065521,
          0.001445782240557616,
          0.0005166293190127734,
          0.002980845436779969,
          0.0036287433686644065,
          -0.002825996417345118,
          0.003055956398563553,
          0.0006726849236307494,
          -0.0093951362278868,
          -0.001466997496461681,
          0.005408104875072272,
          0.00579371101539513,
          -0.012304379435728506,
          0.005418365006631254,
          -0.005258688810353668,
          0.005987731419222977,
          0.0021969155212353975,
          0.0034224895276485055,
          -0.00007261022949247041,
          -0.0033411846801677794,
          0.0022465677958286895,
          -0.001450041060044841,
          -0.006964811398379388,
          -0.0049555875580110705,
          -0.007875915116486278,
          -0.05412513949237573,
          -0.006036651492741017,
          0.001498328080021127,
          0.0006328113309078049,
          0.0020456351353129046,
          -0.004650690033284406,
          0.010523675833253067,
          0.007878439079464311,
          -0.004994837552053227,
          0.008769594810644016,
          -0.0002075178299503485,
          0.008199608410136406,
          0.0003742384862745403,
          -0.01099729616950983,
          0.005073024313673753,
          0.005767841196797252,
          -0.010429417805552897,
          -0.0074234377065336594,
          -0.004280072473796606,
          -0.007868503688328426,
          0.010552523510499904,
          -0.010560464651342272,
          0.007306972481045344,
          0.006393975353543269,
          0.00523642048527459,
          0.002920612266560092,
          -0.003450443007486392,
          -0.011912980696573983,
          0.004152539743096275,
          -0.00025714375666992684,
          -0.0008580025774448717,
          -0.005203752125816423,
          -0.0045684677268274885,
          -0.007066153369627865,
          0.019266222419746692,
          0.0007336129207398548,
          -0.005408180779738118,
          0.0048018596922949665,
          0.03182151717156727,
          -0.006090496584332202,
          -0.009202137658419304,
          -0.002540964666924135,
          0.011389741860548286,
          0.0025471014411084904,
          0.0015424575075523804,
          -0.008722777432425652,
          -0.0038643416887778085,
          0.005028104690921495,
          -0.004216785552640799,
          0.010294031925001387,
          -0.0010393005060818378,
          0.0018113053943355165,
          0.0030709746405374943,
          -0.007979999755417641,
          -0.0003530010083720329,
          0.016074114490211684,
          0.009808183653726266,
          0.004646834014553561,
          0.009013618898232056,
          -0.0021919226816894677,
          0.0048903004359129925,
          0.002956740419208645,
          -0.007372542236257183,
          0.003204876252812632,
          0.009148718913502572,
          -0.00591665261262245,
          0.0104457122236518,
          0.0021247172568717365,
          -0.004701480849384815,
          0.007410019349073622,
          -0.022565419843476018,
          0.006452194798046456,
          -0.008444308538909907,
          0.0040334699133445446,
          0.010714176482502143,
          0.0011820975759025245,
          -0.0007384331132540691,
          -0.00045600794123423945,
          0.0010990599159494377,
          0.004786048076908982,
          0.0006637982547962534,
          -0.0025660834621122524,
          0.009742359410371043,
          -0.001089085283004027,
          0.006023717176591682,
          -0.007576074665777979,
          -0.001085503287865326,
          0.004650303111237762,
          -0.00030335131396399097,
          -0.014906081776845253,
          0.008544512309559398,
          -0.011858822325078566,
          0.0065959258557483575,
          -0.00484367055170139,
          -0.0002414023972348452,
          -0.002921838395031189,
          0.0025025365899864786,
          0.011455792707504518,
          -0.0037576702948748457,
          0.0035110386140018834,
          -0.004200545924342649,
          0.00040687731052847613,
          0.0024299233139188515,
          -0.0016799082184236296,
          -0.0012152789969539324,
          -0.002643436825960966,
          -0.0058054459548832,
          0.005487299040936479,
          -0.018073016145682325,
          0.0039693144747447754,
          0.010473523679892177,
          -0.0018209701064773498,
          0.0033769602780828554,
          -0.005378882847197875,
          -0.007925455690166993,
          -0.00131661689162134,
          -0.0069354174439309356,
          -0.0053286352950803265,
          0.0056748016083405396,
          0.0045383280545907125,
          -0.002410368296464574,
          -0.008150905883239884,
          -0.0022438134289002134,
          0.004960197663129582,
          -0.002203736518974902,
          -0.01627161880560592,
          0.011402911083083049,
          -0.00198446058902658
         ],
         "xaxis": "x",
         "yaxis": "y"
        }
       ],
       "layout": {
        "barmode": "overlay",
        "height": 720,
        "legend": {
         "title": {
          "text": "variable"
         },
         "tracegroupgap": 0
        },
        "margin": {
         "t": 60
        },
        "template": {
         "data": {
          "bar": [
           {
            "error_x": {
             "color": "#2a3f5f"
            },
            "error_y": {
             "color": "#2a3f5f"
            },
            "marker": {
             "line": {
              "color": "#E5ECF6",
              "width": 0.5
             },
             "pattern": {
              "fillmode": "overlay",
              "size": 10,
              "solidity": 0.2
             }
            },
            "type": "bar"
           }
          ],
          "barpolar": [
           {
            "marker": {
             "line": {
              "color": "#E5ECF6",
              "width": 0.5
             },
             "pattern": {
              "fillmode": "overlay",
              "size": 10,
              "solidity": 0.2
             }
            },
            "type": "barpolar"
           }
          ],
          "carpet": [
           {
            "aaxis": {
             "endlinecolor": "#2a3f5f",
             "gridcolor": "white",
             "linecolor": "white",
             "minorgridcolor": "white",
             "startlinecolor": "#2a3f5f"
            },
            "baxis": {
             "endlinecolor": "#2a3f5f",
             "gridcolor": "white",
             "linecolor": "white",
             "minorgridcolor": "white",
             "startlinecolor": "#2a3f5f"
            },
            "type": "carpet"
           }
          ],
          "choropleth": [
           {
            "colorbar": {
             "outlinewidth": 0,
             "ticks": ""
            },
            "type": "choropleth"
           }
          ],
          "contour": [
           {
            "colorbar": {
             "outlinewidth": 0,
             "ticks": ""
            },
            "colorscale": [
             [
              0,
              "#0d0887"
             ],
             [
              0.1111111111111111,
              "#46039f"
             ],
             [
              0.2222222222222222,
              "#7201a8"
             ],
             [
              0.3333333333333333,
              "#9c179e"
             ],
             [
              0.4444444444444444,
              "#bd3786"
             ],
             [
              0.5555555555555556,
              "#d8576b"
             ],
             [
              0.6666666666666666,
              "#ed7953"
             ],
             [
              0.7777777777777778,
              "#fb9f3a"
             ],
             [
              0.8888888888888888,
              "#fdca26"
             ],
             [
              1,
              "#f0f921"
             ]
            ],
            "type": "contour"
           }
          ],
          "contourcarpet": [
           {
            "colorbar": {
             "outlinewidth": 0,
             "ticks": ""
            },
            "type": "contourcarpet"
           }
          ],
          "heatmap": [
           {
            "colorbar": {
             "outlinewidth": 0,
             "ticks": ""
            },
            "colorscale": [
             [
              0,
              "#0d0887"
             ],
             [
              0.1111111111111111,
              "#46039f"
             ],
             [
              0.2222222222222222,
              "#7201a8"
             ],
             [
              0.3333333333333333,
              "#9c179e"
             ],
             [
              0.4444444444444444,
              "#bd3786"
             ],
             [
              0.5555555555555556,
              "#d8576b"
             ],
             [
              0.6666666666666666,
              "#ed7953"
             ],
             [
              0.7777777777777778,
              "#fb9f3a"
             ],
             [
              0.8888888888888888,
              "#fdca26"
             ],
             [
              1,
              "#f0f921"
             ]
            ],
            "type": "heatmap"
           }
          ],
          "heatmapgl": [
           {
            "colorbar": {
             "outlinewidth": 0,
             "ticks": ""
            },
            "colorscale": [
             [
              0,
              "#0d0887"
             ],
             [
              0.1111111111111111,
              "#46039f"
             ],
             [
              0.2222222222222222,
              "#7201a8"
             ],
             [
              0.3333333333333333,
              "#9c179e"
             ],
             [
              0.4444444444444444,
              "#bd3786"
             ],
             [
              0.5555555555555556,
              "#d8576b"
             ],
             [
              0.6666666666666666,
              "#ed7953"
             ],
             [
              0.7777777777777778,
              "#fb9f3a"
             ],
             [
              0.8888888888888888,
              "#fdca26"
             ],
             [
              1,
              "#f0f921"
             ]
            ],
            "type": "heatmapgl"
           }
          ],
          "histogram": [
           {
            "marker": {
             "pattern": {
              "fillmode": "overlay",
              "size": 10,
              "solidity": 0.2
             }
            },
            "type": "histogram"
           }
          ],
          "histogram2d": [
           {
            "colorbar": {
             "outlinewidth": 0,
             "ticks": ""
            },
            "colorscale": [
             [
              0,
              "#0d0887"
             ],
             [
              0.1111111111111111,
              "#46039f"
             ],
             [
              0.2222222222222222,
              "#7201a8"
             ],
             [
              0.3333333333333333,
              "#9c179e"
             ],
             [
              0.4444444444444444,
              "#bd3786"
             ],
             [
              0.5555555555555556,
              "#d8576b"
             ],
             [
              0.6666666666666666,
              "#ed7953"
             ],
             [
              0.7777777777777778,
              "#fb9f3a"
             ],
             [
              0.8888888888888888,
              "#fdca26"
             ],
             [
              1,
              "#f0f921"
             ]
            ],
            "type": "histogram2d"
           }
          ],
          "histogram2dcontour": [
           {
            "colorbar": {
             "outlinewidth": 0,
             "ticks": ""
            },
            "colorscale": [
             [
              0,
              "#0d0887"
             ],
             [
              0.1111111111111111,
              "#46039f"
             ],
             [
              0.2222222222222222,
              "#7201a8"
             ],
             [
              0.3333333333333333,
              "#9c179e"
             ],
             [
              0.4444444444444444,
              "#bd3786"
             ],
             [
              0.5555555555555556,
              "#d8576b"
             ],
             [
              0.6666666666666666,
              "#ed7953"
             ],
             [
              0.7777777777777778,
              "#fb9f3a"
             ],
             [
              0.8888888888888888,
              "#fdca26"
             ],
             [
              1,
              "#f0f921"
             ]
            ],
            "type": "histogram2dcontour"
           }
          ],
          "mesh3d": [
           {
            "colorbar": {
             "outlinewidth": 0,
             "ticks": ""
            },
            "type": "mesh3d"
           }
          ],
          "parcoords": [
           {
            "line": {
             "colorbar": {
              "outlinewidth": 0,
              "ticks": ""
             }
            },
            "type": "parcoords"
           }
          ],
          "pie": [
           {
            "automargin": true,
            "type": "pie"
           }
          ],
          "scatter": [
           {
            "fillpattern": {
             "fillmode": "overlay",
             "size": 10,
             "solidity": 0.2
            },
            "type": "scatter"
           }
          ],
          "scatter3d": [
           {
            "line": {
             "colorbar": {
              "outlinewidth": 0,
              "ticks": ""
             }
            },
            "marker": {
             "colorbar": {
              "outlinewidth": 0,
              "ticks": ""
             }
            },
            "type": "scatter3d"
           }
          ],
          "scattercarpet": [
           {
            "marker": {
             "colorbar": {
              "outlinewidth": 0,
              "ticks": ""
             }
            },
            "type": "scattercarpet"
           }
          ],
          "scattergeo": [
           {
            "marker": {
             "colorbar": {
              "outlinewidth": 0,
              "ticks": ""
             }
            },
            "type": "scattergeo"
           }
          ],
          "scattergl": [
           {
            "marker": {
             "colorbar": {
              "outlinewidth": 0,
              "ticks": ""
             }
            },
            "type": "scattergl"
           }
          ],
          "scattermapbox": [
           {
            "marker": {
             "colorbar": {
              "outlinewidth": 0,
              "ticks": ""
             }
            },
            "type": "scattermapbox"
           }
          ],
          "scatterpolar": [
           {
            "marker": {
             "colorbar": {
              "outlinewidth": 0,
              "ticks": ""
             }
            },
            "type": "scatterpolar"
           }
          ],
          "scatterpolargl": [
           {
            "marker": {
             "colorbar": {
              "outlinewidth": 0,
              "ticks": ""
             }
            },
            "type": "scatterpolargl"
           }
          ],
          "scatterternary": [
           {
            "marker": {
             "colorbar": {
              "outlinewidth": 0,
              "ticks": ""
             }
            },
            "type": "scatterternary"
           }
          ],
          "surface": [
           {
            "colorbar": {
             "outlinewidth": 0,
             "ticks": ""
            },
            "colorscale": [
             [
              0,
              "#0d0887"
             ],
             [
              0.1111111111111111,
              "#46039f"
             ],
             [
              0.2222222222222222,
              "#7201a8"
             ],
             [
              0.3333333333333333,
              "#9c179e"
             ],
             [
              0.4444444444444444,
              "#bd3786"
             ],
             [
              0.5555555555555556,
              "#d8576b"
             ],
             [
              0.6666666666666666,
              "#ed7953"
             ],
             [
              0.7777777777777778,
              "#fb9f3a"
             ],
             [
              0.8888888888888888,
              "#fdca26"
             ],
             [
              1,
              "#f0f921"
             ]
            ],
            "type": "surface"
           }
          ],
          "table": [
           {
            "cells": {
             "fill": {
              "color": "#EBF0F8"
             },
             "line": {
              "color": "white"
             }
            },
            "header": {
             "fill": {
              "color": "#C8D4E3"
             },
             "line": {
              "color": "white"
             }
            },
            "type": "table"
           }
          ]
         },
         "layout": {
          "annotationdefaults": {
           "arrowcolor": "#2a3f5f",
           "arrowhead": 0,
           "arrowwidth": 1
          },
          "autotypenumbers": "strict",
          "coloraxis": {
           "colorbar": {
            "outlinewidth": 0,
            "ticks": ""
           }
          },
          "colorscale": {
           "diverging": [
            [
             0,
             "#8e0152"
            ],
            [
             0.1,
             "#c51b7d"
            ],
            [
             0.2,
             "#de77ae"
            ],
            [
             0.3,
             "#f1b6da"
            ],
            [
             0.4,
             "#fde0ef"
            ],
            [
             0.5,
             "#f7f7f7"
            ],
            [
             0.6,
             "#e6f5d0"
            ],
            [
             0.7,
             "#b8e186"
            ],
            [
             0.8,
             "#7fbc41"
            ],
            [
             0.9,
             "#4d9221"
            ],
            [
             1,
             "#276419"
            ]
           ],
           "sequential": [
            [
             0,
             "#0d0887"
            ],
            [
             0.1111111111111111,
             "#46039f"
            ],
            [
             0.2222222222222222,
             "#7201a8"
            ],
            [
             0.3333333333333333,
             "#9c179e"
            ],
            [
             0.4444444444444444,
             "#bd3786"
            ],
            [
             0.5555555555555556,
             "#d8576b"
            ],
            [
             0.6666666666666666,
             "#ed7953"
            ],
            [
             0.7777777777777778,
             "#fb9f3a"
            ],
            [
             0.8888888888888888,
             "#fdca26"
            ],
            [
             1,
             "#f0f921"
            ]
           ],
           "sequentialminus": [
            [
             0,
             "#0d0887"
            ],
            [
             0.1111111111111111,
             "#46039f"
            ],
            [
             0.2222222222222222,
             "#7201a8"
            ],
            [
             0.3333333333333333,
             "#9c179e"
            ],
            [
             0.4444444444444444,
             "#bd3786"
            ],
            [
             0.5555555555555556,
             "#d8576b"
            ],
            [
             0.6666666666666666,
             "#ed7953"
            ],
            [
             0.7777777777777778,
             "#fb9f3a"
            ],
            [
             0.8888888888888888,
             "#fdca26"
            ],
            [
             1,
             "#f0f921"
            ]
           ]
          },
          "colorway": [
           "#636efa",
           "#EF553B",
           "#00cc96",
           "#ab63fa",
           "#FFA15A",
           "#19d3f3",
           "#FF6692",
           "#B6E880",
           "#FF97FF",
           "#FECB52"
          ],
          "font": {
           "color": "#2a3f5f"
          },
          "geo": {
           "bgcolor": "white",
           "lakecolor": "white",
           "landcolor": "#E5ECF6",
           "showlakes": true,
           "showland": true,
           "subunitcolor": "white"
          },
          "hoverlabel": {
           "align": "left"
          },
          "hovermode": "closest",
          "mapbox": {
           "style": "light"
          },
          "paper_bgcolor": "white",
          "plot_bgcolor": "#E5ECF6",
          "polar": {
           "angularaxis": {
            "gridcolor": "white",
            "linecolor": "white",
            "ticks": ""
           },
           "bgcolor": "#E5ECF6",
           "radialaxis": {
            "gridcolor": "white",
            "linecolor": "white",
            "ticks": ""
           }
          },
          "scene": {
           "xaxis": {
            "backgroundcolor": "#E5ECF6",
            "gridcolor": "white",
            "gridwidth": 2,
            "linecolor": "white",
            "showbackground": true,
            "ticks": "",
            "zerolinecolor": "white"
           },
           "yaxis": {
            "backgroundcolor": "#E5ECF6",
            "gridcolor": "white",
            "gridwidth": 2,
            "linecolor": "white",
            "showbackground": true,
            "ticks": "",
            "zerolinecolor": "white"
           },
           "zaxis": {
            "backgroundcolor": "#E5ECF6",
            "gridcolor": "white",
            "gridwidth": 2,
            "linecolor": "white",
            "showbackground": true,
            "ticks": "",
            "zerolinecolor": "white"
           }
          },
          "shapedefaults": {
           "line": {
            "color": "#2a3f5f"
           }
          },
          "ternary": {
           "aaxis": {
            "gridcolor": "white",
            "linecolor": "white",
            "ticks": ""
           },
           "baxis": {
            "gridcolor": "white",
            "linecolor": "white",
            "ticks": ""
           },
           "bgcolor": "#E5ECF6",
           "caxis": {
            "gridcolor": "white",
            "linecolor": "white",
            "ticks": ""
           }
          },
          "title": {
           "x": 0.05
          },
          "xaxis": {
           "automargin": true,
           "gridcolor": "white",
           "linecolor": "white",
           "ticks": "",
           "title": {
            "standoff": 15
           },
           "zerolinecolor": "white",
           "zerolinewidth": 2
          },
          "yaxis": {
           "automargin": true,
           "gridcolor": "white",
           "linecolor": "white",
           "ticks": "",
           "title": {
            "standoff": 15
           },
           "zerolinecolor": "white",
           "zerolinewidth": 2
          }
         }
        },
        "width": 1280,
        "xaxis": {
         "anchor": "y",
         "domain": [
          0,
          1
         ],
         "title": {
          "text": "value"
         }
        },
        "yaxis": {
         "anchor": "x",
         "domain": [
          0,
          1
         ],
         "title": {
          "text": "count"
         }
        }
       }
      }
     },
     "metadata": {},
     "output_type": "display_data"
    }
   ],
   "source": [
    "plx.histogram(\n",
    "    data_frame=comparison.melt(),\n",
    "    x='value',\n",
    "    color='variable',\n",
    "    barmode='overlay',\n",
    "    nbins=512,\n",
    "    height=720,\n",
    "    width=1280,\n",
    ")"
   ]
  },
  {
   "cell_type": "markdown",
   "metadata": {},
   "source": [
    "Parece que a cadeia de Markov teve um desempenho melhor!"
   ]
  },
  {
   "cell_type": "markdown",
   "metadata": {},
   "source": [
    "## Avaliação do modelo\n",
    "\n",
    "Agora, vamos verificar como o modelo se comporta com dados fora de amostra."
   ]
  },
  {
   "cell_type": "code",
   "execution_count": 14,
   "metadata": {},
   "outputs": [],
   "source": [
    "from datetime import datetime"
   ]
  },
  {
   "cell_type": "markdown",
   "metadata": {},
   "source": [
    "### Divisão em treino e teste"
   ]
  },
  {
   "cell_type": "code",
   "execution_count": 354,
   "metadata": {},
   "outputs": [],
   "source": [
    "company = 'NVDA.US'\n",
    "split_date = datetime(2020, 6, 1)\n",
    "\n",
    "company_data = final_table.loc[cik_by_ticker[company]]\n",
    "company_train = company_data[company_data.index <= split_date].dropna()\n",
    "company_test = company_data[company_data.index > split_date].dropna()"
   ]
  },
  {
   "cell_type": "markdown",
   "metadata": {},
   "source": [
    "### Treinamento na base de treino"
   ]
  },
  {
   "cell_type": "code",
   "execution_count": 355,
   "metadata": {},
   "outputs": [
    {
     "data": {
      "text/html": [
       "<table class=\"simpletable\">\n",
       "<caption>OLS Regression Results</caption>\n",
       "<tr>\n",
       "  <th>Dep. Variable:</th>       <td>log_return</td>    <th>  R-squared:         </th> <td>   0.745</td> \n",
       "</tr>\n",
       "<tr>\n",
       "  <th>Model:</th>                   <td>OLS</td>       <th>  Adj. R-squared:    </th> <td>   0.744</td> \n",
       "</tr>\n",
       "<tr>\n",
       "  <th>Method:</th>             <td>Least Squares</td>  <th>  F-statistic:       </th> <td>   736.2</td> \n",
       "</tr>\n",
       "<tr>\n",
       "  <th>Date:</th>             <td>Wed, 25 Sep 2024</td> <th>  Prob (F-statistic):</th> <td>2.06e-150</td>\n",
       "</tr>\n",
       "<tr>\n",
       "  <th>Time:</th>                 <td>16:23:31</td>     <th>  Log-Likelihood:    </th> <td>  1340.1</td> \n",
       "</tr>\n",
       "<tr>\n",
       "  <th>No. Observations:</th>      <td>   508</td>      <th>  AIC:               </th> <td>  -2674.</td> \n",
       "</tr>\n",
       "<tr>\n",
       "  <th>Df Residuals:</th>          <td>   505</td>      <th>  BIC:               </th> <td>  -2662.</td> \n",
       "</tr>\n",
       "<tr>\n",
       "  <th>Df Model:</th>              <td>     2</td>      <th>                     </th>     <td> </td>    \n",
       "</tr>\n",
       "<tr>\n",
       "  <th>Covariance Type:</th>      <td>nonrobust</td>    <th>                     </th>     <td> </td>    \n",
       "</tr>\n",
       "</table>\n",
       "<table class=\"simpletable\">\n",
       "<tr>\n",
       "        <td></td>           <th>coef</th>     <th>std err</th>      <th>t</th>      <th>P>|t|</th>  <th>[0.025</th>    <th>0.975]</th>  \n",
       "</tr>\n",
       "<tr>\n",
       "  <th>Intercept</th>     <td>    0.0036</td> <td>    0.002</td> <td>    1.829</td> <td> 0.068</td> <td>   -0.000</td> <td>    0.008</td>\n",
       "</tr>\n",
       "<tr>\n",
       "  <th>log_adj_ey_l1</th> <td>  -27.2244</td> <td>    0.714</td> <td>  -38.113</td> <td> 0.000</td> <td>  -28.628</td> <td>  -25.821</td>\n",
       "</tr>\n",
       "<tr>\n",
       "  <th>log_adj_ey_ms</th> <td>   -0.0684</td> <td>    0.073</td> <td>   -0.934</td> <td> 0.351</td> <td>   -0.212</td> <td>    0.075</td>\n",
       "</tr>\n",
       "</table>\n",
       "<table class=\"simpletable\">\n",
       "<tr>\n",
       "  <th>Omnibus:</th>       <td>221.041</td> <th>  Durbin-Watson:     </th> <td>   2.319</td>\n",
       "</tr>\n",
       "<tr>\n",
       "  <th>Prob(Omnibus):</th> <td> 0.000</td>  <th>  Jarque-Bera (JB):  </th> <td>3086.057</td>\n",
       "</tr>\n",
       "<tr>\n",
       "  <th>Skew:</th>          <td> 1.507</td>  <th>  Prob(JB):          </th> <td>    0.00</td>\n",
       "</tr>\n",
       "<tr>\n",
       "  <th>Kurtosis:</th>      <td>14.692</td>  <th>  Cond. No.          </th> <td>    928.</td>\n",
       "</tr>\n",
       "</table><br/><br/>Notes:<br/>[1] Standard Errors assume that the covariance matrix of the errors is correctly specified."
      ],
      "text/latex": [
       "\\begin{center}\n",
       "\\begin{tabular}{lclc}\n",
       "\\toprule\n",
       "\\textbf{Dep. Variable:}    &   log\\_return    & \\textbf{  R-squared:         } &     0.745   \\\\\n",
       "\\textbf{Model:}            &       OLS        & \\textbf{  Adj. R-squared:    } &     0.744   \\\\\n",
       "\\textbf{Method:}           &  Least Squares   & \\textbf{  F-statistic:       } &     736.2   \\\\\n",
       "\\textbf{Date:}             & Wed, 25 Sep 2024 & \\textbf{  Prob (F-statistic):} & 2.06e-150   \\\\\n",
       "\\textbf{Time:}             &     16:23:31     & \\textbf{  Log-Likelihood:    } &    1340.1   \\\\\n",
       "\\textbf{No. Observations:} &         508      & \\textbf{  AIC:               } &    -2674.   \\\\\n",
       "\\textbf{Df Residuals:}     &         505      & \\textbf{  BIC:               } &    -2662.   \\\\\n",
       "\\textbf{Df Model:}         &           2      & \\textbf{                     } &             \\\\\n",
       "\\textbf{Covariance Type:}  &    nonrobust     & \\textbf{                     } &             \\\\\n",
       "\\bottomrule\n",
       "\\end{tabular}\n",
       "\\begin{tabular}{lcccccc}\n",
       "                          & \\textbf{coef} & \\textbf{std err} & \\textbf{t} & \\textbf{P$> |$t$|$} & \\textbf{[0.025} & \\textbf{0.975]}  \\\\\n",
       "\\midrule\n",
       "\\textbf{Intercept}        &       0.0036  &        0.002     &     1.829  &         0.068        &       -0.000    &        0.008     \\\\\n",
       "\\textbf{log\\_adj\\_ey\\_l1} &     -27.2244  &        0.714     &   -38.113  &         0.000        &      -28.628    &      -25.821     \\\\\n",
       "\\textbf{log\\_adj\\_ey\\_ms} &      -0.0684  &        0.073     &    -0.934  &         0.351        &       -0.212    &        0.075     \\\\\n",
       "\\bottomrule\n",
       "\\end{tabular}\n",
       "\\begin{tabular}{lclc}\n",
       "\\textbf{Omnibus:}       & 221.041 & \\textbf{  Durbin-Watson:     } &    2.319  \\\\\n",
       "\\textbf{Prob(Omnibus):} &   0.000 & \\textbf{  Jarque-Bera (JB):  } & 3086.057  \\\\\n",
       "\\textbf{Skew:}          &   1.507 & \\textbf{  Prob(JB):          } &     0.00  \\\\\n",
       "\\textbf{Kurtosis:}      &  14.692 & \\textbf{  Cond. No.          } &     928.  \\\\\n",
       "\\bottomrule\n",
       "\\end{tabular}\n",
       "%\\caption{OLS Regression Results}\n",
       "\\end{center}\n",
       "\n",
       "Notes: \\newline\n",
       " [1] Standard Errors assume that the covariance matrix of the errors is correctly specified."
      ],
      "text/plain": [
       "<class 'statsmodels.iolib.summary.Summary'>\n",
       "\"\"\"\n",
       "                            OLS Regression Results                            \n",
       "==============================================================================\n",
       "Dep. Variable:             log_return   R-squared:                       0.745\n",
       "Model:                            OLS   Adj. R-squared:                  0.744\n",
       "Method:                 Least Squares   F-statistic:                     736.2\n",
       "Date:                Wed, 25 Sep 2024   Prob (F-statistic):          2.06e-150\n",
       "Time:                        16:23:31   Log-Likelihood:                 1340.1\n",
       "No. Observations:                 508   AIC:                            -2674.\n",
       "Df Residuals:                     505   BIC:                            -2662.\n",
       "Df Model:                           2                                         \n",
       "Covariance Type:            nonrobust                                         \n",
       "=================================================================================\n",
       "                    coef    std err          t      P>|t|      [0.025      0.975]\n",
       "---------------------------------------------------------------------------------\n",
       "Intercept         0.0036      0.002      1.829      0.068      -0.000       0.008\n",
       "log_adj_ey_l1   -27.2244      0.714    -38.113      0.000     -28.628     -25.821\n",
       "log_adj_ey_ms    -0.0684      0.073     -0.934      0.351      -0.212       0.075\n",
       "==============================================================================\n",
       "Omnibus:                      221.041   Durbin-Watson:                   2.319\n",
       "Prob(Omnibus):                  0.000   Jarque-Bera (JB):             3086.057\n",
       "Skew:                           1.507   Prob(JB):                         0.00\n",
       "Kurtosis:                      14.692   Cond. No.                         928.\n",
       "==============================================================================\n",
       "\n",
       "Notes:\n",
       "[1] Standard Errors assume that the covariance matrix of the errors is correctly specified.\n",
       "\"\"\""
      ]
     },
     "execution_count": 355,
     "metadata": {},
     "output_type": "execute_result"
    }
   ],
   "source": [
    "model = smf.ols('log_return ~ log_adj_ey_l1 + log_adj_ey_ms', data=company_train).fit()\n",
    "model.summary()"
   ]
  },
  {
   "cell_type": "markdown",
   "metadata": {},
   "source": [
    "### Geração de Previsões"
   ]
  },
  {
   "cell_type": "code",
   "execution_count": 356,
   "metadata": {},
   "outputs": [],
   "source": [
    "company_test['predictions'] = model.predict(company_test)\n",
    "company_test['model_error'] = company_test['predictions'] - company_test['log_return']"
   ]
  },
  {
   "cell_type": "markdown",
   "metadata": {},
   "source": [
    "### Vizualização dos resíduos"
   ]
  },
  {
   "cell_type": "code",
   "execution_count": 357,
   "metadata": {},
   "outputs": [
    {
     "name": "stderr",
     "output_type": "stream",
     "text": [
      "/home/pedro/.local/lib/python3.10/site-packages/plotly/express/_core.py:1979: FutureWarning:\n",
      "\n",
      "When grouping with a length-1 list-like, you will need to pass a length-1 tuple to get_group in a future version of pandas. Pass `(name,)` instead of `name` to silence this warning.\n",
      "\n"
     ]
    },
    {
     "data": {
      "application/vnd.plotly.v1+json": {
       "config": {
        "plotlyServerURL": "https://plot.ly"
       },
       "data": [
        {
         "alignmentgroup": "True",
         "bingroup": "x",
         "hovertemplate": "variable=log_return<br>value=%{x}<br>count=%{y}<extra></extra>",
         "legendgroup": "log_return",
         "marker": {
          "color": "#636efa",
          "opacity": 0.5,
          "pattern": {
           "shape": ""
          }
         },
         "name": "log_return",
         "nbinsx": 128,
         "offsetgroup": "log_return",
         "orientation": "v",
         "showlegend": true,
         "type": "histogram",
         "x": [
          0.0021568356116296442,
          -0.006359796494653507,
          0.00007935599327458539,
          0.01734352121040314,
          -0.012878494484886342,
          0.026941074228920083,
          0.03483530368718445,
          -0.06279931833689631,
          0.015339144829454044,
          0.026682151272159654,
          -0.011639200948105681,
          0.018346101366466788,
          -0.0019795486558346815,
          0.004741948656472108,
          0.028234642452174854,
          -0.008033963138083385,
          -0.02301514044101661,
          0.027234599401343342,
          -0.035938830953016476,
          0.004877965649971413,
          0.03187696021338489,
          0.0034152046838412334,
          0.008589130580888131,
          0.023250435714314368,
          0.003351995139476754,
          0.034193759765219385,
          0.028313803078038456,
          -0.0027079131625806635,
          -0.04167989241075308,
          0.03184095213888296,
          -0.014536602727466003,
          -0.009196294274425613,
          0.006658349629112579,
          0.02982410772969674,
          -0.017495143627509542,
          0.010613003406486276,
          -0.030023924818331736,
          0.006390602080785892,
          0.02205546295899271,
          -0.019975404585577415,
          0.02412897270799293,
          0.014161720421938799,
          -0.00004319419555236146,
          0.03654843110755614,
          0.019708061580426508,
          0.005091598090674575,
          0.004345380011888289,
          -0.012047215429642431,
          -0.003097955797690412,
          -0.028490222532376725,
          0.0528086428301144,
          0.0002553439516944043,
          0.010547545230516039,
          0.064629380492037,
          -0.006086999157867447,
          -0.010076116972926359,
          0.0002660956156736979,
          0.04367073303677135,
          0.0028644277414188,
          0.028778961146748758,
          -0.03648979512157292,
          0.057749313492554355,
          -0.021206643701997027,
          -0.03856500910001168,
          0.02175091162400214,
          -0.04565076147647644,
          -0.021585506685999657,
          0.07652443073304509,
          -0.018672895845784174,
          -0.04289715635458869,
          -0.009609337035971678,
          -0.0698754647535158,
          0.006251145931975803,
          0.07220498607076893,
          -0.07045426998407497,
          -0.02086859010868834,
          -0.0029330466381336023,
          0.047748273534315565,
          0.01113106280670744,
          0.008141518862100334,
          0.0430849964046203,
          -0.020334389158627744,
          -0.010662113886370226,
          -0.013931151175417548,
          -0.005920419664816536,
          0.02385505866230277,
          -0.027999024471931394,
          -0.05926964033303469,
          0.02058364318832074,
          -0.033620871405217925,
          0.005598675141597747,
          0.01510918595168204,
          0.006516336715505488,
          -0.05220525293909523,
          0.01373954737860482,
          -0.03930053518474618,
          -0.032809444456311204,
          -0.037299014869720926,
          -0.03264338019555432,
          -0.00006957291590291456,
          -0.04589096786050017,
          0.019847545628933854,
          -0.037018164428106036,
          0.04001081426136359,
          0.06959447923137616,
          0.006187777611386034,
          0.024211226411095115,
          -0.05262437218398755,
          0.015412849781801232,
          0.016641518304340536,
          0.015274033885005412,
          0.061621139881769905,
          -0.03351663059989137,
          -0.07538500417816929,
          0.013208588382205549,
          0.08782181520385823,
          0.0005755452659223913,
          -0.0785620508512314,
          -0.0359249631761888,
          -0.010731624361109126,
          -0.04383142613780471,
          0.05899915374104976,
          0.017091265502132514,
          0.009797898271626535,
          0.0018373110341353678,
          -0.01729805437525808,
          0.0008203314992530215,
          -0.03104141158592513,
          -0.017575298772294714,
          -0.014567038123608546,
          -0.00868383719232693,
          -0.006846783587128081,
          0.013623019216322014,
          0.0020993612047184346,
          -0.03756360653367662,
          0.0015031686041334631,
          -0.010194117400400238,
          -0.029887273164260923,
          -0.02935102647287728,
          0.014337688306541032,
          0.014611664017605365,
          -0.007392413308937976,
          0.01321150701723973,
          0.014505192937857112,
          0.009479248739619155,
          0.029065568666985876,
          -0.028645439835915124,
          0.011960128168607165,
          0.014591635984575985,
          0.02373036731804918,
          -0.01073360165807652,
          0.011519616324044758,
          0.021782853199467267,
          0.002969313003483682,
          -0.03212783615636362,
          0.013854123579717596,
          -0.0479385926458085,
          -0.040449057195120416,
          -0.002254947248771786,
          -0.017111127996007943,
          0.037672080011029487,
          0.015880803342897966,
          -0.044113143453061186,
          -0.03539644250226963,
          0.004305324555520002,
          0.01617626393256136,
          -0.009292924933032312,
          0.0371879434613945,
          0.027524307938039252,
          0.033873641432259675,
          0.016434165243775837,
          0.004455372689240178,
          0.01337087629919786,
          0.008051362538788296,
          0.02907276339084157,
          0.005882083531237202,
          0.021066323743288453,
          -0.01557010251194258,
          0.012029817042684425,
          -0.003680659907590939,
          0.022274529016127812,
          -0.009265926036413482,
          -0.024891440924587754,
          -0.01947588517082553,
          0.009697870840813043,
          -0.008751116056842595,
          0.006639586845247961,
          -0.02886948420007319,
          -0.00011819043796235436,
          -0.02720530024255088,
          0.02303033528252171,
          -0.023080419087531997,
          0.023730956170588898,
          0.019345243692598855,
          -0.018679055911424814,
          0.02185843599438836,
          0.008991040846291506,
          0.005425109893135023,
          0.011112362288894671,
          0.023996424763469117,
          -0.009498919896382097,
          -0.03055988591313381,
          0.018107786726682954,
          -0.0032742904284394237,
          0.009154065657490934,
          0.002808943338007171,
          0.0021215042102173173,
          -0.000008641504124607567,
          -0.02772881743950241,
          -0.012504414505011486,
          0.008965753707230179,
          0.022655139864644232,
          0.06228419084416623,
          0.016832516807207144,
          0.022519427971902903,
          0.0086410811160328,
          -0.0020363311485630097,
          0.030107995294865582,
          -0.005864031988665204,
          0.018638972871108578,
          0.04088999792111404,
          0.002744470689085583,
          0.0036670425039497163,
          0.02455913177127909,
          0.004144145494801402,
          -0.009560419611054825,
          0.023238669950854288,
          0.004930383053342382,
          -0.020060921579326447,
          0.02407352034339136,
          0.04851781960767669,
          0.04683540686075777,
          -0.01612653495338694,
          0.027122434663944102,
          -0.0065482067040011855,
          0.03515917700866579,
          0.001583381376384225,
          -0.0016606006537759547,
          0.024265876315384717,
          -0.016937920354586525,
          -0.0006282076766907864,
          -0.04450185331561156,
          -0.02892188785282187,
          0.15186758619361287,
          0.003543257532475482,
          0.0034820923178206695,
          -0.0049495947179552455,
          -0.007877813590850435
         ],
         "xaxis": "x",
         "yaxis": "y"
        },
        {
         "alignmentgroup": "True",
         "bingroup": "x",
         "hovertemplate": "variable=model_error<br>value=%{x}<br>count=%{y}<extra></extra>",
         "legendgroup": "model_error",
         "marker": {
          "color": "#EF553B",
          "opacity": 0.5,
          "pattern": {
           "shape": ""
          }
         },
         "name": "model_error",
         "nbinsx": 128,
         "offsetgroup": "model_error",
         "orientation": "v",
         "showlegend": true,
         "type": "histogram",
         "x": [
          0.0013092098577896037,
          0.006348271712233607,
          0.0025350276624482864,
          -0.007710292401694612,
          0.010253657869248117,
          -0.013500542120189571,
          -0.01860762180681444,
          0.04056135806671896,
          -0.006532284458509119,
          -0.01348061053608482,
          0.00967698284216931,
          -0.00851910471966992,
          0.0038419628302112235,
          -0.0002633814218162755,
          -0.01478139851637027,
          0.007650863049049822,
          0.016807524963135555,
          -0.014133077441839849,
          0.024726780418483467,
          -0.0003404923209222258,
          -0.01697660643593693,
          0.0005378129179215993,
          -0.0026949452179286784,
          -0.011971115479912451,
          0.0005667350623008377,
          -0.019232794322232676,
          -0.015739603884916575,
          0.004530685458156418,
          0.029800205785664044,
          -0.01789686371869297,
          0.01219497220556948,
          0.008671523806335898,
          -0.0015787396535101583,
          -0.01672015392134447,
          0.014197627308357033,
          -0.004192666876127943,
          0.022251789020798503,
          -0.001404975291528372,
          -0.011620574618312535,
          0.015746343999025206,
          -0.012993395573721835,
          -0.006570565407801456,
          0.0027897391978156053,
          -0.021598816795796394,
          -0.0105243073981929,
          -0.0006525861456242541,
          -0.0001478290151490213,
          0.011006137725625907,
          0.00490449086558198,
          0.021960165099352995,
          -0.03293436692160365,
          0.0026477776240063635,
          -0.00441684760315918,
          -0.04226569624794793,
          0.007180239747129004,
          0.009970119507351946,
          0.0026811553770920314,
          -0.028095268571944672,
          0.0008502089439241921,
          -0.018001415012782684,
          0.02942820418616133,
          -0.0391710824423077,
          0.018512265848560867,
          0.030924297589632534,
          -0.012820741943997065,
          0.035799381200631905,
          0.01823498329986622,
          -0.05208738414170447,
          0.016497019800783254,
          0.03371472502197094,
          0.009718137945957469,
          0.05171045869414618,
          -0.0014765860658901156,
          -0.047775928866500214,
          0.052294393222838624,
          0.017184512418730022,
          0.004827096255243576,
          -0.03015962599868132,
          -0.004930851638275036,
          -0.0028542417025983428,
          -0.027713453829802774,
          0.01740290601256192,
          0.010443557447382406,
          0.012702824113472292,
          0.0070267474448707495,
          -0.013949100611155651,
          0.022600376878551348,
          0.04382637799848955,
          -0.011288688202154496,
          0.025801560291931334,
          -0.0009948636446258626,
          -0.0074953256323268495,
          -0.0016445379079522851,
          0.038233674249106106,
          -0.006449034118455822,
          0.029044867531937107,
          0.024282010631643786,
          0.02674610612872906,
          0.023307628464293715,
          0.00271526987933173,
          0.03096958074236481,
          -0.009513273926272952,
          0.02516842995264233,
          -0.021754598488382345,
          -0.04115899005316178,
          -0.0012652278714152462,
          -0.012979960212737352,
          0.03660311188242882,
          -0.007122039991978392,
          -0.007985344075758622,
          -0.0071770188684896746,
          -0.038009167680125605,
          0.02510901567925873,
          0.05156672374543265,
          -0.0057131398976379465,
          -0.05473693733239658,
          0.00239751562664243,
          0.054310586477360714,
          0.025561791729043562,
          0.00941647228073534,
          0.029729950920053937,
          -0.033957176640974654,
          -0.008152281117232709,
          -0.004636098022566697,
          0.0016365080022405388,
          0.01670343606832021,
          0.0024332187197187885,
          0.027358128188715497,
          0.016714851266496265,
          0.014315766196896416,
          0.009735237151548467,
          0.008302356260451562,
          -0.007451225626695517,
          0.0014222523364650435,
          0.031868922289514476,
          0.0018738826238237228,
          0.010791798254074732,
          0.025652696391129493,
          0.025016274593756313,
          -0.0077498306371058786,
          -0.007998169442279794,
          0.008562447641694355,
          -0.0069619888460140415,
          -0.007977384108141954,
          -0.004191825787977076,
          -0.0191985317153721,
          0.024927297668154914,
          -0.006102232867701316,
          -0.008146631139597332,
          -0.015238242034613951,
          0.011324914019439374,
          -0.005847834416843269,
          -0.013840409293492156,
          0.0007480331744073366,
          0.02794930929501545,
          -0.00766306302776752,
          0.03990313746949837,
          0.0336990041687263,
          0.004695700702914267,
          0.015844268891692916,
          -0.025397186456413704,
          -0.009059041894771771,
          0.03638822059004284,
          0.029421254979468923,
          -0.0002294190137245725,
          -0.009086042624124347,
          0.00991630675655119,
          -0.024904405867823335,
          -0.01785372970362633,
          -0.02289329134674073,
          -0.00962965663728722,
          -0.0003990214719772015,
          -0.007315192473080986,
          -0.0032039971685358486,
          -0.01965964534316087,
          -0.0015431326901842457,
          -0.01352308307004393,
          0.015369476379295713,
          -0.006401173534287097,
          0.005992785182615142,
          -0.014535049049315431,
          -0.17607542638825074,
          0.01761417046157796,
          0.014157136668696299,
          -0.0031548311167028924,
          0.0077678905052471405,
          -0.0013435725353290419,
          0.019525455225687452,
          0.0026271920678351385,
          0.018203021538110542,
          -0.010694258676233304,
          0.01580624589097413,
          -0.011099572464022983,
          -0.008728329772621037,
          0.01347198889027968,
          -0.010210632791517979,
          -0.0027292927390757593,
          -0.000630777907459917,
          -0.0040356389351009925,
          -0.011875723257739149,
          0.008386829799483377,
          0.020905430125746808,
          -0.008203000800748454,
          0.004567177483093585,
          -0.002889760508878296,
          0.0009201050849633389,
          0.0013349623597424588,
          0.002622301089036992,
          0.01920720445837936,
          0.009970115048731635,
          -0.0027095108766473546,
          -0.010914480990401678,
          -0.035534602499091336,
          -0.007889780397822609,
          -0.011602635147041717,
          -0.0028251643167650376,
          0.0040188836576908055,
          -0.016742182164394902,
          0.006551719990625142,
          -0.009429751986266803,
          -0.024343967477630506,
          0.0009455080232582225,
          0.0003260118426142056,
          -0.013798074858055601,
          -0.000008866434486894115,
          0.009305002979530392,
          -0.013027164767329551,
          -0.0005574354740026698,
          0.016535173095720605,
          -0.013653767637031763,
          -0.03089268227290578,
          -0.03034413410369025,
          0.014408138134137737,
          -0.01650443501250893,
          0.007610699874954817,
          -0.02247719382865001,
          0.001778198293278483,
          0.004137442148233551,
          -0.01478397286130492,
          0.0153262349700348,
          0.0033918795507026423,
          0.03508375554757885,
          0.02350053127644741,
          -0.10781924555437869,
          0.0003303508241602484,
          0.0003753726711997981,
          0.006701403495941486,
          0.008184952529980463
         ],
         "xaxis": "x",
         "yaxis": "y"
        }
       ],
       "layout": {
        "barmode": "overlay",
        "height": 720,
        "legend": {
         "title": {
          "text": "variable"
         },
         "tracegroupgap": 0
        },
        "margin": {
         "t": 60
        },
        "template": {
         "data": {
          "bar": [
           {
            "error_x": {
             "color": "#2a3f5f"
            },
            "error_y": {
             "color": "#2a3f5f"
            },
            "marker": {
             "line": {
              "color": "#E5ECF6",
              "width": 0.5
             },
             "pattern": {
              "fillmode": "overlay",
              "size": 10,
              "solidity": 0.2
             }
            },
            "type": "bar"
           }
          ],
          "barpolar": [
           {
            "marker": {
             "line": {
              "color": "#E5ECF6",
              "width": 0.5
             },
             "pattern": {
              "fillmode": "overlay",
              "size": 10,
              "solidity": 0.2
             }
            },
            "type": "barpolar"
           }
          ],
          "carpet": [
           {
            "aaxis": {
             "endlinecolor": "#2a3f5f",
             "gridcolor": "white",
             "linecolor": "white",
             "minorgridcolor": "white",
             "startlinecolor": "#2a3f5f"
            },
            "baxis": {
             "endlinecolor": "#2a3f5f",
             "gridcolor": "white",
             "linecolor": "white",
             "minorgridcolor": "white",
             "startlinecolor": "#2a3f5f"
            },
            "type": "carpet"
           }
          ],
          "choropleth": [
           {
            "colorbar": {
             "outlinewidth": 0,
             "ticks": ""
            },
            "type": "choropleth"
           }
          ],
          "contour": [
           {
            "colorbar": {
             "outlinewidth": 0,
             "ticks": ""
            },
            "colorscale": [
             [
              0,
              "#0d0887"
             ],
             [
              0.1111111111111111,
              "#46039f"
             ],
             [
              0.2222222222222222,
              "#7201a8"
             ],
             [
              0.3333333333333333,
              "#9c179e"
             ],
             [
              0.4444444444444444,
              "#bd3786"
             ],
             [
              0.5555555555555556,
              "#d8576b"
             ],
             [
              0.6666666666666666,
              "#ed7953"
             ],
             [
              0.7777777777777778,
              "#fb9f3a"
             ],
             [
              0.8888888888888888,
              "#fdca26"
             ],
             [
              1,
              "#f0f921"
             ]
            ],
            "type": "contour"
           }
          ],
          "contourcarpet": [
           {
            "colorbar": {
             "outlinewidth": 0,
             "ticks": ""
            },
            "type": "contourcarpet"
           }
          ],
          "heatmap": [
           {
            "colorbar": {
             "outlinewidth": 0,
             "ticks": ""
            },
            "colorscale": [
             [
              0,
              "#0d0887"
             ],
             [
              0.1111111111111111,
              "#46039f"
             ],
             [
              0.2222222222222222,
              "#7201a8"
             ],
             [
              0.3333333333333333,
              "#9c179e"
             ],
             [
              0.4444444444444444,
              "#bd3786"
             ],
             [
              0.5555555555555556,
              "#d8576b"
             ],
             [
              0.6666666666666666,
              "#ed7953"
             ],
             [
              0.7777777777777778,
              "#fb9f3a"
             ],
             [
              0.8888888888888888,
              "#fdca26"
             ],
             [
              1,
              "#f0f921"
             ]
            ],
            "type": "heatmap"
           }
          ],
          "heatmapgl": [
           {
            "colorbar": {
             "outlinewidth": 0,
             "ticks": ""
            },
            "colorscale": [
             [
              0,
              "#0d0887"
             ],
             [
              0.1111111111111111,
              "#46039f"
             ],
             [
              0.2222222222222222,
              "#7201a8"
             ],
             [
              0.3333333333333333,
              "#9c179e"
             ],
             [
              0.4444444444444444,
              "#bd3786"
             ],
             [
              0.5555555555555556,
              "#d8576b"
             ],
             [
              0.6666666666666666,
              "#ed7953"
             ],
             [
              0.7777777777777778,
              "#fb9f3a"
             ],
             [
              0.8888888888888888,
              "#fdca26"
             ],
             [
              1,
              "#f0f921"
             ]
            ],
            "type": "heatmapgl"
           }
          ],
          "histogram": [
           {
            "marker": {
             "pattern": {
              "fillmode": "overlay",
              "size": 10,
              "solidity": 0.2
             }
            },
            "type": "histogram"
           }
          ],
          "histogram2d": [
           {
            "colorbar": {
             "outlinewidth": 0,
             "ticks": ""
            },
            "colorscale": [
             [
              0,
              "#0d0887"
             ],
             [
              0.1111111111111111,
              "#46039f"
             ],
             [
              0.2222222222222222,
              "#7201a8"
             ],
             [
              0.3333333333333333,
              "#9c179e"
             ],
             [
              0.4444444444444444,
              "#bd3786"
             ],
             [
              0.5555555555555556,
              "#d8576b"
             ],
             [
              0.6666666666666666,
              "#ed7953"
             ],
             [
              0.7777777777777778,
              "#fb9f3a"
             ],
             [
              0.8888888888888888,
              "#fdca26"
             ],
             [
              1,
              "#f0f921"
             ]
            ],
            "type": "histogram2d"
           }
          ],
          "histogram2dcontour": [
           {
            "colorbar": {
             "outlinewidth": 0,
             "ticks": ""
            },
            "colorscale": [
             [
              0,
              "#0d0887"
             ],
             [
              0.1111111111111111,
              "#46039f"
             ],
             [
              0.2222222222222222,
              "#7201a8"
             ],
             [
              0.3333333333333333,
              "#9c179e"
             ],
             [
              0.4444444444444444,
              "#bd3786"
             ],
             [
              0.5555555555555556,
              "#d8576b"
             ],
             [
              0.6666666666666666,
              "#ed7953"
             ],
             [
              0.7777777777777778,
              "#fb9f3a"
             ],
             [
              0.8888888888888888,
              "#fdca26"
             ],
             [
              1,
              "#f0f921"
             ]
            ],
            "type": "histogram2dcontour"
           }
          ],
          "mesh3d": [
           {
            "colorbar": {
             "outlinewidth": 0,
             "ticks": ""
            },
            "type": "mesh3d"
           }
          ],
          "parcoords": [
           {
            "line": {
             "colorbar": {
              "outlinewidth": 0,
              "ticks": ""
             }
            },
            "type": "parcoords"
           }
          ],
          "pie": [
           {
            "automargin": true,
            "type": "pie"
           }
          ],
          "scatter": [
           {
            "fillpattern": {
             "fillmode": "overlay",
             "size": 10,
             "solidity": 0.2
            },
            "type": "scatter"
           }
          ],
          "scatter3d": [
           {
            "line": {
             "colorbar": {
              "outlinewidth": 0,
              "ticks": ""
             }
            },
            "marker": {
             "colorbar": {
              "outlinewidth": 0,
              "ticks": ""
             }
            },
            "type": "scatter3d"
           }
          ],
          "scattercarpet": [
           {
            "marker": {
             "colorbar": {
              "outlinewidth": 0,
              "ticks": ""
             }
            },
            "type": "scattercarpet"
           }
          ],
          "scattergeo": [
           {
            "marker": {
             "colorbar": {
              "outlinewidth": 0,
              "ticks": ""
             }
            },
            "type": "scattergeo"
           }
          ],
          "scattergl": [
           {
            "marker": {
             "colorbar": {
              "outlinewidth": 0,
              "ticks": ""
             }
            },
            "type": "scattergl"
           }
          ],
          "scattermapbox": [
           {
            "marker": {
             "colorbar": {
              "outlinewidth": 0,
              "ticks": ""
             }
            },
            "type": "scattermapbox"
           }
          ],
          "scatterpolar": [
           {
            "marker": {
             "colorbar": {
              "outlinewidth": 0,
              "ticks": ""
             }
            },
            "type": "scatterpolar"
           }
          ],
          "scatterpolargl": [
           {
            "marker": {
             "colorbar": {
              "outlinewidth": 0,
              "ticks": ""
             }
            },
            "type": "scatterpolargl"
           }
          ],
          "scatterternary": [
           {
            "marker": {
             "colorbar": {
              "outlinewidth": 0,
              "ticks": ""
             }
            },
            "type": "scatterternary"
           }
          ],
          "surface": [
           {
            "colorbar": {
             "outlinewidth": 0,
             "ticks": ""
            },
            "colorscale": [
             [
              0,
              "#0d0887"
             ],
             [
              0.1111111111111111,
              "#46039f"
             ],
             [
              0.2222222222222222,
              "#7201a8"
             ],
             [
              0.3333333333333333,
              "#9c179e"
             ],
             [
              0.4444444444444444,
              "#bd3786"
             ],
             [
              0.5555555555555556,
              "#d8576b"
             ],
             [
              0.6666666666666666,
              "#ed7953"
             ],
             [
              0.7777777777777778,
              "#fb9f3a"
             ],
             [
              0.8888888888888888,
              "#fdca26"
             ],
             [
              1,
              "#f0f921"
             ]
            ],
            "type": "surface"
           }
          ],
          "table": [
           {
            "cells": {
             "fill": {
              "color": "#EBF0F8"
             },
             "line": {
              "color": "white"
             }
            },
            "header": {
             "fill": {
              "color": "#C8D4E3"
             },
             "line": {
              "color": "white"
             }
            },
            "type": "table"
           }
          ]
         },
         "layout": {
          "annotationdefaults": {
           "arrowcolor": "#2a3f5f",
           "arrowhead": 0,
           "arrowwidth": 1
          },
          "autotypenumbers": "strict",
          "coloraxis": {
           "colorbar": {
            "outlinewidth": 0,
            "ticks": ""
           }
          },
          "colorscale": {
           "diverging": [
            [
             0,
             "#8e0152"
            ],
            [
             0.1,
             "#c51b7d"
            ],
            [
             0.2,
             "#de77ae"
            ],
            [
             0.3,
             "#f1b6da"
            ],
            [
             0.4,
             "#fde0ef"
            ],
            [
             0.5,
             "#f7f7f7"
            ],
            [
             0.6,
             "#e6f5d0"
            ],
            [
             0.7,
             "#b8e186"
            ],
            [
             0.8,
             "#7fbc41"
            ],
            [
             0.9,
             "#4d9221"
            ],
            [
             1,
             "#276419"
            ]
           ],
           "sequential": [
            [
             0,
             "#0d0887"
            ],
            [
             0.1111111111111111,
             "#46039f"
            ],
            [
             0.2222222222222222,
             "#7201a8"
            ],
            [
             0.3333333333333333,
             "#9c179e"
            ],
            [
             0.4444444444444444,
             "#bd3786"
            ],
            [
             0.5555555555555556,
             "#d8576b"
            ],
            [
             0.6666666666666666,
             "#ed7953"
            ],
            [
             0.7777777777777778,
             "#fb9f3a"
            ],
            [
             0.8888888888888888,
             "#fdca26"
            ],
            [
             1,
             "#f0f921"
            ]
           ],
           "sequentialminus": [
            [
             0,
             "#0d0887"
            ],
            [
             0.1111111111111111,
             "#46039f"
            ],
            [
             0.2222222222222222,
             "#7201a8"
            ],
            [
             0.3333333333333333,
             "#9c179e"
            ],
            [
             0.4444444444444444,
             "#bd3786"
            ],
            [
             0.5555555555555556,
             "#d8576b"
            ],
            [
             0.6666666666666666,
             "#ed7953"
            ],
            [
             0.7777777777777778,
             "#fb9f3a"
            ],
            [
             0.8888888888888888,
             "#fdca26"
            ],
            [
             1,
             "#f0f921"
            ]
           ]
          },
          "colorway": [
           "#636efa",
           "#EF553B",
           "#00cc96",
           "#ab63fa",
           "#FFA15A",
           "#19d3f3",
           "#FF6692",
           "#B6E880",
           "#FF97FF",
           "#FECB52"
          ],
          "font": {
           "color": "#2a3f5f"
          },
          "geo": {
           "bgcolor": "white",
           "lakecolor": "white",
           "landcolor": "#E5ECF6",
           "showlakes": true,
           "showland": true,
           "subunitcolor": "white"
          },
          "hoverlabel": {
           "align": "left"
          },
          "hovermode": "closest",
          "mapbox": {
           "style": "light"
          },
          "paper_bgcolor": "white",
          "plot_bgcolor": "#E5ECF6",
          "polar": {
           "angularaxis": {
            "gridcolor": "white",
            "linecolor": "white",
            "ticks": ""
           },
           "bgcolor": "#E5ECF6",
           "radialaxis": {
            "gridcolor": "white",
            "linecolor": "white",
            "ticks": ""
           }
          },
          "scene": {
           "xaxis": {
            "backgroundcolor": "#E5ECF6",
            "gridcolor": "white",
            "gridwidth": 2,
            "linecolor": "white",
            "showbackground": true,
            "ticks": "",
            "zerolinecolor": "white"
           },
           "yaxis": {
            "backgroundcolor": "#E5ECF6",
            "gridcolor": "white",
            "gridwidth": 2,
            "linecolor": "white",
            "showbackground": true,
            "ticks": "",
            "zerolinecolor": "white"
           },
           "zaxis": {
            "backgroundcolor": "#E5ECF6",
            "gridcolor": "white",
            "gridwidth": 2,
            "linecolor": "white",
            "showbackground": true,
            "ticks": "",
            "zerolinecolor": "white"
           }
          },
          "shapedefaults": {
           "line": {
            "color": "#2a3f5f"
           }
          },
          "ternary": {
           "aaxis": {
            "gridcolor": "white",
            "linecolor": "white",
            "ticks": ""
           },
           "baxis": {
            "gridcolor": "white",
            "linecolor": "white",
            "ticks": ""
           },
           "bgcolor": "#E5ECF6",
           "caxis": {
            "gridcolor": "white",
            "linecolor": "white",
            "ticks": ""
           }
          },
          "title": {
           "x": 0.05
          },
          "xaxis": {
           "automargin": true,
           "gridcolor": "white",
           "linecolor": "white",
           "ticks": "",
           "title": {
            "standoff": 15
           },
           "zerolinecolor": "white",
           "zerolinewidth": 2
          },
          "yaxis": {
           "automargin": true,
           "gridcolor": "white",
           "linecolor": "white",
           "ticks": "",
           "title": {
            "standoff": 15
           },
           "zerolinecolor": "white",
           "zerolinewidth": 2
          }
         }
        },
        "width": 1280,
        "xaxis": {
         "anchor": "y",
         "domain": [
          0,
          1
         ],
         "title": {
          "text": "value"
         }
        },
        "yaxis": {
         "anchor": "x",
         "domain": [
          0,
          1
         ],
         "title": {
          "text": "count"
         }
        }
       }
      }
     },
     "metadata": {},
     "output_type": "display_data"
    }
   ],
   "source": [
    "plx.histogram(\n",
    "    data_frame=company_test[['log_return', 'model_error']].melt(),\n",
    "    x='value',\n",
    "    color='variable',\n",
    "    barmode='overlay',\n",
    "    nbins=128,\n",
    "    height=720,\n",
    "    width=1280,\n",
    ")"
   ]
  },
  {
   "cell_type": "markdown",
   "metadata": {},
   "source": [
    "### R-quadrado do modelo"
   ]
  },
  {
   "cell_type": "code",
   "execution_count": 358,
   "metadata": {},
   "outputs": [],
   "source": [
    "from sklearn.metrics import r2_score"
   ]
  },
  {
   "cell_type": "code",
   "execution_count": 359,
   "metadata": {},
   "outputs": [
    {
     "data": {
      "text/plain": [
       "0.38222280393329644"
      ]
     },
     "execution_count": 359,
     "metadata": {},
     "output_type": "execute_result"
    }
   ],
   "source": [
    "r2_score(company_test.log_return, company_test.predictions)"
   ]
  },
  {
   "cell_type": "code",
   "execution_count": 360,
   "metadata": {},
   "outputs": [
    {
     "data": {
      "text/html": [
       "<div>\n",
       "<style scoped>\n",
       "    .dataframe tbody tr th:only-of-type {\n",
       "        vertical-align: middle;\n",
       "    }\n",
       "\n",
       "    .dataframe tbody tr th {\n",
       "        vertical-align: top;\n",
       "    }\n",
       "\n",
       "    .dataframe thead th {\n",
       "        text-align: right;\n",
       "    }\n",
       "</style>\n",
       "<table border=\"1\" class=\"dataframe\">\n",
       "  <thead>\n",
       "    <tr style=\"text-align: right;\">\n",
       "      <th></th>\n",
       "      <th>log_return</th>\n",
       "      <th>model_error</th>\n",
       "    </tr>\n",
       "    <tr>\n",
       "      <th>date</th>\n",
       "      <th></th>\n",
       "      <th></th>\n",
       "    </tr>\n",
       "  </thead>\n",
       "  <tbody>\n",
       "    <tr>\n",
       "      <th>2020-06-02</th>\n",
       "      <td>0.002157</td>\n",
       "      <td>0.001309</td>\n",
       "    </tr>\n",
       "    <tr>\n",
       "      <th>2020-06-03</th>\n",
       "      <td>-0.006360</td>\n",
       "      <td>0.006348</td>\n",
       "    </tr>\n",
       "    <tr>\n",
       "      <th>2020-06-04</th>\n",
       "      <td>0.000079</td>\n",
       "      <td>0.002535</td>\n",
       "    </tr>\n",
       "    <tr>\n",
       "      <th>2020-06-05</th>\n",
       "      <td>0.017344</td>\n",
       "      <td>-0.007710</td>\n",
       "    </tr>\n",
       "    <tr>\n",
       "      <th>2020-06-08</th>\n",
       "      <td>-0.012878</td>\n",
       "      <td>0.010254</td>\n",
       "    </tr>\n",
       "    <tr>\n",
       "      <th>...</th>\n",
       "      <td>...</td>\n",
       "      <td>...</td>\n",
       "    </tr>\n",
       "    <tr>\n",
       "      <th>2024-02-22</th>\n",
       "      <td>0.151868</td>\n",
       "      <td>-0.107819</td>\n",
       "    </tr>\n",
       "    <tr>\n",
       "      <th>2024-02-23</th>\n",
       "      <td>0.003543</td>\n",
       "      <td>0.000330</td>\n",
       "    </tr>\n",
       "    <tr>\n",
       "      <th>2024-02-26</th>\n",
       "      <td>0.003482</td>\n",
       "      <td>0.000375</td>\n",
       "    </tr>\n",
       "    <tr>\n",
       "      <th>2024-02-27</th>\n",
       "      <td>-0.004950</td>\n",
       "      <td>0.006701</td>\n",
       "    </tr>\n",
       "    <tr>\n",
       "      <th>2024-05-31</th>\n",
       "      <td>-0.007878</td>\n",
       "      <td>0.008185</td>\n",
       "    </tr>\n",
       "  </tbody>\n",
       "</table>\n",
       "<p>248 rows × 2 columns</p>\n",
       "</div>"
      ],
      "text/plain": [
       "            log_return  model_error\n",
       "date                               \n",
       "2020-06-02    0.002157     0.001309\n",
       "2020-06-03   -0.006360     0.006348\n",
       "2020-06-04    0.000079     0.002535\n",
       "2020-06-05    0.017344    -0.007710\n",
       "2020-06-08   -0.012878     0.010254\n",
       "...                ...          ...\n",
       "2024-02-22    0.151868    -0.107819\n",
       "2024-02-23    0.003543     0.000330\n",
       "2024-02-26    0.003482     0.000375\n",
       "2024-02-27   -0.004950     0.006701\n",
       "2024-05-31   -0.007878     0.008185\n",
       "\n",
       "[248 rows x 2 columns]"
      ]
     },
     "execution_count": 360,
     "metadata": {},
     "output_type": "execute_result"
    }
   ],
   "source": [
    "qq_data = company_test[['log_return', 'model_error']]\n",
    "qq_data"
   ]
  },
  {
   "cell_type": "markdown",
   "metadata": {},
   "source": [
    "### Quantile-Quantile Plot"
   ]
  },
  {
   "cell_type": "code",
   "execution_count": 361,
   "metadata": {},
   "outputs": [
    {
     "data": {
      "text/plain": [
       "array([<Axes: title={'center': 'Log of Returns'}, xlabel='Theoretical Quantiles', ylabel='Sample Quantiles'>,\n",
       "       <Axes: title={'center': 'Model Error'}, xlabel='Theoretical Quantiles', ylabel='Sample Quantiles'>],\n",
       "      dtype=object)"
      ]
     },
     "execution_count": 361,
     "metadata": {},
     "output_type": "execute_result"
    },
    {
     "data": {
      "image/png": "[encoded data removed]",
      "text/plain": [
       "<Figure size 1400x400 with 2 Axes>"
      ]
     },
     "metadata": {},
     "output_type": "display_data"
    }
   ],
   "source": [
    "\n",
    "fig, ax = plt.subplots(figsize = (14,4), ncols=2)\n",
    "\n",
    "sm.qqplot(qq_data['log_return'], line='s',ax = ax[0])\n",
    "sm.qqplot(qq_data['model_error'], line='s',ax = ax[1])\n",
    "\n",
    "ax[0].set_title('Log of Returns')\n",
    "ax[1].set_title('Model Error')\n",
    "\n",
    "ax"
   ]
  },
  {
   "cell_type": "markdown",
   "metadata": {},
   "source": [
    "Observe que a distribuição dos erros é parecida com a normal entre -2 e 2 desvios padrão, apenas. Portanto, não podemos presumir a normalidade da distribuição dos erros"
   ]
  },
  {
   "cell_type": "markdown",
   "metadata": {},
   "source": [
    "### Simulação"
   ]
  },
  {
   "cell_type": "code",
   "execution_count": 362,
   "metadata": {},
   "outputs": [
    {
     "data": {
      "text/plain": [
       "1.0005306889783228"
      ]
     },
     "execution_count": 362,
     "metadata": {},
     "output_type": "execute_result"
    }
   ],
   "source": [
    "np.exp(company_test.model_error.mean())"
   ]
  },
  {
   "cell_type": "code",
   "execution_count": 363,
   "metadata": {},
   "outputs": [],
   "source": [
    "model_return = ((company_test.predictions > 0).astype(int) * company_test.log_return).cumsum()\n",
    "buy_hold_return = company_test.log_return.cumsum()\n",
    "simulation = pd.DataFrame({\n",
    "    'model_return': model_return,\n",
    "    'buy_hold_return': buy_hold_return,\n",
    "})"
   ]
  },
  {
   "cell_type": "code",
   "execution_count": 364,
   "metadata": {},
   "outputs": [
    {
     "data": {
      "text/html": [
       "<div>\n",
       "<style scoped>\n",
       "    .dataframe tbody tr th:only-of-type {\n",
       "        vertical-align: middle;\n",
       "    }\n",
       "\n",
       "    .dataframe tbody tr th {\n",
       "        vertical-align: top;\n",
       "    }\n",
       "\n",
       "    .dataframe thead th {\n",
       "        text-align: right;\n",
       "    }\n",
       "</style>\n",
       "<table border=\"1\" class=\"dataframe\">\n",
       "  <thead>\n",
       "    <tr style=\"text-align: right;\">\n",
       "      <th></th>\n",
       "      <th>model_return</th>\n",
       "      <th>buy_hold_return</th>\n",
       "    </tr>\n",
       "    <tr>\n",
       "      <th>date</th>\n",
       "      <th></th>\n",
       "      <th></th>\n",
       "    </tr>\n",
       "  </thead>\n",
       "  <tbody>\n",
       "    <tr>\n",
       "      <th>2020-06-02</th>\n",
       "      <td>0.002157</td>\n",
       "      <td>0.002157</td>\n",
       "    </tr>\n",
       "    <tr>\n",
       "      <th>2020-06-03</th>\n",
       "      <td>0.002157</td>\n",
       "      <td>-0.004203</td>\n",
       "    </tr>\n",
       "    <tr>\n",
       "      <th>2020-06-04</th>\n",
       "      <td>0.002236</td>\n",
       "      <td>-0.004124</td>\n",
       "    </tr>\n",
       "    <tr>\n",
       "      <th>2020-06-05</th>\n",
       "      <td>0.019580</td>\n",
       "      <td>0.013220</td>\n",
       "    </tr>\n",
       "    <tr>\n",
       "      <th>2020-06-08</th>\n",
       "      <td>0.019580</td>\n",
       "      <td>0.000341</td>\n",
       "    </tr>\n",
       "    <tr>\n",
       "      <th>...</th>\n",
       "      <td>...</td>\n",
       "      <td>...</td>\n",
       "    </tr>\n",
       "    <tr>\n",
       "      <th>2024-02-22</th>\n",
       "      <td>2.890634</td>\n",
       "      <td>0.571367</td>\n",
       "    </tr>\n",
       "    <tr>\n",
       "      <th>2024-02-23</th>\n",
       "      <td>2.894177</td>\n",
       "      <td>0.574910</td>\n",
       "    </tr>\n",
       "    <tr>\n",
       "      <th>2024-02-26</th>\n",
       "      <td>2.897660</td>\n",
       "      <td>0.578392</td>\n",
       "    </tr>\n",
       "    <tr>\n",
       "      <th>2024-02-27</th>\n",
       "      <td>2.892710</td>\n",
       "      <td>0.573443</td>\n",
       "    </tr>\n",
       "    <tr>\n",
       "      <th>2024-05-31</th>\n",
       "      <td>2.884832</td>\n",
       "      <td>0.565565</td>\n",
       "    </tr>\n",
       "  </tbody>\n",
       "</table>\n",
       "<p>248 rows × 2 columns</p>\n",
       "</div>"
      ],
      "text/plain": [
       "            model_return  buy_hold_return\n",
       "date                                     \n",
       "2020-06-02      0.002157         0.002157\n",
       "2020-06-03      0.002157        -0.004203\n",
       "2020-06-04      0.002236        -0.004124\n",
       "2020-06-05      0.019580         0.013220\n",
       "2020-06-08      0.019580         0.000341\n",
       "...                  ...              ...\n",
       "2024-02-22      2.890634         0.571367\n",
       "2024-02-23      2.894177         0.574910\n",
       "2024-02-26      2.897660         0.578392\n",
       "2024-02-27      2.892710         0.573443\n",
       "2024-05-31      2.884832         0.565565\n",
       "\n",
       "[248 rows x 2 columns]"
      ]
     },
     "execution_count": 364,
     "metadata": {},
     "output_type": "execute_result"
    }
   ],
   "source": [
    "simulation"
   ]
  },
  {
   "cell_type": "code",
   "execution_count": 365,
   "metadata": {},
   "outputs": [],
   "source": [
    "simulation = np.exp(simulation)"
   ]
  },
  {
   "cell_type": "code",
   "execution_count": 367,
   "metadata": {},
   "outputs": [
    {
     "name": "stderr",
     "output_type": "stream",
     "text": [
      "/home/pedro/.local/lib/python3.10/site-packages/plotly/express/_core.py:1979: FutureWarning:\n",
      "\n",
      "When grouping with a length-1 list-like, you will need to pass a length-1 tuple to get_group in a future version of pandas. Pass `(name,)` instead of `name` to silence this warning.\n",
      "\n",
      "/home/pedro/.local/lib/python3.10/site-packages/_plotly_utils/basevalidators.py:106: FutureWarning:\n",
      "\n",
      "The behavior of DatetimeProperties.to_pydatetime is deprecated, in a future version this will return a Series containing python datetime objects instead of an ndarray. To retain the old behavior, call `np.array` on the result\n",
      "\n"
     ]
    },
    {
     "data": {
      "application/vnd.plotly.v1+json": {
       "config": {
        "plotlyServerURL": "https://plot.ly"
       },
       "data": [
        {
         "hovertemplate": "variable=model_return<br>date=%{x}<br>value=%{y}<extra></extra>",
         "legendgroup": "model_return",
         "line": {
          "color": "#636efa",
          "dash": "solid"
         },
         "marker": {
          "symbol": "circle"
         },
         "mode": "lines",
         "name": "model_return",
         "orientation": "v",
         "showlegend": true,
         "type": "scatter",
         "x": [
          "2020-06-02T00:00:00",
          "2020-06-03T00:00:00",
          "2020-06-04T00:00:00",
          "2020-06-05T00:00:00",
          "2020-06-08T00:00:00",
          "2020-06-09T00:00:00",
          "2020-06-10T00:00:00",
          "2020-06-11T00:00:00",
          "2020-06-12T00:00:00",
          "2020-06-15T00:00:00",
          "2020-06-16T00:00:00",
          "2020-06-17T00:00:00",
          "2020-06-18T00:00:00",
          "2020-06-19T00:00:00",
          "2020-06-22T00:00:00",
          "2020-06-23T00:00:00",
          "2020-06-24T00:00:00",
          "2020-06-25T00:00:00",
          "2020-06-26T00:00:00",
          "2020-06-29T00:00:00",
          "2020-06-30T00:00:00",
          "2020-07-01T00:00:00",
          "2020-07-02T00:00:00",
          "2020-07-06T00:00:00",
          "2020-07-07T00:00:00",
          "2020-07-08T00:00:00",
          "2020-07-09T00:00:00",
          "2020-07-10T00:00:00",
          "2020-07-13T00:00:00",
          "2020-07-14T00:00:00",
          "2020-07-15T00:00:00",
          "2020-07-16T00:00:00",
          "2020-07-17T00:00:00",
          "2020-07-20T00:00:00",
          "2020-07-21T00:00:00",
          "2020-07-22T00:00:00",
          "2020-07-23T00:00:00",
          "2020-07-24T00:00:00",
          "2020-07-27T00:00:00",
          "2020-07-28T00:00:00",
          "2020-07-29T00:00:00",
          "2020-07-30T00:00:00",
          "2020-07-31T00:00:00",
          "2020-08-03T00:00:00",
          "2020-08-04T00:00:00",
          "2020-08-05T00:00:00",
          "2020-08-06T00:00:00",
          "2020-08-07T00:00:00",
          "2020-08-10T00:00:00",
          "2020-08-11T00:00:00",
          "2020-08-12T00:00:00",
          "2020-08-13T00:00:00",
          "2020-08-14T00:00:00",
          "2020-08-17T00:00:00",
          "2020-08-18T00:00:00",
          "2020-08-19T00:00:00",
          "2020-08-20T00:00:00",
          "2020-08-21T00:00:00",
          "2020-08-24T00:00:00",
          "2021-11-24T00:00:00",
          "2021-11-26T00:00:00",
          "2021-11-29T00:00:00",
          "2021-11-30T00:00:00",
          "2021-12-01T00:00:00",
          "2021-12-02T00:00:00",
          "2021-12-03T00:00:00",
          "2021-12-06T00:00:00",
          "2021-12-07T00:00:00",
          "2021-12-08T00:00:00",
          "2021-12-09T00:00:00",
          "2021-12-10T00:00:00",
          "2021-12-13T00:00:00",
          "2021-12-14T00:00:00",
          "2021-12-15T00:00:00",
          "2021-12-16T00:00:00",
          "2021-12-17T00:00:00",
          "2021-12-20T00:00:00",
          "2021-12-21T00:00:00",
          "2021-12-22T00:00:00",
          "2021-12-23T00:00:00",
          "2021-12-27T00:00:00",
          "2021-12-28T00:00:00",
          "2021-12-29T00:00:00",
          "2021-12-30T00:00:00",
          "2021-12-31T00:00:00",
          "2022-01-03T00:00:00",
          "2022-01-04T00:00:00",
          "2022-01-05T00:00:00",
          "2022-01-06T00:00:00",
          "2022-01-07T00:00:00",
          "2022-01-10T00:00:00",
          "2022-01-11T00:00:00",
          "2022-01-12T00:00:00",
          "2022-01-13T00:00:00",
          "2022-01-14T00:00:00",
          "2022-01-18T00:00:00",
          "2022-01-19T00:00:00",
          "2022-01-20T00:00:00",
          "2022-01-21T00:00:00",
          "2022-01-24T00:00:00",
          "2022-01-25T00:00:00",
          "2022-01-26T00:00:00",
          "2022-01-27T00:00:00",
          "2022-01-28T00:00:00",
          "2022-01-31T00:00:00",
          "2022-02-01T00:00:00",
          "2022-02-02T00:00:00",
          "2022-02-03T00:00:00",
          "2022-02-04T00:00:00",
          "2022-02-07T00:00:00",
          "2022-02-08T00:00:00",
          "2022-02-09T00:00:00",
          "2022-02-10T00:00:00",
          "2022-02-11T00:00:00",
          "2022-02-14T00:00:00",
          "2022-02-15T00:00:00",
          "2022-02-16T00:00:00",
          "2022-02-17T00:00:00",
          "2022-02-18T00:00:00",
          "2022-02-22T00:00:00",
          "2022-02-23T00:00:00",
          "2022-02-24T00:00:00",
          "2022-02-25T00:00:00",
          "2023-08-30T00:00:00",
          "2023-08-31T00:00:00",
          "2023-09-01T00:00:00",
          "2023-09-05T00:00:00",
          "2023-09-06T00:00:00",
          "2023-09-07T00:00:00",
          "2023-09-08T00:00:00",
          "2023-09-11T00:00:00",
          "2023-09-12T00:00:00",
          "2023-09-13T00:00:00",
          "2023-09-14T00:00:00",
          "2023-09-15T00:00:00",
          "2023-09-18T00:00:00",
          "2023-09-19T00:00:00",
          "2023-09-20T00:00:00",
          "2023-09-21T00:00:00",
          "2023-09-22T00:00:00",
          "2023-09-25T00:00:00",
          "2023-09-26T00:00:00",
          "2023-09-27T00:00:00",
          "2023-09-28T00:00:00",
          "2023-09-29T00:00:00",
          "2023-10-02T00:00:00",
          "2023-10-03T00:00:00",
          "2023-10-04T00:00:00",
          "2023-10-05T00:00:00",
          "2023-10-06T00:00:00",
          "2023-10-09T00:00:00",
          "2023-10-10T00:00:00",
          "2023-10-11T00:00:00",
          "2023-10-12T00:00:00",
          "2023-10-13T00:00:00",
          "2023-10-16T00:00:00",
          "2023-10-17T00:00:00",
          "2023-10-18T00:00:00",
          "2023-10-19T00:00:00",
          "2023-10-20T00:00:00",
          "2023-10-23T00:00:00",
          "2023-10-24T00:00:00",
          "2023-10-25T00:00:00",
          "2023-10-26T00:00:00",
          "2023-10-27T00:00:00",
          "2023-10-30T00:00:00",
          "2023-10-31T00:00:00",
          "2023-11-01T00:00:00",
          "2023-11-02T00:00:00",
          "2023-11-03T00:00:00",
          "2023-11-06T00:00:00",
          "2023-11-07T00:00:00",
          "2023-11-08T00:00:00",
          "2023-11-09T00:00:00",
          "2023-11-10T00:00:00",
          "2023-11-13T00:00:00",
          "2023-11-14T00:00:00",
          "2023-11-15T00:00:00",
          "2023-11-16T00:00:00",
          "2023-11-17T00:00:00",
          "2023-11-20T00:00:00",
          "2023-11-21T00:00:00",
          "2023-11-22T00:00:00",
          "2023-11-24T00:00:00",
          "2023-11-27T00:00:00",
          "2023-11-28T00:00:00",
          "2023-11-29T00:00:00",
          "2023-11-30T00:00:00",
          "2023-12-01T00:00:00",
          "2023-12-04T00:00:00",
          "2023-12-05T00:00:00",
          "2023-12-06T00:00:00",
          "2023-12-07T00:00:00",
          "2023-12-08T00:00:00",
          "2023-12-11T00:00:00",
          "2023-12-12T00:00:00",
          "2023-12-13T00:00:00",
          "2023-12-14T00:00:00",
          "2023-12-15T00:00:00",
          "2023-12-18T00:00:00",
          "2023-12-19T00:00:00",
          "2023-12-20T00:00:00",
          "2023-12-21T00:00:00",
          "2023-12-22T00:00:00",
          "2023-12-26T00:00:00",
          "2023-12-27T00:00:00",
          "2023-12-28T00:00:00",
          "2023-12-29T00:00:00",
          "2024-01-02T00:00:00",
          "2024-01-03T00:00:00",
          "2024-01-04T00:00:00",
          "2024-01-05T00:00:00",
          "2024-01-08T00:00:00",
          "2024-01-09T00:00:00",
          "2024-01-10T00:00:00",
          "2024-01-11T00:00:00",
          "2024-01-12T00:00:00",
          "2024-01-16T00:00:00",
          "2024-01-17T00:00:00",
          "2024-01-18T00:00:00",
          "2024-01-19T00:00:00",
          "2024-01-22T00:00:00",
          "2024-01-23T00:00:00",
          "2024-01-24T00:00:00",
          "2024-01-25T00:00:00",
          "2024-01-26T00:00:00",
          "2024-01-29T00:00:00",
          "2024-01-30T00:00:00",
          "2024-01-31T00:00:00",
          "2024-02-01T00:00:00",
          "2024-02-02T00:00:00",
          "2024-02-05T00:00:00",
          "2024-02-06T00:00:00",
          "2024-02-07T00:00:00",
          "2024-02-08T00:00:00",
          "2024-02-09T00:00:00",
          "2024-02-12T00:00:00",
          "2024-02-13T00:00:00",
          "2024-02-14T00:00:00",
          "2024-02-15T00:00:00",
          "2024-02-16T00:00:00",
          "2024-02-20T00:00:00",
          "2024-02-21T00:00:00",
          "2024-02-22T00:00:00",
          "2024-02-23T00:00:00",
          "2024-02-26T00:00:00",
          "2024-02-27T00:00:00",
          "2024-05-31T00:00:00"
         ],
         "xaxis": "x",
         "y": [
          1.0021591632547044,
          1.0021591632547044,
          1.0022386937460925,
          1.0197726525699689,
          1.0197726525699689,
          1.0476198557624719,
          1.0847570997500466,
          1.0847570997500466,
          1.101524616928189,
          1.1313112823785043,
          1.1313112823785043,
          1.152257991550934,
          1.1499792969301312,
          1.1554453894346062,
          1.1885338998718964,
          1.1885338998718964,
          1.1885338998718964,
          1.221347955113451,
          1.221347955113451,
          1.2273202028525791,
          1.267073683992839,
          1.271408397727303,
          1.2823757229467965,
          1.3125408343639873,
          1.316947846877017,
          1.3627579923320903,
          1.4018942879510623,
          1.3981032152206425,
          1.3981032152206425,
          1.4433364661044288,
          1.4433364661044288,
          1.4433364661044288,
          1.4529787702210586,
          1.4969652337409864,
          1.4969652337409864,
          1.5129371358748436,
          1.5129371358748436,
          1.5226366750204101,
          1.5565922078620384,
          1.5565922078620384,
          1.594607975064051,
          1.6173510276655503,
          1.6172811689977398,
          1.6774837112829903,
          1.710871588062238,
          1.7196048728945257,
          1.7270934681501124,
          1.7270934681501124,
          1.7217512881186585,
          1.7217512881186585,
          1.8151182305924112,
          1.8155817692325786,
          1.834833048456228,
          1.9573330856282172,
          1.9454549884432584,
          1.9454549884432584,
          1.9459727343680788,
          2.0328377139989264,
          2.038668978371325,
          2.0981921530808165,
          2.0981921530808165,
          2.2229283605000147,
          2.2229283605000147,
          2.2229283605000147,
          2.2718087482094718,
          2.2718087482094718,
          2.2718087482094718,
          2.452482434931035,
          2.452482434931035,
          2.452482434931035,
          2.429028573146259,
          2.429028573146259,
          2.444260343639275,
          2.627275940352677,
          2.627275940352677,
          2.627275940352677,
          2.6195813073633443,
          2.7476960820357736,
          2.778451713579169,
          2.801164864927407,
          2.924490712854226,
          2.924490712854226,
          2.924490712854226,
          2.924490712854226,
          2.907227653231563,
          2.9774135555290964,
          2.9774135555290964,
          2.9774135555290964,
          3.0393346685831273,
          3.0393346685831273,
          3.056398639280678,
          3.1029289671645817,
          3.123214719733882,
          3.123214719733882,
          3.166422423788069,
          3.166422423788069,
          3.166422423788069,
          3.166422423788069,
          3.166422423788069,
          3.166202134210249,
          3.166202134210249,
          3.229671245083992,
          3.229671245083992,
          3.3615129810661575,
          3.60378846616062,
          3.6261570422631757,
          3.7150221774727625,
          3.7150221774727625,
          3.772724794821387,
          3.836033982994053,
          3.8950754488686288,
          4.142643827595838,
          4.142643827595838,
          4.142643827595838,
          4.197725278010242,
          4.583049440634587,
          4.585687952262236,
          4.585687952262236,
          4.585687952262236,
          4.585687952262236,
          4.585687952262236,
          4.864380124993261,
          4.948233072517537,
          4.996953646641724,
          5.006143044019298,
          5.006143044019298,
          5.010251425735147,
          5.010251425735147,
          5.010251425735147,
          5.010251425735147,
          4.966931581523874,
          4.933040231659819,
          5.000702972501406,
          5.01121228187657,
          5.01121228187657,
          5.018750643141904,
          4.967848800372246,
          4.967848800372246,
          4.967848800372246,
          5.039589335777001,
          5.113766729778249,
          5.076103036858228,
          5.143610966571456,
          5.218763771326798,
          5.268468942878493,
          5.423847127794636,
          5.423847127794636,
          5.489106511994229,
          5.5697887676108895,
          5.7035426385140315,
          5.642650464577461,
          5.708027469016252,
          5.833728688720377,
          5.85107659811495,
          5.85107659811495,
          5.932702256784813,
          5.932702256784813,
          5.932702256784813,
          5.919339398086096,
          5.919339398086096,
          6.146586791615289,
          6.244978731344458,
          6.244978731344458,
          6.244978731344458,
          6.271923352675102,
          6.374204674690268,
          6.315244051773714,
          6.554516440168297,
          6.737430715825137,
          6.969561388053066,
          7.085046664444569,
          7.116683612719306,
          7.212478915347489,
          7.270783599007555,
          7.48526809159755,
          7.529426809078252,
          7.6897266881677675,
          7.6897266881677675,
          7.78279134641066,
          7.754198191452219,
          7.928857307403057,
          7.928857307403057,
          7.928857307403057,
          7.928857307403057,
          8.006124399051508,
          8.006124399051508,
          8.059458619956118,
          8.059458619956118,
          8.058506125301076,
          8.058506125301076,
          8.246249825280898,
          8.246249825280898,
          8.444281667420716,
          8.609228680069787,
          8.609228680069787,
          8.799484728803833,
          8.878957993736096,
          8.927258215129553,
          9.02701437945483,
          9.246250370743807,
          9.246250370743807,
          9.246250370743807,
          9.41520457731333,
          9.384426878144183,
          9.470726933492042,
          9.497367066613942,
          9.517537158734324,
          9.517454913253072,
          9.517454913253072,
          9.517454913253072,
          9.603169744779633,
          9.823214054299521,
          10.454500509167001,
          10.631965465499302,
          10.87410746270402,
          10.968478654705748,
          10.946165925731577,
          11.280744509125965,
          11.214787438658703,
          11.425779789442204,
          11.90266334140104,
          11.935374719240246,
          11.979222592507838,
          12.277064295346458,
          12.328047804609882,
          12.328047804609882,
          12.617889968224405,
          12.680254613554457,
          12.680254613554457,
          12.989216965639352,
          13.63496389994426,
          14.288753732147292,
          14.288753732147292,
          14.681602953112563,
          14.585778862608706,
          15.107724669346666,
          15.131664907489556,
          15.106558106805808,
          15.477615789900915,
          15.477615789900915,
          15.467895686286347,
          15.467895686286347,
          15.467895686286347,
          18.00472486725261,
          18.068633399590393,
          18.131659717190136,
          18.042137083168438,
          17.900562870249246
         ],
         "yaxis": "y"
        },
        {
         "hovertemplate": "variable=buy_hold_return<br>date=%{x}<br>value=%{y}<extra></extra>",
         "legendgroup": "buy_hold_return",
         "line": {
          "color": "#EF553B",
          "dash": "solid"
         },
         "marker": {
          "symbol": "circle"
         },
         "mode": "lines",
         "name": "buy_hold_return",
         "orientation": "v",
         "showlegend": true,
         "type": "scatter",
         "x": [
          "2020-06-02T00:00:00",
          "2020-06-03T00:00:00",
          "2020-06-04T00:00:00",
          "2020-06-05T00:00:00",
          "2020-06-08T00:00:00",
          "2020-06-09T00:00:00",
          "2020-06-10T00:00:00",
          "2020-06-11T00:00:00",
          "2020-06-12T00:00:00",
          "2020-06-15T00:00:00",
          "2020-06-16T00:00:00",
          "2020-06-17T00:00:00",
          "2020-06-18T00:00:00",
          "2020-06-19T00:00:00",
          "2020-06-22T00:00:00",
          "2020-06-23T00:00:00",
          "2020-06-24T00:00:00",
          "2020-06-25T00:00:00",
          "2020-06-26T00:00:00",
          "2020-06-29T00:00:00",
          "2020-06-30T00:00:00",
          "2020-07-01T00:00:00",
          "2020-07-02T00:00:00",
          "2020-07-06T00:00:00",
          "2020-07-07T00:00:00",
          "2020-07-08T00:00:00",
          "2020-07-09T00:00:00",
          "2020-07-10T00:00:00",
          "2020-07-13T00:00:00",
          "2020-07-14T00:00:00",
          "2020-07-15T00:00:00",
          "2020-07-16T00:00:00",
          "2020-07-17T00:00:00",
          "2020-07-20T00:00:00",
          "2020-07-21T00:00:00",
          "2020-07-22T00:00:00",
          "2020-07-23T00:00:00",
          "2020-07-24T00:00:00",
          "2020-07-27T00:00:00",
          "2020-07-28T00:00:00",
          "2020-07-29T00:00:00",
          "2020-07-30T00:00:00",
          "2020-07-31T00:00:00",
          "2020-08-03T00:00:00",
          "2020-08-04T00:00:00",
          "2020-08-05T00:00:00",
          "2020-08-06T00:00:00",
          "2020-08-07T00:00:00",
          "2020-08-10T00:00:00",
          "2020-08-11T00:00:00",
          "2020-08-12T00:00:00",
          "2020-08-13T00:00:00",
          "2020-08-14T00:00:00",
          "2020-08-17T00:00:00",
          "2020-08-18T00:00:00",
          "2020-08-19T00:00:00",
          "2020-08-20T00:00:00",
          "2020-08-21T00:00:00",
          "2020-08-24T00:00:00",
          "2021-11-24T00:00:00",
          "2021-11-26T00:00:00",
          "2021-11-29T00:00:00",
          "2021-11-30T00:00:00",
          "2021-12-01T00:00:00",
          "2021-12-02T00:00:00",
          "2021-12-03T00:00:00",
          "2021-12-06T00:00:00",
          "2021-12-07T00:00:00",
          "2021-12-08T00:00:00",
          "2021-12-09T00:00:00",
          "2021-12-10T00:00:00",
          "2021-12-13T00:00:00",
          "2021-12-14T00:00:00",
          "2021-12-15T00:00:00",
          "2021-12-16T00:00:00",
          "2021-12-17T00:00:00",
          "2021-12-20T00:00:00",
          "2021-12-21T00:00:00",
          "2021-12-22T00:00:00",
          "2021-12-23T00:00:00",
          "2021-12-27T00:00:00",
          "2021-12-28T00:00:00",
          "2021-12-29T00:00:00",
          "2021-12-30T00:00:00",
          "2021-12-31T00:00:00",
          "2022-01-03T00:00:00",
          "2022-01-04T00:00:00",
          "2022-01-05T00:00:00",
          "2022-01-06T00:00:00",
          "2022-01-07T00:00:00",
          "2022-01-10T00:00:00",
          "2022-01-11T00:00:00",
          "2022-01-12T00:00:00",
          "2022-01-13T00:00:00",
          "2022-01-14T00:00:00",
          "2022-01-18T00:00:00",
          "2022-01-19T00:00:00",
          "2022-01-20T00:00:00",
          "2022-01-21T00:00:00",
          "2022-01-24T00:00:00",
          "2022-01-25T00:00:00",
          "2022-01-26T00:00:00",
          "2022-01-27T00:00:00",
          "2022-01-28T00:00:00",
          "2022-01-31T00:00:00",
          "2022-02-01T00:00:00",
          "2022-02-02T00:00:00",
          "2022-02-03T00:00:00",
          "2022-02-04T00:00:00",
          "2022-02-07T00:00:00",
          "2022-02-08T00:00:00",
          "2022-02-09T00:00:00",
          "2022-02-10T00:00:00",
          "2022-02-11T00:00:00",
          "2022-02-14T00:00:00",
          "2022-02-15T00:00:00",
          "2022-02-16T00:00:00",
          "2022-02-17T00:00:00",
          "2022-02-18T00:00:00",
          "2022-02-22T00:00:00",
          "2022-02-23T00:00:00",
          "2022-02-24T00:00:00",
          "2022-02-25T00:00:00",
          "2023-08-30T00:00:00",
          "2023-08-31T00:00:00",
          "2023-09-01T00:00:00",
          "2023-09-05T00:00:00",
          "2023-09-06T00:00:00",
          "2023-09-07T00:00:00",
          "2023-09-08T00:00:00",
          "2023-09-11T00:00:00",
          "2023-09-12T00:00:00",
          "2023-09-13T00:00:00",
          "2023-09-14T00:00:00",
          "2023-09-15T00:00:00",
          "2023-09-18T00:00:00",
          "2023-09-19T00:00:00",
          "2023-09-20T00:00:00",
          "2023-09-21T00:00:00",
          "2023-09-22T00:00:00",
          "2023-09-25T00:00:00",
          "2023-09-26T00:00:00",
          "2023-09-27T00:00:00",
          "2023-09-28T00:00:00",
          "2023-09-29T00:00:00",
          "2023-10-02T00:00:00",
          "2023-10-03T00:00:00",
          "2023-10-04T00:00:00",
          "2023-10-05T00:00:00",
          "2023-10-06T00:00:00",
          "2023-10-09T00:00:00",
          "2023-10-10T00:00:00",
          "2023-10-11T00:00:00",
          "2023-10-12T00:00:00",
          "2023-10-13T00:00:00",
          "2023-10-16T00:00:00",
          "2023-10-17T00:00:00",
          "2023-10-18T00:00:00",
          "2023-10-19T00:00:00",
          "2023-10-20T00:00:00",
          "2023-10-23T00:00:00",
          "2023-10-24T00:00:00",
          "2023-10-25T00:00:00",
          "2023-10-26T00:00:00",
          "2023-10-27T00:00:00",
          "2023-10-30T00:00:00",
          "2023-10-31T00:00:00",
          "2023-11-01T00:00:00",
          "2023-11-02T00:00:00",
          "2023-11-03T00:00:00",
          "2023-11-06T00:00:00",
          "2023-11-07T00:00:00",
          "2023-11-08T00:00:00",
          "2023-11-09T00:00:00",
          "2023-11-10T00:00:00",
          "2023-11-13T00:00:00",
          "2023-11-14T00:00:00",
          "2023-11-15T00:00:00",
          "2023-11-16T00:00:00",
          "2023-11-17T00:00:00",
          "2023-11-20T00:00:00",
          "2023-11-21T00:00:00",
          "2023-11-22T00:00:00",
          "2023-11-24T00:00:00",
          "2023-11-27T00:00:00",
          "2023-11-28T00:00:00",
          "2023-11-29T00:00:00",
          "2023-11-30T00:00:00",
          "2023-12-01T00:00:00",
          "2023-12-04T00:00:00",
          "2023-12-05T00:00:00",
          "2023-12-06T00:00:00",
          "2023-12-07T00:00:00",
          "2023-12-08T00:00:00",
          "2023-12-11T00:00:00",
          "2023-12-12T00:00:00",
          "2023-12-13T00:00:00",
          "2023-12-14T00:00:00",
          "2023-12-15T00:00:00",
          "2023-12-18T00:00:00",
          "2023-12-19T00:00:00",
          "2023-12-20T00:00:00",
          "2023-12-21T00:00:00",
          "2023-12-22T00:00:00",
          "2023-12-26T00:00:00",
          "2023-12-27T00:00:00",
          "2023-12-28T00:00:00",
          "2023-12-29T00:00:00",
          "2024-01-02T00:00:00",
          "2024-01-03T00:00:00",
          "2024-01-04T00:00:00",
          "2024-01-05T00:00:00",
          "2024-01-08T00:00:00",
          "2024-01-09T00:00:00",
          "2024-01-10T00:00:00",
          "2024-01-11T00:00:00",
          "2024-01-12T00:00:00",
          "2024-01-16T00:00:00",
          "2024-01-17T00:00:00",
          "2024-01-18T00:00:00",
          "2024-01-19T00:00:00",
          "2024-01-22T00:00:00",
          "2024-01-23T00:00:00",
          "2024-01-24T00:00:00",
          "2024-01-25T00:00:00",
          "2024-01-26T00:00:00",
          "2024-01-29T00:00:00",
          "2024-01-30T00:00:00",
          "2024-01-31T00:00:00",
          "2024-02-01T00:00:00",
          "2024-02-02T00:00:00",
          "2024-02-05T00:00:00",
          "2024-02-06T00:00:00",
          "2024-02-07T00:00:00",
          "2024-02-08T00:00:00",
          "2024-02-09T00:00:00",
          "2024-02-12T00:00:00",
          "2024-02-13T00:00:00",
          "2024-02-14T00:00:00",
          "2024-02-15T00:00:00",
          "2024-02-16T00:00:00",
          "2024-02-20T00:00:00",
          "2024-02-21T00:00:00",
          "2024-02-22T00:00:00",
          "2024-02-23T00:00:00",
          "2024-02-26T00:00:00",
          "2024-02-27T00:00:00",
          "2024-05-31T00:00:00"
         ],
         "xaxis": "x",
         "y": [
          1.0021591632547044,
          0.9958058591959259,
          0.9958848854945548,
          1.013307685756152,
          1.0003414801268362,
          1.027658071122661,
          1.0640876866107203,
          0.9993187135960184,
          1.0147655760323382,
          1.0422061636136346,
          1.030146037908716,
          1.0492196295870717,
          1.047144702666615,
          1.052122000802004,
          1.082251637497231,
          1.0735917011195342,
          1.0491650074532894,
          1.0781312477227416,
          1.0400724615121004,
          1.0451582934249382,
          1.079011464267955,
          1.0827028090357411,
          1.09204233663677,
          1.117730267379283,
          1.1214831801615506,
          1.160494070175494,
          1.1938216597034992,
          1.1905932673931905,
          1.1419894060291569,
          1.178936530352443,
          1.161922759187248,
          1.151286358267599,
          1.1589776024455454,
          1.1940636801468927,
          1.1733550430581252,
          1.185874179437237,
          1.1507987678045533,
          1.158176614135581,
          1.184004511691746,
          1.160588196346088,
          1.188932582542326,
          1.2058897009609209,
          1.205837614650284,
          1.2507243612325853,
          1.2756182130039975,
          1.2821297111603467,
          1.2877131743287666,
          1.2722928885603522,
          1.268357480437532,
          1.2327315979690145,
          1.299580033621364,
          1.2999119158929542,
          1.3136953585795272,
          1.4014023738821246,
          1.392897948286692,
          1.37893341789843,
          1.3793003948585536,
          1.4408700656911284,
          1.4450032506578672,
          1.4871931215281275,
          1.4339039180487805,
          1.5191486065670892,
          1.4872717584510764,
          1.4310070080441477,
          1.4624736889372802,
          1.3972116164596173,
          1.3673752705645887,
          1.4761206618566645,
          1.4488129648324668,
          1.3879771783826391,
          1.3747035155671399,
          1.2819246969856049,
          1.2899632943860966,
          1.3865501422948387,
          1.292223631904121,
          1.2655361798706728,
          1.2618297414683481,
          1.3235415243967048,
          1.3383562470739558,
          1.3492969763474156,
          1.4087019745310734,
          1.3803461565489903,
          1.365706929859171,
          1.346812973015044,
          1.3388628323113851,
          1.3711854802588044,
          1.3333261104268532,
          1.2565966749622661,
          1.2827300498940633,
          1.2403204661956446,
          1.2472840929095799,
          1.266272629634331,
          1.2745510315964335,
          1.2097197625383898,
          1.2264554717927036,
          1.1791899783966877,
          1.1411292009583687,
          1.0993502071032688,
          1.0640431070561336,
          1.0639690810496618,
          1.016245916302083,
          1.0366173967075354,
          0.9989453012598074,
          1.0397242761693404,
          1.1146606827196797,
          1.1215793386130721,
          1.149065544646753,
          1.0901602131759118,
          1.107092843621843,
          1.1256707025893657,
          1.1429962134340497,
          1.2156442848683011,
          1.1755752253084935,
          1.0902124408138767,
          1.1047081312470814,
          1.206113227442147,
          1.20680760000262,
          1.1156268843978445,
          1.076259401240388,
          1.0647711437194998,
          1.0191087404025763,
          1.0810444045970529,
          1.09967961759456,
          1.1105071234005093,
          1.1125493459163038,
          1.093469901219246,
          1.0943672770452058,
          1.0609184078455376,
          1.042435348270397,
          1.0273602193752394,
          1.0184774147272344,
          1.0115279382094666,
          1.0254022934798397,
          1.0275572444928152,
          0.9896744500207846,
          0.991163216235361,
          0.9811105083446386,
          0.9522216456237198,
          0.9246791405471604,
          0.9380324005367742,
          0.951839239611257,
          0.9448287945275606,
          0.9573942281660939,
          0.9713826230837637,
          0.980634381170227,
          1.0095553431925153,
          0.9810464605036389,
          0.9928503492149509,
          1.0074438728584463,
          1.03163680428451,
          1.0206228412606049,
          1.032448004708581,
          1.0551844008064304,
          1.058322229861654,
          1.0248610229132304,
          1.039158384200094,
          0.9905177893151823,
          0.9512517688898997,
          0.9491091629703051,
          0.9330069906449825,
          0.9688257522515803,
          0.9843343016718276,
          0.9418560345884988,
          0.909100810683716,
          0.9130232222961541,
          0.927912629732418,
          0.9193295500458812,
          0.954161169435066,
          0.980788564569438,
          1.0145805423143381,
          1.031392090104341,
          1.0359975782190987,
          1.0499427958131746,
          1.0584303883995168,
          1.0896535573614825,
          1.0960818780311699,
          1.1194172257244048,
          1.102122772359167,
          1.1154611760906206,
          1.111363089319633,
          1.1363959411875326,
          1.1259148141126087,
          1.098235095218931,
          1.0770529348220441,
          1.0875488669089326,
          1.0780731226983493,
          1.0852548984504384,
          1.0543720797333025,
          1.0542474703993845,
          1.0259529766443756,
          1.0498551993200869,
          1.025901594302266,
          1.0505383912558353,
          1.071059162131985,
          1.0512384802652242,
          1.0744698854194918,
          1.0841740479355269,
          1.0900717947861451,
          1.1022526210226646,
          1.1290226510528338,
          1.1183489299968392,
          1.0846892517902653,
          1.1045094821066084,
          1.1008989115352943,
          1.1110228794910955,
          1.114148066989264,
          1.1165142458459199,
          1.116504597525147,
          1.085970538457288,
          1.0724756613111728,
          1.0821344483990543,
          1.1069301704193901,
          1.1780667677903962,
          1.198064429784782,
          1.225350232654383,
          1.235984462863327,
          1.2334701500580298,
          1.2711721818256594,
          1.2637398006468403,
          1.287515501503908,
          1.3412531874101767,
          1.3449392733333838,
          1.3498802767117415,
          1.3834426082519822,
          1.3891876917130153,
          1.3759697596285025,
          1.4083198979893992,
          1.4152805999110791,
          1.3871716551273476,
          1.4209709620320772,
          1.4916132220617482,
          1.5631353445491836,
          1.5381295580488639,
          1.5804182705531378,
          1.570103174587453,
          1.6262886396106977,
          1.6288657144630314,
          1.6261630636256226,
          1.666106000624085,
          1.6381232834019712,
          1.6370945249507833,
          1.5658380661674591,
          1.5211996976976079,
          1.7706857209721056,
          1.7769708448211587,
          1.7831692067201679,
          1.7743650483153734,
          1.7604418454271236
         ],
         "yaxis": "y"
        }
       ],
       "layout": {
        "legend": {
         "title": {
          "text": "variable"
         },
         "tracegroupgap": 0
        },
        "margin": {
         "t": 60
        },
        "template": {
         "data": {
          "bar": [
           {
            "error_x": {
             "color": "#2a3f5f"
            },
            "error_y": {
             "color": "#2a3f5f"
            },
            "marker": {
             "line": {
              "color": "#E5ECF6",
              "width": 0.5
             },
             "pattern": {
              "fillmode": "overlay",
              "size": 10,
              "solidity": 0.2
             }
            },
            "type": "bar"
           }
          ],
          "barpolar": [
           {
            "marker": {
             "line": {
              "color": "#E5ECF6",
              "width": 0.5
             },
             "pattern": {
              "fillmode": "overlay",
              "size": 10,
              "solidity": 0.2
             }
            },
            "type": "barpolar"
           }
          ],
          "carpet": [
           {
            "aaxis": {
             "endlinecolor": "#2a3f5f",
             "gridcolor": "white",
             "linecolor": "white",
             "minorgridcolor": "white",
             "startlinecolor": "#2a3f5f"
            },
            "baxis": {
             "endlinecolor": "#2a3f5f",
             "gridcolor": "white",
             "linecolor": "white",
             "minorgridcolor": "white",
             "startlinecolor": "#2a3f5f"
            },
            "type": "carpet"
           }
          ],
          "choropleth": [
           {
            "colorbar": {
             "outlinewidth": 0,
             "ticks": ""
            },
            "type": "choropleth"
           }
          ],
          "contour": [
           {
            "colorbar": {
             "outlinewidth": 0,
             "ticks": ""
            },
            "colorscale": [
             [
              0,
              "#0d0887"
             ],
             [
              0.1111111111111111,
              "#46039f"
             ],
             [
              0.2222222222222222,
              "#7201a8"
             ],
             [
              0.3333333333333333,
              "#9c179e"
             ],
             [
              0.4444444444444444,
              "#bd3786"
             ],
             [
              0.5555555555555556,
              "#d8576b"
             ],
             [
              0.6666666666666666,
              "#ed7953"
             ],
             [
              0.7777777777777778,
              "#fb9f3a"
             ],
             [
              0.8888888888888888,
              "#fdca26"
             ],
             [
              1,
              "#f0f921"
             ]
            ],
            "type": "contour"
           }
          ],
          "contourcarpet": [
           {
            "colorbar": {
             "outlinewidth": 0,
             "ticks": ""
            },
            "type": "contourcarpet"
           }
          ],
          "heatmap": [
           {
            "colorbar": {
             "outlinewidth": 0,
             "ticks": ""
            },
            "colorscale": [
             [
              0,
              "#0d0887"
             ],
             [
              0.1111111111111111,
              "#46039f"
             ],
             [
              0.2222222222222222,
              "#7201a8"
             ],
             [
              0.3333333333333333,
              "#9c179e"
             ],
             [
              0.4444444444444444,
              "#bd3786"
             ],
             [
              0.5555555555555556,
              "#d8576b"
             ],
             [
              0.6666666666666666,
              "#ed7953"
             ],
             [
              0.7777777777777778,
              "#fb9f3a"
             ],
             [
              0.8888888888888888,
              "#fdca26"
             ],
             [
              1,
              "#f0f921"
             ]
            ],
            "type": "heatmap"
           }
          ],
          "heatmapgl": [
           {
            "colorbar": {
             "outlinewidth": 0,
             "ticks": ""
            },
            "colorscale": [
             [
              0,
              "#0d0887"
             ],
             [
              0.1111111111111111,
              "#46039f"
             ],
             [
              0.2222222222222222,
              "#7201a8"
             ],
             [
              0.3333333333333333,
              "#9c179e"
             ],
             [
              0.4444444444444444,
              "#bd3786"
             ],
             [
              0.5555555555555556,
              "#d8576b"
             ],
             [
              0.6666666666666666,
              "#ed7953"
             ],
             [
              0.7777777777777778,
              "#fb9f3a"
             ],
             [
              0.8888888888888888,
              "#fdca26"
             ],
             [
              1,
              "#f0f921"
             ]
            ],
            "type": "heatmapgl"
           }
          ],
          "histogram": [
           {
            "marker": {
             "pattern": {
              "fillmode": "overlay",
              "size": 10,
              "solidity": 0.2
             }
            },
            "type": "histogram"
           }
          ],
          "histogram2d": [
           {
            "colorbar": {
             "outlinewidth": 0,
             "ticks": ""
            },
            "colorscale": [
             [
              0,
              "#0d0887"
             ],
             [
              0.1111111111111111,
              "#46039f"
             ],
             [
              0.2222222222222222,
              "#7201a8"
             ],
             [
              0.3333333333333333,
              "#9c179e"
             ],
             [
              0.4444444444444444,
              "#bd3786"
             ],
             [
              0.5555555555555556,
              "#d8576b"
             ],
             [
              0.6666666666666666,
              "#ed7953"
             ],
             [
              0.7777777777777778,
              "#fb9f3a"
             ],
             [
              0.8888888888888888,
              "#fdca26"
             ],
             [
              1,
              "#f0f921"
             ]
            ],
            "type": "histogram2d"
           }
          ],
          "histogram2dcontour": [
           {
            "colorbar": {
             "outlinewidth": 0,
             "ticks": ""
            },
            "colorscale": [
             [
              0,
              "#0d0887"
             ],
             [
              0.1111111111111111,
              "#46039f"
             ],
             [
              0.2222222222222222,
              "#7201a8"
             ],
             [
              0.3333333333333333,
              "#9c179e"
             ],
             [
              0.4444444444444444,
              "#bd3786"
             ],
             [
              0.5555555555555556,
              "#d8576b"
             ],
             [
              0.6666666666666666,
              "#ed7953"
             ],
             [
              0.7777777777777778,
              "#fb9f3a"
             ],
             [
              0.8888888888888888,
              "#fdca26"
             ],
             [
              1,
              "#f0f921"
             ]
            ],
            "type": "histogram2dcontour"
           }
          ],
          "mesh3d": [
           {
            "colorbar": {
             "outlinewidth": 0,
             "ticks": ""
            },
            "type": "mesh3d"
           }
          ],
          "parcoords": [
           {
            "line": {
             "colorbar": {
              "outlinewidth": 0,
              "ticks": ""
             }
            },
            "type": "parcoords"
           }
          ],
          "pie": [
           {
            "automargin": true,
            "type": "pie"
           }
          ],
          "scatter": [
           {
            "fillpattern": {
             "fillmode": "overlay",
             "size": 10,
             "solidity": 0.2
            },
            "type": "scatter"
           }
          ],
          "scatter3d": [
           {
            "line": {
             "colorbar": {
              "outlinewidth": 0,
              "ticks": ""
             }
            },
            "marker": {
             "colorbar": {
              "outlinewidth": 0,
              "ticks": ""
             }
            },
            "type": "scatter3d"
           }
          ],
          "scattercarpet": [
           {
            "marker": {
             "colorbar": {
              "outlinewidth": 0,
              "ticks": ""
             }
            },
            "type": "scattercarpet"
           }
          ],
          "scattergeo": [
           {
            "marker": {
             "colorbar": {
              "outlinewidth": 0,
              "ticks": ""
             }
            },
            "type": "scattergeo"
           }
          ],
          "scattergl": [
           {
            "marker": {
             "colorbar": {
              "outlinewidth": 0,
              "ticks": ""
             }
            },
            "type": "scattergl"
           }
          ],
          "scattermapbox": [
           {
            "marker": {
             "colorbar": {
              "outlinewidth": 0,
              "ticks": ""
             }
            },
            "type": "scattermapbox"
           }
          ],
          "scatterpolar": [
           {
            "marker": {
             "colorbar": {
              "outlinewidth": 0,
              "ticks": ""
             }
            },
            "type": "scatterpolar"
           }
          ],
          "scatterpolargl": [
           {
            "marker": {
             "colorbar": {
              "outlinewidth": 0,
              "ticks": ""
             }
            },
            "type": "scatterpolargl"
           }
          ],
          "scatterternary": [
           {
            "marker": {
             "colorbar": {
              "outlinewidth": 0,
              "ticks": ""
             }
            },
            "type": "scatterternary"
           }
          ],
          "surface": [
           {
            "colorbar": {
             "outlinewidth": 0,
             "ticks": ""
            },
            "colorscale": [
             [
              0,
              "#0d0887"
             ],
             [
              0.1111111111111111,
              "#46039f"
             ],
             [
              0.2222222222222222,
              "#7201a8"
             ],
             [
              0.3333333333333333,
              "#9c179e"
             ],
             [
              0.4444444444444444,
              "#bd3786"
             ],
             [
              0.5555555555555556,
              "#d8576b"
             ],
             [
              0.6666666666666666,
              "#ed7953"
             ],
             [
              0.7777777777777778,
              "#fb9f3a"
             ],
             [
              0.8888888888888888,
              "#fdca26"
             ],
             [
              1,
              "#f0f921"
             ]
            ],
            "type": "surface"
           }
          ],
          "table": [
           {
            "cells": {
             "fill": {
              "color": "#EBF0F8"
             },
             "line": {
              "color": "white"
             }
            },
            "header": {
             "fill": {
              "color": "#C8D4E3"
             },
             "line": {
              "color": "white"
             }
            },
            "type": "table"
           }
          ]
         },
         "layout": {
          "annotationdefaults": {
           "arrowcolor": "#2a3f5f",
           "arrowhead": 0,
           "arrowwidth": 1
          },
          "autotypenumbers": "strict",
          "coloraxis": {
           "colorbar": {
            "outlinewidth": 0,
            "ticks": ""
           }
          },
          "colorscale": {
           "diverging": [
            [
             0,
             "#8e0152"
            ],
            [
             0.1,
             "#c51b7d"
            ],
            [
             0.2,
             "#de77ae"
            ],
            [
             0.3,
             "#f1b6da"
            ],
            [
             0.4,
             "#fde0ef"
            ],
            [
             0.5,
             "#f7f7f7"
            ],
            [
             0.6,
             "#e6f5d0"
            ],
            [
             0.7,
             "#b8e186"
            ],
            [
             0.8,
             "#7fbc41"
            ],
            [
             0.9,
             "#4d9221"
            ],
            [
             1,
             "#276419"
            ]
           ],
           "sequential": [
            [
             0,
             "#0d0887"
            ],
            [
             0.1111111111111111,
             "#46039f"
            ],
            [
             0.2222222222222222,
             "#7201a8"
            ],
            [
             0.3333333333333333,
             "#9c179e"
            ],
            [
             0.4444444444444444,
             "#bd3786"
            ],
            [
             0.5555555555555556,
             "#d8576b"
            ],
            [
             0.6666666666666666,
             "#ed7953"
            ],
            [
             0.7777777777777778,
             "#fb9f3a"
            ],
            [
             0.8888888888888888,
             "#fdca26"
            ],
            [
             1,
             "#f0f921"
            ]
           ],
           "sequentialminus": [
            [
             0,
             "#0d0887"
            ],
            [
             0.1111111111111111,
             "#46039f"
            ],
            [
             0.2222222222222222,
             "#7201a8"
            ],
            [
             0.3333333333333333,
             "#9c179e"
            ],
            [
             0.4444444444444444,
             "#bd3786"
            ],
            [
             0.5555555555555556,
             "#d8576b"
            ],
            [
             0.6666666666666666,
             "#ed7953"
            ],
            [
             0.7777777777777778,
             "#fb9f3a"
            ],
            [
             0.8888888888888888,
             "#fdca26"
            ],
            [
             1,
             "#f0f921"
            ]
           ]
          },
          "colorway": [
           "#636efa",
           "#EF553B",
           "#00cc96",
           "#ab63fa",
           "#FFA15A",
           "#19d3f3",
           "#FF6692",
           "#B6E880",
           "#FF97FF",
           "#FECB52"
          ],
          "font": {
           "color": "#2a3f5f"
          },
          "geo": {
           "bgcolor": "white",
           "lakecolor": "white",
           "landcolor": "#E5ECF6",
           "showlakes": true,
           "showland": true,
           "subunitcolor": "white"
          },
          "hoverlabel": {
           "align": "left"
          },
          "hovermode": "closest",
          "mapbox": {
           "style": "light"
          },
          "paper_bgcolor": "white",
          "plot_bgcolor": "#E5ECF6",
          "polar": {
           "angularaxis": {
            "gridcolor": "white",
            "linecolor": "white",
            "ticks": ""
           },
           "bgcolor": "#E5ECF6",
           "radialaxis": {
            "gridcolor": "white",
            "linecolor": "white",
            "ticks": ""
           }
          },
          "scene": {
           "xaxis": {
            "backgroundcolor": "#E5ECF6",
            "gridcolor": "white",
            "gridwidth": 2,
            "linecolor": "white",
            "showbackground": true,
            "ticks": "",
            "zerolinecolor": "white"
           },
           "yaxis": {
            "backgroundcolor": "#E5ECF6",
            "gridcolor": "white",
            "gridwidth": 2,
            "linecolor": "white",
            "showbackground": true,
            "ticks": "",
            "zerolinecolor": "white"
           },
           "zaxis": {
            "backgroundcolor": "#E5ECF6",
            "gridcolor": "white",
            "gridwidth": 2,
            "linecolor": "white",
            "showbackground": true,
            "ticks": "",
            "zerolinecolor": "white"
           }
          },
          "shapedefaults": {
           "line": {
            "color": "#2a3f5f"
           }
          },
          "ternary": {
           "aaxis": {
            "gridcolor": "white",
            "linecolor": "white",
            "ticks": ""
           },
           "baxis": {
            "gridcolor": "white",
            "linecolor": "white",
            "ticks": ""
           },
           "bgcolor": "#E5ECF6",
           "caxis": {
            "gridcolor": "white",
            "linecolor": "white",
            "ticks": ""
           }
          },
          "title": {
           "x": 0.05
          },
          "xaxis": {
           "automargin": true,
           "gridcolor": "white",
           "linecolor": "white",
           "ticks": "",
           "title": {
            "standoff": 15
           },
           "zerolinecolor": "white",
           "zerolinewidth": 2
          },
          "yaxis": {
           "automargin": true,
           "gridcolor": "white",
           "linecolor": "white",
           "ticks": "",
           "title": {
            "standoff": 15
           },
           "zerolinecolor": "white",
           "zerolinewidth": 2
          }
         }
        },
        "xaxis": {
         "anchor": "y",
         "domain": [
          0,
          1
         ],
         "title": {
          "text": "date"
         }
        },
        "yaxis": {
         "anchor": "x",
         "domain": [
          0,
          1
         ],
         "title": {
          "text": "value"
         },
         "type": "log"
        }
       }
      }
     },
     "metadata": {},
     "output_type": "display_data"
    }
   ],
   "source": [
    "plx.line(\n",
    "    data_frame=simulation.melt(ignore_index=False).reset_index(),\n",
    "    x='date',\n",
    "    y='value',\n",
    "    color='variable',\n",
    "    log_y=True\n",
    ")"
   ]
  },
  {
   "cell_type": "markdown",
   "metadata": {},
   "source": [
    "## Conclusão\n",
    "\n",
    "A métrica proposta, $log(1 + \\frac{eps}{price _{i-1}})$ é um bom preditor para o retorno diário de algumas empresas, pelo menos em sua versão diferenciada. Tem progressão aritimética, tal qual $log(price)$, raramente resulta em logarítimos negativos e é baseada numa métrica relativamente fácil de conseguir, o $EPS$. Porém, isso não se aplica a qualquer ativo, sendo necessária uma avaliação prévia. "
   ]
  }
 ],
 "metadata": {
  "kernelspec": {
   "display_name": "Python 3",
   "language": "python",
   "name": "python3"
  },
  "language_info": {
   "codemirror_mode": {
    "name": "ipython",
    "version": 3
   },
   "file_extension": ".py",
   "mimetype": "text/x-python",
   "name": "python",
   "nbconvert_exporter": "python",
   "pygments_lexer": "ipython3",
   "version": "3.10.12"
  }
 },
 "nbformat": 4,
 "nbformat_minor": 4
}
