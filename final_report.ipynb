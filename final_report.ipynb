{
 "cells": [
  {
   "cell_type": "code",
   "execution_count": 2,
   "metadata": {
    "editable": true,
    "slideshow": {
     "slide_type": ""
    },
    "tags": []
   },
   "outputs": [],
   "source": [
    "import pandas as pd\n",
    "import numpy as np\n",
    "import seaborn as sns\n",
    "import matplotlib.pyplot as plt\n",
    "import plotly.express as plx\n",
    "from pathlib import Path\n",
    "from random import random\n",
    "from datetime import timedelta\n",
    "\n",
    "from sec import *\n",
    "from stooq import *\n",
    "\n",
    "import json\n",
    "from tqdm.notebook import tqdm\n",
    "\n",
    "from pandas.plotting import autocorrelation_plot, lag_plot\n",
    "from statsmodels.graphics.tsaplots import plot_acf, plot_pacf"
   ]
  },
  {
   "cell_type": "markdown",
   "metadata": {},
   "source": [
    "## Construção da Tabela de Preços\n",
    "\n",
    "### Aquisição dos dados\n",
    "\n",
    "#### Preços e macroeconomia\n",
    "\n",
    " > O site polonês [Stooq](https://stooq.com/db/h/) ofereçe dados históricos de preços e indicadores macroeconômicos de graça. Não se preocupe, a página não está em Polonês! Basta baixar as tabelas necessárias e organizar os arquivos de acordo com o recomendado no site.\n",
    "\n",
    "#### Tabela tickers para CIK\n",
    "\n",
    "> A SEC, comissão de valores mobiliários americana, disponibiliza uma [tabela de tickers para CIK](https://www.sec.gov/file/company-tickers). Este caderno utiliza o CIK como identificador de ativos porque é imutável, ao contrário dos tickers.\n",
    "\n",
    "#### Fundamentos\n",
    "\n",
    "> A SEC também disponibilia um grande volume de [dados contábeis](http://www.sec.gov/Archives/edgar/daily-index/xbrl/companyfacts.zip) das companhias publicamente negociadas nos Estados Unidos. Baixe o arquivo ZIP e extraia no diretório indicado &fundamentals_dir& abaixo."
   ]
  },
  {
   "cell_type": "code",
   "execution_count": 3,
   "metadata": {},
   "outputs": [],
   "source": [
    "# Altere estas variáveis caso os arquivos não tenham sido encontrados\n",
    "stooq_dir = 'data/stooq'\n",
    "fundamentals_dir = 'data/sec/companyfacts'\n",
    "tickers_path = 'data/sec/company_tickers.json'"
   ]
  },
  {
   "cell_type": "code",
   "execution_count": 4,
   "metadata": {},
   "outputs": [],
   "source": [
    "period = 'daily'\n",
    "market = 'us'\n",
    "sample_companies = [\n",
    "    'MSFT.US',\n",
    "    'AVGO.US',\n",
    "    'NVDA.US',\n",
    "    'TSM.US',\n",
    "    'TSLA.US',\n",
    "    'META.US',\n",
    "    'IBM.US',\n",
    "    'AAPL.US',\n",
    "    'ASML.US',\n",
    "    'AMZN.US',\n",
    "    'GOOG.US',\n",
    "    'LLY.US',\n",
    "    'WMT.US',\n",
    "    'JPM.US',\n",
    "    'V.US',\n",
    "    'UNH.US',\n",
    "    'XOM.US',\n",
    "    'ORCL.US',\n",
    "    'MA.US'\n",
    "]"
   ]
  },
  {
   "cell_type": "code",
   "execution_count": 5,
   "metadata": {},
   "outputs": [],
   "source": [
    "cik_by_ticker = None\n",
    "with open(tickers_path, 'r') as file:\n",
    "    cik_by_ticker = json.load(file)\n",
    "cik_by_ticker = { value['ticker'] + '.US': value['cik_str'] for _key, value in cik_by_ticker.items() }"
   ]
  },
  {
   "cell_type": "markdown",
   "metadata": {},
   "source": [
    "### Limpeza dos dados"
   ]
  },
  {
   "cell_type": "code",
   "execution_count": 6,
   "metadata": {},
   "outputs": [
    {
     "data": {
      "text/html": [
       "<div>\n",
       "<style scoped>\n",
       "    .dataframe tbody tr th:only-of-type {\n",
       "        vertical-align: middle;\n",
       "    }\n",
       "\n",
       "    .dataframe tbody tr th {\n",
       "        vertical-align: top;\n",
       "    }\n",
       "\n",
       "    .dataframe thead th {\n",
       "        text-align: right;\n",
       "    }\n",
       "</style>\n",
       "<table border=\"1\" class=\"dataframe\">\n",
       "  <thead>\n",
       "    <tr style=\"text-align: right;\">\n",
       "      <th></th>\n",
       "      <th>&lt;TICKER&gt;</th>\n",
       "      <th>&lt;DATE&gt;</th>\n",
       "      <th>&lt;TIME&gt;</th>\n",
       "      <th>&lt;OPEN&gt;</th>\n",
       "      <th>&lt;HIGH&gt;</th>\n",
       "      <th>&lt;LOW&gt;</th>\n",
       "      <th>&lt;CLOSE&gt;</th>\n",
       "      <th>&lt;VOL&gt;</th>\n",
       "    </tr>\n",
       "  </thead>\n",
       "  <tbody>\n",
       "    <tr>\n",
       "      <th>6436603</th>\n",
       "      <td>A.US</td>\n",
       "      <td>1999-11-18</td>\n",
       "      <td>0</td>\n",
       "      <td>29.5594</td>\n",
       "      <td>32.4842</td>\n",
       "      <td>25.9889</td>\n",
       "      <td>28.587218</td>\n",
       "      <td>6.886678e+07</td>\n",
       "    </tr>\n",
       "    <tr>\n",
       "      <th>6436604</th>\n",
       "      <td>A.US</td>\n",
       "      <td>1999-11-19</td>\n",
       "      <td>0</td>\n",
       "      <td>27.8972</td>\n",
       "      <td>27.9371</td>\n",
       "      <td>25.8613</td>\n",
       "      <td>26.236844</td>\n",
       "      <td>1.677358e+07</td>\n",
       "    </tr>\n",
       "    <tr>\n",
       "      <th>6436605</th>\n",
       "      <td>A.US</td>\n",
       "      <td>1999-11-22</td>\n",
       "      <td>0</td>\n",
       "      <td>26.8370</td>\n",
       "      <td>28.5858</td>\n",
       "      <td>26.0278</td>\n",
       "      <td>28.594415</td>\n",
       "      <td>7.242576e+06</td>\n",
       "    </tr>\n",
       "    <tr>\n",
       "      <th>6436606</th>\n",
       "      <td>A.US</td>\n",
       "      <td>1999-11-23</td>\n",
       "      <td>0</td>\n",
       "      <td>27.6102</td>\n",
       "      <td>28.3377</td>\n",
       "      <td>25.9889</td>\n",
       "      <td>25.996196</td>\n",
       "      <td>6.579458e+06</td>\n",
       "    </tr>\n",
       "    <tr>\n",
       "      <th>6436607</th>\n",
       "      <td>A.US</td>\n",
       "      <td>1999-11-24</td>\n",
       "      <td>0</td>\n",
       "      <td>26.0637</td>\n",
       "      <td>27.2445</td>\n",
       "      <td>25.9889</td>\n",
       "      <td>26.681633</td>\n",
       "      <td>5.332648e+06</td>\n",
       "    </tr>\n",
       "    <tr>\n",
       "      <th>...</th>\n",
       "      <td>...</td>\n",
       "      <td>...</td>\n",
       "      <td>...</td>\n",
       "      <td>...</td>\n",
       "      <td>...</td>\n",
       "      <td>...</td>\n",
       "      <td>...</td>\n",
       "      <td>...</td>\n",
       "    </tr>\n",
       "    <tr>\n",
       "      <th>13848043</th>\n",
       "      <td>ZZZ.US</td>\n",
       "      <td>2024-05-24</td>\n",
       "      <td>0</td>\n",
       "      <td>25.0800</td>\n",
       "      <td>25.1784</td>\n",
       "      <td>25.0800</td>\n",
       "      <td>25.183622</td>\n",
       "      <td>4.060000e+02</td>\n",
       "    </tr>\n",
       "    <tr>\n",
       "      <th>13848044</th>\n",
       "      <td>ZZZ.US</td>\n",
       "      <td>2024-05-28</td>\n",
       "      <td>0</td>\n",
       "      <td>25.0000</td>\n",
       "      <td>25.0100</td>\n",
       "      <td>25.0000</td>\n",
       "      <td>25.015777</td>\n",
       "      <td>2.769000e+03</td>\n",
       "    </tr>\n",
       "    <tr>\n",
       "      <th>13848045</th>\n",
       "      <td>ZZZ.US</td>\n",
       "      <td>2024-05-29</td>\n",
       "      <td>0</td>\n",
       "      <td>24.8500</td>\n",
       "      <td>24.8500</td>\n",
       "      <td>24.8359</td>\n",
       "      <td>24.839847</td>\n",
       "      <td>8.910000e+02</td>\n",
       "    </tr>\n",
       "    <tr>\n",
       "      <th>13848046</th>\n",
       "      <td>ZZZ.US</td>\n",
       "      <td>2024-05-30</td>\n",
       "      <td>0</td>\n",
       "      <td>24.9700</td>\n",
       "      <td>24.9850</td>\n",
       "      <td>24.8544</td>\n",
       "      <td>24.861806</td>\n",
       "      <td>1.127000e+03</td>\n",
       "    </tr>\n",
       "    <tr>\n",
       "      <th>13848047</th>\n",
       "      <td>ZZZ.US</td>\n",
       "      <td>2024-05-31</td>\n",
       "      <td>0</td>\n",
       "      <td>24.8794</td>\n",
       "      <td>24.8794</td>\n",
       "      <td>24.8794</td>\n",
       "      <td>24.881452</td>\n",
       "      <td>2.000000e+00</td>\n",
       "    </tr>\n",
       "  </tbody>\n",
       "</table>\n",
       "<p>18454002 rows × 8 columns</p>\n",
       "</div>"
      ],
      "text/plain": [
       "         <TICKER>     <DATE>  <TIME>   <OPEN>   <HIGH>    <LOW>    <CLOSE>  \\\n",
       "6436603      A.US 1999-11-18       0  29.5594  32.4842  25.9889  28.587218   \n",
       "6436604      A.US 1999-11-19       0  27.8972  27.9371  25.8613  26.236844   \n",
       "6436605      A.US 1999-11-22       0  26.8370  28.5858  26.0278  28.594415   \n",
       "6436606      A.US 1999-11-23       0  27.6102  28.3377  25.9889  25.996196   \n",
       "6436607      A.US 1999-11-24       0  26.0637  27.2445  25.9889  26.681633   \n",
       "...           ...        ...     ...      ...      ...      ...        ...   \n",
       "13848043   ZZZ.US 2024-05-24       0  25.0800  25.1784  25.0800  25.183622   \n",
       "13848044   ZZZ.US 2024-05-28       0  25.0000  25.0100  25.0000  25.015777   \n",
       "13848045   ZZZ.US 2024-05-29       0  24.8500  24.8500  24.8359  24.839847   \n",
       "13848046   ZZZ.US 2024-05-30       0  24.9700  24.9850  24.8544  24.861806   \n",
       "13848047   ZZZ.US 2024-05-31       0  24.8794  24.8794  24.8794  24.881452   \n",
       "\n",
       "                 <VOL>  \n",
       "6436603   6.886678e+07  \n",
       "6436604   1.677358e+07  \n",
       "6436605   7.242576e+06  \n",
       "6436606   6.579458e+06  \n",
       "6436607   5.332648e+06  \n",
       "...                ...  \n",
       "13848043  4.060000e+02  \n",
       "13848044  2.769000e+03  \n",
       "13848045  8.910000e+02  \n",
       "13848046  1.127000e+03  \n",
       "13848047  2.000000e+00  \n",
       "\n",
       "[18454002 rows x 8 columns]"
      ]
     },
     "execution_count": 6,
     "metadata": {},
     "output_type": "execute_result"
    }
   ],
   "source": [
    "prices = build_prices_table(stooq_dir, period, market)\n",
    "add_one_cent_noise(prices)"
   ]
  },
  {
   "cell_type": "markdown",
   "metadata": {},
   "source": [
    "### Criação de variáveis"
   ]
  },
  {
   "cell_type": "code",
   "execution_count": 7,
   "metadata": {},
   "outputs": [],
   "source": [
    "add_columns_prices(prices)\n",
    "#prices = pd.read_parquet(Path(f'data/stooq/{period}/{market}/all_stocks_processed.parquet'))\n",
    "prices.columns = [col[1:-1].lower() for col in prices.columns]\n",
    "prices['delta_date'] = prices.date - prices.groupby('ticker')['date'].shift()\n",
    "prices['daily_log_return'] = prices.log_return / prices.delta_date.dt.days"
   ]
  },
  {
   "cell_type": "code",
   "execution_count": 8,
   "metadata": {},
   "outputs": [],
   "source": [
    "prices['cik'] = prices.ticker.map(cik_by_ticker)\n",
    "prices.dropna(inplace=True)\n",
    "prices['cik'] = prices.cik.astype(int)"
   ]
  },
  {
   "cell_type": "markdown",
   "metadata": {},
   "source": [
    "### Formatação final"
   ]
  },
  {
   "cell_type": "code",
   "execution_count": 9,
   "metadata": {},
   "outputs": [],
   "source": [
    "prices.drop(columns=['open', 'high', 'low', 'vol', 'delta_date', 'daily_log_return'], inplace=True, errors='ignore')\n",
    "prices.set_index(['cik', 'date'], inplace=True)\n",
    "prices.drop_duplicates(inplace=True)"
   ]
  },
  {
   "cell_type": "markdown",
   "metadata": {},
   "source": [
    "## Contrução da tabela de fundamentos\n",
    "\n",
    "### Aquisição dos Dados"
   ]
  },
  {
   "cell_type": "code",
   "execution_count": 10,
   "metadata": {},
   "outputs": [
    {
     "data": {
      "application/vnd.jupyter.widget-view+json": {
       "model_id": "4550a3d8bf7149a1be44e0e389b64e7c",
       "version_major": 2,
       "version_minor": 0
      },
      "text/plain": [
       "  0%|          | 0/2 [00:00<?, ?it/s]"
      ]
     },
     "metadata": {},
     "output_type": "display_data"
    },
    {
     "data": {
      "application/vnd.jupyter.widget-view+json": {
       "model_id": "3ff5eb3553b14c65b3811cd1b8a62846",
       "version_major": 2,
       "version_minor": 0
      },
      "text/plain": [
       "  0%|          | 0/5719 [00:00<?, ?it/s]"
      ]
     },
     "metadata": {},
     "output_type": "display_data"
    },
    {
     "ename": "ValueError",
     "evalue": "No objects to concatenate",
     "output_type": "error",
     "traceback": [
      "\u001b[0;31m---------------------------------------------------------------------------\u001b[0m",
      "\u001b[0;31mValueError\u001b[0m                                Traceback (most recent call last)",
      "Cell \u001b[0;32mIn [10], line 13\u001b[0m\n\u001b[1;32m     11\u001b[0m companies \u001b[38;5;241m=\u001b[39m prices\u001b[38;5;241m.\u001b[39mindex\u001b[38;5;241m.\u001b[39mget_level_values(\u001b[38;5;124m'\u001b[39m\u001b[38;5;124mcik\u001b[39m\u001b[38;5;124m'\u001b[39m)\u001b[38;5;241m.\u001b[39munique()\n\u001b[1;32m     12\u001b[0m \u001b[38;5;28;01mfor\u001b[39;00m column_name, (unit, col_alias) \u001b[38;5;129;01min\u001b[39;00m tqdm(fundamentals_raw\u001b[38;5;241m.\u001b[39mitems()):\n\u001b[0;32m---> 13\u001b[0m     fundamentals_raw[column_name] \u001b[38;5;241m=\u001b[39m \u001b[43mbuild_fundamental_col\u001b[49m\u001b[43m(\u001b[49m\u001b[43mfundamentals_dir\u001b[49m\u001b[43m,\u001b[49m\u001b[43m \u001b[49m\u001b[43mcolumn_name\u001b[49m\u001b[43m,\u001b[49m\u001b[43m \u001b[49m\u001b[43munit\u001b[49m\u001b[43m,\u001b[49m\u001b[43m \u001b[49m\u001b[43mcol_alias\u001b[49m\u001b[43m,\u001b[49m\u001b[43m \u001b[49m\u001b[43mcompanies\u001b[49m\u001b[43m)\u001b[49m\n",
      "File \u001b[0;32m~/Documentos/Projetos/stock_market_analisys/sec.py:89\u001b[0m, in \u001b[0;36mbuild_fundamental_col\u001b[0;34m(directory, column_name, unit, column_alias, companies)\u001b[0m\n\u001b[1;32m     86\u001b[0m     \u001b[38;5;28;01mexcept\u001b[39;00m \u001b[38;5;167;01mValueError\u001b[39;00m \u001b[38;5;28;01mas\u001b[39;00m ve:\n\u001b[1;32m     87\u001b[0m         \u001b[38;5;66;03m#display(ve)\u001b[39;00m\n\u001b[1;32m     88\u001b[0m         \u001b[38;5;28;01mcontinue\u001b[39;00m\n\u001b[0;32m---> 89\u001b[0m time_series \u001b[38;5;241m=\u001b[39m \u001b[43mpd\u001b[49m\u001b[38;5;241;43m.\u001b[39;49m\u001b[43mconcat\u001b[49m\u001b[43m(\u001b[49m\u001b[43mtime_series\u001b[49m\u001b[43m)\u001b[49m\u001b[38;5;241m.\u001b[39mrename({\u001b[38;5;124m'\u001b[39m\u001b[38;5;124mval\u001b[39m\u001b[38;5;124m'\u001b[39m: column_alias}, axis\u001b[38;5;241m=\u001b[39m\u001b[38;5;124m'\u001b[39m\u001b[38;5;124mcolumns\u001b[39m\u001b[38;5;124m'\u001b[39m)\n\u001b[1;32m     90\u001b[0m \u001b[38;5;66;03m#display(time_series.columns)\u001b[39;00m\n\u001b[1;32m     91\u001b[0m \u001b[38;5;28;01mreturn\u001b[39;00m time_series\n",
      "File \u001b[0;32m~/.local/lib/python3.10/site-packages/pandas/core/reshape/concat.py:382\u001b[0m, in \u001b[0;36mconcat\u001b[0;34m(objs, axis, join, ignore_index, keys, levels, names, verify_integrity, sort, copy)\u001b[0m\n\u001b[1;32m    379\u001b[0m \u001b[38;5;28;01melif\u001b[39;00m copy \u001b[38;5;129;01mand\u001b[39;00m using_copy_on_write():\n\u001b[1;32m    380\u001b[0m     copy \u001b[38;5;241m=\u001b[39m \u001b[38;5;28;01mFalse\u001b[39;00m\n\u001b[0;32m--> 382\u001b[0m op \u001b[38;5;241m=\u001b[39m \u001b[43m_Concatenator\u001b[49m\u001b[43m(\u001b[49m\n\u001b[1;32m    383\u001b[0m \u001b[43m    \u001b[49m\u001b[43mobjs\u001b[49m\u001b[43m,\u001b[49m\n\u001b[1;32m    384\u001b[0m \u001b[43m    \u001b[49m\u001b[43maxis\u001b[49m\u001b[38;5;241;43m=\u001b[39;49m\u001b[43maxis\u001b[49m\u001b[43m,\u001b[49m\n\u001b[1;32m    385\u001b[0m \u001b[43m    \u001b[49m\u001b[43mignore_index\u001b[49m\u001b[38;5;241;43m=\u001b[39;49m\u001b[43mignore_index\u001b[49m\u001b[43m,\u001b[49m\n\u001b[1;32m    386\u001b[0m \u001b[43m    \u001b[49m\u001b[43mjoin\u001b[49m\u001b[38;5;241;43m=\u001b[39;49m\u001b[43mjoin\u001b[49m\u001b[43m,\u001b[49m\n\u001b[1;32m    387\u001b[0m \u001b[43m    \u001b[49m\u001b[43mkeys\u001b[49m\u001b[38;5;241;43m=\u001b[39;49m\u001b[43mkeys\u001b[49m\u001b[43m,\u001b[49m\n\u001b[1;32m    388\u001b[0m \u001b[43m    \u001b[49m\u001b[43mlevels\u001b[49m\u001b[38;5;241;43m=\u001b[39;49m\u001b[43mlevels\u001b[49m\u001b[43m,\u001b[49m\n\u001b[1;32m    389\u001b[0m \u001b[43m    \u001b[49m\u001b[43mnames\u001b[49m\u001b[38;5;241;43m=\u001b[39;49m\u001b[43mnames\u001b[49m\u001b[43m,\u001b[49m\n\u001b[1;32m    390\u001b[0m \u001b[43m    \u001b[49m\u001b[43mverify_integrity\u001b[49m\u001b[38;5;241;43m=\u001b[39;49m\u001b[43mverify_integrity\u001b[49m\u001b[43m,\u001b[49m\n\u001b[1;32m    391\u001b[0m \u001b[43m    \u001b[49m\u001b[43mcopy\u001b[49m\u001b[38;5;241;43m=\u001b[39;49m\u001b[43mcopy\u001b[49m\u001b[43m,\u001b[49m\n\u001b[1;32m    392\u001b[0m \u001b[43m    \u001b[49m\u001b[43msort\u001b[49m\u001b[38;5;241;43m=\u001b[39;49m\u001b[43msort\u001b[49m\u001b[43m,\u001b[49m\n\u001b[1;32m    393\u001b[0m \u001b[43m\u001b[49m\u001b[43m)\u001b[49m\n\u001b[1;32m    395\u001b[0m \u001b[38;5;28;01mreturn\u001b[39;00m op\u001b[38;5;241m.\u001b[39mget_result()\n",
      "File \u001b[0;32m~/.local/lib/python3.10/site-packages/pandas/core/reshape/concat.py:445\u001b[0m, in \u001b[0;36m_Concatenator.__init__\u001b[0;34m(self, objs, axis, join, keys, levels, names, ignore_index, verify_integrity, copy, sort)\u001b[0m\n\u001b[1;32m    442\u001b[0m \u001b[38;5;28mself\u001b[39m\u001b[38;5;241m.\u001b[39mverify_integrity \u001b[38;5;241m=\u001b[39m verify_integrity\n\u001b[1;32m    443\u001b[0m \u001b[38;5;28mself\u001b[39m\u001b[38;5;241m.\u001b[39mcopy \u001b[38;5;241m=\u001b[39m copy\n\u001b[0;32m--> 445\u001b[0m objs, keys \u001b[38;5;241m=\u001b[39m \u001b[38;5;28;43mself\u001b[39;49m\u001b[38;5;241;43m.\u001b[39;49m\u001b[43m_clean_keys_and_objs\u001b[49m\u001b[43m(\u001b[49m\u001b[43mobjs\u001b[49m\u001b[43m,\u001b[49m\u001b[43m \u001b[49m\u001b[43mkeys\u001b[49m\u001b[43m)\u001b[49m\n\u001b[1;32m    447\u001b[0m \u001b[38;5;66;03m# figure out what our result ndim is going to be\u001b[39;00m\n\u001b[1;32m    448\u001b[0m ndims \u001b[38;5;241m=\u001b[39m \u001b[38;5;28mself\u001b[39m\u001b[38;5;241m.\u001b[39m_get_ndims(objs)\n",
      "File \u001b[0;32m~/.local/lib/python3.10/site-packages/pandas/core/reshape/concat.py:507\u001b[0m, in \u001b[0;36m_Concatenator._clean_keys_and_objs\u001b[0;34m(self, objs, keys)\u001b[0m\n\u001b[1;32m    504\u001b[0m     objs_list \u001b[38;5;241m=\u001b[39m \u001b[38;5;28mlist\u001b[39m(objs)\n\u001b[1;32m    506\u001b[0m \u001b[38;5;28;01mif\u001b[39;00m \u001b[38;5;28mlen\u001b[39m(objs_list) \u001b[38;5;241m==\u001b[39m \u001b[38;5;241m0\u001b[39m:\n\u001b[0;32m--> 507\u001b[0m     \u001b[38;5;28;01mraise\u001b[39;00m \u001b[38;5;167;01mValueError\u001b[39;00m(\u001b[38;5;124m\"\u001b[39m\u001b[38;5;124mNo objects to concatenate\u001b[39m\u001b[38;5;124m\"\u001b[39m)\n\u001b[1;32m    509\u001b[0m \u001b[38;5;28;01mif\u001b[39;00m keys \u001b[38;5;129;01mis\u001b[39;00m \u001b[38;5;28;01mNone\u001b[39;00m:\n\u001b[1;32m    510\u001b[0m     objs_list \u001b[38;5;241m=\u001b[39m \u001b[38;5;28mlist\u001b[39m(com\u001b[38;5;241m.\u001b[39mnot_none(\u001b[38;5;241m*\u001b[39mobjs_list))\n",
      "\u001b[0;31mValueError\u001b[0m: No objects to concatenate"
     ]
    }
   ],
   "source": [
    "fundamentals_raw = {\n",
    "    #'Revenues': ('USD', 'revenue'),\n",
    "    'NetIncomeLoss': ('USD', 'net_income'),\n",
    "    #'OperatingExpenses': ('USD', 'op_costs'),\n",
    "    #'InterestExpense': ('USD', 'interest_paid'),\n",
    "    #'IncomeTaxesPaidNet': ('USD', 'taxes_paid'),\n",
    "    'EarningsPerShareDiluted': ('USD/shares', 'eps'),\n",
    "    #'DepreciationAndAmortization': ('USD', 'deprec_amort'),\n",
    "    #'CommonStockSharesOutstanding': ('shares', 'share_count')\n",
    "}\n",
    "companies = prices.index.get_level_values('cik').unique()\n",
    "for column_name, (unit, col_alias) in tqdm(fundamentals_raw.items()):\n",
    "    fundamentals_raw[column_name] = build_fundamental_col(fundamentals_dir, column_name, unit, col_alias, companies)\n"
   ]
  },
  {
   "cell_type": "code",
   "execution_count": 8,
   "metadata": {},
   "outputs": [],
   "source": [
    "fundamentals = fundamentals_raw['NetIncomeLoss']\\\n",
    "    .join(fundamentals_raw['EarningsPerShareDiluted'], how='outer')\\\n",
    "#    .join(fundamentals_raw['Revenues'], how='outer')\\\n",
    "#    .join(fundamentals_raw['OperatingExpenses'], how='outer')\\\n",
    "#    .join(fundamentals_raw['CommonStockSharesOutstanding'], how='outer')\n"
   ]
  },
  {
   "cell_type": "code",
   "execution_count": 9,
   "metadata": {},
   "outputs": [],
   "source": [
    "fundamentals.to_parquet('data/sec/fundamentals_processed.parquet')"
   ]
  },
  {
   "cell_type": "markdown",
   "metadata": {},
   "source": [
    "### Limpeza dos dados"
   ]
  },
  {
   "cell_type": "code",
   "execution_count": 9,
   "metadata": {},
   "outputs": [],
   "source": [
    "fundamentals = pd.read_parquet('data/sec/fundamentals_processed.parquet')"
   ]
  },
  {
   "cell_type": "code",
   "execution_count": 10,
   "metadata": {},
   "outputs": [],
   "source": [
    "#fundamentals['revenue'] = fundamentals['revenue'].fillna(fundamentals['op_costs'] + fundamentals['net_income'])\n",
    "#fundamentals['cost_margin'] = fundamentals['op_costs'] / fundamentals['revenue']\n",
    "fundamentals['adj_factor'] = (fundamentals['net_income'] / fundamentals['eps'])\n",
    "fundamentals['eps_adj_factor'] = fundamentals['adj_factor'] / fundamentals['adj_factor'].groupby(level='cik').last()\n",
    "#fundamentals['rps'] = fundamentals['revenue'] / fundamentals['adj_factor']\n",
    "fundamentals['eps'] = fundamentals['eps'] * fundamentals['eps_adj_factor']\n",
    "fundamentals = fundamentals[['eps']]"
   ]
  },
  {
   "cell_type": "markdown",
   "metadata": {},
   "source": [
    "### Criação de variáveis"
   ]
  },
  {
   "cell_type": "code",
   "execution_count": 11,
   "metadata": {},
   "outputs": [],
   "source": [
    "fundamentals.sort_index(inplace=True)\n",
    "fundamentals = {'lag_0': fundamentals}\n",
    "for i in range(1, 5):\n",
    "    fundamentals[f'lag_{i}'] = fundamentals[f'lag_{i-1}'].groupby(level='cik').shift()"
   ]
  },
  {
   "cell_type": "code",
   "execution_count": 12,
   "metadata": {},
   "outputs": [],
   "source": [
    "fundamentals = pd.concat(fundamentals, axis='columns')\n",
    "rename_map = {\n",
    "    'filed': 'date', \n",
    "    #'val_eps': 'eps', \n",
    "    #'val': 'op_costs', \n",
    "    #'val_interest': 'interest_paid', \n",
    "    #'val_taxes': 'taxes_paid',\n",
    "    #'val_deprec_amort': 'deprec_amort',\n",
    "}\n",
    "fundamentals = fundamentals.reset_index().rename(rename_map, axis='columns').set_index(['cik', 'date'])\n",
    "fundamentals.columns = [f'{col}_{lag}' for lag, col in fundamentals.columns]"
   ]
  },
  {
   "cell_type": "code",
   "execution_count": 13,
   "metadata": {},
   "outputs": [],
   "source": [
    "fundamentals['eps_moving_sum'] = fundamentals.eps_lag_0 + fundamentals.eps_lag_1 + fundamentals.eps_lag_2 + fundamentals.eps_lag_3\n",
    "fundamentals['eps_growth'] = fundamentals.eps_lag_0 / fundamentals.eps_lag_4"
   ]
  },
  {
   "cell_type": "markdown",
   "metadata": {},
   "source": [
    "## Construção da tabela final"
   ]
  },
  {
   "cell_type": "code",
   "execution_count": 14,
   "metadata": {},
   "outputs": [],
   "source": [
    "final_table = prices.merge(fundamentals, 'outer', left_index=True, right_index=True)\n",
    "final_table.sort_index(inplace=True)\n",
    "final_table.iloc[:,5:] = final_table.iloc[:,5:].groupby(level='cik').ffill(limit=65)"
   ]
  },
  {
   "cell_type": "markdown",
   "metadata": {},
   "source": [
    "### Criação de variáveis\n",
    "\n",
    "#### Earnings yield ajustado\n",
    "\n",
    "Trata-se do $earnings\\_yield + 1$. Foi escolhida esta métrica pelos seguintes motivos:\n",
    " - Raramente dá valores negativos, o que permite o processamento em escala logarítmica;\n",
    " - Depende de dois dados relativamente fáceis de obter: o preço e o EPS;\n",
    " - É relativamente estável no tempo;"
   ]
  },
  {
   "cell_type": "code",
   "execution_count": 15,
   "metadata": {},
   "outputs": [
    {
     "name": "stderr",
     "output_type": "stream",
     "text": [
      "/home/pedro/.local/lib/python3.10/site-packages/pandas/core/arraylike.py:399: RuntimeWarning: invalid value encountered in log\n",
      "  result = getattr(ufunc, method)(*inputs, **kwargs)\n",
      "/home/pedro/.local/lib/python3.10/site-packages/pandas/core/arraylike.py:399: RuntimeWarning: invalid value encountered in log\n",
      "  result = getattr(ufunc, method)(*inputs, **kwargs)\n"
     ]
    }
   ],
   "source": [
    "final_table['yesterday_close'] = final_table['close'].groupby(level='cik').shift()\n",
    "final_table['log_yday_close'] = np.log(final_table['yesterday_close'])\n",
    "\n",
    "final_table[f'adj_ey_ms'] = 1 + (final_table[f'eps_moving_sum'] / final_table['yesterday_close'])\n",
    "final_table[f'log_adj_ey_ms'] = np.log(final_table[f'adj_ey_ms'])\n",
    "\n",
    "final_table[f'adj_ey_delta'] = 1 + (final_table[f'eps_growth'] / final_table['yesterday_close'])\n",
    "final_table[f'log_adj_ey_delta'] = np.log(final_table[f'adj_ey_delta'])"
   ]
  },
  {
   "cell_type": "code",
   "execution_count": 16,
   "metadata": {},
   "outputs": [],
   "source": [
    "final_table['log_adj_ey_l1'] = final_table['log_adj_ey_ms'] - final_table['log_adj_ey_ms'].groupby('cik').shift()\n",
    "final_table['log_adj_ey_l2'] = final_table['log_adj_ey_l1'] - final_table['log_adj_ey_l1'].groupby('cik').shift()"
   ]
  },
  {
   "cell_type": "code",
   "execution_count": 17,
   "metadata": {},
   "outputs": [],
   "source": [
    "interest_rate = pd.read_csv(f'{stooq_dir}/daily/macro/us/inrtus.m.txt')\n",
    "interest_rate = interest_rate[['<DATE>', '<CLOSE>']].copy()"
   ]
  },
  {
   "cell_type": "code",
   "execution_count": 18,
   "metadata": {},
   "outputs": [],
   "source": [
    "interest_rate.rename(columns={'<DATE>': 'date', '<CLOSE>': 'interest'}, inplace=True) \n",
    "interest_rate['date'] = pd.to_datetime(interest_rate['date'].astype(str))\n",
    "interest_rate.set_index('date', inplace=True)\n",
    "interest_rate.sort_index(inplace=True)\n",
    "final_table = final_table.join(interest_rate, how='left')"
   ]
  },
  {
   "cell_type": "code",
   "execution_count": 19,
   "metadata": {},
   "outputs": [],
   "source": [
    "final_table['interest'] = final_table['interest'].groupby(level='cik').ffill()\n",
    "final_table['interest'] = 1 + (final_table.interest / 100)\n",
    "final_table['log_interest'] = np.log(final_table.interest)"
   ]
  },
  {
   "cell_type": "markdown",
   "metadata": {},
   "source": [
    "### Limpeza final"
   ]
  },
  {
   "cell_type": "code",
   "execution_count": 20,
   "metadata": {},
   "outputs": [
    {
     "data": {
      "text/html": [
       "<div>\n",
       "<style scoped>\n",
       "    .dataframe tbody tr th:only-of-type {\n",
       "        vertical-align: middle;\n",
       "    }\n",
       "\n",
       "    .dataframe tbody tr th {\n",
       "        vertical-align: top;\n",
       "    }\n",
       "\n",
       "    .dataframe thead th {\n",
       "        text-align: right;\n",
       "    }\n",
       "</style>\n",
       "<table border=\"1\" class=\"dataframe\">\n",
       "  <thead>\n",
       "    <tr style=\"text-align: right;\">\n",
       "      <th></th>\n",
       "      <th></th>\n",
       "      <th>ticker</th>\n",
       "      <th>log_close</th>\n",
       "      <th>log_return</th>\n",
       "      <th>log_yday_close</th>\n",
       "      <th>log_adj_ey_ms</th>\n",
       "      <th>log_adj_ey_l1</th>\n",
       "      <th>log_adj_ey_l2</th>\n",
       "      <th>log_interest</th>\n",
       "      <th>eps_moving_sum</th>\n",
       "    </tr>\n",
       "    <tr>\n",
       "      <th>cik</th>\n",
       "      <th>date</th>\n",
       "      <th></th>\n",
       "      <th></th>\n",
       "      <th></th>\n",
       "      <th></th>\n",
       "      <th></th>\n",
       "      <th></th>\n",
       "      <th></th>\n",
       "      <th></th>\n",
       "      <th></th>\n",
       "    </tr>\n",
       "  </thead>\n",
       "  <tbody>\n",
       "    <tr>\n",
       "      <th rowspan=\"5\" valign=\"top\">1750</th>\n",
       "      <th>2005-02-28</th>\n",
       "      <td>AIR.US</td>\n",
       "      <td>2.307446</td>\n",
       "      <td>-0.025424</td>\n",
       "      <td>NaN</td>\n",
       "      <td>NaN</td>\n",
       "      <td>NaN</td>\n",
       "      <td>NaN</td>\n",
       "      <td>NaN</td>\n",
       "      <td>NaN</td>\n",
       "    </tr>\n",
       "    <tr>\n",
       "      <th>2005-03-01</th>\n",
       "      <td>AIR.US</td>\n",
       "      <td>2.360316</td>\n",
       "      <td>0.052871</td>\n",
       "      <td>2.307446</td>\n",
       "      <td>NaN</td>\n",
       "      <td>NaN</td>\n",
       "      <td>NaN</td>\n",
       "      <td>NaN</td>\n",
       "      <td>NaN</td>\n",
       "    </tr>\n",
       "    <tr>\n",
       "      <th>2005-03-02</th>\n",
       "      <td>AIR.US</td>\n",
       "      <td>2.347999</td>\n",
       "      <td>-0.012318</td>\n",
       "      <td>2.360316</td>\n",
       "      <td>NaN</td>\n",
       "      <td>NaN</td>\n",
       "      <td>NaN</td>\n",
       "      <td>NaN</td>\n",
       "      <td>NaN</td>\n",
       "    </tr>\n",
       "    <tr>\n",
       "      <th>2005-03-03</th>\n",
       "      <td>AIR.US</td>\n",
       "      <td>2.346812</td>\n",
       "      <td>-0.001187</td>\n",
       "      <td>2.347999</td>\n",
       "      <td>NaN</td>\n",
       "      <td>NaN</td>\n",
       "      <td>NaN</td>\n",
       "      <td>NaN</td>\n",
       "      <td>NaN</td>\n",
       "    </tr>\n",
       "    <tr>\n",
       "      <th>2005-03-04</th>\n",
       "      <td>AIR.US</td>\n",
       "      <td>2.390784</td>\n",
       "      <td>0.043972</td>\n",
       "      <td>2.346812</td>\n",
       "      <td>NaN</td>\n",
       "      <td>NaN</td>\n",
       "      <td>NaN</td>\n",
       "      <td>NaN</td>\n",
       "      <td>NaN</td>\n",
       "    </tr>\n",
       "    <tr>\n",
       "      <th>...</th>\n",
       "      <th>...</th>\n",
       "      <td>...</td>\n",
       "      <td>...</td>\n",
       "      <td>...</td>\n",
       "      <td>...</td>\n",
       "      <td>...</td>\n",
       "      <td>...</td>\n",
       "      <td>...</td>\n",
       "      <td>...</td>\n",
       "      <td>...</td>\n",
       "    </tr>\n",
       "    <tr>\n",
       "      <th rowspan=\"5\" valign=\"top\">2012807</th>\n",
       "      <th>2024-05-24</th>\n",
       "      <td>RFAIU.US</td>\n",
       "      <td>2.311411</td>\n",
       "      <td>0.002199</td>\n",
       "      <td>2.309211</td>\n",
       "      <td>NaN</td>\n",
       "      <td>NaN</td>\n",
       "      <td>NaN</td>\n",
       "      <td>NaN</td>\n",
       "      <td>NaN</td>\n",
       "    </tr>\n",
       "    <tr>\n",
       "      <th>2024-05-28</th>\n",
       "      <td>RFAIU.US</td>\n",
       "      <td>2.308905</td>\n",
       "      <td>-0.002506</td>\n",
       "      <td>2.311411</td>\n",
       "      <td>NaN</td>\n",
       "      <td>NaN</td>\n",
       "      <td>NaN</td>\n",
       "      <td>NaN</td>\n",
       "      <td>NaN</td>\n",
       "    </tr>\n",
       "    <tr>\n",
       "      <th>2024-05-29</th>\n",
       "      <td>RFAIU.US</td>\n",
       "      <td>2.308589</td>\n",
       "      <td>-0.000317</td>\n",
       "      <td>2.308905</td>\n",
       "      <td>NaN</td>\n",
       "      <td>NaN</td>\n",
       "      <td>NaN</td>\n",
       "      <td>NaN</td>\n",
       "      <td>NaN</td>\n",
       "    </tr>\n",
       "    <tr>\n",
       "      <th>2024-05-30</th>\n",
       "      <td>RFAIU.US</td>\n",
       "      <td>2.310208</td>\n",
       "      <td>0.001619</td>\n",
       "      <td>2.308589</td>\n",
       "      <td>NaN</td>\n",
       "      <td>NaN</td>\n",
       "      <td>NaN</td>\n",
       "      <td>NaN</td>\n",
       "      <td>NaN</td>\n",
       "    </tr>\n",
       "    <tr>\n",
       "      <th>2024-05-31</th>\n",
       "      <td>RFAIU.US</td>\n",
       "      <td>2.311029</td>\n",
       "      <td>0.000821</td>\n",
       "      <td>2.310208</td>\n",
       "      <td>NaN</td>\n",
       "      <td>NaN</td>\n",
       "      <td>NaN</td>\n",
       "      <td>NaN</td>\n",
       "      <td>NaN</td>\n",
       "    </tr>\n",
       "  </tbody>\n",
       "</table>\n",
       "<p>17600062 rows × 9 columns</p>\n",
       "</div>"
      ],
      "text/plain": [
       "                      ticker  log_close  log_return  log_yday_close  \\\n",
       "cik     date                                                          \n",
       "1750    2005-02-28    AIR.US   2.307446   -0.025424             NaN   \n",
       "        2005-03-01    AIR.US   2.360316    0.052871        2.307446   \n",
       "        2005-03-02    AIR.US   2.347999   -0.012318        2.360316   \n",
       "        2005-03-03    AIR.US   2.346812   -0.001187        2.347999   \n",
       "        2005-03-04    AIR.US   2.390784    0.043972        2.346812   \n",
       "...                      ...        ...         ...             ...   \n",
       "2012807 2024-05-24  RFAIU.US   2.311411    0.002199        2.309211   \n",
       "        2024-05-28  RFAIU.US   2.308905   -0.002506        2.311411   \n",
       "        2024-05-29  RFAIU.US   2.308589   -0.000317        2.308905   \n",
       "        2024-05-30  RFAIU.US   2.310208    0.001619        2.308589   \n",
       "        2024-05-31  RFAIU.US   2.311029    0.000821        2.310208   \n",
       "\n",
       "                    log_adj_ey_ms  log_adj_ey_l1  log_adj_ey_l2  log_interest  \\\n",
       "cik     date                                                                    \n",
       "1750    2005-02-28            NaN            NaN            NaN           NaN   \n",
       "        2005-03-01            NaN            NaN            NaN           NaN   \n",
       "        2005-03-02            NaN            NaN            NaN           NaN   \n",
       "        2005-03-03            NaN            NaN            NaN           NaN   \n",
       "        2005-03-04            NaN            NaN            NaN           NaN   \n",
       "...                           ...            ...            ...           ...   \n",
       "2012807 2024-05-24            NaN            NaN            NaN           NaN   \n",
       "        2024-05-28            NaN            NaN            NaN           NaN   \n",
       "        2024-05-29            NaN            NaN            NaN           NaN   \n",
       "        2024-05-30            NaN            NaN            NaN           NaN   \n",
       "        2024-05-31            NaN            NaN            NaN           NaN   \n",
       "\n",
       "                    eps_moving_sum  \n",
       "cik     date                        \n",
       "1750    2005-02-28             NaN  \n",
       "        2005-03-01             NaN  \n",
       "        2005-03-02             NaN  \n",
       "        2005-03-03             NaN  \n",
       "        2005-03-04             NaN  \n",
       "...                            ...  \n",
       "2012807 2024-05-24             NaN  \n",
       "        2024-05-28             NaN  \n",
       "        2024-05-29             NaN  \n",
       "        2024-05-30             NaN  \n",
       "        2024-05-31             NaN  \n",
       "\n",
       "[17600062 rows x 9 columns]"
      ]
     },
     "execution_count": 20,
     "metadata": {},
     "output_type": "execute_result"
    }
   ],
   "source": [
    "final_table = final_table.replace([-np.inf, np.inf], np.nan)\n",
    "final_table = final_table[['ticker', 'log_close', 'log_return', 'log_yday_close', 'log_adj_ey_ms', 'log_adj_ey_l1', 'log_adj_ey_l2', 'log_interest', 'eps_moving_sum']]\n",
    "final_table.to_parquet('data/final_table.parquet')\n",
    "final_table"
   ]
  },
  {
   "cell_type": "markdown",
   "metadata": {},
   "source": [
    "## Treinamento do modelo"
   ]
  },
  {
   "cell_type": "code",
   "execution_count": 21,
   "metadata": {},
   "outputs": [],
   "source": [
    "final_table = pd.read_parquet('data/final_table.parquet')"
   ]
  },
  {
   "cell_type": "code",
   "execution_count": 22,
   "metadata": {},
   "outputs": [],
   "source": [
    "from statsmodels.graphics.tsaplots import plot_acf, plot_pacf\n",
    "from statsmodels.tsa.arima.model import ARIMA\n",
    "import statsmodels.formula.api as smf\n",
    "import statsmodels.api as sm"
   ]
  },
  {
   "cell_type": "code",
   "execution_count": 23,
   "metadata": {},
   "outputs": [],
   "source": [
    "sample_ciks = [cik_by_ticker[ticker] for ticker in ['LLY.US']]\n",
    "sample_table = final_table[final_table.index.get_level_values('cik').isin(sample_ciks)].dropna()"
   ]
  },
  {
   "cell_type": "code",
   "execution_count": 24,
   "metadata": {},
   "outputs": [],
   "source": [
    "#sample_table = final_table.dropna()"
   ]
  },
  {
   "cell_type": "markdown",
   "metadata": {},
   "source": [
    "Para ver o que acontece quando incluimos todas as empresas no modelo, descomente a célula acima e comenta a anterior."
   ]
  },
  {
   "cell_type": "markdown",
   "metadata": {},
   "source": [
    "### Exploração de dados"
   ]
  },
  {
   "cell_type": "code",
   "execution_count": 25,
   "metadata": {},
   "outputs": [
    {
     "data": {
      "image/png": "[encoded data removed]",
      "text/plain": [
       "<Figure size 640x480 with 1 Axes>"
      ]
     },
     "metadata": {},
     "output_type": "display_data"
    }
   ],
   "source": [
    "pacf = plot_pacf(sample_table['log_adj_ey_ms'], lags=10)"
   ]
  },
  {
   "cell_type": "markdown",
   "metadata": {},
   "source": [
    "No gráfico de autocorrelação parcial, podemos ver que apenas um lag do earnings yield ajustado tem correlação com a variável final. "
   ]
  },
  {
   "cell_type": "code",
   "execution_count": 26,
   "metadata": {},
   "outputs": [
    {
     "data": {
      "text/html": [
       "<div>\n",
       "<style scoped>\n",
       "    .dataframe tbody tr th:only-of-type {\n",
       "        vertical-align: middle;\n",
       "    }\n",
       "\n",
       "    .dataframe tbody tr th {\n",
       "        vertical-align: top;\n",
       "    }\n",
       "\n",
       "    .dataframe thead th {\n",
       "        text-align: right;\n",
       "    }\n",
       "</style>\n",
       "<table border=\"1\" class=\"dataframe\">\n",
       "  <thead>\n",
       "    <tr style=\"text-align: right;\">\n",
       "      <th></th>\n",
       "      <th>log_adj_ey_ms</th>\n",
       "      <th>log_adj_ey_l1</th>\n",
       "      <th>log_adj_ey_l2</th>\n",
       "      <th>log_interest</th>\n",
       "    </tr>\n",
       "  </thead>\n",
       "  <tbody>\n",
       "    <tr>\n",
       "      <th>log_adj_ey_ms</th>\n",
       "      <td>1.000000</td>\n",
       "      <td>0.042986</td>\n",
       "      <td>0.005917</td>\n",
       "      <td>-0.609969</td>\n",
       "    </tr>\n",
       "    <tr>\n",
       "      <th>log_adj_ey_l1</th>\n",
       "      <td>0.042986</td>\n",
       "      <td>1.000000</td>\n",
       "      <td>0.745573</td>\n",
       "      <td>0.007537</td>\n",
       "    </tr>\n",
       "    <tr>\n",
       "      <th>log_adj_ey_l2</th>\n",
       "      <td>0.005917</td>\n",
       "      <td>0.745573</td>\n",
       "      <td>1.000000</td>\n",
       "      <td>-0.001898</td>\n",
       "    </tr>\n",
       "    <tr>\n",
       "      <th>log_interest</th>\n",
       "      <td>-0.609969</td>\n",
       "      <td>0.007537</td>\n",
       "      <td>-0.001898</td>\n",
       "      <td>1.000000</td>\n",
       "    </tr>\n",
       "  </tbody>\n",
       "</table>\n",
       "</div>"
      ],
      "text/plain": [
       "               log_adj_ey_ms  log_adj_ey_l1  log_adj_ey_l2  log_interest\n",
       "log_adj_ey_ms       1.000000       0.042986       0.005917     -0.609969\n",
       "log_adj_ey_l1       0.042986       1.000000       0.745573      0.007537\n",
       "log_adj_ey_l2       0.005917       0.745573       1.000000     -0.001898\n",
       "log_interest       -0.609969       0.007537      -0.001898      1.000000"
      ]
     },
     "execution_count": 26,
     "metadata": {},
     "output_type": "execute_result"
    }
   ],
   "source": [
    "sample_table[['log_adj_ey_ms', 'log_adj_ey_l1', 'log_adj_ey_l2', 'log_interest']].corr()"
   ]
  },
  {
   "cell_type": "markdown",
   "metadata": {},
   "source": [
    "Além disso, l1 e l2 são extremamente correlatos! Isso quer dizer que manter os dois só deixaria o modelo mais complexo.\n",
    "\n",
    "### Treinamento de um modelo"
   ]
  },
  {
   "cell_type": "code",
   "execution_count": 27,
   "metadata": {},
   "outputs": [
    {
     "data": {
      "text/html": [
       "<table class=\"simpletable\">\n",
       "<caption>OLS Regression Results</caption>\n",
       "<tr>\n",
       "  <th>Dep. Variable:</th>       <td>log_return</td>    <th>  R-squared:         </th> <td>   0.007</td>\n",
       "</tr>\n",
       "<tr>\n",
       "  <th>Model:</th>                   <td>OLS</td>       <th>  Adj. R-squared:    </th> <td>   0.003</td>\n",
       "</tr>\n",
       "<tr>\n",
       "  <th>Method:</th>             <td>Least Squares</td>  <th>  F-statistic:       </th> <td>   1.569</td>\n",
       "</tr>\n",
       "<tr>\n",
       "  <th>Date:</th>             <td>Sat, 12 Oct 2024</td> <th>  Prob (F-statistic):</th>  <td> 0.196</td> \n",
       "</tr>\n",
       "<tr>\n",
       "  <th>Time:</th>                 <td>15:02:37</td>     <th>  Log-Likelihood:    </th> <td>  1755.8</td>\n",
       "</tr>\n",
       "<tr>\n",
       "  <th>No. Observations:</th>      <td>   655</td>      <th>  AIC:               </th> <td>  -3504.</td>\n",
       "</tr>\n",
       "<tr>\n",
       "  <th>Df Residuals:</th>          <td>   651</td>      <th>  BIC:               </th> <td>  -3486.</td>\n",
       "</tr>\n",
       "<tr>\n",
       "  <th>Df Model:</th>              <td>     3</td>      <th>                     </th>     <td> </td>   \n",
       "</tr>\n",
       "<tr>\n",
       "  <th>Covariance Type:</th>      <td>nonrobust</td>    <th>                     </th>     <td> </td>   \n",
       "</tr>\n",
       "</table>\n",
       "<table class=\"simpletable\">\n",
       "<tr>\n",
       "        <td></td>           <th>coef</th>     <th>std err</th>      <th>t</th>      <th>P>|t|</th>  <th>[0.025</th>    <th>0.975]</th>  \n",
       "</tr>\n",
       "<tr>\n",
       "  <th>Intercept</th>     <td>    0.0009</td> <td>    0.003</td> <td>    0.314</td> <td> 0.754</td> <td>   -0.005</td> <td>    0.007</td>\n",
       "</tr>\n",
       "<tr>\n",
       "  <th>log_adj_ey_ms</th> <td>   -0.0077</td> <td>    0.090</td> <td>   -0.086</td> <td> 0.931</td> <td>   -0.184</td> <td>    0.168</td>\n",
       "</tr>\n",
       "<tr>\n",
       "  <th>log_adj_ey_l1</th> <td>    2.8644</td> <td>    1.322</td> <td>    2.167</td> <td> 0.031</td> <td>    0.269</td> <td>    5.459</td>\n",
       "</tr>\n",
       "<tr>\n",
       "  <th>log_interest</th>  <td>   -0.0086</td> <td>    0.064</td> <td>   -0.134</td> <td> 0.894</td> <td>   -0.134</td> <td>    0.117</td>\n",
       "</tr>\n",
       "</table>\n",
       "<table class=\"simpletable\">\n",
       "<tr>\n",
       "  <th>Omnibus:</th>       <td>114.425</td> <th>  Durbin-Watson:     </th> <td>   1.968</td>\n",
       "</tr>\n",
       "<tr>\n",
       "  <th>Prob(Omnibus):</th> <td> 0.000</td>  <th>  Jarque-Bera (JB):  </th> <td>1567.235</td>\n",
       "</tr>\n",
       "<tr>\n",
       "  <th>Skew:</th>          <td> 0.267</td>  <th>  Prob(JB):          </th> <td>    0.00</td>\n",
       "</tr>\n",
       "<tr>\n",
       "  <th>Kurtosis:</th>      <td>10.559</td>  <th>  Cond. No.          </th> <td>2.03e+03</td>\n",
       "</tr>\n",
       "</table><br/><br/>Notes:<br/>[1] Standard Errors assume that the covariance matrix of the errors is correctly specified.<br/>[2] The condition number is large, 2.03e+03. This might indicate that there are<br/>strong multicollinearity or other numerical problems."
      ],
      "text/latex": [
       "\\begin{center}\n",
       "\\begin{tabular}{lclc}\n",
       "\\toprule\n",
       "\\textbf{Dep. Variable:}    &   log\\_return    & \\textbf{  R-squared:         } &     0.007   \\\\\n",
       "\\textbf{Model:}            &       OLS        & \\textbf{  Adj. R-squared:    } &     0.003   \\\\\n",
       "\\textbf{Method:}           &  Least Squares   & \\textbf{  F-statistic:       } &     1.569   \\\\\n",
       "\\textbf{Date:}             & Sat, 12 Oct 2024 & \\textbf{  Prob (F-statistic):} &    0.196    \\\\\n",
       "\\textbf{Time:}             &     15:02:37     & \\textbf{  Log-Likelihood:    } &    1755.8   \\\\\n",
       "\\textbf{No. Observations:} &         655      & \\textbf{  AIC:               } &    -3504.   \\\\\n",
       "\\textbf{Df Residuals:}     &         651      & \\textbf{  BIC:               } &    -3486.   \\\\\n",
       "\\textbf{Df Model:}         &           3      & \\textbf{                     } &             \\\\\n",
       "\\textbf{Covariance Type:}  &    nonrobust     & \\textbf{                     } &             \\\\\n",
       "\\bottomrule\n",
       "\\end{tabular}\n",
       "\\begin{tabular}{lcccccc}\n",
       "                          & \\textbf{coef} & \\textbf{std err} & \\textbf{t} & \\textbf{P$> |$t$|$} & \\textbf{[0.025} & \\textbf{0.975]}  \\\\\n",
       "\\midrule\n",
       "\\textbf{Intercept}        &       0.0009  &        0.003     &     0.314  &         0.754        &       -0.005    &        0.007     \\\\\n",
       "\\textbf{log\\_adj\\_ey\\_ms} &      -0.0077  &        0.090     &    -0.086  &         0.931        &       -0.184    &        0.168     \\\\\n",
       "\\textbf{log\\_adj\\_ey\\_l1} &       2.8644  &        1.322     &     2.167  &         0.031        &        0.269    &        5.459     \\\\\n",
       "\\textbf{log\\_interest}    &      -0.0086  &        0.064     &    -0.134  &         0.894        &       -0.134    &        0.117     \\\\\n",
       "\\bottomrule\n",
       "\\end{tabular}\n",
       "\\begin{tabular}{lclc}\n",
       "\\textbf{Omnibus:}       & 114.425 & \\textbf{  Durbin-Watson:     } &    1.968  \\\\\n",
       "\\textbf{Prob(Omnibus):} &   0.000 & \\textbf{  Jarque-Bera (JB):  } & 1567.235  \\\\\n",
       "\\textbf{Skew:}          &   0.267 & \\textbf{  Prob(JB):          } &     0.00  \\\\\n",
       "\\textbf{Kurtosis:}      &  10.559 & \\textbf{  Cond. No.          } & 2.03e+03  \\\\\n",
       "\\bottomrule\n",
       "\\end{tabular}\n",
       "%\\caption{OLS Regression Results}\n",
       "\\end{center}\n",
       "\n",
       "Notes: \\newline\n",
       " [1] Standard Errors assume that the covariance matrix of the errors is correctly specified. \\newline\n",
       " [2] The condition number is large, 2.03e+03. This might indicate that there are \\newline\n",
       " strong multicollinearity or other numerical problems."
      ],
      "text/plain": [
       "<class 'statsmodels.iolib.summary.Summary'>\n",
       "\"\"\"\n",
       "                            OLS Regression Results                            \n",
       "==============================================================================\n",
       "Dep. Variable:             log_return   R-squared:                       0.007\n",
       "Model:                            OLS   Adj. R-squared:                  0.003\n",
       "Method:                 Least Squares   F-statistic:                     1.569\n",
       "Date:                Sat, 12 Oct 2024   Prob (F-statistic):              0.196\n",
       "Time:                        15:02:37   Log-Likelihood:                 1755.8\n",
       "No. Observations:                 655   AIC:                            -3504.\n",
       "Df Residuals:                     651   BIC:                            -3486.\n",
       "Df Model:                           3                                         \n",
       "Covariance Type:            nonrobust                                         \n",
       "=================================================================================\n",
       "                    coef    std err          t      P>|t|      [0.025      0.975]\n",
       "---------------------------------------------------------------------------------\n",
       "Intercept         0.0009      0.003      0.314      0.754      -0.005       0.007\n",
       "log_adj_ey_ms    -0.0077      0.090     -0.086      0.931      -0.184       0.168\n",
       "log_adj_ey_l1     2.8644      1.322      2.167      0.031       0.269       5.459\n",
       "log_interest     -0.0086      0.064     -0.134      0.894      -0.134       0.117\n",
       "==============================================================================\n",
       "Omnibus:                      114.425   Durbin-Watson:                   1.968\n",
       "Prob(Omnibus):                  0.000   Jarque-Bera (JB):             1567.235\n",
       "Skew:                           0.267   Prob(JB):                         0.00\n",
       "Kurtosis:                      10.559   Cond. No.                     2.03e+03\n",
       "==============================================================================\n",
       "\n",
       "Notes:\n",
       "[1] Standard Errors assume that the covariance matrix of the errors is correctly specified.\n",
       "[2] The condition number is large, 2.03e+03. This might indicate that there are\n",
       "strong multicollinearity or other numerical problems.\n",
       "\"\"\""
      ]
     },
     "execution_count": 27,
     "metadata": {},
     "output_type": "execute_result"
    }
   ],
   "source": [
    "model = smf.ols('log_return ~ log_adj_ey_ms + log_adj_ey_l1 + log_interest', data=sample_table).fit()\n",
    "model.summary()"
   ]
  },
  {
   "cell_type": "markdown",
   "metadata": {},
   "source": [
    "O único coeficiente significativo parece ser o lag 1 do earnings yield ajustado!"
   ]
  },
  {
   "cell_type": "code",
   "execution_count": 28,
   "metadata": {},
   "outputs": [],
   "source": [
    "sample_table.dropna(inplace=True)\n",
    "sample_table['predictions'] = model.predict()\n",
    "comparison = pd.DataFrame({\n",
    "    'random_walk': sample_table.log_return,\n",
    "    'markov_chain': sample_table.log_return - sample_table.predictions,\n",
    "}).dropna()"
   ]
  },
  {
   "cell_type": "markdown",
   "metadata": {},
   "source": [
    "Abaixo, temos a comparação de duas premissas: \n",
    "- A Random Walk, que presume que a mehlor previsão do retorno é 0;\n",
    "- A Cadeia de Markov, que presume que a tendência do retorno é previsível por meio de variáveis ocultas;"
   ]
  },
  {
   "cell_type": "code",
   "execution_count": 29,
   "metadata": {},
   "outputs": [
    {
     "name": "stderr",
     "output_type": "stream",
     "text": [
      "/home/pedro/.local/lib/python3.10/site-packages/plotly/express/_core.py:1979: FutureWarning: When grouping with a length-1 list-like, you will need to pass a length-1 tuple to get_group in a future version of pandas. Pass `(name,)` instead of `name` to silence this warning.\n",
      "  sf: grouped.get_group(s if len(s) > 1 else s[0])\n"
     ]
    },
    {
     "data": {
      "application/vnd.plotly.v1+json": {
       "config": {
        "plotlyServerURL": "https://plot.ly"
       },
       "data": [
        {
         "alignmentgroup": "True",
         "bingroup": "x",
         "hovertemplate": "variable=random_walk<br>value=%{x}<br>count=%{y}<extra></extra>",
         "legendgroup": "random_walk",
         "marker": {
          "color": "#636efa",
          "opacity": 0.5,
          "pattern": {
           "shape": ""
          }
         },
         "name": "random_walk",
         "nbinsx": 512,
         "offsetgroup": "random_walk",
         "orientation": "v",
         "showlegend": true,
         "type": "histogram",
         "x": [
          0.009071299939194784,
          -0.000869588819285996,
          -0.016893586821523022,
          0.014774529595121563,
          -0.0014334050925694356,
          0.003372808944880273,
          -0.004070777732144439,
          -0.004298460295782979,
          0.008933830735042838,
          -0.0005600120213439302,
          -0.02274113686344383,
          -0.016619544287866966,
          0.014816498741657263,
          -0.006323490804473866,
          -0.0263200170455792,
          -0.0019974391564439157,
          -0.012147741654329537,
          0.0015961141099159232,
          -0.013685267807798178,
          0.03995733192304929,
          -0.015894497226593012,
          0.02429049147210484,
          -0.007391723222986032,
          -0.014823511999161997,
          0.013223730814859965,
          -0.009435123152372797,
          0.0030449803033974756,
          -0.0024553698622486794,
          -0.06250102360149008,
          0.029356663583346265,
          -0.008833029308721665,
          -0.02718889470004512,
          -0.0027139233367228085,
          -0.02406742477698083,
          0.006378440163550338,
          0.008453710793063814,
          0.009742813633947186,
          -0.016404216757571897,
          -0.022054692078714817,
          0.010186154249402262,
          0.017488024053861843,
          -0.010433366522447177,
          0.004691904666909666,
          -0.002648051971479785,
          -0.00556228995323147,
          0.007458624222773913,
          -0.0070197093323128065,
          0.022013921440552125,
          -0.009903778082358698,
          -0.0368818831538861,
          0.017358646222830804,
          -0.04844933204028154,
          0.027041474937607852,
          -0.009989896360892219,
          0.023568053941438696,
          -0.01054541309360271,
          -0.0005657052813486153,
          -0.007147497773237976,
          0.015252739885603266,
          0.0010287408614079526,
          0.003203622376672479,
          0.019488586543877827,
          -0.0034391305071034507,
          -0.0017718339501629234,
          0.02329052230514296,
          -0.002376419250815055,
          -0.002644975304104236,
          -0.005922338993410261,
          0.008251786537218883,
          0.00788186325101157,
          0.006281045290605253,
          -0.0013720852544506104,
          0.022224097782282518,
          0.0003523087791727595,
          -0.002199466027237638,
          0.0037429919894304115,
          0.0059129808590184475,
          0.001458857000202025,
          -0.021682482522782202,
          0.003214293205776073,
          -0.000711075032217844,
          -0.01228791970450181,
          0.015991658413841238,
          -0.006504696612744381,
          -0.018323268777661245,
          0.0054304357064120425,
          -0.008872406679549751,
          0.013175215351741243,
          0.01678474341214208,
          -0.0006600245805706639,
          -0.004588978033555359,
          0.004798950527825981,
          0.02541041705594507,
          -0.024572132658123542,
          -0.0008733838129333862,
          -0.026694911717148093,
          0.006510818708439793,
          -0.009771529039330387,
          0.012255616996168629,
          -0.0060366580516600255,
          0.013105422373988802,
          -0.007051771275698011,
          0.0005488593229556136,
          -0.0011504295437448585,
          0.006888701003059071,
          -0.004519024618315227,
          -0.003756246846927003,
          -0.0019064794271812001,
          0.0028759723579743052,
          -0.006479374159145504,
          -0.006470835042519895,
          -0.001154603631458904,
          0.006108248654421129,
          -0.008165276849279776,
          0.007306392404734416,
          -0.005315101281364757,
          -0.007832251522067615,
          -0.009654306218556357,
          0.00670500226718285,
          0.011819912150833733,
          0.005351175453178428,
          0.007586859230659674,
          0.003429171998121373,
          0.0391276607461161,
          0.007617062914356176,
          0.0025224393581921418,
          0.008636500123365833,
          0.004748404690772773,
          -0.008665266223583056,
          0.004207133667475251,
          -0.0065794084292285174,
          0.006795625679799465,
          -0.004006540004315954,
          0.01538401274931363,
          -0.00460666064626301,
          -0.0033171928738811867,
          0.0002469004080502776,
          0.003944404677401297,
          0.0013836613137959623,
          0.014647353201971594,
          0.004785452671787442,
          0.0013247046112331445,
          0.015796545904234408,
          -0.005515923759844863,
          -0.00047958196023304876,
          0.003412807694179644,
          0.0017455642565906526,
          -0.007260171783944767,
          -0.003622819507037334,
          -0.010450225738623545,
          0.00046392445736845523,
          -0.0012624937112025712,
          -0.011703909385130946,
          0.006486580736013422,
          -0.0042408093801549265,
          0.0004734030362127743,
          -0.005295252551699579,
          0.0034729625697460177,
          -0.004147529556822602,
          -0.009087714061218194,
          0.0028667347924055736,
          0.0036379570402671093,
          -0.014395897022029144,
          -0.005511752509957505,
          0.003065315367986207,
          0.004464922145667771,
          -0.010607403046553701,
          -0.00023979767784627104,
          -0.006667804704040803,
          -0.004895537700666251,
          0.021352885545177763,
          0.0009787043546445032,
          0.016440287379164732,
          -0.020864890848896745,
          0.0106713374682862,
          -0.007609383650216891,
          -0.002512127284142814,
          0.006796848914149915,
          -0.0002057094425940783,
          0.004527866619518752,
          0.009092300915053749,
          0.012224510586976678,
          0.0052585744882525515,
          -0.001696412228940662,
          -0.02027471783634418,
          0.01692877877515594,
          -0.0021283346616772815,
          -0.012139383385897824,
          0.006503955968619542,
          0.009207637572403796,
          0.001372005186520169,
          0.00781626728226235,
          -0.0034640766520013747,
          0.007710993665448417,
          0.011598149697216868,
          -0.015063493414357698,
          -0.01600431119572607,
          -0.006358549530527671,
          -0.009301875308738656,
          -0.009259711853349539,
          0.003025560551578922,
          -0.00271495879119667,
          0.002340472232160638,
          -0.006305009048345873,
          -0.008707328186602449,
          0.0023218971624884366,
          -0.012819253853468137,
          -0.007845433199559822,
          -0.02162901994350608,
          -0.009252712948815623,
          -0.011783156786853719,
          -0.004443146725234689,
          -0.00748610881074893,
          0.0052695505069686455,
          0.018895625860219308,
          0.0018850849339721808,
          0.05746580179465555,
          0.005860355613741863,
          -0.008593181493450388,
          -0.008431444100425288,
          0.0038766394637784543,
          -0.004807840193174735,
          0.00983165792035842,
          -0.01341126043357562,
          -0.0003352842035981883,
          -0.008515024225553272,
          -0.11122114665556962,
          0.01645991456497271,
          -0.028152182487810172,
          -0.0007519451076261583,
          -0.0006251990184511865,
          -0.017128198866371062,
          0.025912863574505937,
          -0.0066215664703450465,
          0.007998545816424662,
          -0.006159885681761925,
          -0.002762075843883075,
          0.00973737990272187,
          -0.0036505956924239424,
          0.015188154992798865,
          -0.014277053067777452,
          0.053229423519391,
          0.02688389047621791,
          0.001492711975363833,
          -0.0006407094123736407,
          -0.0016847594024599936,
          0.00007972414505845816,
          0.007222285209015256,
          0.0003032941711707105,
          -0.010275802376213944,
          0.0068252305364060505,
          -0.00007476635971015338,
          0.0141918472202084,
          0.0016663337008569776,
          0.011548621359451745,
          0.0010283082384956567,
          0.007904545578873686,
          -0.00012496560051684786,
          -0.013207193303940051,
          0.024862028049885875,
          0.003171799718496099,
          -0.007156223487520906,
          0.008820335279634947,
          -0.008987087642248228,
          -0.00041086548899091954,
          -0.006370704909980565,
          -0.01933732483467195,
          -0.00011670176988458708,
          -0.00350481334877233,
          0.010655790279341775,
          -0.009151404753134994,
          0.030637745266058884,
          0.00746860023898879,
          -0.00260690699588895,
          0.012222429064694815,
          0.024139476322409703,
          0.005670307052023421,
          0.007809022940956012,
          -0.00339780878031881,
          -0.00006641984524219597,
          -0.00791771190769548,
          0.013264259252943665,
          0.006577511150160979,
          -0.0034837909018937785,
          -0.004618312912990696,
          0.009661226651470192,
          0.015252879050566985,
          0.0017184700480674586,
          0.005672951640491543,
          -0.008961599333601798,
          0.008796132508616829,
          -0.008896888821939864,
          0.0026944547805920565,
          -0.006651275729211071,
          0.00357873079954323,
          0.017777389949472363,
          -0.0033259956815117828,
          0.09654729452038735,
          -0.008116667592082844,
          0.02367946438268947,
          0.03286944274507403,
          -0.041369836379991275,
          0.008969879705564772,
          -0.011471607944501448,
          -0.01243351234897995,
          0.006461630011339096,
          -0.016538198798668496,
          0.018665134418069728,
          -0.005497474699017987,
          -0.01986523019815255,
          0.07061034408923532,
          -0.01185515470440775,
          -0.008727291961060266,
          0.004961529159129048,
          0.0006660743939068214,
          0.0070169164860951,
          0.01218235932927536,
          0.0061823457820856485,
          0.0017062797528790527,
          0.005536097364203018,
          -0.009064372631158087,
          0.0043766218940893995,
          -0.003077018044831092,
          0.004486192157433914,
          -0.02087373249050046,
          0.004242507080656096,
          0.007192848617818749,
          0.0037799659734001592,
          0.009596109970079258,
          0.005025579833788635,
          0.023473646574227673,
          -0.0037644937650407866,
          0.0014398770916446563,
          0.01194429234189711,
          -0.004765015319227842,
          -0.0075073109566501485,
          0.012654087330788502,
          0.03738042307116176,
          0.025006502175281248,
          0.006542814710605469,
          -0.00286623399307458,
          0.014039160066734066,
          0.00849941615064628,
          -0.0200197320761835,
          0.0008285065463331989,
          0.00279501747221279,
          0.02147349693041061,
          0.010216462046429925,
          -0.015516122020646908,
          0.006964832728064973,
          0.0019008107958584874,
          -0.01146644653315309,
          -0.019029560081825884,
          0.004180469540688664,
          -0.009743549607279762,
          -0.006006757097778658,
          0.009788701671974655,
          -0.015437235719708875,
          -0.0034224943520003654,
          0.008350108170560127,
          -0.00014119146268993564,
          -0.018377949291491755,
          0.00014444297971918517,
          -0.059993255112573564,
          -0.0020949944982052338,
          -0.006436150128368177,
          -0.020673691914206947,
          0.00270492418160872,
          -0.011561621761440566,
          -0.004019026559613896,
          0.006643775592275202,
          -0.006346712830409035,
          -0.008184486626705362,
          0.016877942218008982,
          -0.0021808888742944105,
          -0.02305801223244144,
          -0.0214412826589326,
          0.03878926323637372,
          0.0029500548273331774,
          -0.006280738339387452,
          -0.020897510538499503,
          0.026680968596380455,
          -0.013400050238504012,
          0.023116000095935157,
          0.0032258209107288824,
          -0.001174589089214826,
          -0.0037530755864335834,
          0.015562424428622445,
          0.0010758664305209552,
          0.005000278369400988,
          0.004621200296388435,
          0.013869205635148913,
          0.005788094091189466,
          -0.010544908215579973,
          0.01062835918653711,
          0.005355668615876057,
          0.013750199784663311,
          0.006888636093174183,
          0.012668711248577205,
          0.005560400275286971,
          -0.021648061793402472,
          0.029831577789088803,
          0.035987718592217874,
          0.017627338531689955,
          -0.02242426492973597,
          -0.016971038519705522,
          0.005674467268918648,
          0.009968714838864882,
          -0.007662162326620471,
          -0.0081328748520951,
          -0.004725453660525718,
          -0.0027568426150169677,
          0.013316359912609613,
          0.0005815187430607905,
          -0.002385854618992787,
          -0.0009784444316232063,
          0.005792248401907338,
          0.0001540078702127232,
          -0.006246283702124228,
          -0.021517364174977176,
          -0.02697459551551157,
          0.004343578979032023,
          -0.0050206067700452935,
          -0.00930922515230626,
          0.0030845354770731906,
          -0.005004780217992755,
          -0.0032336833084349514,
          -0.005822619438508904,
          0.005097653893039603,
          0.017824604695845202,
          0.0033940319574300793,
          0.09882333383334321,
          0.013560522169777113,
          -0.042517441241048,
          -0.014860101748763005,
          0.005320255146991863,
          0.006079765819188298,
          0.02445668047060994,
          0.019255015329026567,
          -0.0071226694358077014,
          0.007147354924180184,
          -0.00418618170078823,
          -0.003737482691522686,
          -0.016382577093723386,
          -0.01827254803288562,
          -0.02335104641047082,
          -0.005072144236772926,
          0.0006451997895828129,
          0.002351474315065334,
          0.008487051327512108,
          -0.024723238725052932,
          -0.024745564163329663,
          -0.02242879746449505,
          0.011972107543451349,
          -0.008207424055585315,
          -0.007851269481487186,
          -0.0003047932943724667,
          -0.010898106519481044,
          -0.004048858060861288,
          -0.00669071714375579,
          -0.004780022297853183,
          0.03477091126784514,
          0.001201989553850572,
          -0.005177083388765883,
          0.02345481169494549,
          -0.008632068709768324,
          0.015370278344352168,
          -0.026151232665411948,
          -0.012279620545074376,
          0.0034639156348346537,
          0.01764564934828397,
          0.0027700084454066803,
          0.026241200282073617,
          0.006714543551260049,
          -0.02081707183792655,
          -0.03067212823204169,
          0.04301250079507328,
          0.012469101206780893,
          0.011020838877602688,
          0.00343936552777166,
          0.020806441565412746,
          0.03146301777325354,
          -0.03154634531946848,
          -0.007541285443352915,
          -0.02822085066721701,
          -0.002556322066263933,
          0.005638122084071684,
          0.02841241121924669,
          0.004451054738904983,
          -0.033238521652392584,
          -0.020771160979495808,
          -0.019484912724417543,
          -0.0016765040152594173,
          0.007546213771288187,
          -0.016962726336767087,
          0.009792695316771632,
          0.021889835154410165,
          0.03097295137842598,
          0.019465011435102385,
          0.040405468550291965,
          0.005078088317768712,
          -0.029936008758645154,
          0.01678316601433562,
          0.003790035535728178,
          0.0015051392701330806,
          0.007567801801929141,
          0.00904314945277645,
          -0.006676993358048845,
          0.0076417647101280056,
          0.0017968064695412114,
          -0.02282283893710193,
          -0.0035132250579147004,
          0.013645357746869004,
          0.014316532172269983,
          -0.03009826867408611,
          0.01365798615130005,
          -0.012843129346421761,
          0.015053003874625272,
          0.005580436923759551,
          0.008491186689530143,
          0.00003782494369187017,
          -0.007949615711101433,
          0.0056572998887941565,
          -0.0033794446977938775,
          -0.016930270775925328,
          -0.012278967741638242,
          -0.020076393381253017,
          -0.02596136028214075,
          -0.014737912011055747,
          0.003934800501225041,
          0.001696478523987903,
          0.005234739664951869,
          -0.011366817529251375,
          0.025965046841373123,
          0.018848502919021227,
          -0.01163155980096169,
          0.020736198296695405,
          -0.00028874570025870364,
          0.018893359268891796,
          0.0010377516880355922,
          -0.025066113366501497,
          0.011899597058344176,
          0.013286244194535298,
          -0.02373025235794197,
          -0.017312877249167007,
          -0.010054422276589332,
          -0.01912398401360767,
          0.02590379016692539,
          -0.02556006697156424,
          0.018068297964411548,
          0.015434915668309748,
          0.012457909699655894,
          0.006926186114225088,
          -0.007832779704502012,
          -0.028114636860703847,
          0.010166866770635961,
          -0.00045845415370639376,
          -0.00186717233315485,
          -0.01239387432790757,
          -0.011068622698863533,
          -0.017560170753153567,
          0.04740890428755292,
          0.0018972471095218947,
          -0.012793607740106848,
          0.011636186401133924,
          0.07216271790943836,
          -0.013152824754866088,
          -0.020373312060546087,
          -0.005599544249890982,
          0.02559614233430938,
          0.005713320128749729,
          0.0035241928822730096,
          -0.01906884589772366,
          -0.008505573239737942,
          0.011391403613560879,
          -0.00928730514942364,
          0.02290789138156794,
          -0.002128802920842195,
          0.004135148447927223,
          0.006796192687858897,
          -0.017298248986276247,
          -0.0006510282263528317,
          0.03494006349682768,
          0.02069468489939525,
          0.009748941521138286,
          0.018482020777354592,
          -0.004290625778584429,
          0.009977448794161358,
          0.006055117321166667,
          -0.02660324837643418,
          0.0067233018387574455,
          0.018746478312302146,
          -0.01187750272939944,
          0.021208008678999,
          0.004358776682935657,
          -0.009290522937154782,
          0.01487345609586148,
          -0.045532697963979143,
          0.013387845887537797,
          -0.017315182393034815,
          0.008502413608873379,
          0.021974103966806185,
          0.0024902278803035386,
          -0.0013856370189537694,
          -0.0008052001075419457,
          0.0023149363042266275,
          0.009714196625185256,
          0.0014357896866895282,
          -0.004996407253252743,
          0.019401533023544273,
          -0.002039040563076034,
          0.011893594172176192,
          -0.014707370905932377,
          -0.002034018091453518,
          0.00927653710283949,
          -0.0004803317513514111,
          -0.02947148894597855,
          0.01718583909089072,
          -0.023674181362063024,
          0.013404947711721528,
          -0.00963711643945079,
          -0.00039626112307809364,
          -0.005815411331756479,
          0.00518255945780588,
          0.023006417577890147,
          -0.007364448512274044,
          0.0070664076563701555,
          -0.008254376489870131,
          0.0009373735130069189,
          0.004915688773131866,
          -0.003210534361973675,
          -0.0023414440990472125,
          -0.005176532403537757,
          -0.011597987069229909,
          0.01114756290132193,
          -0.03679193535771016,
          0.008312116096838422,
          0.021487253455589553,
          -0.003580303889197993,
          0.006940416887742168,
          -0.010789218899555178,
          -0.01617140410984987,
          -0.002620335556649298,
          -0.014392760149546173,
          -0.011202133798777932,
          0.012148617424440762,
          0.00959156363541178,
          -0.0049423571649375945,
          -0.017113775396367766,
          -0.00469600499903858,
          0.01065172887540386,
          -0.004597243294068985,
          -0.03526877499282201,
          0.025034167598186743,
          -0.004193559923520307
         ],
         "xaxis": "x",
         "yaxis": "y"
        },
        {
         "alignmentgroup": "True",
         "bingroup": "x",
         "hovertemplate": "variable=markov_chain<br>value=%{x}<br>count=%{y}<extra></extra>",
         "legendgroup": "markov_chain",
         "marker": {
          "color": "#EF553B",
          "opacity": 0.5,
          "pattern": {
           "shape": ""
          }
         },
         "name": "markov_chain",
         "nbinsx": 512,
         "offsetgroup": "markov_chain",
         "orientation": "v",
         "showlegend": true,
         "type": "histogram",
         "x": [
          0.009378953983183193,
          -0.0006478660563855473,
          -0.0176394052771965,
          0.012464690298717848,
          -0.0006473382552495475,
          0.002572790733815327,
          -0.004404305543942234,
          -0.00535469455554265,
          0.007854892619684627,
          -0.00035120060109886065,
          -0.023456897674319924,
          -0.019506575706455698,
          0.01250340170629886,
          -0.005495285459298307,
          -0.02760362926965941,
          -0.0053090310938575,
          -0.012998294743621469,
          -0.00030166837514524836,
          -0.01416199097846008,
          0.03788850785057606,
          -0.012421021778613196,
          0.02202386295545721,
          -0.005576238182713919,
          -0.016218380170068904,
          0.011068010518365486,
          -0.008736955743997729,
          0.0014380156321035923,
          -0.00279252255040021,
          -0.06339874697188737,
          0.022146975413775027,
          -0.006330900754638165,
          -0.028759812513358195,
          -0.0062714175955486265,
          -0.02499084495143474,
          0.006390128714134434,
          0.00857589910697237,
          0.01009434645635725,
          -0.015918028404580942,
          -0.024531455354747156,
          0.007027398442465889,
          0.018065143678082277,
          -0.009038389888010184,
          0.0028862919445945103,
          -0.0027217902714653983,
          -0.006477653880775141,
          0.006208195095263739,
          -0.0067737945388676645,
          0.020596429913851185,
          -0.008006508439859032,
          -0.03862014193963846,
          0.012473532122151874,
          -0.04702240797547059,
          0.020684738524018455,
          -0.0073404360844507195,
          0.021779326604780942,
          -0.008359067067335782,
          -0.0024089123861591663,
          -0.007816173004622076,
          0.013804344291443555,
          0.0022290846116160136,
          0.0027197594158358293,
          0.019258270898541045,
          -0.001792313818303935,
          -0.0027780007396442903,
          0.022476135452461157,
          -0.00033611547368753896,
          -0.003529978889101933,
          -0.0068375936768995445,
          0.006964465791098428,
          0.008202609482579634,
          0.006550473236876348,
          -0.0012897641073964018,
          0.021450539689193707,
          0.002182441149374357,
          -0.0027879985520903932,
          0.002875821936429054,
          0.005694872894778247,
          0.0014733713948588468,
          -0.022153893067577667,
          0.00021569549614662174,
          -0.000980047775734157,
          -0.008899382088657894,
          0.014043897295232664,
          -0.00543092339451278,
          -0.019649885757142594,
          0.002827734742805382,
          -0.008914358347994995,
          0.011584021221851273,
          0.017580391021017213,
          0.0004958348801723495,
          -0.005295352960957604,
          0.0036763253274381172,
          0.02528368077967863,
          -0.02255555145405986,
          -0.004081561586709258,
          -0.027423920230176962,
          0.0030162303446953182,
          -0.009696419903910108,
          0.010566916713999305,
          -0.005339034554643667,
          0.011823134655400915,
          -0.006273096851738664,
          -0.0008401443527910273,
          -0.0017228273829869398,
          0.006133465074129929,
          -0.004411655817938238,
          -0.00487342101246554,
          -0.002942261316482157,
          0.00203961309876561,
          -0.006799702030008592,
          -0.007801390203174177,
          -0.002486711730274388,
          0.005355063534732357,
          -0.008127869495647326,
          0.005788646903260145,
          -0.00514565356673076,
          -0.009039119312001836,
          -0.011138919932419434,
          0.005014256600288451,
          0.01193964601840518,
          0.006022957826359375,
          0.007541303276174635,
          0.003619955758177495,
          0.038865116607524286,
          0.011104600443701105,
          0.002663335113467294,
          0.008249594383207435,
          0.00498233837909499,
          -0.008832957995358024,
          0.0026786425953104964,
          -0.006799092444866602,
          0.005477700461145022,
          -0.003961762683680794,
          0.014328419061417207,
          -0.0036994847266449407,
          -0.004431889401294127,
          -0.0007381953619851791,
          0.0033199092680382073,
          0.0011319678969484714,
          0.014135956969091654,
          0.0055966433214746265,
          0.001143026739054673,
          0.01527096467621661,
          -0.010768588428363911,
          -0.0016932032598137754,
          0.0027205610498739555,
          0.001455986134687805,
          -0.00772354099025176,
          -0.005017529676071336,
          -0.011468716873207436,
          -0.0012707147145078225,
          -0.001851593826191507,
          -0.012474761545384443,
          0.00460981253470906,
          -0.0041866596361419236,
          -0.0006123923553178132,
          -0.005879931219416872,
          0.002274125867093366,
          -0.004411042072460271,
          -0.010164369950512167,
          0.001258510312071832,
          0.0033156512336812343,
          -0.01463728223253365,
          -0.0076964530742207,
          0.0018369242329611972,
          0.004172158642378294,
          -0.0107503019145946,
          -0.002024033435572824,
          -0.007319963006963909,
          -0.006253759715594571,
          0.020188310456185923,
          0.00269621741356002,
          0.015917670174784418,
          -0.01972645589174146,
          0.0077896455593484595,
          -0.0070817603789611605,
          -0.003965571050118057,
          0.005895343606059825,
          -0.00009673756751334432,
          0.003875776261358565,
          0.008950792141908791,
          0.012567513986718647,
          0.005921154575760658,
          -0.0017807069472684824,
          -0.02109154783034337,
          0.014139522853297351,
          -0.0009618948467593875,
          -0.013001255471007427,
          0.004577620085322932,
          0.009267232678855136,
          0.001710342517550494,
          0.00732284972060701,
          -0.003283686652365095,
          0.006708669246918338,
          0.011762943779088545,
          -0.014506695212724774,
          -0.01820804785991164,
          -0.008680419568099408,
          -0.010613100747848927,
          -0.010889141504714695,
          0.001394443579093624,
          -0.0030161475466194717,
          0.0014168693907889653,
          -0.006680461136090268,
          -0.010020914352361682,
          0.0007426899838336714,
          -0.013189896376536035,
          -0.00988350691488764,
          -0.022140959165457746,
          -0.012295288705857735,
          -0.013449753142929842,
          -0.006407867208089978,
          -0.008609097116850638,
          0.0037911604282669983,
          0.01890349185552783,
          0.0034521165479997505,
          0.057067481141254046,
          0.011610080907969155,
          -0.008594637881863341,
          -0.009988110850243386,
          0.0023324067370690056,
          -0.005014180025335939,
          0.008680269439795395,
          -0.01297233764700261,
          -0.0024224247881276307,
          -0.00917794401810606,
          -0.11278244481814162,
          0.002892928319749353,
          -0.026737212860211315,
          -0.0047921808744374505,
          -0.0013032714908098584,
          -0.01779033934476317,
          0.023183183137848666,
          -0.0039678897207639195,
          0.0065930075610816565,
          -0.005757056313788232,
          -0.004109845781218247,
          0.008809475010448126,
          -0.0030326432628860656,
          0.014150636124172087,
          -0.01298235508241732,
          0.050911186345894054,
          0.032714655020995104,
          0.004018331599877143,
          -0.001061867068375614,
          -0.0023496963373762425,
          -0.0007042709041440483,
          0.006640225385372859,
          0.0005342463195590681,
          -0.01083481537551792,
          0.0050606079165445815,
          0.0001140401120559856,
          0.013590892472303032,
          0.0026778668049039275,
          0.011138760043772322,
          0.001718160133416711,
          0.0074177180848127985,
          0.00014589782654456202,
          -0.013824333999837006,
          0.022797932249803397,
          0.005306817930643957,
          -0.007418866487821896,
          0.007434583194824822,
          -0.008634567433688003,
          -0.0019954495954393704,
          -0.007021134750939164,
          -0.020640311297194548,
          -0.0028638469305863105,
          -0.004115662702444991,
          0.009665195906060457,
          -0.008557833249926726,
          0.02901634933413179,
          0.010256227459195869,
          -0.0024031018575444494,
          0.01310609378532756,
          0.02455426208781328,
          0.007128248235294203,
          0.007602440970550406,
          -0.0034217355060222328,
          -0.0010727929972085505,
          -0.008632230196176332,
          0.011859951482953473,
          0.007033034757314693,
          -0.0036228815383079634,
          -0.005631710802824985,
          0.008548752284193623,
          0.015381769897108027,
          0.00231449637028627,
          0.005103702266519422,
          -0.009196668967321802,
          0.0073184365821095925,
          -0.008865296231630064,
          0.0012221914000078238,
          -0.0071368765273507224,
          0.002295719115310434,
          0.01736903127654994,
          -0.002537803815067129,
          0.09554905944912152,
          -0.0010848069387557543,
          0.022316386570619913,
          0.03393841916604984,
          -0.039672696295262676,
          0.005137706438027745,
          -0.011533147860796325,
          -0.014045533615869955,
          0.004768017033722207,
          -0.016778773109171172,
          0.016648029835368696,
          -0.004791781869967718,
          -0.02102629462249476,
          0.06832925108018151,
          -0.007237757063801267,
          -0.010348744073685141,
          0.003566288890757002,
          0.000291417886283389,
          0.006321049997770293,
          0.011956348662143049,
          0.006328954443329289,
          0.0014063642157289315,
          0.004909121919106732,
          -0.00941576966241793,
          0.002969494429444908,
          -0.0035101211412190605,
          0.0035123846111300874,
          -0.021299581213161008,
          0.001968839285319005,
          0.006757584486261842,
          0.0035578427365099865,
          0.00912155577838221,
          0.004968734143979806,
          0.02308211062175542,
          -0.0028567381933369187,
          0.00041855032469696675,
          0.011288481630741944,
          -0.004689630706326571,
          -0.008597600513307739,
          0.011371100402982597,
          0.03835083163422932,
          0.02675701856957924,
          0.007404443923374737,
          -0.0032191543822358342,
          0.01308147658392306,
          0.008620528793507892,
          -0.020259997333481192,
          -0.0012178154029369062,
          0.00207405229812108,
          0.020877889219883563,
          0.010797152831723451,
          -0.015659501368660712,
          0.005218127847814469,
          0.001559203143757015,
          -0.012126578942722182,
          -0.020526072760933045,
          0.002194640704628138,
          -0.01024969796463886,
          -0.007406322473204459,
          0.008627616888123966,
          -0.015577106146232344,
          -0.00519492893094891,
          0.007355911581912223,
          -0.00036713196102222337,
          -0.019158625292171154,
          -0.0018306308704958815,
          -0.06075194581835491,
          -0.006945475873337256,
          -0.007340294756770753,
          -0.02188375737866059,
          0.00047407887075808864,
          -0.012118526081726652,
          -0.0056070377275874075,
          0.0056011149940075776,
          -0.0066124434074792595,
          -0.009396570766813953,
          0.015529188554233448,
          -0.0016971467500533426,
          -0.023966834440133655,
          -0.023882513543226083,
          0.03643671214172622,
          0.005090847356275899,
          -0.006815263774403616,
          -0.022105428066754074,
          0.024388017932290763,
          -0.012178368286745515,
          0.021385124562485987,
          0.004163142868964784,
          -0.0016942209153318862,
          -0.004589811799810526,
          0.014539959009843261,
          0.001439196567207969,
          0.004322340796856632,
          0.0042208267401185095,
          0.01343948937188664,
          0.006000766588015706,
          -0.010903374311451339,
          0.00913676390058567,
          0.005334755568649581,
          0.013358668921211665,
          0.010878341445420148,
          0.012334164764255114,
          0.00558569200145673,
          -0.022077181090661736,
          0.027686925611727316,
          0.0370885703971919,
          0.019038491526206597,
          -0.02216457878025783,
          -0.019092257243820878,
          0.0038613422056620345,
          0.00953244769323776,
          -0.007842350009550667,
          -0.009380211016786063,
          -0.006003780078583155,
          -0.003828253583710575,
          0.012365687398961565,
          0.0006151681250640831,
          -0.0031334745350932993,
          -0.001906532818661943,
          0.004950018856233883,
          -0.00027658140846556424,
          -0.007020390640653518,
          -0.02268033249213972,
          -0.029082269448536226,
          0.0018634895149034604,
          -0.005517881283395446,
          -0.01040448960741865,
          0.001712394048807482,
          -0.0055785563982383565,
          -0.004329519835662604,
          -0.00680420019560218,
          0.0039473229803570035,
          0.017385681192909414,
          0.003769374386346152,
          0.0982648565145008,
          0.018773367448493058,
          -0.04253141606237257,
          -0.01812595332544076,
          0.0036447918261370412,
          0.005615042026430916,
          0.024034693507167165,
          0.01990838407227111,
          -0.006803395721949634,
          0.0059463009727744685,
          -0.004568844750291439,
          -0.004770006893631567,
          -0.017389624726944875,
          -0.02001432315165834,
          -0.025217975715141307,
          -0.007264022241797036,
          -0.000446967941755053,
          0.0016091606120292494,
          0.00784878066284915,
          -0.024989919171269376,
          -0.027043182534088748,
          -0.024760805669049507,
          0.009756816792622235,
          -0.008206379992808452,
          -0.009153470695638844,
          -0.0015866102808244366,
          -0.011688737833118447,
          -0.00553375716327514,
          -0.007726777011162235,
          -0.005992080262060805,
          0.033685065977750846,
          0.002722724319218352,
          -0.0064832010248151535,
          0.022417341405651638,
          -0.007901039085903915,
          0.014123531120726127,
          -0.02593093816359662,
          -0.014602678225795375,
          0.0019814249109788877,
          0.017149741071769625,
          0.0031519787575789797,
          0.025694709494283555,
          0.007587969895623978,
          -0.021138132036255846,
          -0.03264505259153108,
          0.0404040126354226,
          0.014388414360103591,
          0.011042494077223283,
          0.0033652131859121105,
          0.020282554682032924,
          0.03193994132000773,
          -0.030502721751756206,
          -0.01005212533763303,
          -0.02938271936611369,
          -0.004933215344873072,
          0.004763276351477537,
          0.028023617883630756,
          0.0053826560430374065,
          -0.03371151136774387,
          -0.023432613612154683,
          -0.0214485793082523,
          -0.0035831743466110864,
          0.0067894521577828056,
          -0.017153148964104165,
          0.008092714129240593,
          0.021843691837683494,
          0.031652510761975394,
          0.020645935499240133,
          0.040870337400005785,
          0.0066846559809283,
          -0.03032799346359034,
          0.014445232330373842,
          0.00406267027912882,
          0.0010453385106211212,
          0.006980522220633936,
          0.008789082516685856,
          -0.006854993682748852,
          0.006604331649942381,
          0.001541240554988758,
          -0.023398672000564842,
          -0.005438335847237345,
          0.012779978955473729,
          0.014401037029406942,
          -0.029989481015728375,
          0.011330401563680686,
          -0.012756026356219696,
          0.013670512532087719,
          0.00574344963347172,
          0.008124953480886125,
          -0.0001730714578435584,
          -0.008558420147155554,
          0.004614336228436642,
          -0.003681283662243782,
          -0.017724485416540352,
          -0.013818474356476037,
          -0.021367749335791636,
          -0.023703227287608028,
          -0.016750704468790234,
          0.002514761574701297,
          0.0013065619515564533,
          0.004720241829375304,
          -0.01168749093442327,
          0.024729612233560745,
          0.019661807804549333,
          -0.011233907579545987,
          0.019501910832802467,
          0.00020004400884530765,
          0.018262957550446428,
          0.0014067093211583784,
          -0.02563042709883408,
          0.00997329356497406,
          0.013296903251474845,
          -0.023657014011175728,
          -0.019168512075876786,
          -0.011590382150565914,
          -0.02027842487333951,
          0.024246781252001418,
          -0.024755388825582585,
          0.016063031408577816,
          0.01581571397378888,
          0.012678163637649674,
          0.0069748268456238565,
          -0.008083131376824686,
          -0.029142399364181996,
          0.00804665582823726,
          -0.0005195896803972296,
          -0.002503741712322467,
          -0.013106240289268064,
          -0.01235208531543726,
          -0.01871440384909634,
          0.045886706176893916,
          0.003952762472695769,
          -0.013242105407425068,
          0.010397845332576804,
          0.07224049145682625,
          -0.009975338892192594,
          -0.021593361420302055,
          -0.0071970408331705335,
          0.02475130399335067,
          0.006467857015741833,
          0.0032536446881843723,
          -0.019451246231398985,
          -0.01002869444018094,
          0.010398782102696963,
          -0.009260507536357281,
          0.021875998373747735,
          -0.0015222840574966373,
          0.0034689591383357567,
          0.006444762148194826,
          -0.01751851874973864,
          -0.0020794257657249797,
          0.0343490182696874,
          0.021875892649068935,
          0.010188544953913756,
          0.018381760399869277,
          -0.003987610620330012,
          0.00920793890842106,
          0.005951563841830726,
          -0.027422295026796214,
          0.0049598439668568865,
          0.018563524953089345,
          -0.011499027075768057,
          0.020143622918913008,
          0.004844386691772548,
          -0.009597431791305296,
          0.013935169345155544,
          -0.04535404574309585,
          0.010746246507271068,
          -0.01718177689738385,
          0.0071718532550298746,
          0.02187814178055114,
          0.0030224554633837605,
          -0.0017764943280140313,
          -0.0013769358005834324,
          0.001770365945327723,
          0.009315111213336497,
          0.0013784488710947894,
          -0.005438714570376649,
          0.018662388192120995,
          -0.0016581760308471442,
          0.011290578841097567,
          -0.014679878785785722,
          -0.0032113698914295447,
          0.008673904469555953,
          -0.0005679962926630884,
          -0.030003927230306662,
          0.015320824729184952,
          -0.023386591669400703,
          0.011838910642030517,
          -0.009477257757881715,
          -0.0013113812799358333,
          -0.00629944027696324,
          0.004444352610175624,
          0.022784854984771938,
          -0.006765267050803352,
          0.006260011637232044,
          -0.008397198349675564,
          0.0000898746905778681,
          0.004491731075207785,
          -0.0034517982268656836,
          -0.0029568632327214715,
          -0.0057519172085758324,
          -0.012304576873648013,
          0.010140241178803305,
          -0.03673718938750887,
          0.0061079656305482195,
          0.021423515522817585,
          -0.00302908423168439,
          0.006307284557237456,
          -0.010930257455893815,
          -0.01714232822839043,
          -0.0038518479392060908,
          -0.014980789086682197,
          -0.012359013392323908,
          0.011140752249519176,
          0.009726068340556017,
          -0.004939343876213519,
          -0.017813874056857915,
          -0.005991347004977667,
          0.009961473039029972,
          -0.004511749039691863,
          -0.03593313233295662,
          0.022833899541941625,
          -0.003370640644565059
         ],
         "xaxis": "x",
         "yaxis": "y"
        }
       ],
       "layout": {
        "barmode": "overlay",
        "height": 720,
        "legend": {
         "title": {
          "text": "variable"
         },
         "tracegroupgap": 0
        },
        "template": {
         "data": {
          "bar": [
           {
            "error_x": {
             "color": "#2a3f5f"
            },
            "error_y": {
             "color": "#2a3f5f"
            },
            "marker": {
             "line": {
              "color": "#E5ECF6",
              "width": 0.5
             },
             "pattern": {
              "fillmode": "overlay",
              "size": 10,
              "solidity": 0.2
             }
            },
            "type": "bar"
           }
          ],
          "barpolar": [
           {
            "marker": {
             "line": {
              "color": "#E5ECF6",
              "width": 0.5
             },
             "pattern": {
              "fillmode": "overlay",
              "size": 10,
              "solidity": 0.2
             }
            },
            "type": "barpolar"
           }
          ],
          "carpet": [
           {
            "aaxis": {
             "endlinecolor": "#2a3f5f",
             "gridcolor": "white",
             "linecolor": "white",
             "minorgridcolor": "white",
             "startlinecolor": "#2a3f5f"
            },
            "baxis": {
             "endlinecolor": "#2a3f5f",
             "gridcolor": "white",
             "linecolor": "white",
             "minorgridcolor": "white",
             "startlinecolor": "#2a3f5f"
            },
            "type": "carpet"
           }
          ],
          "choropleth": [
           {
            "colorbar": {
             "outlinewidth": 0,
             "ticks": ""
            },
            "type": "choropleth"
           }
          ],
          "contour": [
           {
            "colorbar": {
             "outlinewidth": 0,
             "ticks": ""
            },
            "colorscale": [
             [
              0,
              "#0d0887"
             ],
             [
              0.1111111111111111,
              "#46039f"
             ],
             [
              0.2222222222222222,
              "#7201a8"
             ],
             [
              0.3333333333333333,
              "#9c179e"
             ],
             [
              0.4444444444444444,
              "#bd3786"
             ],
             [
              0.5555555555555556,
              "#d8576b"
             ],
             [
              0.6666666666666666,
              "#ed7953"
             ],
             [
              0.7777777777777778,
              "#fb9f3a"
             ],
             [
              0.8888888888888888,
              "#fdca26"
             ],
             [
              1,
              "#f0f921"
             ]
            ],
            "type": "contour"
           }
          ],
          "contourcarpet": [
           {
            "colorbar": {
             "outlinewidth": 0,
             "ticks": ""
            },
            "type": "contourcarpet"
           }
          ],
          "heatmap": [
           {
            "colorbar": {
             "outlinewidth": 0,
             "ticks": ""
            },
            "colorscale": [
             [
              0,
              "#0d0887"
             ],
             [
              0.1111111111111111,
              "#46039f"
             ],
             [
              0.2222222222222222,
              "#7201a8"
             ],
             [
              0.3333333333333333,
              "#9c179e"
             ],
             [
              0.4444444444444444,
              "#bd3786"
             ],
             [
              0.5555555555555556,
              "#d8576b"
             ],
             [
              0.6666666666666666,
              "#ed7953"
             ],
             [
              0.7777777777777778,
              "#fb9f3a"
             ],
             [
              0.8888888888888888,
              "#fdca26"
             ],
             [
              1,
              "#f0f921"
             ]
            ],
            "type": "heatmap"
           }
          ],
          "heatmapgl": [
           {
            "colorbar": {
             "outlinewidth": 0,
             "ticks": ""
            },
            "colorscale": [
             [
              0,
              "#0d0887"
             ],
             [
              0.1111111111111111,
              "#46039f"
             ],
             [
              0.2222222222222222,
              "#7201a8"
             ],
             [
              0.3333333333333333,
              "#9c179e"
             ],
             [
              0.4444444444444444,
              "#bd3786"
             ],
             [
              0.5555555555555556,
              "#d8576b"
             ],
             [
              0.6666666666666666,
              "#ed7953"
             ],
             [
              0.7777777777777778,
              "#fb9f3a"
             ],
             [
              0.8888888888888888,
              "#fdca26"
             ],
             [
              1,
              "#f0f921"
             ]
            ],
            "type": "heatmapgl"
           }
          ],
          "histogram": [
           {
            "marker": {
             "pattern": {
              "fillmode": "overlay",
              "size": 10,
              "solidity": 0.2
             }
            },
            "type": "histogram"
           }
          ],
          "histogram2d": [
           {
            "colorbar": {
             "outlinewidth": 0,
             "ticks": ""
            },
            "colorscale": [
             [
              0,
              "#0d0887"
             ],
             [
              0.1111111111111111,
              "#46039f"
             ],
             [
              0.2222222222222222,
              "#7201a8"
             ],
             [
              0.3333333333333333,
              "#9c179e"
             ],
             [
              0.4444444444444444,
              "#bd3786"
             ],
             [
              0.5555555555555556,
              "#d8576b"
             ],
             [
              0.6666666666666666,
              "#ed7953"
             ],
             [
              0.7777777777777778,
              "#fb9f3a"
             ],
             [
              0.8888888888888888,
              "#fdca26"
             ],
             [
              1,
              "#f0f921"
             ]
            ],
            "type": "histogram2d"
           }
          ],
          "histogram2dcontour": [
           {
            "colorbar": {
             "outlinewidth": 0,
             "ticks": ""
            },
            "colorscale": [
             [
              0,
              "#0d0887"
             ],
             [
              0.1111111111111111,
              "#46039f"
             ],
             [
              0.2222222222222222,
              "#7201a8"
             ],
             [
              0.3333333333333333,
              "#9c179e"
             ],
             [
              0.4444444444444444,
              "#bd3786"
             ],
             [
              0.5555555555555556,
              "#d8576b"
             ],
             [
              0.6666666666666666,
              "#ed7953"
             ],
             [
              0.7777777777777778,
              "#fb9f3a"
             ],
             [
              0.8888888888888888,
              "#fdca26"
             ],
             [
              1,
              "#f0f921"
             ]
            ],
            "type": "histogram2dcontour"
           }
          ],
          "mesh3d": [
           {
            "colorbar": {
             "outlinewidth": 0,
             "ticks": ""
            },
            "type": "mesh3d"
           }
          ],
          "parcoords": [
           {
            "line": {
             "colorbar": {
              "outlinewidth": 0,
              "ticks": ""
             }
            },
            "type": "parcoords"
           }
          ],
          "pie": [
           {
            "automargin": true,
            "type": "pie"
           }
          ],
          "scatter": [
           {
            "fillpattern": {
             "fillmode": "overlay",
             "size": 10,
             "solidity": 0.2
            },
            "type": "scatter"
           }
          ],
          "scatter3d": [
           {
            "line": {
             "colorbar": {
              "outlinewidth": 0,
              "ticks": ""
             }
            },
            "marker": {
             "colorbar": {
              "outlinewidth": 0,
              "ticks": ""
             }
            },
            "type": "scatter3d"
           }
          ],
          "scattercarpet": [
           {
            "marker": {
             "colorbar": {
              "outlinewidth": 0,
              "ticks": ""
             }
            },
            "type": "scattercarpet"
           }
          ],
          "scattergeo": [
           {
            "marker": {
             "colorbar": {
              "outlinewidth": 0,
              "ticks": ""
             }
            },
            "type": "scattergeo"
           }
          ],
          "scattergl": [
           {
            "marker": {
             "colorbar": {
              "outlinewidth": 0,
              "ticks": ""
             }
            },
            "type": "scattergl"
           }
          ],
          "scattermapbox": [
           {
            "marker": {
             "colorbar": {
              "outlinewidth": 0,
              "ticks": ""
             }
            },
            "type": "scattermapbox"
           }
          ],
          "scatterpolar": [
           {
            "marker": {
             "colorbar": {
              "outlinewidth": 0,
              "ticks": ""
             }
            },
            "type": "scatterpolar"
           }
          ],
          "scatterpolargl": [
           {
            "marker": {
             "colorbar": {
              "outlinewidth": 0,
              "ticks": ""
             }
            },
            "type": "scatterpolargl"
           }
          ],
          "scatterternary": [
           {
            "marker": {
             "colorbar": {
              "outlinewidth": 0,
              "ticks": ""
             }
            },
            "type": "scatterternary"
           }
          ],
          "surface": [
           {
            "colorbar": {
             "outlinewidth": 0,
             "ticks": ""
            },
            "colorscale": [
             [
              0,
              "#0d0887"
             ],
             [
              0.1111111111111111,
              "#46039f"
             ],
             [
              0.2222222222222222,
              "#7201a8"
             ],
             [
              0.3333333333333333,
              "#9c179e"
             ],
             [
              0.4444444444444444,
              "#bd3786"
             ],
             [
              0.5555555555555556,
              "#d8576b"
             ],
             [
              0.6666666666666666,
              "#ed7953"
             ],
             [
              0.7777777777777778,
              "#fb9f3a"
             ],
             [
              0.8888888888888888,
              "#fdca26"
             ],
             [
              1,
              "#f0f921"
             ]
            ],
            "type": "surface"
           }
          ],
          "table": [
           {
            "cells": {
             "fill": {
              "color": "#EBF0F8"
             },
             "line": {
              "color": "white"
             }
            },
            "header": {
             "fill": {
              "color": "#C8D4E3"
             },
             "line": {
              "color": "white"
             }
            },
            "type": "table"
           }
          ]
         },
         "layout": {
          "annotationdefaults": {
           "arrowcolor": "#2a3f5f",
           "arrowhead": 0,
           "arrowwidth": 1
          },
          "autotypenumbers": "strict",
          "coloraxis": {
           "colorbar": {
            "outlinewidth": 0,
            "ticks": ""
           }
          },
          "colorscale": {
           "diverging": [
            [
             0,
             "#8e0152"
            ],
            [
             0.1,
             "#c51b7d"
            ],
            [
             0.2,
             "#de77ae"
            ],
            [
             0.3,
             "#f1b6da"
            ],
            [
             0.4,
             "#fde0ef"
            ],
            [
             0.5,
             "#f7f7f7"
            ],
            [
             0.6,
             "#e6f5d0"
            ],
            [
             0.7,
             "#b8e186"
            ],
            [
             0.8,
             "#7fbc41"
            ],
            [
             0.9,
             "#4d9221"
            ],
            [
             1,
             "#276419"
            ]
           ],
           "sequential": [
            [
             0,
             "#0d0887"
            ],
            [
             0.1111111111111111,
             "#46039f"
            ],
            [
             0.2222222222222222,
             "#7201a8"
            ],
            [
             0.3333333333333333,
             "#9c179e"
            ],
            [
             0.4444444444444444,
             "#bd3786"
            ],
            [
             0.5555555555555556,
             "#d8576b"
            ],
            [
             0.6666666666666666,
             "#ed7953"
            ],
            [
             0.7777777777777778,
             "#fb9f3a"
            ],
            [
             0.8888888888888888,
             "#fdca26"
            ],
            [
             1,
             "#f0f921"
            ]
           ],
           "sequentialminus": [
            [
             0,
             "#0d0887"
            ],
            [
             0.1111111111111111,
             "#46039f"
            ],
            [
             0.2222222222222222,
             "#7201a8"
            ],
            [
             0.3333333333333333,
             "#9c179e"
            ],
            [
             0.4444444444444444,
             "#bd3786"
            ],
            [
             0.5555555555555556,
             "#d8576b"
            ],
            [
             0.6666666666666666,
             "#ed7953"
            ],
            [
             0.7777777777777778,
             "#fb9f3a"
            ],
            [
             0.8888888888888888,
             "#fdca26"
            ],
            [
             1,
             "#f0f921"
            ]
           ]
          },
          "colorway": [
           "#636efa",
           "#EF553B",
           "#00cc96",
           "#ab63fa",
           "#FFA15A",
           "#19d3f3",
           "#FF6692",
           "#B6E880",
           "#FF97FF",
           "#FECB52"
          ],
          "font": {
           "color": "#2a3f5f"
          },
          "geo": {
           "bgcolor": "white",
           "lakecolor": "white",
           "landcolor": "#E5ECF6",
           "showlakes": true,
           "showland": true,
           "subunitcolor": "white"
          },
          "hoverlabel": {
           "align": "left"
          },
          "hovermode": "closest",
          "mapbox": {
           "style": "light"
          },
          "paper_bgcolor": "white",
          "plot_bgcolor": "#E5ECF6",
          "polar": {
           "angularaxis": {
            "gridcolor": "white",
            "linecolor": "white",
            "ticks": ""
           },
           "bgcolor": "#E5ECF6",
           "radialaxis": {
            "gridcolor": "white",
            "linecolor": "white",
            "ticks": ""
           }
          },
          "scene": {
           "xaxis": {
            "backgroundcolor": "#E5ECF6",
            "gridcolor": "white",
            "gridwidth": 2,
            "linecolor": "white",
            "showbackground": true,
            "ticks": "",
            "zerolinecolor": "white"
           },
           "yaxis": {
            "backgroundcolor": "#E5ECF6",
            "gridcolor": "white",
            "gridwidth": 2,
            "linecolor": "white",
            "showbackground": true,
            "ticks": "",
            "zerolinecolor": "white"
           },
           "zaxis": {
            "backgroundcolor": "#E5ECF6",
            "gridcolor": "white",
            "gridwidth": 2,
            "linecolor": "white",
            "showbackground": true,
            "ticks": "",
            "zerolinecolor": "white"
           }
          },
          "shapedefaults": {
           "line": {
            "color": "#2a3f5f"
           }
          },
          "ternary": {
           "aaxis": {
            "gridcolor": "white",
            "linecolor": "white",
            "ticks": ""
           },
           "baxis": {
            "gridcolor": "white",
            "linecolor": "white",
            "ticks": ""
           },
           "bgcolor": "#E5ECF6",
           "caxis": {
            "gridcolor": "white",
            "linecolor": "white",
            "ticks": ""
           }
          },
          "title": {
           "x": 0.05
          },
          "xaxis": {
           "automargin": true,
           "gridcolor": "white",
           "linecolor": "white",
           "ticks": "",
           "title": {
            "standoff": 15
           },
           "zerolinecolor": "white",
           "zerolinewidth": 2
          },
          "yaxis": {
           "automargin": true,
           "gridcolor": "white",
           "linecolor": "white",
           "ticks": "",
           "title": {
            "standoff": 15
           },
           "zerolinecolor": "white",
           "zerolinewidth": 2
          }
         }
        },
        "title": {
         "text": "Comparação de resíduos - Modelo vs Random walk"
        },
        "width": 1280,
        "xaxis": {
         "anchor": "y",
         "domain": [
          0,
          1
         ],
         "title": {
          "text": "value"
         }
        },
        "yaxis": {
         "anchor": "x",
         "domain": [
          0,
          1
         ],
         "title": {
          "text": "count"
         }
        }
       }
      }
     },
     "metadata": {},
     "output_type": "display_data"
    }
   ],
   "source": [
    "plx.histogram(\n",
    "    data_frame=comparison.melt(),\n",
    "    title='Comparação de resíduos - Modelo vs Random walk',\n",
    "    x='value',\n",
    "    color='variable',\n",
    "    barmode='overlay',\n",
    "    nbins=512,\n",
    "    height=720,\n",
    "    width=1280,\n",
    ")"
   ]
  },
  {
   "cell_type": "markdown",
   "metadata": {},
   "source": [
    "Parece que a cadeia de Markov com nosso indicador teve um desempenho similar à Random Walk. Isso é um mal sinal!"
   ]
  },
  {
   "cell_type": "markdown",
   "metadata": {},
   "source": [
    "## Avaliação do modelo\n",
    "\n",
    "Agora, vamos verificar como o modelo se comporta com dados fora de amostra."
   ]
  },
  {
   "cell_type": "code",
   "execution_count": 30,
   "metadata": {},
   "outputs": [],
   "source": [
    "from datetime import datetime"
   ]
  },
  {
   "cell_type": "markdown",
   "metadata": {},
   "source": [
    "### Divisão em treino e teste"
   ]
  },
  {
   "cell_type": "code",
   "execution_count": 31,
   "metadata": {},
   "outputs": [],
   "source": [
    "company = 'LLY.US'\n",
    "split_date = datetime(2020, 6, 1)\n",
    "\n",
    "company_data = final_table.loc[cik_by_ticker[company]]\n",
    "company_train = company_data[company_data.index <= split_date].dropna()\n",
    "company_test = company_data[company_data.index > split_date].dropna()"
   ]
  },
  {
   "cell_type": "markdown",
   "metadata": {},
   "source": [
    "### Treinamento na base de treino"
   ]
  },
  {
   "cell_type": "code",
   "execution_count": 1,
   "metadata": {},
   "outputs": [
    {
     "ename": "NameError",
     "evalue": "name 'smf' is not defined",
     "output_type": "error",
     "traceback": [
      "\u001b[0;31m---------------------------------------------------------------------------\u001b[0m",
      "\u001b[0;31mNameError\u001b[0m                                 Traceback (most recent call last)",
      "Cell \u001b[0;32mIn [1], line 1\u001b[0m\n\u001b[0;32m----> 1\u001b[0m model \u001b[38;5;241m=\u001b[39m \u001b[43msmf\u001b[49m\u001b[38;5;241m.\u001b[39mols(\u001b[38;5;124m'\u001b[39m\u001b[38;5;124mlog_return ~ log_adj_ey_ms\u001b[39m\u001b[38;5;124m'\u001b[39m, data\u001b[38;5;241m=\u001b[39mcompany_train)\u001b[38;5;241m.\u001b[39mfit()\n\u001b[1;32m      2\u001b[0m model\u001b[38;5;241m.\u001b[39msummary()\n",
      "\u001b[0;31mNameError\u001b[0m: name 'smf' is not defined"
     ]
    }
   ],
   "source": [
    "model = smf.ols('log_return ~ log_adj_ey_ms', data=company_train).fit()\n",
    "model.summary()"
   ]
  },
  {
   "cell_type": "markdown",
   "metadata": {},
   "source": [
    "### Geração de Previsões"
   ]
  },
  {
   "cell_type": "code",
   "execution_count": 33,
   "metadata": {},
   "outputs": [],
   "source": [
    "company_test['predictions'] = model.predict(company_test)\n",
    "company_test['model_error'] = company_test['predictions'] - company_test['log_return']"
   ]
  },
  {
   "cell_type": "markdown",
   "metadata": {},
   "source": [
    "### Vizualização dos resíduos"
   ]
  },
  {
   "cell_type": "code",
   "execution_count": 34,
   "metadata": {},
   "outputs": [
    {
     "name": "stderr",
     "output_type": "stream",
     "text": [
      "/home/pedro/.local/lib/python3.10/site-packages/plotly/express/_core.py:1979: FutureWarning:\n",
      "\n",
      "When grouping with a length-1 list-like, you will need to pass a length-1 tuple to get_group in a future version of pandas. Pass `(name,)` instead of `name` to silence this warning.\n",
      "\n"
     ]
    },
    {
     "data": {
      "application/vnd.plotly.v1+json": {
       "config": {
        "plotlyServerURL": "https://plot.ly"
       },
       "data": [
        {
         "alignmentgroup": "True",
         "bingroup": "x",
         "hovertemplate": "variable=log_return<br>value=%{x}<br>count=%{y}<extra></extra>",
         "legendgroup": "log_return",
         "marker": {
          "color": "#636efa",
          "opacity": 0.5,
          "pattern": {
           "shape": ""
          }
         },
         "name": "log_return",
         "nbinsx": 128,
         "offsetgroup": "log_return",
         "orientation": "v",
         "showlegend": true,
         "type": "histogram",
         "x": [
          0.012222429064694815,
          0.024139476322409703,
          0.005670307052023421,
          0.007809022940956012,
          -0.00339780878031881,
          -0.00006641984524219597,
          -0.00791771190769548,
          0.013264259252943665,
          0.006577511150160979,
          -0.0034837909018937785,
          -0.004618312912990696,
          0.009661226651470192,
          0.015252879050566985,
          0.0017184700480674586,
          0.005672951640491543,
          -0.008961599333601798,
          0.008796132508616829,
          -0.008896888821939864,
          0.0026944547805920565,
          -0.006651275729211071,
          0.00357873079954323,
          0.017777389949472363,
          -0.0033259956815117828,
          0.09654729452038735,
          -0.008116667592082844,
          0.02367946438268947,
          0.03286944274507403,
          -0.041369836379991275,
          0.008969879705564772,
          -0.011471607944501448,
          -0.01243351234897995,
          0.006461630011339096,
          -0.016538198798668496,
          0.018665134418069728,
          -0.005497474699017987,
          -0.01986523019815255,
          0.07061034408923532,
          -0.01185515470440775,
          -0.008727291961060266,
          0.004961529159129048,
          0.0006660743939068214,
          0.0070169164860951,
          0.01218235932927536,
          0.0061823457820856485,
          0.0017062797528790527,
          0.005536097364203018,
          -0.009064372631158087,
          0.0043766218940893995,
          -0.003077018044831092,
          0.004486192157433914,
          -0.02087373249050046,
          0.004242507080656096,
          0.007192848617818749,
          0.0037799659734001592,
          0.009596109970079258,
          0.005025579833788635,
          0.023473646574227673,
          -0.0037644937650407866,
          0.0014398770916446563,
          0.01194429234189711,
          -0.004765015319227842,
          -0.0075073109566501485,
          0.012654087330788502,
          0.03738042307116176,
          0.025006502175281248,
          0.006542814710605469,
          -0.00286623399307458,
          0.014039160066734066,
          0.00849941615064628,
          -0.0200197320761835,
          0.0008285065463331989,
          0.00279501747221279,
          0.02147349693041061,
          0.010216462046429925,
          -0.015516122020646908,
          0.006964832728064973,
          0.0019008107958584874,
          -0.01146644653315309,
          -0.019029560081825884,
          0.004180469540688664,
          -0.009743549607279762,
          -0.006006757097778658,
          0.009788701671974655,
          -0.015437235719708875,
          -0.0034224943520003654,
          0.008350108170560127,
          -0.00014119146268993564,
          -0.018377949291491755,
          0.00014444297971918517,
          -0.059993255112573564,
          -0.0020949944982052338,
          -0.006436150128368177,
          -0.020673691914206947,
          0.00270492418160872,
          -0.011561621761440566,
          -0.004019026559613896,
          0.006643775592275202,
          -0.006346712830409035,
          -0.008184486626705362,
          0.016877942218008982,
          -0.0021808888742944105,
          -0.02305801223244144,
          -0.0214412826589326,
          0.03878926323637372,
          0.0029500548273331774,
          -0.006280738339387452,
          -0.020897510538499503,
          0.026680968596380455,
          -0.013400050238504012,
          0.023116000095935157,
          0.0032258209107288824,
          -0.001174589089214826,
          -0.0037530755864335834,
          0.015562424428622445,
          0.0010758664305209552,
          0.005000278369400988,
          0.004621200296388435,
          0.013869205635148913,
          0.005788094091189466,
          -0.010544908215579973,
          0.01062835918653711,
          0.005355668615876057,
          0.013750199784663311,
          0.006888636093174183,
          0.012668711248577205,
          0.005560400275286971,
          -0.021648061793402472,
          0.029831577789088803,
          0.035987718592217874,
          0.017627338531689955,
          -0.02242426492973597,
          -0.016971038519705522,
          0.005674467268918648,
          0.009968714838864882,
          -0.007662162326620471,
          -0.0081328748520951,
          -0.004725453660525718,
          -0.0027568426150169677,
          0.013316359912609613,
          0.0005815187430607905,
          -0.002385854618992787,
          -0.0009784444316232063,
          0.005792248401907338,
          0.0001540078702127232,
          -0.006246283702124228,
          -0.021517364174977176,
          -0.02697459551551157,
          0.004343578979032023,
          -0.0050206067700452935,
          -0.00930922515230626,
          0.0030845354770731906,
          -0.005004780217992755,
          -0.0032336833084349514,
          -0.005822619438508904,
          0.005097653893039603,
          0.017824604695845202,
          0.0033940319574300793,
          0.09882333383334321,
          0.013560522169777113,
          -0.042517441241048,
          -0.014860101748763005,
          0.005320255146991863,
          0.006079765819188298,
          0.02445668047060994,
          0.019255015329026567,
          -0.0071226694358077014,
          0.007147354924180184,
          -0.00418618170078823,
          -0.003737482691522686,
          -0.016382577093723386,
          -0.01827254803288562,
          -0.02335104641047082,
          -0.005072144236772926,
          0.0006451997895828129,
          0.002351474315065334,
          0.008487051327512108,
          -0.024723238725052932,
          -0.024745564163329663,
          -0.02242879746449505,
          0.011972107543451349,
          -0.008207424055585315,
          -0.007851269481487186,
          -0.0003047932943724667,
          -0.010898106519481044,
          -0.004048858060861288,
          -0.00669071714375579,
          -0.004780022297853183,
          0.03477091126784514,
          0.001201989553850572,
          -0.005177083388765883,
          0.02345481169494549,
          -0.008632068709768324,
          0.015370278344352168,
          -0.026151232665411948,
          -0.012279620545074376,
          0.0034639156348346537,
          0.01764564934828397,
          0.0027700084454066803,
          0.026241200282073617,
          0.006714543551260049,
          -0.02081707183792655,
          -0.03067212823204169,
          0.04301250079507328,
          0.012469101206780893,
          0.011020838877602688,
          0.00343936552777166,
          0.020806441565412746,
          0.03146301777325354,
          -0.03154634531946848,
          -0.007541285443352915,
          -0.02822085066721701,
          -0.002556322066263933,
          0.005638122084071684,
          0.02841241121924669,
          0.004451054738904983,
          -0.033238521652392584,
          -0.020771160979495808,
          -0.019484912724417543,
          -0.0016765040152594173,
          0.007546213771288187,
          -0.016962726336767087,
          0.009792695316771632,
          0.021889835154410165,
          0.03097295137842598,
          0.019465011435102385,
          0.040405468550291965,
          0.005078088317768712,
          -0.029936008758645154,
          0.01678316601433562,
          0.003790035535728178,
          0.0015051392701330806,
          0.007567801801929141,
          0.00904314945277645,
          -0.006676993358048845,
          0.0076417647101280056,
          0.0017968064695412114,
          -0.02282283893710193,
          -0.0035132250579147004,
          0.013645357746869004,
          0.014316532172269983,
          -0.03009826867408611,
          0.01365798615130005,
          -0.012843129346421761,
          0.015053003874625272,
          0.005580436923759551,
          0.008491186689530143,
          0.00003782494369187017,
          -0.007949615711101433,
          0.0056572998887941565,
          -0.0033794446977938775,
          -0.016930270775925328,
          -0.012278967741638242,
          -0.020076393381253017,
          -0.02596136028214075,
          -0.014737912011055747,
          0.003934800501225041,
          0.001696478523987903,
          0.005234739664951869,
          -0.011366817529251375,
          0.025965046841373123,
          0.018848502919021227,
          -0.01163155980096169,
          0.020736198296695405,
          -0.00028874570025870364,
          0.018893359268891796,
          0.0010377516880355922,
          -0.025066113366501497,
          0.011899597058344176,
          0.013286244194535298,
          -0.02373025235794197,
          -0.017312877249167007,
          -0.010054422276589332,
          -0.01912398401360767,
          0.02590379016692539,
          -0.02556006697156424,
          0.018068297964411548,
          0.015434915668309748,
          0.012457909699655894,
          0.006926186114225088,
          -0.007832779704502012,
          -0.028114636860703847,
          0.010166866770635961,
          -0.00045845415370639376,
          -0.00186717233315485,
          -0.01239387432790757,
          -0.011068622698863533,
          -0.017560170753153567,
          0.04740890428755292,
          0.0018972471095218947,
          -0.012793607740106848,
          0.011636186401133924,
          0.07216271790943836,
          -0.013152824754866088,
          -0.020373312060546087,
          -0.005599544249890982,
          0.02559614233430938,
          0.005713320128749729,
          0.0035241928822730096,
          -0.01906884589772366,
          -0.008505573239737942,
          0.011391403613560879,
          -0.00928730514942364,
          0.02290789138156794,
          -0.002128802920842195,
          0.004135148447927223,
          0.006796192687858897,
          -0.017298248986276247,
          -0.0006510282263528317,
          0.03494006349682768,
          0.02069468489939525,
          0.009748941521138286,
          0.018482020777354592,
          -0.004290625778584429,
          0.009977448794161358,
          0.006055117321166667,
          -0.02660324837643418,
          0.0067233018387574455,
          0.018746478312302146,
          -0.01187750272939944,
          0.021208008678999,
          0.004358776682935657,
          -0.009290522937154782,
          0.01487345609586148,
          -0.045532697963979143,
          0.013387845887537797,
          -0.017315182393034815,
          0.008502413608873379,
          0.021974103966806185,
          0.0024902278803035386,
          -0.0013856370189537694,
          -0.0008052001075419457,
          0.0023149363042266275,
          0.009714196625185256,
          0.0014357896866895282,
          -0.004996407253252743,
          0.019401533023544273,
          -0.002039040563076034,
          0.011893594172176192,
          -0.014707370905932377,
          -0.002034018091453518,
          0.00927653710283949,
          -0.0004803317513514111,
          -0.02947148894597855,
          0.01718583909089072,
          -0.023674181362063024,
          0.013404947711721528,
          -0.00963711643945079,
          -0.00039626112307809364,
          -0.005815411331756479,
          0.00518255945780588,
          0.023006417577890147,
          -0.007364448512274044,
          0.0070664076563701555,
          -0.008254376489870131,
          0.0009373735130069189,
          0.004915688773131866,
          -0.003210534361973675,
          -0.0023414440990472125,
          -0.005176532403537757,
          -0.011597987069229909,
          0.01114756290132193,
          -0.03679193535771016,
          0.008312116096838422,
          0.021487253455589553,
          -0.003580303889197993,
          0.006940416887742168,
          -0.010789218899555178,
          -0.01617140410984987,
          -0.002620335556649298,
          -0.014392760149546173,
          -0.011202133798777932,
          0.012148617424440762,
          0.00959156363541178,
          -0.0049423571649375945,
          -0.017113775396367766,
          -0.00469600499903858,
          0.01065172887540386,
          -0.004597243294068985,
          -0.03526877499282201,
          0.025034167598186743,
          -0.004193559923520307
         ],
         "xaxis": "x",
         "yaxis": "y"
        },
        {
         "alignmentgroup": "True",
         "bingroup": "x",
         "hovertemplate": "variable=model_error<br>value=%{x}<br>count=%{y}<extra></extra>",
         "legendgroup": "model_error",
         "marker": {
          "color": "#EF553B",
          "opacity": 0.5,
          "pattern": {
           "shape": ""
          }
         },
         "name": "model_error",
         "nbinsx": 128,
         "offsetgroup": "model_error",
         "orientation": "v",
         "showlegend": true,
         "type": "histogram",
         "x": [
          -0.019918637534898823,
          -0.031547399931648706,
          -0.01511739313436413,
          -0.01519217492720061,
          -0.0044346590285129685,
          -0.0063693031229409315,
          0.0010954198140862622,
          -0.018958890297861568,
          -0.015097395113494453,
          -0.004417170805580071,
          -0.00202826668522521,
          -0.016054757036345842,
          -0.023551064186764926,
          -0.011032792315703345,
          -0.013480927248578772,
          0.0005639501726559058,
          -0.015310944285055562,
          0.00014865550505352952,
          -0.009213903309153249,
          -0.0012501749931589307,
          -0.010248015830921687,
          -0.025702673459030434,
          -0.006644838442225586,
          -0.10405697453193491,
          -0.01241558276218885,
          -0.03285372625363275,
          -0.04582465874595276,
          0.02684281028251924,
          -0.015209741016855183,
          0.000009903145512586697,
          0.0032971260733027172,
          -0.015201779922746031,
          0.005714793198597513,
          -0.026739158026183835,
          -0.006634120031570206,
          0.010344661787861021,
          -0.07817517038512081,
          -0.006502905673057984,
          -0.0010663829844708497,
          -0.014860342328903573,
          -0.012034352320206701,
          -0.017972746951072805,
          -0.023920081422257794,
          -0.01868542832243105,
          -0.013750833547400332,
          -0.017182764086759013,
          -0.003069482515461571,
          -0.01490811839235475,
          -0.008846113368610374,
          -0.015622684382521387,
          0.00891023457016143,
          -0.013288111690673279,
          -0.01877862257392597,
          -0.015808001849300722,
          -0.02137121724848963,
          -0.01756565157589064,
          -0.03567717759393288,
          -0.01066886403544566,
          -0.013226937166170096,
          -0.024248159939687847,
          -0.008762897384188211,
          -0.004369784317759009,
          -0.02411653621114809,
          -0.05236227235797694,
          -0.04178426444264053,
          -0.022629700405119656,
          -0.011731361820481461,
          -0.027776689317231176,
          -0.023942242153979595,
          0.0048961107406092046,
          -0.013166266279880143,
          -0.016912202582445957,
          -0.03581133161916398,
          -0.026528301884673804,
          -0.000023865865074967907,
          -0.020079873125602544,
          -0.01701685197298325,
          -0.0032615116563569704,
          0.005630954228866409,
          -0.01656328865471409,
          -0.004688743742766574,
          -0.007048191345278263,
          -0.023043775104648792,
          0.0006327928610240265,
          -0.008908334588033223,
          -0.02164896282839219,
          -0.014344013256636631,
          0.004633603796800627,
          -0.01193647145565669,
          0.04657990765076129,
          -0.0046424525829556595,
          -0.005507707287125227,
          0.009273616666021578,
          -0.012301727306029903,
          -0.0003211636132831267,
          -0.006239649339225015,
          -0.01753972685032914,
          -0.0057288043162406896,
          -0.0024925816519282135,
          -0.027192263411901618,
          -0.010943114182651792,
          0.011834522028526298,
          0.012766839546476507,
          -0.04709694951787852,
          -0.01810590144352398,
          -0.005380308203992602,
          0.0102706247808157,
          -0.0353982559596581,
          -0.0005867799800523543,
          -0.03287835255523522,
          -0.017046515299944907,
          -0.010777593227963891,
          -0.007751720090594931,
          -0.026738528092015358,
          -0.01443212873450557,
          -0.016994160177426776,
          -0.01709125761004901,
          -0.02639852449574767,
          -0.019464514814473942,
          -0.0024924486412916044,
          -0.021937358579490352,
          -0.018843888839335608,
          -0.02685651138740395,
          -0.027257691893020453,
          -0.02741678010461994,
          -0.0210287483264533,
          0.006679267104455055,
          -0.04210554971689656,
          -0.053145772855293164,
          -0.035859236470511105,
          0.005409074382461739,
          0.0035258470349883494,
          -0.019219331384406076,
          -0.025449847543595416,
          -0.0083415476226441,
          -0.006311338055665607,
          -0.009528178901641954,
          -0.011684775385857268,
          -0.027867493479277684,
          -0.01668803339570781,
          -0.012691811577725597,
          -0.013815339674214217,
          -0.02068229392395169,
          -0.01569792413389349,
          -0.008843385235169272,
          0.007059588353490685,
          0.014173615948548483,
          -0.016135772991710158,
          -0.009493357526485363,
          -0.004312468489941096,
          -0.016157413519125412,
          -0.009190313221709254,
          -0.010169407081617274,
          -0.007669316801677931,
          -0.01825080312864772,
          -0.03202437417875991,
          -0.019023218302942436,
          -0.11327524480610823,
          -0.03749800142224877,
          0.025299882298009783,
          0.0027152119500689145,
          -0.019313089740219152,
          -0.02177997294834551,
          -0.04032334717616859,
          -0.03698681447754407,
          -0.010499314916372682,
          -0.022623413148564135,
          -0.012502276809777224,
          -0.012014082883297191,
          0.0006618532562444705,
          0.0038159905398801614,
          0.009386131519358493,
          -0.008036376729166097,
          -0.01512352811520398,
          -0.017307201406967974,
          -0.02362453988865252,
          0.008935779695722741,
          0.012117107504736489,
          0.01031447772971841,
          -0.023807292274638063,
          -0.006809747060320177,
          -0.005272398456763005,
          -0.012692224852854619,
          -0.0027464576136230507,
          -0.008456484279399594,
          -0.006331181816689812,
          -0.00787374808008809,
          -0.04749637198226404,
          -0.018085516539340356,
          -0.008726232156808521,
          -0.0375618111853256,
          -0.008264149542989704,
          -0.029475636428191232,
          0.009811100247547212,
          -0.00019273812603539178,
          -0.016823217969637042,
          -0.03238320676593171,
          -0.01900622568978285,
          -0.041293451290995806,
          -0.024135963186678606,
          0.0048641245270408355,
          0.017294261491892452,
          -0.05497473611162776,
          -0.03125026602401712,
          -0.027501251136912583,
          -0.019988148979052617,
          -0.03681752568062337,
          -0.04916851741607324,
          0.01255207123770256,
          -0.006187454308214501,
          0.012827913236299573,
          -0.010722394827631506,
          -0.02086960869891876,
          -0.04439137273045257,
          -0.022686256141391043,
          0.01679519165001011,
          0.00782273631756158,
          0.005982189591067966,
          -0.011544109771565869,
          -0.022181290982946827,
          0.001434449685425965,
          -0.0229970523874515,
          -0.03747740122853546,
          -0.04792825392967076,
          -0.037641913008887654,
          -0.057969610451279734,
          -0.02484665280839575,
          0.01274235744051469,
          -0.03088501686637905,
          -0.02164895547420655,
          -0.01845293301301017,
          -0.024371095108153173,
          -0.02641550841746397,
          -0.010945579231392772,
          -0.024010943234038545,
          -0.019331994078947017,
          0.005684356613074825,
          -0.011452411746673089,
          -0.029962126553802496,
          -0.0321247029772834,
          0.012022298212463051,
          -0.02799333744418505,
          -0.004933282587845519,
          -0.030659536939342296,
          -0.023494491669814967,
          -0.025793239116970665,
          -0.01768585108655753,
          -0.009085808048311212,
          -0.02198469081837894,
          -0.014026918737239647,
          0.00023445126756600765,
          -0.0031447847791715375,
          0.004528787650014857,
          0.0048270112195555395,
          -0.0002916201989857266,
          -0.019508503859508426,
          -0.018706421047686297,
          -0.022107139024758995,
          -0.00585024271234451,
          -0.041776001877605565,
          -0.037813999291292595,
          -0.007085273059201395,
          -0.03709451186197938,
          -0.018694371230888605,
          -0.036382774274979574,
          -0.020153770040459946,
          0.007175694616398203,
          -0.027583114109572926,
          -0.0317355560404908,
          0.0049896865306827375,
          0.0015121446872484665,
          -0.005893686138068375,
          0.002831858586016752,
          -0.04121155420934587,
          0.006550767426890862,
          -0.0329184194960994,
          -0.03375808292668317,
          -0.03081814083044044,
          -0.02525765433169083,
          -0.010210774650317325,
          0.01122980136637557,
          -0.02514388014235694,
          -0.0174239562669479,
          -0.015242166065083591,
          -0.004584288124018019,
          -0.0049469645258718095,
          0.001638947965997898,
          -0.06254589351898522,
          -0.022578486419782322,
          -0.00458657797830689,
          -0.027757861773377857,
          -0.09022445153589399,
          -0.010157819092242603,
          0.0031128282228385547,
          -0.010845227981270387,
          -0.04295508158535481,
          -0.025595318467309766,
          -0.022129108768320315,
          0.000559436598446126,
          -0.008195365529223187,
          -0.028666757582637696,
          -0.009520198272013329,
          -0.04016360924120824,
          -0.01765764929835601,
          -0.022195953743968204,
          -0.025338407786285957,
          -0.0015208337871224845,
          -0.01629872949789632,
          -0.05299400440476999,
          -0.04163139981293739,
          -0.03000132854073835,
          -0.03815643943172704,
          -0.016182753893352653,
          -0.028963307601511,
          -0.026067324308688813,
          0.007618249053518839,
          -0.023990073458000995,
          -0.038212907290216605,
          -0.0086023170281031,
          -0.039599841393869434,
          -0.025111910604473587,
          -0.010468816165185578,
          -0.033663077107078325,
          0.025049962163850588,
          -0.02947480060546811,
          -0.0026561700103332475,
          -0.026276899209694084,
          -0.04151406797102823,
          -0.023178684019012654,
          -0.018109631475573554,
          -0.018429934352889248,
          -0.021574889362939716,
          -0.02920025973099148,
          -0.02151228755056072,
          -0.014587831294940637,
          -0.03852126699465529,
          -0.01883907831741115,
          -0.03143468308634476,
          -0.005834838368719604,
          -0.016704242780051396,
          -0.028751472872545016,
          -0.019807071611364614,
          0.009782434509287601,
          -0.03469322851358759,
          0.003062955077072844,
          -0.031163853855058418,
          -0.010606684046827217,
          -0.01828195551488798,
          -0.013430796643025544,
          -0.02400828249090162,
          -0.042592913493237364,
          -0.013635257620336454,
          -0.026093923084797528,
          -0.011753954302345309,
          -0.01989367364452862,
          -0.024448566901134307,
          -0.016633621366773453,
          -0.01696038165031691,
          -0.014146015150620507,
          -0.007477769127657409,
          -0.029660038388075186,
          0.01670949718093677,
          -0.02486476048858257,
          -0.04100789489529349,
          -0.017064525890510187,
          -0.02595889217772626,
          -0.0089818017505584,
          -0.00234310552096759,
          -0.015316099740020971,
          -0.004362017070939488,
          -0.006586205064617705,
          -0.02997005423021401,
          -0.02911200591232763,
          -0.014542986581388343,
          -0.0013641536337449904,
          -0.012738249040452523,
          -0.028821265682492134,
          -0.014735068204886428,
          0.017002101635436813,
          -0.04072574628704048,
          -0.01589963910064958
         ],
         "xaxis": "x",
         "yaxis": "y"
        }
       ],
       "layout": {
        "barmode": "overlay",
        "height": 720,
        "legend": {
         "title": {
          "text": "variable"
         },
         "tracegroupgap": 0
        },
        "template": {
         "data": {
          "bar": [
           {
            "error_x": {
             "color": "#2a3f5f"
            },
            "error_y": {
             "color": "#2a3f5f"
            },
            "marker": {
             "line": {
              "color": "#E5ECF6",
              "width": 0.5
             },
             "pattern": {
              "fillmode": "overlay",
              "size": 10,
              "solidity": 0.2
             }
            },
            "type": "bar"
           }
          ],
          "barpolar": [
           {
            "marker": {
             "line": {
              "color": "#E5ECF6",
              "width": 0.5
             },
             "pattern": {
              "fillmode": "overlay",
              "size": 10,
              "solidity": 0.2
             }
            },
            "type": "barpolar"
           }
          ],
          "carpet": [
           {
            "aaxis": {
             "endlinecolor": "#2a3f5f",
             "gridcolor": "white",
             "linecolor": "white",
             "minorgridcolor": "white",
             "startlinecolor": "#2a3f5f"
            },
            "baxis": {
             "endlinecolor": "#2a3f5f",
             "gridcolor": "white",
             "linecolor": "white",
             "minorgridcolor": "white",
             "startlinecolor": "#2a3f5f"
            },
            "type": "carpet"
           }
          ],
          "choropleth": [
           {
            "colorbar": {
             "outlinewidth": 0,
             "ticks": ""
            },
            "type": "choropleth"
           }
          ],
          "contour": [
           {
            "colorbar": {
             "outlinewidth": 0,
             "ticks": ""
            },
            "colorscale": [
             [
              0,
              "#0d0887"
             ],
             [
              0.1111111111111111,
              "#46039f"
             ],
             [
              0.2222222222222222,
              "#7201a8"
             ],
             [
              0.3333333333333333,
              "#9c179e"
             ],
             [
              0.4444444444444444,
              "#bd3786"
             ],
             [
              0.5555555555555556,
              "#d8576b"
             ],
             [
              0.6666666666666666,
              "#ed7953"
             ],
             [
              0.7777777777777778,
              "#fb9f3a"
             ],
             [
              0.8888888888888888,
              "#fdca26"
             ],
             [
              1,
              "#f0f921"
             ]
            ],
            "type": "contour"
           }
          ],
          "contourcarpet": [
           {
            "colorbar": {
             "outlinewidth": 0,
             "ticks": ""
            },
            "type": "contourcarpet"
           }
          ],
          "heatmap": [
           {
            "colorbar": {
             "outlinewidth": 0,
             "ticks": ""
            },
            "colorscale": [
             [
              0,
              "#0d0887"
             ],
             [
              0.1111111111111111,
              "#46039f"
             ],
             [
              0.2222222222222222,
              "#7201a8"
             ],
             [
              0.3333333333333333,
              "#9c179e"
             ],
             [
              0.4444444444444444,
              "#bd3786"
             ],
             [
              0.5555555555555556,
              "#d8576b"
             ],
             [
              0.6666666666666666,
              "#ed7953"
             ],
             [
              0.7777777777777778,
              "#fb9f3a"
             ],
             [
              0.8888888888888888,
              "#fdca26"
             ],
             [
              1,
              "#f0f921"
             ]
            ],
            "type": "heatmap"
           }
          ],
          "heatmapgl": [
           {
            "colorbar": {
             "outlinewidth": 0,
             "ticks": ""
            },
            "colorscale": [
             [
              0,
              "#0d0887"
             ],
             [
              0.1111111111111111,
              "#46039f"
             ],
             [
              0.2222222222222222,
              "#7201a8"
             ],
             [
              0.3333333333333333,
              "#9c179e"
             ],
             [
              0.4444444444444444,
              "#bd3786"
             ],
             [
              0.5555555555555556,
              "#d8576b"
             ],
             [
              0.6666666666666666,
              "#ed7953"
             ],
             [
              0.7777777777777778,
              "#fb9f3a"
             ],
             [
              0.8888888888888888,
              "#fdca26"
             ],
             [
              1,
              "#f0f921"
             ]
            ],
            "type": "heatmapgl"
           }
          ],
          "histogram": [
           {
            "marker": {
             "pattern": {
              "fillmode": "overlay",
              "size": 10,
              "solidity": 0.2
             }
            },
            "type": "histogram"
           }
          ],
          "histogram2d": [
           {
            "colorbar": {
             "outlinewidth": 0,
             "ticks": ""
            },
            "colorscale": [
             [
              0,
              "#0d0887"
             ],
             [
              0.1111111111111111,
              "#46039f"
             ],
             [
              0.2222222222222222,
              "#7201a8"
             ],
             [
              0.3333333333333333,
              "#9c179e"
             ],
             [
              0.4444444444444444,
              "#bd3786"
             ],
             [
              0.5555555555555556,
              "#d8576b"
             ],
             [
              0.6666666666666666,
              "#ed7953"
             ],
             [
              0.7777777777777778,
              "#fb9f3a"
             ],
             [
              0.8888888888888888,
              "#fdca26"
             ],
             [
              1,
              "#f0f921"
             ]
            ],
            "type": "histogram2d"
           }
          ],
          "histogram2dcontour": [
           {
            "colorbar": {
             "outlinewidth": 0,
             "ticks": ""
            },
            "colorscale": [
             [
              0,
              "#0d0887"
             ],
             [
              0.1111111111111111,
              "#46039f"
             ],
             [
              0.2222222222222222,
              "#7201a8"
             ],
             [
              0.3333333333333333,
              "#9c179e"
             ],
             [
              0.4444444444444444,
              "#bd3786"
             ],
             [
              0.5555555555555556,
              "#d8576b"
             ],
             [
              0.6666666666666666,
              "#ed7953"
             ],
             [
              0.7777777777777778,
              "#fb9f3a"
             ],
             [
              0.8888888888888888,
              "#fdca26"
             ],
             [
              1,
              "#f0f921"
             ]
            ],
            "type": "histogram2dcontour"
           }
          ],
          "mesh3d": [
           {
            "colorbar": {
             "outlinewidth": 0,
             "ticks": ""
            },
            "type": "mesh3d"
           }
          ],
          "parcoords": [
           {
            "line": {
             "colorbar": {
              "outlinewidth": 0,
              "ticks": ""
             }
            },
            "type": "parcoords"
           }
          ],
          "pie": [
           {
            "automargin": true,
            "type": "pie"
           }
          ],
          "scatter": [
           {
            "fillpattern": {
             "fillmode": "overlay",
             "size": 10,
             "solidity": 0.2
            },
            "type": "scatter"
           }
          ],
          "scatter3d": [
           {
            "line": {
             "colorbar": {
              "outlinewidth": 0,
              "ticks": ""
             }
            },
            "marker": {
             "colorbar": {
              "outlinewidth": 0,
              "ticks": ""
             }
            },
            "type": "scatter3d"
           }
          ],
          "scattercarpet": [
           {
            "marker": {
             "colorbar": {
              "outlinewidth": 0,
              "ticks": ""
             }
            },
            "type": "scattercarpet"
           }
          ],
          "scattergeo": [
           {
            "marker": {
             "colorbar": {
              "outlinewidth": 0,
              "ticks": ""
             }
            },
            "type": "scattergeo"
           }
          ],
          "scattergl": [
           {
            "marker": {
             "colorbar": {
              "outlinewidth": 0,
              "ticks": ""
             }
            },
            "type": "scattergl"
           }
          ],
          "scattermapbox": [
           {
            "marker": {
             "colorbar": {
              "outlinewidth": 0,
              "ticks": ""
             }
            },
            "type": "scattermapbox"
           }
          ],
          "scatterpolar": [
           {
            "marker": {
             "colorbar": {
              "outlinewidth": 0,
              "ticks": ""
             }
            },
            "type": "scatterpolar"
           }
          ],
          "scatterpolargl": [
           {
            "marker": {
             "colorbar": {
              "outlinewidth": 0,
              "ticks": ""
             }
            },
            "type": "scatterpolargl"
           }
          ],
          "scatterternary": [
           {
            "marker": {
             "colorbar": {
              "outlinewidth": 0,
              "ticks": ""
             }
            },
            "type": "scatterternary"
           }
          ],
          "surface": [
           {
            "colorbar": {
             "outlinewidth": 0,
             "ticks": ""
            },
            "colorscale": [
             [
              0,
              "#0d0887"
             ],
             [
              0.1111111111111111,
              "#46039f"
             ],
             [
              0.2222222222222222,
              "#7201a8"
             ],
             [
              0.3333333333333333,
              "#9c179e"
             ],
             [
              0.4444444444444444,
              "#bd3786"
             ],
             [
              0.5555555555555556,
              "#d8576b"
             ],
             [
              0.6666666666666666,
              "#ed7953"
             ],
             [
              0.7777777777777778,
              "#fb9f3a"
             ],
             [
              0.8888888888888888,
              "#fdca26"
             ],
             [
              1,
              "#f0f921"
             ]
            ],
            "type": "surface"
           }
          ],
          "table": [
           {
            "cells": {
             "fill": {
              "color": "#EBF0F8"
             },
             "line": {
              "color": "white"
             }
            },
            "header": {
             "fill": {
              "color": "#C8D4E3"
             },
             "line": {
              "color": "white"
             }
            },
            "type": "table"
           }
          ]
         },
         "layout": {
          "annotationdefaults": {
           "arrowcolor": "#2a3f5f",
           "arrowhead": 0,
           "arrowwidth": 1
          },
          "autotypenumbers": "strict",
          "coloraxis": {
           "colorbar": {
            "outlinewidth": 0,
            "ticks": ""
           }
          },
          "colorscale": {
           "diverging": [
            [
             0,
             "#8e0152"
            ],
            [
             0.1,
             "#c51b7d"
            ],
            [
             0.2,
             "#de77ae"
            ],
            [
             0.3,
             "#f1b6da"
            ],
            [
             0.4,
             "#fde0ef"
            ],
            [
             0.5,
             "#f7f7f7"
            ],
            [
             0.6,
             "#e6f5d0"
            ],
            [
             0.7,
             "#b8e186"
            ],
            [
             0.8,
             "#7fbc41"
            ],
            [
             0.9,
             "#4d9221"
            ],
            [
             1,
             "#276419"
            ]
           ],
           "sequential": [
            [
             0,
             "#0d0887"
            ],
            [
             0.1111111111111111,
             "#46039f"
            ],
            [
             0.2222222222222222,
             "#7201a8"
            ],
            [
             0.3333333333333333,
             "#9c179e"
            ],
            [
             0.4444444444444444,
             "#bd3786"
            ],
            [
             0.5555555555555556,
             "#d8576b"
            ],
            [
             0.6666666666666666,
             "#ed7953"
            ],
            [
             0.7777777777777778,
             "#fb9f3a"
            ],
            [
             0.8888888888888888,
             "#fdca26"
            ],
            [
             1,
             "#f0f921"
            ]
           ],
           "sequentialminus": [
            [
             0,
             "#0d0887"
            ],
            [
             0.1111111111111111,
             "#46039f"
            ],
            [
             0.2222222222222222,
             "#7201a8"
            ],
            [
             0.3333333333333333,
             "#9c179e"
            ],
            [
             0.4444444444444444,
             "#bd3786"
            ],
            [
             0.5555555555555556,
             "#d8576b"
            ],
            [
             0.6666666666666666,
             "#ed7953"
            ],
            [
             0.7777777777777778,
             "#fb9f3a"
            ],
            [
             0.8888888888888888,
             "#fdca26"
            ],
            [
             1,
             "#f0f921"
            ]
           ]
          },
          "colorway": [
           "#636efa",
           "#EF553B",
           "#00cc96",
           "#ab63fa",
           "#FFA15A",
           "#19d3f3",
           "#FF6692",
           "#B6E880",
           "#FF97FF",
           "#FECB52"
          ],
          "font": {
           "color": "#2a3f5f"
          },
          "geo": {
           "bgcolor": "white",
           "lakecolor": "white",
           "landcolor": "#E5ECF6",
           "showlakes": true,
           "showland": true,
           "subunitcolor": "white"
          },
          "hoverlabel": {
           "align": "left"
          },
          "hovermode": "closest",
          "mapbox": {
           "style": "light"
          },
          "paper_bgcolor": "white",
          "plot_bgcolor": "#E5ECF6",
          "polar": {
           "angularaxis": {
            "gridcolor": "white",
            "linecolor": "white",
            "ticks": ""
           },
           "bgcolor": "#E5ECF6",
           "radialaxis": {
            "gridcolor": "white",
            "linecolor": "white",
            "ticks": ""
           }
          },
          "scene": {
           "xaxis": {
            "backgroundcolor": "#E5ECF6",
            "gridcolor": "white",
            "gridwidth": 2,
            "linecolor": "white",
            "showbackground": true,
            "ticks": "",
            "zerolinecolor": "white"
           },
           "yaxis": {
            "backgroundcolor": "#E5ECF6",
            "gridcolor": "white",
            "gridwidth": 2,
            "linecolor": "white",
            "showbackground": true,
            "ticks": "",
            "zerolinecolor": "white"
           },
           "zaxis": {
            "backgroundcolor": "#E5ECF6",
            "gridcolor": "white",
            "gridwidth": 2,
            "linecolor": "white",
            "showbackground": true,
            "ticks": "",
            "zerolinecolor": "white"
           }
          },
          "shapedefaults": {
           "line": {
            "color": "#2a3f5f"
           }
          },
          "ternary": {
           "aaxis": {
            "gridcolor": "white",
            "linecolor": "white",
            "ticks": ""
           },
           "baxis": {
            "gridcolor": "white",
            "linecolor": "white",
            "ticks": ""
           },
           "bgcolor": "#E5ECF6",
           "caxis": {
            "gridcolor": "white",
            "linecolor": "white",
            "ticks": ""
           }
          },
          "title": {
           "x": 0.05
          },
          "xaxis": {
           "automargin": true,
           "gridcolor": "white",
           "linecolor": "white",
           "ticks": "",
           "title": {
            "standoff": 15
           },
           "zerolinecolor": "white",
           "zerolinewidth": 2
          },
          "yaxis": {
           "automargin": true,
           "gridcolor": "white",
           "linecolor": "white",
           "ticks": "",
           "title": {
            "standoff": 15
           },
           "zerolinecolor": "white",
           "zerolinewidth": 2
          }
         }
        },
        "title": {
         "text": "Comparação de erros - Modelo vs Random walk"
        },
        "width": 1280,
        "xaxis": {
         "anchor": "y",
         "domain": [
          0,
          1
         ],
         "title": {
          "text": "value"
         }
        },
        "yaxis": {
         "anchor": "x",
         "domain": [
          0,
          1
         ],
         "title": {
          "text": "count"
         }
        }
       }
      }
     },
     "metadata": {},
     "output_type": "display_data"
    }
   ],
   "source": [
    "plx.histogram(\n",
    "    data_frame=company_test[['log_return', 'model_error']].melt(),\n",
    "    title='Comparação de erros - Modelo vs Random walk',\n",
    "    x='value',\n",
    "    color='variable',\n",
    "    barmode='overlay',\n",
    "    nbins=128,\n",
    "    height=720,\n",
    "    width=1280,\n",
    ")"
   ]
  },
  {
   "cell_type": "markdown",
   "metadata": {},
   "source": [
    "O desempenho na base de testes consegue ser ainda pior!"
   ]
  },
  {
   "cell_type": "markdown",
   "metadata": {},
   "source": [
    "### R-quadrado do modelo"
   ]
  },
  {
   "cell_type": "code",
   "execution_count": 35,
   "metadata": {},
   "outputs": [],
   "source": [
    "from sklearn.metrics import r2_score"
   ]
  },
  {
   "cell_type": "code",
   "execution_count": 36,
   "metadata": {},
   "outputs": [
    {
     "data": {
      "text/plain": [
       "-0.8447865040825222"
      ]
     },
     "execution_count": 36,
     "metadata": {},
     "output_type": "execute_result"
    }
   ],
   "source": [
    "r2_score(company_test.log_return, company_test.predictions)"
   ]
  },
  {
   "cell_type": "code",
   "execution_count": 37,
   "metadata": {},
   "outputs": [],
   "source": [
    "qq_data = company_test[['log_return', 'model_error']]"
   ]
  },
  {
   "cell_type": "markdown",
   "metadata": {},
   "source": [
    "### Quantile-Quantile Plot"
   ]
  },
  {
   "cell_type": "code",
   "execution_count": 38,
   "metadata": {},
   "outputs": [
    {
     "data": {
      "text/plain": [
       "array([<Axes: title={'center': 'Log of Returns'}, xlabel='Theoretical Quantiles', ylabel='Sample Quantiles'>,\n",
       "       <Axes: title={'center': 'Model Error'}, xlabel='Theoretical Quantiles', ylabel='Sample Quantiles'>],\n",
       "      dtype=object)"
      ]
     },
     "execution_count": 38,
     "metadata": {},
     "output_type": "execute_result"
    },
    {
     "data": {
      "image/png": "[encoded data removed]",
      "text/plain": [
       "<Figure size 1400x400 with 2 Axes>"
      ]
     },
     "metadata": {},
     "output_type": "display_data"
    }
   ],
   "source": [
    "\n",
    "fig, ax = plt.subplots(figsize = (14,4), ncols=2)\n",
    "\n",
    "sm.qqplot(qq_data['log_return'], line='s',ax = ax[0])\n",
    "sm.qqplot(qq_data['model_error'], line='s',ax = ax[1])\n",
    "\n",
    "ax[0].set_title('Log of Returns')\n",
    "ax[1].set_title('Model Error')\n",
    "\n",
    "ax"
   ]
  },
  {
   "cell_type": "markdown",
   "metadata": {},
   "source": [
    "Observe que a distribuição dos erros é parecida com a normal entre -2 e 2 desvios padrão, apenas. Portanto, não podemos presumir a normalidade da distribuição dos erros"
   ]
  },
  {
   "cell_type": "markdown",
   "metadata": {},
   "source": [
    "### Simulação\n",
    "\n",
    "Aqui, simulamos um robô negociador que teria comprado ações nos dias em que o modelo desse positivo e vendido nos dias em que o modelo desse negativo. Note que isto não é um conselho financeiro!"
   ]
  },
  {
   "cell_type": "code",
   "execution_count": 39,
   "metadata": {},
   "outputs": [
    {
     "data": {
      "text/plain": [
       "0.9838107173578444"
      ]
     },
     "execution_count": 39,
     "metadata": {},
     "output_type": "execute_result"
    }
   ],
   "source": [
    "np.exp(company_test.model_error.mean())"
   ]
  },
  {
   "cell_type": "code",
   "execution_count": 40,
   "metadata": {},
   "outputs": [],
   "source": [
    "model_return = ((company_test.predictions > 0).astype(int) * company_test.log_return).cumsum()\n",
    "buy_hold_return = company_test.log_return.cumsum()\n",
    "simulation = pd.DataFrame({\n",
    "    'model_return': model_return,\n",
    "    'buy_hold_return': buy_hold_return,\n",
    "})"
   ]
  },
  {
   "cell_type": "code",
   "execution_count": 41,
   "metadata": {},
   "outputs": [
    {
     "data": {
      "text/html": [
       "<div>\n",
       "<style scoped>\n",
       "    .dataframe tbody tr th:only-of-type {\n",
       "        vertical-align: middle;\n",
       "    }\n",
       "\n",
       "    .dataframe tbody tr th {\n",
       "        vertical-align: top;\n",
       "    }\n",
       "\n",
       "    .dataframe thead th {\n",
       "        text-align: right;\n",
       "    }\n",
       "</style>\n",
       "<table border=\"1\" class=\"dataframe\">\n",
       "  <thead>\n",
       "    <tr style=\"text-align: right;\">\n",
       "      <th></th>\n",
       "      <th>model_return</th>\n",
       "      <th>buy_hold_return</th>\n",
       "    </tr>\n",
       "    <tr>\n",
       "      <th>date</th>\n",
       "      <th></th>\n",
       "      <th></th>\n",
       "    </tr>\n",
       "  </thead>\n",
       "  <tbody>\n",
       "    <tr>\n",
       "      <th>2021-05-04</th>\n",
       "      <td>0.0</td>\n",
       "      <td>0.012222</td>\n",
       "    </tr>\n",
       "    <tr>\n",
       "      <th>2021-05-05</th>\n",
       "      <td>0.0</td>\n",
       "      <td>0.036362</td>\n",
       "    </tr>\n",
       "    <tr>\n",
       "      <th>2021-05-06</th>\n",
       "      <td>0.0</td>\n",
       "      <td>0.042032</td>\n",
       "    </tr>\n",
       "    <tr>\n",
       "      <th>2021-05-07</th>\n",
       "      <td>0.0</td>\n",
       "      <td>0.049841</td>\n",
       "    </tr>\n",
       "    <tr>\n",
       "      <th>2021-05-10</th>\n",
       "      <td>0.0</td>\n",
       "      <td>0.046443</td>\n",
       "    </tr>\n",
       "    <tr>\n",
       "      <th>...</th>\n",
       "      <td>...</td>\n",
       "      <td>...</td>\n",
       "    </tr>\n",
       "    <tr>\n",
       "      <th>2023-01-31</th>\n",
       "      <td>0.0</td>\n",
       "      <td>0.470520</td>\n",
       "    </tr>\n",
       "    <tr>\n",
       "      <th>2023-02-01</th>\n",
       "      <td>0.0</td>\n",
       "      <td>0.465923</td>\n",
       "    </tr>\n",
       "    <tr>\n",
       "      <th>2023-02-02</th>\n",
       "      <td>0.0</td>\n",
       "      <td>0.430654</td>\n",
       "    </tr>\n",
       "    <tr>\n",
       "      <th>2023-02-03</th>\n",
       "      <td>0.0</td>\n",
       "      <td>0.455688</td>\n",
       "    </tr>\n",
       "    <tr>\n",
       "      <th>2023-02-06</th>\n",
       "      <td>0.0</td>\n",
       "      <td>0.451495</td>\n",
       "    </tr>\n",
       "  </tbody>\n",
       "</table>\n",
       "<p>381 rows × 2 columns</p>\n",
       "</div>"
      ],
      "text/plain": [
       "            model_return  buy_hold_return\n",
       "date                                     \n",
       "2021-05-04           0.0         0.012222\n",
       "2021-05-05           0.0         0.036362\n",
       "2021-05-06           0.0         0.042032\n",
       "2021-05-07           0.0         0.049841\n",
       "2021-05-10           0.0         0.046443\n",
       "...                  ...              ...\n",
       "2023-01-31           0.0         0.470520\n",
       "2023-02-01           0.0         0.465923\n",
       "2023-02-02           0.0         0.430654\n",
       "2023-02-03           0.0         0.455688\n",
       "2023-02-06           0.0         0.451495\n",
       "\n",
       "[381 rows x 2 columns]"
      ]
     },
     "execution_count": 41,
     "metadata": {},
     "output_type": "execute_result"
    }
   ],
   "source": [
    "simulation"
   ]
  },
  {
   "cell_type": "code",
   "execution_count": 42,
   "metadata": {},
   "outputs": [],
   "source": [
    "simulation = np.exp(simulation)"
   ]
  },
  {
   "cell_type": "code",
   "execution_count": 1,
   "metadata": {},
   "outputs": [
    {
     "ename": "NameError",
     "evalue": "name 'plx' is not defined",
     "output_type": "error",
     "traceback": [
      "\u001b[0;31m---------------------------------------------------------------------------\u001b[0m",
      "\u001b[0;31mNameError\u001b[0m                                 Traceback (most recent call last)",
      "Cell \u001b[0;32mIn [1], line 1\u001b[0m\n\u001b[0;32m----> 1\u001b[0m \u001b[43mplx\u001b[49m\u001b[38;5;241m.\u001b[39mline(\n\u001b[1;32m      2\u001b[0m     data_frame\u001b[38;5;241m=\u001b[39msimulation\u001b[38;5;241m.\u001b[39mmelt(ignore_index\u001b[38;5;241m=\u001b[39m\u001b[38;5;28;01mFalse\u001b[39;00m)\u001b[38;5;241m.\u001b[39mreset_index(),\n\u001b[1;32m      3\u001b[0m     title\u001b[38;5;241m=\u001b[39m\u001b[38;5;124m'\u001b[39m\u001b[38;5;124mCummulative returns - Model vs Buy and hold\u001b[39m\u001b[38;5;124m'\u001b[39m,\n\u001b[1;32m      4\u001b[0m     x\u001b[38;5;241m=\u001b[39m\u001b[38;5;124m'\u001b[39m\u001b[38;5;124mdate\u001b[39m\u001b[38;5;124m'\u001b[39m,\n\u001b[1;32m      5\u001b[0m     y\u001b[38;5;241m=\u001b[39m\u001b[38;5;124m'\u001b[39m\u001b[38;5;124mvalue\u001b[39m\u001b[38;5;124m'\u001b[39m,\n\u001b[1;32m      6\u001b[0m     color\u001b[38;5;241m=\u001b[39m\u001b[38;5;124m'\u001b[39m\u001b[38;5;124mvariable\u001b[39m\u001b[38;5;124m'\u001b[39m,\n\u001b[1;32m      7\u001b[0m     log_y\u001b[38;5;241m=\u001b[39m\u001b[38;5;28;01mFalse\u001b[39;00m\n\u001b[1;32m      8\u001b[0m )\n",
      "\u001b[0;31mNameError\u001b[0m: name 'plx' is not defined"
     ]
    }
   ],
   "source": [
    "plx.line(\n",
    "    data_frame=simulation.melt(ignore_index=False).reset_index(),\n",
    "    title='Cummulative returns - Model vs Buy and hold',\n",
    "    x='date',\n",
    "    y='value',\n",
    "    color='variable',\n",
    "    log_y=True\n",
    ")"
   ]
  },
  {
   "cell_type": "markdown",
   "metadata": {},
   "source": [
    "> Note that data is missing between February and April 2022."
   ]
  },
  {
   "cell_type": "markdown",
   "metadata": {},
   "source": [
    "## Conclusão\n",
    "\n",
    "A métrica proposta, $log(1 + \\frac{eps}{price _{i-1}})$ não é um bom preditor para o retorno diário das empresas. O que é uma pena pois, tem progressão aritimética, tal qual $log(price)$, raramente resulta em logarítimos negativos e é baseada numa métrica relativamente fácil de conseguir, o $EPS$. Talvez tenhamos resultados melhores trabalhando com resoluções diferentes ou prevendo retornos em períodos maiores, como o trimestral."
   ]
  }
 ],
 "metadata": {
  "kernelspec": {
   "display_name": "Python 3",
   "language": "python",
   "name": "python3"
  },
  "language_info": {
   "codemirror_mode": {
    "name": "ipython",
    "version": 3
   },
   "file_extension": ".py",
   "mimetype": "text/x-python",
   "name": "python",
   "nbconvert_exporter": "python",
   "pygments_lexer": "ipython3",
   "version": "3.10.12"
  }
 },
 "nbformat": 4,
 "nbformat_minor": 4
}
