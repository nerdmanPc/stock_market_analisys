{
 "cells": [
  {
   "cell_type": "code",
   "execution_count": 1,
   "metadata": {},
   "outputs": [],
   "source": [
    "# imported in order of use\n",
    "from pathlib import Path\n",
    "import pandas as pd\n",
    "import numpy as np\n",
    "from datetime import date, datetime, timedelta\n",
    "\n",
    "import json\n",
    "from pprint import pprint\n",
    "from tqdm import tqdm\n",
    "\n",
    "import seaborn as sns\n",
    "import matplotlib.pyplot as plt\n",
    "import matplotlib.ticker as mticker"
   ]
  },
  {
   "cell_type": "code",
   "execution_count": 2,
   "metadata": {},
   "outputs": [],
   "source": [
    "sample_companies = pd.read_csv('data/warehouse/sample_companies.csv').set_index('tick')\n",
    "sample_companies = { tick: cols['CIK'] for tick, cols in sample_companies.iterrows() }\n",
    "sample_companies = { tick: json.load(open(f'data/sec/companyfacts/CIK{str(cik).zfill(10)}.json')) for tick, cik in sample_companies.items() }\n",
    "#sample_companies"
   ]
  },
  {
   "cell_type": "code",
   "execution_count": 3,
   "metadata": {},
   "outputs": [],
   "source": [
    "target_cols = [\n",
    "    'NetIncomeLoss'\n",
    "    'OperatingIncomeLoss',\n",
    "    'OperatingExpenses',\n",
    "    'InterestExpense',\n",
    "    'IncomeTaxesPaidNet',\n",
    "    'DepreciationAndAmortization'\n",
    "]"
   ]
  },
  {
   "cell_type": "code",
   "execution_count": 4,
   "metadata": {},
   "outputs": [],
   "source": [
    "def get_column(company_serii: dict, col_name: str, currency: str='USD'):\n",
    "    time_series = company_serii['facts']['us-gaap'][col_name]['units'][currency]\n",
    "    column = pd.DataFrame(time_series)\n",
    "    #column.name = col_name\n",
    "    return column"
   ]
  },
  {
   "cell_type": "code",
   "execution_count": 5,
   "metadata": {},
   "outputs": [],
   "source": [
    "pd.set_option('display.max_rows', 256)"
   ]
  },
  {
   "cell_type": "code",
   "execution_count": 6,
   "metadata": {},
   "outputs": [],
   "source": [
    "operating_result = get_column(sample_companies['MSFT'], 'OperatingIncomeLoss')\n",
    "\n",
    "operating_result['start'] = pd.to_datetime(operating_result['start'])\n",
    "operating_result['end'] = pd.to_datetime(operating_result['end'])\n",
    "operating_result['filed'] = pd.to_datetime(operating_result['filed'])\n",
    "\n",
    "operating_result['delay'] = operating_result['filed'] - operating_result['end']\n",
    "operating_result['period'] = operating_result['end'] - operating_result['start']\n",
    "\n",
    "operating_result = operating_result[ (operating_result.period < timedelta(days=135)) | (operating_result.period > timedelta(days=315)) ]"
   ]
  },
  {
   "cell_type": "code",
   "execution_count": 7,
   "metadata": {},
   "outputs": [],
   "source": [
    "import plotly.express as plx"
   ]
  },
  {
   "cell_type": "code",
   "execution_count": 8,
   "metadata": {},
   "outputs": [],
   "source": [
    "quarters = operating_result[ (operating_result.delay < timedelta(days=45)) & (operating_result.period < timedelta(days=135)) ].drop(columns=['frame', 'accn', 'start', 'form']) \n",
    "years = operating_result[ (operating_result.delay < timedelta(days=45)) & (operating_result.period > timedelta(days=315)) ].drop(columns=['frame', 'accn', 'start', 'form'])"
   ]
  },
  {
   "cell_type": "code",
   "execution_count": 9,
   "metadata": {},
   "outputs": [
    {
     "data": {
      "text/html": [
       "<div>\n",
       "<style scoped>\n",
       "    .dataframe tbody tr th:only-of-type {\n",
       "        vertical-align: middle;\n",
       "    }\n",
       "\n",
       "    .dataframe tbody tr th {\n",
       "        vertical-align: top;\n",
       "    }\n",
       "\n",
       "    .dataframe thead th {\n",
       "        text-align: right;\n",
       "    }\n",
       "</style>\n",
       "<table border=\"1\" class=\"dataframe\">\n",
       "  <thead>\n",
       "    <tr style=\"text-align: right;\">\n",
       "      <th></th>\n",
       "      <th>end</th>\n",
       "      <th>val</th>\n",
       "      <th>fp</th>\n",
       "      <th>filed</th>\n",
       "      <th>delay</th>\n",
       "      <th>period</th>\n",
       "    </tr>\n",
       "    <tr>\n",
       "      <th>fy</th>\n",
       "      <th></th>\n",
       "      <th></th>\n",
       "      <th></th>\n",
       "      <th></th>\n",
       "      <th></th>\n",
       "      <th></th>\n",
       "    </tr>\n",
       "  </thead>\n",
       "  <tbody>\n",
       "    <tr>\n",
       "      <th>2012</th>\n",
       "      <td>2012-06-30</td>\n",
       "      <td>21763000000</td>\n",
       "      <td>FY</td>\n",
       "      <td>2012-07-26</td>\n",
       "      <td>26 days</td>\n",
       "      <td>365 days</td>\n",
       "    </tr>\n",
       "    <tr>\n",
       "      <th>2015</th>\n",
       "      <td>2015-06-30</td>\n",
       "      <td>18161000000</td>\n",
       "      <td>FY</td>\n",
       "      <td>2015-07-31</td>\n",
       "      <td>31 days</td>\n",
       "      <td>364 days</td>\n",
       "    </tr>\n",
       "  </tbody>\n",
       "</table>\n",
       "</div>"
      ],
      "text/plain": [
       "            end          val  fp      filed   delay   period\n",
       "fy                                                          \n",
       "2012 2012-06-30  21763000000  FY 2012-07-26 26 days 365 days\n",
       "2015 2015-06-30  18161000000  FY 2015-07-31 31 days 364 days"
      ]
     },
     "execution_count": 9,
     "metadata": {},
     "output_type": "execute_result"
    }
   ],
   "source": [
    "years[(years.fy == 2012) | (years.fy == 2015)].set_index('fy')"
   ]
  },
  {
   "cell_type": "code",
   "execution_count": 10,
   "metadata": {},
   "outputs": [
    {
     "name": "stderr",
     "output_type": "stream",
     "text": [
      "/tmp/ipykernel_9014/904054831.py:1: FutureWarning: The default value of numeric_only in DataFrameGroupBy.sum is deprecated. In a future version, numeric_only will default to False. Either specify numeric_only or select only columns which should be valid for the function.\n",
      "  quarters[(quarters.fy == 2012) | (quarters.fy == 2015)].set_index(['fy', 'fp']).groupby(level='fy').sum()\n"
     ]
    },
    {
     "data": {
      "text/html": [
       "<div>\n",
       "<style scoped>\n",
       "    .dataframe tbody tr th:only-of-type {\n",
       "        vertical-align: middle;\n",
       "    }\n",
       "\n",
       "    .dataframe tbody tr th {\n",
       "        vertical-align: top;\n",
       "    }\n",
       "\n",
       "    .dataframe thead th {\n",
       "        text-align: right;\n",
       "    }\n",
       "</style>\n",
       "<table border=\"1\" class=\"dataframe\">\n",
       "  <thead>\n",
       "    <tr style=\"text-align: right;\">\n",
       "      <th></th>\n",
       "      <th>val</th>\n",
       "    </tr>\n",
       "    <tr>\n",
       "      <th>fy</th>\n",
       "      <th></th>\n",
       "    </tr>\n",
       "  </thead>\n",
       "  <tbody>\n",
       "    <tr>\n",
       "      <th>2012</th>\n",
       "      <td>21571000000</td>\n",
       "    </tr>\n",
       "    <tr>\n",
       "      <th>2015</th>\n",
       "      <td>20214000000</td>\n",
       "    </tr>\n",
       "  </tbody>\n",
       "</table>\n",
       "</div>"
      ],
      "text/plain": [
       "              val\n",
       "fy               \n",
       "2012  21571000000\n",
       "2015  20214000000"
      ]
     },
     "execution_count": 10,
     "metadata": {},
     "output_type": "execute_result"
    }
   ],
   "source": [
    "quarters[(quarters.fy == 2012) | (quarters.fy == 2015)].set_index(['fy', 'fp']).groupby(level='fy').sum()"
   ]
  },
  {
   "cell_type": "code",
   "execution_count": null,
   "metadata": {},
   "outputs": [],
   "source": []
  },
  {
   "cell_type": "code",
   "execution_count": 11,
   "metadata": {},
   "outputs": [],
   "source": [
    "# Gets Q4 value from time series as FY - Q3 - Q2 - Q1\n",
    "fiscal_years = []\n",
    "for year, fy_data in quarters.groupby('fy'):\n",
    "    if (fy_data.fp == 'FY').any() or not (years.fy == year).any(): \n",
    "        fiscal_years.append(fy_data)\n",
    "        continue\n",
    "    year_row = years[years.fy == year].iloc[0]\n",
    "    q1_row, q2_row, q3_row = fy_data[fy_data.fp == 'Q1'].iloc[0], fy_data[fy_data.fp == 'Q2'].iloc[0], fy_data[fy_data.fp == 'Q3'].iloc[0]\n",
    "    q4 = {\n",
    "        'end': [year_row.end],\n",
    "        'val': [year_row.val - q3_row.val - q2_row.val - q1_row.val],\n",
    "        'fy': [year_row.fy],\n",
    "        'fp': ['FY'],\n",
    "        'filed': [year_row.filed],\n",
    "        'delay': [year_row.delay],\n",
    "        'period': [year_row.end - (q3_row.end + timedelta(days=1))],\n",
    "    }\n",
    "    fy_data = pd.concat([fy_data, pd.DataFrame(q4)], axis='index')\n",
    "    fiscal_years.append(fy_data)\n",
    "    #print(years.set_index('fy').loc[year, 'val'])"
   ]
  },
  {
   "cell_type": "code",
   "execution_count": 12,
   "metadata": {},
   "outputs": [
    {
     "data": {
      "text/html": [
       "<div>\n",
       "<style scoped>\n",
       "    .dataframe tbody tr th:only-of-type {\n",
       "        vertical-align: middle;\n",
       "    }\n",
       "\n",
       "    .dataframe tbody tr th {\n",
       "        vertical-align: top;\n",
       "    }\n",
       "\n",
       "    .dataframe thead th {\n",
       "        text-align: right;\n",
       "    }\n",
       "</style>\n",
       "<table border=\"1\" class=\"dataframe\">\n",
       "  <thead>\n",
       "    <tr style=\"text-align: right;\">\n",
       "      <th></th>\n",
       "      <th></th>\n",
       "      <th>end</th>\n",
       "      <th>val</th>\n",
       "      <th>filed</th>\n",
       "      <th>delay</th>\n",
       "      <th>period</th>\n",
       "    </tr>\n",
       "    <tr>\n",
       "      <th>fy</th>\n",
       "      <th>fp</th>\n",
       "      <th></th>\n",
       "      <th></th>\n",
       "      <th></th>\n",
       "      <th></th>\n",
       "      <th></th>\n",
       "    </tr>\n",
       "  </thead>\n",
       "  <tbody>\n",
       "    <tr>\n",
       "      <th rowspan=\"4\" valign=\"top\">2010</th>\n",
       "      <th>Q1</th>\n",
       "      <td>2009-09-30</td>\n",
       "      <td>4482000000</td>\n",
       "      <td>2009-10-23</td>\n",
       "      <td>23 days</td>\n",
       "      <td>91 days</td>\n",
       "    </tr>\n",
       "    <tr>\n",
       "      <th>Q2</th>\n",
       "      <td>2009-12-31</td>\n",
       "      <td>8513000000</td>\n",
       "      <td>2010-01-28</td>\n",
       "      <td>28 days</td>\n",
       "      <td>91 days</td>\n",
       "    </tr>\n",
       "    <tr>\n",
       "      <th>Q3</th>\n",
       "      <td>2010-03-31</td>\n",
       "      <td>5173000000</td>\n",
       "      <td>2010-04-22</td>\n",
       "      <td>22 days</td>\n",
       "      <td>89 days</td>\n",
       "    </tr>\n",
       "    <tr>\n",
       "      <th>Q4</th>\n",
       "      <td>2010-06-30</td>\n",
       "      <td>5930000000</td>\n",
       "      <td>2010-07-30</td>\n",
       "      <td>30 days</td>\n",
       "      <td>90 days</td>\n",
       "    </tr>\n",
       "    <tr>\n",
       "      <th rowspan=\"4\" valign=\"top\">2011</th>\n",
       "      <th>Q1</th>\n",
       "      <td>2010-09-30</td>\n",
       "      <td>7116000000</td>\n",
       "      <td>2010-10-28</td>\n",
       "      <td>28 days</td>\n",
       "      <td>91 days</td>\n",
       "    </tr>\n",
       "    <tr>\n",
       "      <th>Q2</th>\n",
       "      <td>2010-12-31</td>\n",
       "      <td>8165000000</td>\n",
       "      <td>2011-01-27</td>\n",
       "      <td>27 days</td>\n",
       "      <td>91 days</td>\n",
       "    </tr>\n",
       "    <tr>\n",
       "      <th>Q3</th>\n",
       "      <td>2011-03-31</td>\n",
       "      <td>5709000000</td>\n",
       "      <td>2011-04-28</td>\n",
       "      <td>28 days</td>\n",
       "      <td>89 days</td>\n",
       "    </tr>\n",
       "    <tr>\n",
       "      <th>Q4</th>\n",
       "      <td>2011-06-30</td>\n",
       "      <td>6171000000</td>\n",
       "      <td>2011-07-28</td>\n",
       "      <td>28 days</td>\n",
       "      <td>90 days</td>\n",
       "    </tr>\n",
       "    <tr>\n",
       "      <th rowspan=\"4\" valign=\"top\">2012</th>\n",
       "      <th>Q1</th>\n",
       "      <td>2011-09-30</td>\n",
       "      <td>7203000000</td>\n",
       "      <td>2011-10-20</td>\n",
       "      <td>20 days</td>\n",
       "      <td>91 days</td>\n",
       "    </tr>\n",
       "    <tr>\n",
       "      <th>Q2</th>\n",
       "      <td>2011-12-31</td>\n",
       "      <td>7994000000</td>\n",
       "      <td>2012-01-27</td>\n",
       "      <td>27 days</td>\n",
       "      <td>91 days</td>\n",
       "    </tr>\n",
       "    <tr>\n",
       "      <th>Q3</th>\n",
       "      <td>2012-03-31</td>\n",
       "      <td>6374000000</td>\n",
       "      <td>2012-04-19</td>\n",
       "      <td>19 days</td>\n",
       "      <td>90 days</td>\n",
       "    </tr>\n",
       "    <tr>\n",
       "      <th>Q4</th>\n",
       "      <td>2012-06-30</td>\n",
       "      <td>192000000</td>\n",
       "      <td>2012-07-26</td>\n",
       "      <td>26 days</td>\n",
       "      <td>90 days</td>\n",
       "    </tr>\n",
       "    <tr>\n",
       "      <th rowspan=\"4\" valign=\"top\">2013</th>\n",
       "      <th>Q1</th>\n",
       "      <td>2012-09-30</td>\n",
       "      <td>5308000000</td>\n",
       "      <td>2012-10-18</td>\n",
       "      <td>18 days</td>\n",
       "      <td>91 days</td>\n",
       "    </tr>\n",
       "    <tr>\n",
       "      <th>Q2</th>\n",
       "      <td>2012-12-31</td>\n",
       "      <td>7771000000</td>\n",
       "      <td>2013-01-24</td>\n",
       "      <td>24 days</td>\n",
       "      <td>91 days</td>\n",
       "    </tr>\n",
       "    <tr>\n",
       "      <th>Q3</th>\n",
       "      <td>2013-03-31</td>\n",
       "      <td>7612000000</td>\n",
       "      <td>2013-04-18</td>\n",
       "      <td>18 days</td>\n",
       "      <td>89 days</td>\n",
       "    </tr>\n",
       "    <tr>\n",
       "      <th>Q4</th>\n",
       "      <td>2013-06-30</td>\n",
       "      <td>6073000000</td>\n",
       "      <td>2013-07-30</td>\n",
       "      <td>30 days</td>\n",
       "      <td>90 days</td>\n",
       "    </tr>\n",
       "    <tr>\n",
       "      <th rowspan=\"4\" valign=\"top\">2014</th>\n",
       "      <th>Q1</th>\n",
       "      <td>2013-09-30</td>\n",
       "      <td>6334000000</td>\n",
       "      <td>2013-10-24</td>\n",
       "      <td>24 days</td>\n",
       "      <td>91 days</td>\n",
       "    </tr>\n",
       "    <tr>\n",
       "      <th>Q2</th>\n",
       "      <td>2013-12-31</td>\n",
       "      <td>7969000000</td>\n",
       "      <td>2014-01-23</td>\n",
       "      <td>23 days</td>\n",
       "      <td>91 days</td>\n",
       "    </tr>\n",
       "    <tr>\n",
       "      <th>Q3</th>\n",
       "      <td>2014-03-31</td>\n",
       "      <td>6974000000</td>\n",
       "      <td>2014-04-24</td>\n",
       "      <td>24 days</td>\n",
       "      <td>89 days</td>\n",
       "    </tr>\n",
       "    <tr>\n",
       "      <th>Q4</th>\n",
       "      <td>2014-06-30</td>\n",
       "      <td>6482000000</td>\n",
       "      <td>2014-07-31</td>\n",
       "      <td>31 days</td>\n",
       "      <td>90 days</td>\n",
       "    </tr>\n",
       "    <tr>\n",
       "      <th rowspan=\"4\" valign=\"top\">2015</th>\n",
       "      <th>Q1</th>\n",
       "      <td>2014-09-30</td>\n",
       "      <td>5844000000</td>\n",
       "      <td>2014-10-23</td>\n",
       "      <td>23 days</td>\n",
       "      <td>91 days</td>\n",
       "    </tr>\n",
       "    <tr>\n",
       "      <th>Q2</th>\n",
       "      <td>2014-12-31</td>\n",
       "      <td>7776000000</td>\n",
       "      <td>2015-01-26</td>\n",
       "      <td>26 days</td>\n",
       "      <td>91 days</td>\n",
       "    </tr>\n",
       "    <tr>\n",
       "      <th>Q3</th>\n",
       "      <td>2015-03-31</td>\n",
       "      <td>6594000000</td>\n",
       "      <td>2015-04-23</td>\n",
       "      <td>23 days</td>\n",
       "      <td>89 days</td>\n",
       "    </tr>\n",
       "    <tr>\n",
       "      <th>Q4</th>\n",
       "      <td>2015-06-30</td>\n",
       "      <td>-2053000000</td>\n",
       "      <td>2015-07-31</td>\n",
       "      <td>31 days</td>\n",
       "      <td>90 days</td>\n",
       "    </tr>\n",
       "    <tr>\n",
       "      <th rowspan=\"4\" valign=\"top\">2016</th>\n",
       "      <th>Q1</th>\n",
       "      <td>2015-09-30</td>\n",
       "      <td>5793000000</td>\n",
       "      <td>2015-10-22</td>\n",
       "      <td>22 days</td>\n",
       "      <td>91 days</td>\n",
       "    </tr>\n",
       "    <tr>\n",
       "      <th>Q2</th>\n",
       "      <td>2015-12-31</td>\n",
       "      <td>6026000000</td>\n",
       "      <td>2016-01-28</td>\n",
       "      <td>28 days</td>\n",
       "      <td>91 days</td>\n",
       "    </tr>\n",
       "    <tr>\n",
       "      <th>Q3</th>\n",
       "      <td>2016-03-31</td>\n",
       "      <td>5283000000</td>\n",
       "      <td>2016-04-21</td>\n",
       "      <td>21 days</td>\n",
       "      <td>90 days</td>\n",
       "    </tr>\n",
       "    <tr>\n",
       "      <th>Q4</th>\n",
       "      <td>2016-06-30</td>\n",
       "      <td>3080000000</td>\n",
       "      <td>2016-07-28</td>\n",
       "      <td>28 days</td>\n",
       "      <td>90 days</td>\n",
       "    </tr>\n",
       "    <tr>\n",
       "      <th rowspan=\"4\" valign=\"top\">2017</th>\n",
       "      <th>Q1</th>\n",
       "      <td>2016-09-30</td>\n",
       "      <td>5225000000</td>\n",
       "      <td>2016-10-20</td>\n",
       "      <td>20 days</td>\n",
       "      <td>91 days</td>\n",
       "    </tr>\n",
       "    <tr>\n",
       "      <th>Q2</th>\n",
       "      <td>2016-12-31</td>\n",
       "      <td>6177000000</td>\n",
       "      <td>2017-01-26</td>\n",
       "      <td>26 days</td>\n",
       "      <td>91 days</td>\n",
       "    </tr>\n",
       "    <tr>\n",
       "      <th>Q3</th>\n",
       "      <td>2017-03-31</td>\n",
       "      <td>5594000000</td>\n",
       "      <td>2017-04-27</td>\n",
       "      <td>27 days</td>\n",
       "      <td>89 days</td>\n",
       "    </tr>\n",
       "    <tr>\n",
       "      <th>Q4</th>\n",
       "      <td>2017-06-30</td>\n",
       "      <td>5330000000</td>\n",
       "      <td>2017-08-02</td>\n",
       "      <td>33 days</td>\n",
       "      <td>90 days</td>\n",
       "    </tr>\n",
       "    <tr>\n",
       "      <th rowspan=\"4\" valign=\"top\">2018</th>\n",
       "      <th>Q1</th>\n",
       "      <td>2017-09-30</td>\n",
       "      <td>7708000000</td>\n",
       "      <td>2017-10-26</td>\n",
       "      <td>26 days</td>\n",
       "      <td>91 days</td>\n",
       "    </tr>\n",
       "    <tr>\n",
       "      <th>Q2</th>\n",
       "      <td>2017-12-31</td>\n",
       "      <td>8679000000</td>\n",
       "      <td>2018-01-31</td>\n",
       "      <td>31 days</td>\n",
       "      <td>91 days</td>\n",
       "    </tr>\n",
       "    <tr>\n",
       "      <th>Q3</th>\n",
       "      <td>2018-03-31</td>\n",
       "      <td>8292000000</td>\n",
       "      <td>2018-04-26</td>\n",
       "      <td>26 days</td>\n",
       "      <td>89 days</td>\n",
       "    </tr>\n",
       "    <tr>\n",
       "      <th>Q4</th>\n",
       "      <td>2018-06-30</td>\n",
       "      <td>10379000000</td>\n",
       "      <td>2018-08-03</td>\n",
       "      <td>34 days</td>\n",
       "      <td>90 days</td>\n",
       "    </tr>\n",
       "    <tr>\n",
       "      <th rowspan=\"4\" valign=\"top\">2019</th>\n",
       "      <th>Q1</th>\n",
       "      <td>2018-09-30</td>\n",
       "      <td>9955000000</td>\n",
       "      <td>2018-10-24</td>\n",
       "      <td>24 days</td>\n",
       "      <td>91 days</td>\n",
       "    </tr>\n",
       "    <tr>\n",
       "      <th>Q2</th>\n",
       "      <td>2018-12-31</td>\n",
       "      <td>10258000000</td>\n",
       "      <td>2019-01-30</td>\n",
       "      <td>30 days</td>\n",
       "      <td>91 days</td>\n",
       "    </tr>\n",
       "    <tr>\n",
       "      <th>Q3</th>\n",
       "      <td>2019-03-31</td>\n",
       "      <td>10341000000</td>\n",
       "      <td>2019-04-24</td>\n",
       "      <td>24 days</td>\n",
       "      <td>89 days</td>\n",
       "    </tr>\n",
       "    <tr>\n",
       "      <th>Q4</th>\n",
       "      <td>2019-06-30</td>\n",
       "      <td>12405000000</td>\n",
       "      <td>2019-08-01</td>\n",
       "      <td>32 days</td>\n",
       "      <td>90 days</td>\n",
       "    </tr>\n",
       "    <tr>\n",
       "      <th rowspan=\"4\" valign=\"top\">2020</th>\n",
       "      <th>Q1</th>\n",
       "      <td>2019-09-30</td>\n",
       "      <td>12686000000</td>\n",
       "      <td>2019-10-23</td>\n",
       "      <td>23 days</td>\n",
       "      <td>91 days</td>\n",
       "    </tr>\n",
       "    <tr>\n",
       "      <th>Q2</th>\n",
       "      <td>2019-12-31</td>\n",
       "      <td>13891000000</td>\n",
       "      <td>2020-01-29</td>\n",
       "      <td>29 days</td>\n",
       "      <td>91 days</td>\n",
       "    </tr>\n",
       "    <tr>\n",
       "      <th>Q3</th>\n",
       "      <td>2020-03-31</td>\n",
       "      <td>12975000000</td>\n",
       "      <td>2020-04-29</td>\n",
       "      <td>29 days</td>\n",
       "      <td>90 days</td>\n",
       "    </tr>\n",
       "    <tr>\n",
       "      <th>Q4</th>\n",
       "      <td>2020-06-30</td>\n",
       "      <td>13407000000</td>\n",
       "      <td>2020-07-31</td>\n",
       "      <td>31 days</td>\n",
       "      <td>90 days</td>\n",
       "    </tr>\n",
       "    <tr>\n",
       "      <th rowspan=\"4\" valign=\"top\">2021</th>\n",
       "      <th>Q1</th>\n",
       "      <td>2020-09-30</td>\n",
       "      <td>15876000000</td>\n",
       "      <td>2020-10-27</td>\n",
       "      <td>27 days</td>\n",
       "      <td>91 days</td>\n",
       "    </tr>\n",
       "    <tr>\n",
       "      <th>Q2</th>\n",
       "      <td>2020-12-31</td>\n",
       "      <td>17897000000</td>\n",
       "      <td>2021-01-26</td>\n",
       "      <td>26 days</td>\n",
       "      <td>91 days</td>\n",
       "    </tr>\n",
       "    <tr>\n",
       "      <th>Q3</th>\n",
       "      <td>2021-03-31</td>\n",
       "      <td>17048000000</td>\n",
       "      <td>2021-04-27</td>\n",
       "      <td>27 days</td>\n",
       "      <td>89 days</td>\n",
       "    </tr>\n",
       "    <tr>\n",
       "      <th>Q4</th>\n",
       "      <td>2021-06-30</td>\n",
       "      <td>19095000000</td>\n",
       "      <td>2021-07-29</td>\n",
       "      <td>29 days</td>\n",
       "      <td>90 days</td>\n",
       "    </tr>\n",
       "    <tr>\n",
       "      <th rowspan=\"4\" valign=\"top\">2022</th>\n",
       "      <th>Q1</th>\n",
       "      <td>2021-09-30</td>\n",
       "      <td>20238000000</td>\n",
       "      <td>2021-10-26</td>\n",
       "      <td>26 days</td>\n",
       "      <td>91 days</td>\n",
       "    </tr>\n",
       "    <tr>\n",
       "      <th>Q2</th>\n",
       "      <td>2021-12-31</td>\n",
       "      <td>22247000000</td>\n",
       "      <td>2022-01-25</td>\n",
       "      <td>25 days</td>\n",
       "      <td>91 days</td>\n",
       "    </tr>\n",
       "    <tr>\n",
       "      <th>Q3</th>\n",
       "      <td>2022-03-31</td>\n",
       "      <td>20364000000</td>\n",
       "      <td>2022-04-26</td>\n",
       "      <td>26 days</td>\n",
       "      <td>89 days</td>\n",
       "    </tr>\n",
       "    <tr>\n",
       "      <th>Q4</th>\n",
       "      <td>2022-06-30</td>\n",
       "      <td>20534000000</td>\n",
       "      <td>2022-07-28</td>\n",
       "      <td>28 days</td>\n",
       "      <td>90 days</td>\n",
       "    </tr>\n",
       "    <tr>\n",
       "      <th rowspan=\"4\" valign=\"top\">2023</th>\n",
       "      <th>Q1</th>\n",
       "      <td>2022-09-30</td>\n",
       "      <td>21518000000</td>\n",
       "      <td>2022-10-25</td>\n",
       "      <td>25 days</td>\n",
       "      <td>91 days</td>\n",
       "    </tr>\n",
       "    <tr>\n",
       "      <th>Q2</th>\n",
       "      <td>2022-12-31</td>\n",
       "      <td>20399000000</td>\n",
       "      <td>2023-01-24</td>\n",
       "      <td>24 days</td>\n",
       "      <td>91 days</td>\n",
       "    </tr>\n",
       "    <tr>\n",
       "      <th>Q3</th>\n",
       "      <td>2023-03-31</td>\n",
       "      <td>22352000000</td>\n",
       "      <td>2023-04-25</td>\n",
       "      <td>25 days</td>\n",
       "      <td>89 days</td>\n",
       "    </tr>\n",
       "    <tr>\n",
       "      <th>Q4</th>\n",
       "      <td>2023-06-30</td>\n",
       "      <td>24254000000</td>\n",
       "      <td>2023-07-27</td>\n",
       "      <td>27 days</td>\n",
       "      <td>90 days</td>\n",
       "    </tr>\n",
       "    <tr>\n",
       "      <th>2024</th>\n",
       "      <th>Q1</th>\n",
       "      <td>2023-09-30</td>\n",
       "      <td>26895000000</td>\n",
       "      <td>2023-10-24</td>\n",
       "      <td>24 days</td>\n",
       "      <td>91 days</td>\n",
       "    </tr>\n",
       "  </tbody>\n",
       "</table>\n",
       "</div>"
      ],
      "text/plain": [
       "               end          val      filed   delay  period\n",
       "fy   fp                                                   \n",
       "2010 Q1 2009-09-30   4482000000 2009-10-23 23 days 91 days\n",
       "     Q2 2009-12-31   8513000000 2010-01-28 28 days 91 days\n",
       "     Q3 2010-03-31   5173000000 2010-04-22 22 days 89 days\n",
       "     Q4 2010-06-30   5930000000 2010-07-30 30 days 90 days\n",
       "2011 Q1 2010-09-30   7116000000 2010-10-28 28 days 91 days\n",
       "     Q2 2010-12-31   8165000000 2011-01-27 27 days 91 days\n",
       "     Q3 2011-03-31   5709000000 2011-04-28 28 days 89 days\n",
       "     Q4 2011-06-30   6171000000 2011-07-28 28 days 90 days\n",
       "2012 Q1 2011-09-30   7203000000 2011-10-20 20 days 91 days\n",
       "     Q2 2011-12-31   7994000000 2012-01-27 27 days 91 days\n",
       "     Q3 2012-03-31   6374000000 2012-04-19 19 days 90 days\n",
       "     Q4 2012-06-30    192000000 2012-07-26 26 days 90 days\n",
       "2013 Q1 2012-09-30   5308000000 2012-10-18 18 days 91 days\n",
       "     Q2 2012-12-31   7771000000 2013-01-24 24 days 91 days\n",
       "     Q3 2013-03-31   7612000000 2013-04-18 18 days 89 days\n",
       "     Q4 2013-06-30   6073000000 2013-07-30 30 days 90 days\n",
       "2014 Q1 2013-09-30   6334000000 2013-10-24 24 days 91 days\n",
       "     Q2 2013-12-31   7969000000 2014-01-23 23 days 91 days\n",
       "     Q3 2014-03-31   6974000000 2014-04-24 24 days 89 days\n",
       "     Q4 2014-06-30   6482000000 2014-07-31 31 days 90 days\n",
       "2015 Q1 2014-09-30   5844000000 2014-10-23 23 days 91 days\n",
       "     Q2 2014-12-31   7776000000 2015-01-26 26 days 91 days\n",
       "     Q3 2015-03-31   6594000000 2015-04-23 23 days 89 days\n",
       "     Q4 2015-06-30  -2053000000 2015-07-31 31 days 90 days\n",
       "2016 Q1 2015-09-30   5793000000 2015-10-22 22 days 91 days\n",
       "     Q2 2015-12-31   6026000000 2016-01-28 28 days 91 days\n",
       "     Q3 2016-03-31   5283000000 2016-04-21 21 days 90 days\n",
       "     Q4 2016-06-30   3080000000 2016-07-28 28 days 90 days\n",
       "2017 Q1 2016-09-30   5225000000 2016-10-20 20 days 91 days\n",
       "     Q2 2016-12-31   6177000000 2017-01-26 26 days 91 days\n",
       "     Q3 2017-03-31   5594000000 2017-04-27 27 days 89 days\n",
       "     Q4 2017-06-30   5330000000 2017-08-02 33 days 90 days\n",
       "2018 Q1 2017-09-30   7708000000 2017-10-26 26 days 91 days\n",
       "     Q2 2017-12-31   8679000000 2018-01-31 31 days 91 days\n",
       "     Q3 2018-03-31   8292000000 2018-04-26 26 days 89 days\n",
       "     Q4 2018-06-30  10379000000 2018-08-03 34 days 90 days\n",
       "2019 Q1 2018-09-30   9955000000 2018-10-24 24 days 91 days\n",
       "     Q2 2018-12-31  10258000000 2019-01-30 30 days 91 days\n",
       "     Q3 2019-03-31  10341000000 2019-04-24 24 days 89 days\n",
       "     Q4 2019-06-30  12405000000 2019-08-01 32 days 90 days\n",
       "2020 Q1 2019-09-30  12686000000 2019-10-23 23 days 91 days\n",
       "     Q2 2019-12-31  13891000000 2020-01-29 29 days 91 days\n",
       "     Q3 2020-03-31  12975000000 2020-04-29 29 days 90 days\n",
       "     Q4 2020-06-30  13407000000 2020-07-31 31 days 90 days\n",
       "2021 Q1 2020-09-30  15876000000 2020-10-27 27 days 91 days\n",
       "     Q2 2020-12-31  17897000000 2021-01-26 26 days 91 days\n",
       "     Q3 2021-03-31  17048000000 2021-04-27 27 days 89 days\n",
       "     Q4 2021-06-30  19095000000 2021-07-29 29 days 90 days\n",
       "2022 Q1 2021-09-30  20238000000 2021-10-26 26 days 91 days\n",
       "     Q2 2021-12-31  22247000000 2022-01-25 25 days 91 days\n",
       "     Q3 2022-03-31  20364000000 2022-04-26 26 days 89 days\n",
       "     Q4 2022-06-30  20534000000 2022-07-28 28 days 90 days\n",
       "2023 Q1 2022-09-30  21518000000 2022-10-25 25 days 91 days\n",
       "     Q2 2022-12-31  20399000000 2023-01-24 24 days 91 days\n",
       "     Q3 2023-03-31  22352000000 2023-04-25 25 days 89 days\n",
       "     Q4 2023-06-30  24254000000 2023-07-27 27 days 90 days\n",
       "2024 Q1 2023-09-30  26895000000 2023-10-24 24 days 91 days"
      ]
     },
     "execution_count": 12,
     "metadata": {},
     "output_type": "execute_result"
    }
   ],
   "source": [
    "final_df: pd.DataFrame = pd.concat(fiscal_years)\n",
    "final_df['fp'] = final_df.fp.map({'Q1': 'Q1', 'Q2': 'Q2', 'Q3': 'Q3', 'FY': 'Q4'})\n",
    "final_df.set_index(['fy', 'fp']).sort_index()"
   ]
  },
  {
   "cell_type": "code",
   "execution_count": 13,
   "metadata": {},
   "outputs": [
    {
     "data": {
      "application/vnd.plotly.v1+json": {
       "config": {
        "plotlyServerURL": "https://plot.ly"
       },
       "data": [
        {
         "hovertemplate": "filed=%{x}<br>val=%{y}<extra></extra>",
         "legendgroup": "",
         "marker": {
          "color": "#636efa",
          "symbol": "circle"
         },
         "mode": "markers",
         "name": "",
         "orientation": "v",
         "showlegend": false,
         "type": "scatter",
         "x": [
          "2009-10-23T00:00:00",
          "2010-01-28T00:00:00",
          "2010-04-22T00:00:00",
          "2010-10-28T00:00:00",
          "2011-01-27T00:00:00",
          "2011-04-28T00:00:00",
          "2011-10-20T00:00:00",
          "2012-01-27T00:00:00",
          "2012-04-19T00:00:00",
          "2012-10-18T00:00:00",
          "2013-01-24T00:00:00",
          "2013-04-18T00:00:00",
          "2013-10-24T00:00:00",
          "2014-01-23T00:00:00",
          "2014-04-24T00:00:00",
          "2014-10-23T00:00:00",
          "2015-01-26T00:00:00",
          "2015-04-23T00:00:00",
          "2015-10-22T00:00:00",
          "2016-01-28T00:00:00",
          "2016-04-21T00:00:00",
          "2016-07-28T00:00:00",
          "2016-10-20T00:00:00",
          "2017-01-26T00:00:00",
          "2017-04-27T00:00:00",
          "2017-08-02T00:00:00",
          "2017-10-26T00:00:00",
          "2018-01-31T00:00:00",
          "2018-04-26T00:00:00",
          "2018-08-03T00:00:00",
          "2018-10-24T00:00:00",
          "2019-01-30T00:00:00",
          "2019-04-24T00:00:00",
          "2019-08-01T00:00:00",
          "2019-10-23T00:00:00",
          "2020-01-29T00:00:00",
          "2020-04-29T00:00:00",
          "2020-07-31T00:00:00",
          "2020-10-27T00:00:00",
          "2021-01-26T00:00:00",
          "2021-04-27T00:00:00",
          "2021-10-26T00:00:00",
          "2022-01-25T00:00:00",
          "2022-04-26T00:00:00",
          "2022-10-25T00:00:00",
          "2023-01-24T00:00:00",
          "2023-04-25T00:00:00",
          "2023-10-24T00:00:00"
         ],
         "xaxis": "x",
         "y": [
          4482000000,
          8513000000,
          5173000000,
          7116000000,
          8165000000,
          5709000000,
          7203000000,
          7994000000,
          6374000000,
          5308000000,
          7771000000,
          7612000000,
          6334000000,
          7969000000,
          6974000000,
          5844000000,
          7776000000,
          6594000000,
          5793000000,
          6026000000,
          5283000000,
          3080000000,
          5225000000,
          6177000000,
          5594000000,
          5330000000,
          7708000000,
          8679000000,
          8292000000,
          10379000000,
          9955000000,
          10258000000,
          10341000000,
          12405000000,
          12686000000,
          13891000000,
          12975000000,
          13407000000,
          15876000000,
          17897000000,
          17048000000,
          20238000000,
          22247000000,
          20364000000,
          21518000000,
          20399000000,
          22352000000,
          26895000000
         ],
         "yaxis": "y"
        }
       ],
       "layout": {
        "legend": {
         "tracegroupgap": 0
        },
        "margin": {
         "t": 60
        },
        "template": {
         "data": {
          "bar": [
           {
            "error_x": {
             "color": "#2a3f5f"
            },
            "error_y": {
             "color": "#2a3f5f"
            },
            "marker": {
             "line": {
              "color": "#E5ECF6",
              "width": 0.5
             },
             "pattern": {
              "fillmode": "overlay",
              "size": 10,
              "solidity": 0.2
             }
            },
            "type": "bar"
           }
          ],
          "barpolar": [
           {
            "marker": {
             "line": {
              "color": "#E5ECF6",
              "width": 0.5
             },
             "pattern": {
              "fillmode": "overlay",
              "size": 10,
              "solidity": 0.2
             }
            },
            "type": "barpolar"
           }
          ],
          "carpet": [
           {
            "aaxis": {
             "endlinecolor": "#2a3f5f",
             "gridcolor": "white",
             "linecolor": "white",
             "minorgridcolor": "white",
             "startlinecolor": "#2a3f5f"
            },
            "baxis": {
             "endlinecolor": "#2a3f5f",
             "gridcolor": "white",
             "linecolor": "white",
             "minorgridcolor": "white",
             "startlinecolor": "#2a3f5f"
            },
            "type": "carpet"
           }
          ],
          "choropleth": [
           {
            "colorbar": {
             "outlinewidth": 0,
             "ticks": ""
            },
            "type": "choropleth"
           }
          ],
          "contour": [
           {
            "colorbar": {
             "outlinewidth": 0,
             "ticks": ""
            },
            "colorscale": [
             [
              0,
              "#0d0887"
             ],
             [
              0.1111111111111111,
              "#46039f"
             ],
             [
              0.2222222222222222,
              "#7201a8"
             ],
             [
              0.3333333333333333,
              "#9c179e"
             ],
             [
              0.4444444444444444,
              "#bd3786"
             ],
             [
              0.5555555555555556,
              "#d8576b"
             ],
             [
              0.6666666666666666,
              "#ed7953"
             ],
             [
              0.7777777777777778,
              "#fb9f3a"
             ],
             [
              0.8888888888888888,
              "#fdca26"
             ],
             [
              1,
              "#f0f921"
             ]
            ],
            "type": "contour"
           }
          ],
          "contourcarpet": [
           {
            "colorbar": {
             "outlinewidth": 0,
             "ticks": ""
            },
            "type": "contourcarpet"
           }
          ],
          "heatmap": [
           {
            "colorbar": {
             "outlinewidth": 0,
             "ticks": ""
            },
            "colorscale": [
             [
              0,
              "#0d0887"
             ],
             [
              0.1111111111111111,
              "#46039f"
             ],
             [
              0.2222222222222222,
              "#7201a8"
             ],
             [
              0.3333333333333333,
              "#9c179e"
             ],
             [
              0.4444444444444444,
              "#bd3786"
             ],
             [
              0.5555555555555556,
              "#d8576b"
             ],
             [
              0.6666666666666666,
              "#ed7953"
             ],
             [
              0.7777777777777778,
              "#fb9f3a"
             ],
             [
              0.8888888888888888,
              "#fdca26"
             ],
             [
              1,
              "#f0f921"
             ]
            ],
            "type": "heatmap"
           }
          ],
          "heatmapgl": [
           {
            "colorbar": {
             "outlinewidth": 0,
             "ticks": ""
            },
            "colorscale": [
             [
              0,
              "#0d0887"
             ],
             [
              0.1111111111111111,
              "#46039f"
             ],
             [
              0.2222222222222222,
              "#7201a8"
             ],
             [
              0.3333333333333333,
              "#9c179e"
             ],
             [
              0.4444444444444444,
              "#bd3786"
             ],
             [
              0.5555555555555556,
              "#d8576b"
             ],
             [
              0.6666666666666666,
              "#ed7953"
             ],
             [
              0.7777777777777778,
              "#fb9f3a"
             ],
             [
              0.8888888888888888,
              "#fdca26"
             ],
             [
              1,
              "#f0f921"
             ]
            ],
            "type": "heatmapgl"
           }
          ],
          "histogram": [
           {
            "marker": {
             "pattern": {
              "fillmode": "overlay",
              "size": 10,
              "solidity": 0.2
             }
            },
            "type": "histogram"
           }
          ],
          "histogram2d": [
           {
            "colorbar": {
             "outlinewidth": 0,
             "ticks": ""
            },
            "colorscale": [
             [
              0,
              "#0d0887"
             ],
             [
              0.1111111111111111,
              "#46039f"
             ],
             [
              0.2222222222222222,
              "#7201a8"
             ],
             [
              0.3333333333333333,
              "#9c179e"
             ],
             [
              0.4444444444444444,
              "#bd3786"
             ],
             [
              0.5555555555555556,
              "#d8576b"
             ],
             [
              0.6666666666666666,
              "#ed7953"
             ],
             [
              0.7777777777777778,
              "#fb9f3a"
             ],
             [
              0.8888888888888888,
              "#fdca26"
             ],
             [
              1,
              "#f0f921"
             ]
            ],
            "type": "histogram2d"
           }
          ],
          "histogram2dcontour": [
           {
            "colorbar": {
             "outlinewidth": 0,
             "ticks": ""
            },
            "colorscale": [
             [
              0,
              "#0d0887"
             ],
             [
              0.1111111111111111,
              "#46039f"
             ],
             [
              0.2222222222222222,
              "#7201a8"
             ],
             [
              0.3333333333333333,
              "#9c179e"
             ],
             [
              0.4444444444444444,
              "#bd3786"
             ],
             [
              0.5555555555555556,
              "#d8576b"
             ],
             [
              0.6666666666666666,
              "#ed7953"
             ],
             [
              0.7777777777777778,
              "#fb9f3a"
             ],
             [
              0.8888888888888888,
              "#fdca26"
             ],
             [
              1,
              "#f0f921"
             ]
            ],
            "type": "histogram2dcontour"
           }
          ],
          "mesh3d": [
           {
            "colorbar": {
             "outlinewidth": 0,
             "ticks": ""
            },
            "type": "mesh3d"
           }
          ],
          "parcoords": [
           {
            "line": {
             "colorbar": {
              "outlinewidth": 0,
              "ticks": ""
             }
            },
            "type": "parcoords"
           }
          ],
          "pie": [
           {
            "automargin": true,
            "type": "pie"
           }
          ],
          "scatter": [
           {
            "fillpattern": {
             "fillmode": "overlay",
             "size": 10,
             "solidity": 0.2
            },
            "type": "scatter"
           }
          ],
          "scatter3d": [
           {
            "line": {
             "colorbar": {
              "outlinewidth": 0,
              "ticks": ""
             }
            },
            "marker": {
             "colorbar": {
              "outlinewidth": 0,
              "ticks": ""
             }
            },
            "type": "scatter3d"
           }
          ],
          "scattercarpet": [
           {
            "marker": {
             "colorbar": {
              "outlinewidth": 0,
              "ticks": ""
             }
            },
            "type": "scattercarpet"
           }
          ],
          "scattergeo": [
           {
            "marker": {
             "colorbar": {
              "outlinewidth": 0,
              "ticks": ""
             }
            },
            "type": "scattergeo"
           }
          ],
          "scattergl": [
           {
            "marker": {
             "colorbar": {
              "outlinewidth": 0,
              "ticks": ""
             }
            },
            "type": "scattergl"
           }
          ],
          "scattermapbox": [
           {
            "marker": {
             "colorbar": {
              "outlinewidth": 0,
              "ticks": ""
             }
            },
            "type": "scattermapbox"
           }
          ],
          "scatterpolar": [
           {
            "marker": {
             "colorbar": {
              "outlinewidth": 0,
              "ticks": ""
             }
            },
            "type": "scatterpolar"
           }
          ],
          "scatterpolargl": [
           {
            "marker": {
             "colorbar": {
              "outlinewidth": 0,
              "ticks": ""
             }
            },
            "type": "scatterpolargl"
           }
          ],
          "scatterternary": [
           {
            "marker": {
             "colorbar": {
              "outlinewidth": 0,
              "ticks": ""
             }
            },
            "type": "scatterternary"
           }
          ],
          "surface": [
           {
            "colorbar": {
             "outlinewidth": 0,
             "ticks": ""
            },
            "colorscale": [
             [
              0,
              "#0d0887"
             ],
             [
              0.1111111111111111,
              "#46039f"
             ],
             [
              0.2222222222222222,
              "#7201a8"
             ],
             [
              0.3333333333333333,
              "#9c179e"
             ],
             [
              0.4444444444444444,
              "#bd3786"
             ],
             [
              0.5555555555555556,
              "#d8576b"
             ],
             [
              0.6666666666666666,
              "#ed7953"
             ],
             [
              0.7777777777777778,
              "#fb9f3a"
             ],
             [
              0.8888888888888888,
              "#fdca26"
             ],
             [
              1,
              "#f0f921"
             ]
            ],
            "type": "surface"
           }
          ],
          "table": [
           {
            "cells": {
             "fill": {
              "color": "#EBF0F8"
             },
             "line": {
              "color": "white"
             }
            },
            "header": {
             "fill": {
              "color": "#C8D4E3"
             },
             "line": {
              "color": "white"
             }
            },
            "type": "table"
           }
          ]
         },
         "layout": {
          "annotationdefaults": {
           "arrowcolor": "#2a3f5f",
           "arrowhead": 0,
           "arrowwidth": 1
          },
          "autotypenumbers": "strict",
          "coloraxis": {
           "colorbar": {
            "outlinewidth": 0,
            "ticks": ""
           }
          },
          "colorscale": {
           "diverging": [
            [
             0,
             "#8e0152"
            ],
            [
             0.1,
             "#c51b7d"
            ],
            [
             0.2,
             "#de77ae"
            ],
            [
             0.3,
             "#f1b6da"
            ],
            [
             0.4,
             "#fde0ef"
            ],
            [
             0.5,
             "#f7f7f7"
            ],
            [
             0.6,
             "#e6f5d0"
            ],
            [
             0.7,
             "#b8e186"
            ],
            [
             0.8,
             "#7fbc41"
            ],
            [
             0.9,
             "#4d9221"
            ],
            [
             1,
             "#276419"
            ]
           ],
           "sequential": [
            [
             0,
             "#0d0887"
            ],
            [
             0.1111111111111111,
             "#46039f"
            ],
            [
             0.2222222222222222,
             "#7201a8"
            ],
            [
             0.3333333333333333,
             "#9c179e"
            ],
            [
             0.4444444444444444,
             "#bd3786"
            ],
            [
             0.5555555555555556,
             "#d8576b"
            ],
            [
             0.6666666666666666,
             "#ed7953"
            ],
            [
             0.7777777777777778,
             "#fb9f3a"
            ],
            [
             0.8888888888888888,
             "#fdca26"
            ],
            [
             1,
             "#f0f921"
            ]
           ],
           "sequentialminus": [
            [
             0,
             "#0d0887"
            ],
            [
             0.1111111111111111,
             "#46039f"
            ],
            [
             0.2222222222222222,
             "#7201a8"
            ],
            [
             0.3333333333333333,
             "#9c179e"
            ],
            [
             0.4444444444444444,
             "#bd3786"
            ],
            [
             0.5555555555555556,
             "#d8576b"
            ],
            [
             0.6666666666666666,
             "#ed7953"
            ],
            [
             0.7777777777777778,
             "#fb9f3a"
            ],
            [
             0.8888888888888888,
             "#fdca26"
            ],
            [
             1,
             "#f0f921"
            ]
           ]
          },
          "colorway": [
           "#636efa",
           "#EF553B",
           "#00cc96",
           "#ab63fa",
           "#FFA15A",
           "#19d3f3",
           "#FF6692",
           "#B6E880",
           "#FF97FF",
           "#FECB52"
          ],
          "font": {
           "color": "#2a3f5f"
          },
          "geo": {
           "bgcolor": "white",
           "lakecolor": "white",
           "landcolor": "#E5ECF6",
           "showlakes": true,
           "showland": true,
           "subunitcolor": "white"
          },
          "hoverlabel": {
           "align": "left"
          },
          "hovermode": "closest",
          "mapbox": {
           "style": "light"
          },
          "paper_bgcolor": "white",
          "plot_bgcolor": "#E5ECF6",
          "polar": {
           "angularaxis": {
            "gridcolor": "white",
            "linecolor": "white",
            "ticks": ""
           },
           "bgcolor": "#E5ECF6",
           "radialaxis": {
            "gridcolor": "white",
            "linecolor": "white",
            "ticks": ""
           }
          },
          "scene": {
           "xaxis": {
            "backgroundcolor": "#E5ECF6",
            "gridcolor": "white",
            "gridwidth": 2,
            "linecolor": "white",
            "showbackground": true,
            "ticks": "",
            "zerolinecolor": "white"
           },
           "yaxis": {
            "backgroundcolor": "#E5ECF6",
            "gridcolor": "white",
            "gridwidth": 2,
            "linecolor": "white",
            "showbackground": true,
            "ticks": "",
            "zerolinecolor": "white"
           },
           "zaxis": {
            "backgroundcolor": "#E5ECF6",
            "gridcolor": "white",
            "gridwidth": 2,
            "linecolor": "white",
            "showbackground": true,
            "ticks": "",
            "zerolinecolor": "white"
           }
          },
          "shapedefaults": {
           "line": {
            "color": "#2a3f5f"
           }
          },
          "ternary": {
           "aaxis": {
            "gridcolor": "white",
            "linecolor": "white",
            "ticks": ""
           },
           "baxis": {
            "gridcolor": "white",
            "linecolor": "white",
            "ticks": ""
           },
           "bgcolor": "#E5ECF6",
           "caxis": {
            "gridcolor": "white",
            "linecolor": "white",
            "ticks": ""
           }
          },
          "title": {
           "x": 0.05
          },
          "xaxis": {
           "automargin": true,
           "gridcolor": "white",
           "linecolor": "white",
           "ticks": "",
           "title": {
            "standoff": 15
           },
           "zerolinecolor": "white",
           "zerolinewidth": 2
          },
          "yaxis": {
           "automargin": true,
           "gridcolor": "white",
           "linecolor": "white",
           "ticks": "",
           "title": {
            "standoff": 15
           },
           "zerolinecolor": "white",
           "zerolinewidth": 2
          }
         }
        },
        "xaxis": {
         "anchor": "y",
         "domain": [
          0,
          1
         ],
         "title": {
          "text": "filed"
         }
        },
        "yaxis": {
         "anchor": "x",
         "domain": [
          0,
          1
         ],
         "title": {
          "text": "val"
         }
        }
       }
      }
     },
     "metadata": {},
     "output_type": "display_data"
    }
   ],
   "source": [
    "plx.scatter(\n",
    "    data_frame = quarters ,\n",
    "    x = 'filed',\n",
    "    y = 'val',\n",
    ")"
   ]
  },
  {
   "cell_type": "code",
   "execution_count": 14,
   "metadata": {},
   "outputs": [
    {
     "data": {
      "application/vnd.plotly.v1+json": {
       "config": {
        "plotlyServerURL": "https://plot.ly"
       },
       "data": [
        {
         "hovertemplate": "filed=%{x}<br>val=%{y}<extra></extra>",
         "legendgroup": "",
         "marker": {
          "color": "#636efa",
          "symbol": "circle"
         },
         "mode": "markers",
         "name": "",
         "orientation": "v",
         "showlegend": false,
         "type": "scatter",
         "x": [
          "2010-07-30T00:00:00",
          "2011-07-28T00:00:00",
          "2012-07-26T00:00:00",
          "2013-07-30T00:00:00",
          "2014-07-31T00:00:00",
          "2015-07-31T00:00:00",
          "2016-07-28T00:00:00",
          "2017-08-02T00:00:00",
          "2018-08-03T00:00:00",
          "2019-08-01T00:00:00",
          "2020-07-31T00:00:00",
          "2021-07-29T00:00:00",
          "2022-07-28T00:00:00",
          "2023-07-27T00:00:00"
         ],
         "xaxis": "x",
         "y": [
          24098000000,
          27161000000,
          21763000000,
          26764000000,
          27759000000,
          18161000000,
          20182000000,
          22326000000,
          35058000000,
          42959000000,
          52959000000,
          69916000000,
          83383000000,
          88523000000
         ],
         "yaxis": "y"
        }
       ],
       "layout": {
        "legend": {
         "tracegroupgap": 0
        },
        "margin": {
         "t": 60
        },
        "template": {
         "data": {
          "bar": [
           {
            "error_x": {
             "color": "#2a3f5f"
            },
            "error_y": {
             "color": "#2a3f5f"
            },
            "marker": {
             "line": {
              "color": "#E5ECF6",
              "width": 0.5
             },
             "pattern": {
              "fillmode": "overlay",
              "size": 10,
              "solidity": 0.2
             }
            },
            "type": "bar"
           }
          ],
          "barpolar": [
           {
            "marker": {
             "line": {
              "color": "#E5ECF6",
              "width": 0.5
             },
             "pattern": {
              "fillmode": "overlay",
              "size": 10,
              "solidity": 0.2
             }
            },
            "type": "barpolar"
           }
          ],
          "carpet": [
           {
            "aaxis": {
             "endlinecolor": "#2a3f5f",
             "gridcolor": "white",
             "linecolor": "white",
             "minorgridcolor": "white",
             "startlinecolor": "#2a3f5f"
            },
            "baxis": {
             "endlinecolor": "#2a3f5f",
             "gridcolor": "white",
             "linecolor": "white",
             "minorgridcolor": "white",
             "startlinecolor": "#2a3f5f"
            },
            "type": "carpet"
           }
          ],
          "choropleth": [
           {
            "colorbar": {
             "outlinewidth": 0,
             "ticks": ""
            },
            "type": "choropleth"
           }
          ],
          "contour": [
           {
            "colorbar": {
             "outlinewidth": 0,
             "ticks": ""
            },
            "colorscale": [
             [
              0,
              "#0d0887"
             ],
             [
              0.1111111111111111,
              "#46039f"
             ],
             [
              0.2222222222222222,
              "#7201a8"
             ],
             [
              0.3333333333333333,
              "#9c179e"
             ],
             [
              0.4444444444444444,
              "#bd3786"
             ],
             [
              0.5555555555555556,
              "#d8576b"
             ],
             [
              0.6666666666666666,
              "#ed7953"
             ],
             [
              0.7777777777777778,
              "#fb9f3a"
             ],
             [
              0.8888888888888888,
              "#fdca26"
             ],
             [
              1,
              "#f0f921"
             ]
            ],
            "type": "contour"
           }
          ],
          "contourcarpet": [
           {
            "colorbar": {
             "outlinewidth": 0,
             "ticks": ""
            },
            "type": "contourcarpet"
           }
          ],
          "heatmap": [
           {
            "colorbar": {
             "outlinewidth": 0,
             "ticks": ""
            },
            "colorscale": [
             [
              0,
              "#0d0887"
             ],
             [
              0.1111111111111111,
              "#46039f"
             ],
             [
              0.2222222222222222,
              "#7201a8"
             ],
             [
              0.3333333333333333,
              "#9c179e"
             ],
             [
              0.4444444444444444,
              "#bd3786"
             ],
             [
              0.5555555555555556,
              "#d8576b"
             ],
             [
              0.6666666666666666,
              "#ed7953"
             ],
             [
              0.7777777777777778,
              "#fb9f3a"
             ],
             [
              0.8888888888888888,
              "#fdca26"
             ],
             [
              1,
              "#f0f921"
             ]
            ],
            "type": "heatmap"
           }
          ],
          "heatmapgl": [
           {
            "colorbar": {
             "outlinewidth": 0,
             "ticks": ""
            },
            "colorscale": [
             [
              0,
              "#0d0887"
             ],
             [
              0.1111111111111111,
              "#46039f"
             ],
             [
              0.2222222222222222,
              "#7201a8"
             ],
             [
              0.3333333333333333,
              "#9c179e"
             ],
             [
              0.4444444444444444,
              "#bd3786"
             ],
             [
              0.5555555555555556,
              "#d8576b"
             ],
             [
              0.6666666666666666,
              "#ed7953"
             ],
             [
              0.7777777777777778,
              "#fb9f3a"
             ],
             [
              0.8888888888888888,
              "#fdca26"
             ],
             [
              1,
              "#f0f921"
             ]
            ],
            "type": "heatmapgl"
           }
          ],
          "histogram": [
           {
            "marker": {
             "pattern": {
              "fillmode": "overlay",
              "size": 10,
              "solidity": 0.2
             }
            },
            "type": "histogram"
           }
          ],
          "histogram2d": [
           {
            "colorbar": {
             "outlinewidth": 0,
             "ticks": ""
            },
            "colorscale": [
             [
              0,
              "#0d0887"
             ],
             [
              0.1111111111111111,
              "#46039f"
             ],
             [
              0.2222222222222222,
              "#7201a8"
             ],
             [
              0.3333333333333333,
              "#9c179e"
             ],
             [
              0.4444444444444444,
              "#bd3786"
             ],
             [
              0.5555555555555556,
              "#d8576b"
             ],
             [
              0.6666666666666666,
              "#ed7953"
             ],
             [
              0.7777777777777778,
              "#fb9f3a"
             ],
             [
              0.8888888888888888,
              "#fdca26"
             ],
             [
              1,
              "#f0f921"
             ]
            ],
            "type": "histogram2d"
           }
          ],
          "histogram2dcontour": [
           {
            "colorbar": {
             "outlinewidth": 0,
             "ticks": ""
            },
            "colorscale": [
             [
              0,
              "#0d0887"
             ],
             [
              0.1111111111111111,
              "#46039f"
             ],
             [
              0.2222222222222222,
              "#7201a8"
             ],
             [
              0.3333333333333333,
              "#9c179e"
             ],
             [
              0.4444444444444444,
              "#bd3786"
             ],
             [
              0.5555555555555556,
              "#d8576b"
             ],
             [
              0.6666666666666666,
              "#ed7953"
             ],
             [
              0.7777777777777778,
              "#fb9f3a"
             ],
             [
              0.8888888888888888,
              "#fdca26"
             ],
             [
              1,
              "#f0f921"
             ]
            ],
            "type": "histogram2dcontour"
           }
          ],
          "mesh3d": [
           {
            "colorbar": {
             "outlinewidth": 0,
             "ticks": ""
            },
            "type": "mesh3d"
           }
          ],
          "parcoords": [
           {
            "line": {
             "colorbar": {
              "outlinewidth": 0,
              "ticks": ""
             }
            },
            "type": "parcoords"
           }
          ],
          "pie": [
           {
            "automargin": true,
            "type": "pie"
           }
          ],
          "scatter": [
           {
            "fillpattern": {
             "fillmode": "overlay",
             "size": 10,
             "solidity": 0.2
            },
            "type": "scatter"
           }
          ],
          "scatter3d": [
           {
            "line": {
             "colorbar": {
              "outlinewidth": 0,
              "ticks": ""
             }
            },
            "marker": {
             "colorbar": {
              "outlinewidth": 0,
              "ticks": ""
             }
            },
            "type": "scatter3d"
           }
          ],
          "scattercarpet": [
           {
            "marker": {
             "colorbar": {
              "outlinewidth": 0,
              "ticks": ""
             }
            },
            "type": "scattercarpet"
           }
          ],
          "scattergeo": [
           {
            "marker": {
             "colorbar": {
              "outlinewidth": 0,
              "ticks": ""
             }
            },
            "type": "scattergeo"
           }
          ],
          "scattergl": [
           {
            "marker": {
             "colorbar": {
              "outlinewidth": 0,
              "ticks": ""
             }
            },
            "type": "scattergl"
           }
          ],
          "scattermapbox": [
           {
            "marker": {
             "colorbar": {
              "outlinewidth": 0,
              "ticks": ""
             }
            },
            "type": "scattermapbox"
           }
          ],
          "scatterpolar": [
           {
            "marker": {
             "colorbar": {
              "outlinewidth": 0,
              "ticks": ""
             }
            },
            "type": "scatterpolar"
           }
          ],
          "scatterpolargl": [
           {
            "marker": {
             "colorbar": {
              "outlinewidth": 0,
              "ticks": ""
             }
            },
            "type": "scatterpolargl"
           }
          ],
          "scatterternary": [
           {
            "marker": {
             "colorbar": {
              "outlinewidth": 0,
              "ticks": ""
             }
            },
            "type": "scatterternary"
           }
          ],
          "surface": [
           {
            "colorbar": {
             "outlinewidth": 0,
             "ticks": ""
            },
            "colorscale": [
             [
              0,
              "#0d0887"
             ],
             [
              0.1111111111111111,
              "#46039f"
             ],
             [
              0.2222222222222222,
              "#7201a8"
             ],
             [
              0.3333333333333333,
              "#9c179e"
             ],
             [
              0.4444444444444444,
              "#bd3786"
             ],
             [
              0.5555555555555556,
              "#d8576b"
             ],
             [
              0.6666666666666666,
              "#ed7953"
             ],
             [
              0.7777777777777778,
              "#fb9f3a"
             ],
             [
              0.8888888888888888,
              "#fdca26"
             ],
             [
              1,
              "#f0f921"
             ]
            ],
            "type": "surface"
           }
          ],
          "table": [
           {
            "cells": {
             "fill": {
              "color": "#EBF0F8"
             },
             "line": {
              "color": "white"
             }
            },
            "header": {
             "fill": {
              "color": "#C8D4E3"
             },
             "line": {
              "color": "white"
             }
            },
            "type": "table"
           }
          ]
         },
         "layout": {
          "annotationdefaults": {
           "arrowcolor": "#2a3f5f",
           "arrowhead": 0,
           "arrowwidth": 1
          },
          "autotypenumbers": "strict",
          "coloraxis": {
           "colorbar": {
            "outlinewidth": 0,
            "ticks": ""
           }
          },
          "colorscale": {
           "diverging": [
            [
             0,
             "#8e0152"
            ],
            [
             0.1,
             "#c51b7d"
            ],
            [
             0.2,
             "#de77ae"
            ],
            [
             0.3,
             "#f1b6da"
            ],
            [
             0.4,
             "#fde0ef"
            ],
            [
             0.5,
             "#f7f7f7"
            ],
            [
             0.6,
             "#e6f5d0"
            ],
            [
             0.7,
             "#b8e186"
            ],
            [
             0.8,
             "#7fbc41"
            ],
            [
             0.9,
             "#4d9221"
            ],
            [
             1,
             "#276419"
            ]
           ],
           "sequential": [
            [
             0,
             "#0d0887"
            ],
            [
             0.1111111111111111,
             "#46039f"
            ],
            [
             0.2222222222222222,
             "#7201a8"
            ],
            [
             0.3333333333333333,
             "#9c179e"
            ],
            [
             0.4444444444444444,
             "#bd3786"
            ],
            [
             0.5555555555555556,
             "#d8576b"
            ],
            [
             0.6666666666666666,
             "#ed7953"
            ],
            [
             0.7777777777777778,
             "#fb9f3a"
            ],
            [
             0.8888888888888888,
             "#fdca26"
            ],
            [
             1,
             "#f0f921"
            ]
           ],
           "sequentialminus": [
            [
             0,
             "#0d0887"
            ],
            [
             0.1111111111111111,
             "#46039f"
            ],
            [
             0.2222222222222222,
             "#7201a8"
            ],
            [
             0.3333333333333333,
             "#9c179e"
            ],
            [
             0.4444444444444444,
             "#bd3786"
            ],
            [
             0.5555555555555556,
             "#d8576b"
            ],
            [
             0.6666666666666666,
             "#ed7953"
            ],
            [
             0.7777777777777778,
             "#fb9f3a"
            ],
            [
             0.8888888888888888,
             "#fdca26"
            ],
            [
             1,
             "#f0f921"
            ]
           ]
          },
          "colorway": [
           "#636efa",
           "#EF553B",
           "#00cc96",
           "#ab63fa",
           "#FFA15A",
           "#19d3f3",
           "#FF6692",
           "#B6E880",
           "#FF97FF",
           "#FECB52"
          ],
          "font": {
           "color": "#2a3f5f"
          },
          "geo": {
           "bgcolor": "white",
           "lakecolor": "white",
           "landcolor": "#E5ECF6",
           "showlakes": true,
           "showland": true,
           "subunitcolor": "white"
          },
          "hoverlabel": {
           "align": "left"
          },
          "hovermode": "closest",
          "mapbox": {
           "style": "light"
          },
          "paper_bgcolor": "white",
          "plot_bgcolor": "#E5ECF6",
          "polar": {
           "angularaxis": {
            "gridcolor": "white",
            "linecolor": "white",
            "ticks": ""
           },
           "bgcolor": "#E5ECF6",
           "radialaxis": {
            "gridcolor": "white",
            "linecolor": "white",
            "ticks": ""
           }
          },
          "scene": {
           "xaxis": {
            "backgroundcolor": "#E5ECF6",
            "gridcolor": "white",
            "gridwidth": 2,
            "linecolor": "white",
            "showbackground": true,
            "ticks": "",
            "zerolinecolor": "white"
           },
           "yaxis": {
            "backgroundcolor": "#E5ECF6",
            "gridcolor": "white",
            "gridwidth": 2,
            "linecolor": "white",
            "showbackground": true,
            "ticks": "",
            "zerolinecolor": "white"
           },
           "zaxis": {
            "backgroundcolor": "#E5ECF6",
            "gridcolor": "white",
            "gridwidth": 2,
            "linecolor": "white",
            "showbackground": true,
            "ticks": "",
            "zerolinecolor": "white"
           }
          },
          "shapedefaults": {
           "line": {
            "color": "#2a3f5f"
           }
          },
          "ternary": {
           "aaxis": {
            "gridcolor": "white",
            "linecolor": "white",
            "ticks": ""
           },
           "baxis": {
            "gridcolor": "white",
            "linecolor": "white",
            "ticks": ""
           },
           "bgcolor": "#E5ECF6",
           "caxis": {
            "gridcolor": "white",
            "linecolor": "white",
            "ticks": ""
           }
          },
          "title": {
           "x": 0.05
          },
          "xaxis": {
           "automargin": true,
           "gridcolor": "white",
           "linecolor": "white",
           "ticks": "",
           "title": {
            "standoff": 15
           },
           "zerolinecolor": "white",
           "zerolinewidth": 2
          },
          "yaxis": {
           "automargin": true,
           "gridcolor": "white",
           "linecolor": "white",
           "ticks": "",
           "title": {
            "standoff": 15
           },
           "zerolinecolor": "white",
           "zerolinewidth": 2
          }
         }
        },
        "xaxis": {
         "anchor": "y",
         "domain": [
          0,
          1
         ],
         "title": {
          "text": "filed"
         }
        },
        "yaxis": {
         "anchor": "x",
         "domain": [
          0,
          1
         ],
         "title": {
          "text": "val"
         }
        }
       }
      }
     },
     "metadata": {},
     "output_type": "display_data"
    }
   ],
   "source": [
    "plx.scatter(\n",
    "    data_frame = years ,\n",
    "    x = 'filed',\n",
    "    y = 'val',\n",
    ")"
   ]
  },
  {
   "cell_type": "code",
   "execution_count": 15,
   "metadata": {},
   "outputs": [
    {
     "data": {
      "application/vnd.plotly.v1+json": {
       "config": {
        "plotlyServerURL": "https://plot.ly"
       },
       "data": [
        {
         "hovertemplate": "filed=%{x}<br>val=%{y}<extra></extra>",
         "legendgroup": "",
         "marker": {
          "color": "#636efa",
          "symbol": "circle"
         },
         "mode": "markers",
         "name": "",
         "orientation": "v",
         "showlegend": false,
         "type": "scatter",
         "x": [
          "2009-10-23T00:00:00",
          "2010-01-28T00:00:00",
          "2010-04-22T00:00:00",
          "2010-07-30T00:00:00",
          "2010-10-28T00:00:00",
          "2011-01-27T00:00:00",
          "2011-04-28T00:00:00",
          "2011-07-28T00:00:00",
          "2011-10-20T00:00:00",
          "2012-01-27T00:00:00",
          "2012-04-19T00:00:00",
          "2012-07-26T00:00:00",
          "2012-10-18T00:00:00",
          "2013-01-24T00:00:00",
          "2013-04-18T00:00:00",
          "2013-07-30T00:00:00",
          "2013-10-24T00:00:00",
          "2014-01-23T00:00:00",
          "2014-04-24T00:00:00",
          "2014-07-31T00:00:00",
          "2014-10-23T00:00:00",
          "2015-01-26T00:00:00",
          "2015-04-23T00:00:00",
          "2015-07-31T00:00:00",
          "2015-10-22T00:00:00",
          "2016-01-28T00:00:00",
          "2016-04-21T00:00:00",
          "2016-07-28T00:00:00",
          "2016-10-20T00:00:00",
          "2017-01-26T00:00:00",
          "2017-04-27T00:00:00",
          "2017-08-02T00:00:00",
          "2017-10-26T00:00:00",
          "2018-01-31T00:00:00",
          "2018-04-26T00:00:00",
          "2018-08-03T00:00:00",
          "2018-10-24T00:00:00",
          "2019-01-30T00:00:00",
          "2019-04-24T00:00:00",
          "2019-08-01T00:00:00",
          "2019-10-23T00:00:00",
          "2020-01-29T00:00:00",
          "2020-04-29T00:00:00",
          "2020-07-31T00:00:00",
          "2020-10-27T00:00:00",
          "2021-01-26T00:00:00",
          "2021-04-27T00:00:00",
          "2021-07-29T00:00:00",
          "2021-10-26T00:00:00",
          "2022-01-25T00:00:00",
          "2022-04-26T00:00:00",
          "2022-07-28T00:00:00",
          "2022-10-25T00:00:00",
          "2023-01-24T00:00:00",
          "2023-04-25T00:00:00",
          "2023-07-27T00:00:00",
          "2023-10-24T00:00:00"
         ],
         "xaxis": "x",
         "y": [
          4482000000,
          8513000000,
          5173000000,
          5930000000,
          7116000000,
          8165000000,
          5709000000,
          6171000000,
          7203000000,
          7994000000,
          6374000000,
          192000000,
          5308000000,
          7771000000,
          7612000000,
          6073000000,
          6334000000,
          7969000000,
          6974000000,
          6482000000,
          5844000000,
          7776000000,
          6594000000,
          -2053000000,
          5793000000,
          6026000000,
          5283000000,
          3080000000,
          5225000000,
          6177000000,
          5594000000,
          5330000000,
          7708000000,
          8679000000,
          8292000000,
          10379000000,
          9955000000,
          10258000000,
          10341000000,
          12405000000,
          12686000000,
          13891000000,
          12975000000,
          13407000000,
          15876000000,
          17897000000,
          17048000000,
          19095000000,
          20238000000,
          22247000000,
          20364000000,
          20534000000,
          21518000000,
          20399000000,
          22352000000,
          24254000000,
          26895000000
         ],
         "yaxis": "y"
        }
       ],
       "layout": {
        "legend": {
         "tracegroupgap": 0
        },
        "margin": {
         "t": 60
        },
        "template": {
         "data": {
          "bar": [
           {
            "error_x": {
             "color": "#2a3f5f"
            },
            "error_y": {
             "color": "#2a3f5f"
            },
            "marker": {
             "line": {
              "color": "#E5ECF6",
              "width": 0.5
             },
             "pattern": {
              "fillmode": "overlay",
              "size": 10,
              "solidity": 0.2
             }
            },
            "type": "bar"
           }
          ],
          "barpolar": [
           {
            "marker": {
             "line": {
              "color": "#E5ECF6",
              "width": 0.5
             },
             "pattern": {
              "fillmode": "overlay",
              "size": 10,
              "solidity": 0.2
             }
            },
            "type": "barpolar"
           }
          ],
          "carpet": [
           {
            "aaxis": {
             "endlinecolor": "#2a3f5f",
             "gridcolor": "white",
             "linecolor": "white",
             "minorgridcolor": "white",
             "startlinecolor": "#2a3f5f"
            },
            "baxis": {
             "endlinecolor": "#2a3f5f",
             "gridcolor": "white",
             "linecolor": "white",
             "minorgridcolor": "white",
             "startlinecolor": "#2a3f5f"
            },
            "type": "carpet"
           }
          ],
          "choropleth": [
           {
            "colorbar": {
             "outlinewidth": 0,
             "ticks": ""
            },
            "type": "choropleth"
           }
          ],
          "contour": [
           {
            "colorbar": {
             "outlinewidth": 0,
             "ticks": ""
            },
            "colorscale": [
             [
              0,
              "#0d0887"
             ],
             [
              0.1111111111111111,
              "#46039f"
             ],
             [
              0.2222222222222222,
              "#7201a8"
             ],
             [
              0.3333333333333333,
              "#9c179e"
             ],
             [
              0.4444444444444444,
              "#bd3786"
             ],
             [
              0.5555555555555556,
              "#d8576b"
             ],
             [
              0.6666666666666666,
              "#ed7953"
             ],
             [
              0.7777777777777778,
              "#fb9f3a"
             ],
             [
              0.8888888888888888,
              "#fdca26"
             ],
             [
              1,
              "#f0f921"
             ]
            ],
            "type": "contour"
           }
          ],
          "contourcarpet": [
           {
            "colorbar": {
             "outlinewidth": 0,
             "ticks": ""
            },
            "type": "contourcarpet"
           }
          ],
          "heatmap": [
           {
            "colorbar": {
             "outlinewidth": 0,
             "ticks": ""
            },
            "colorscale": [
             [
              0,
              "#0d0887"
             ],
             [
              0.1111111111111111,
              "#46039f"
             ],
             [
              0.2222222222222222,
              "#7201a8"
             ],
             [
              0.3333333333333333,
              "#9c179e"
             ],
             [
              0.4444444444444444,
              "#bd3786"
             ],
             [
              0.5555555555555556,
              "#d8576b"
             ],
             [
              0.6666666666666666,
              "#ed7953"
             ],
             [
              0.7777777777777778,
              "#fb9f3a"
             ],
             [
              0.8888888888888888,
              "#fdca26"
             ],
             [
              1,
              "#f0f921"
             ]
            ],
            "type": "heatmap"
           }
          ],
          "heatmapgl": [
           {
            "colorbar": {
             "outlinewidth": 0,
             "ticks": ""
            },
            "colorscale": [
             [
              0,
              "#0d0887"
             ],
             [
              0.1111111111111111,
              "#46039f"
             ],
             [
              0.2222222222222222,
              "#7201a8"
             ],
             [
              0.3333333333333333,
              "#9c179e"
             ],
             [
              0.4444444444444444,
              "#bd3786"
             ],
             [
              0.5555555555555556,
              "#d8576b"
             ],
             [
              0.6666666666666666,
              "#ed7953"
             ],
             [
              0.7777777777777778,
              "#fb9f3a"
             ],
             [
              0.8888888888888888,
              "#fdca26"
             ],
             [
              1,
              "#f0f921"
             ]
            ],
            "type": "heatmapgl"
           }
          ],
          "histogram": [
           {
            "marker": {
             "pattern": {
              "fillmode": "overlay",
              "size": 10,
              "solidity": 0.2
             }
            },
            "type": "histogram"
           }
          ],
          "histogram2d": [
           {
            "colorbar": {
             "outlinewidth": 0,
             "ticks": ""
            },
            "colorscale": [
             [
              0,
              "#0d0887"
             ],
             [
              0.1111111111111111,
              "#46039f"
             ],
             [
              0.2222222222222222,
              "#7201a8"
             ],
             [
              0.3333333333333333,
              "#9c179e"
             ],
             [
              0.4444444444444444,
              "#bd3786"
             ],
             [
              0.5555555555555556,
              "#d8576b"
             ],
             [
              0.6666666666666666,
              "#ed7953"
             ],
             [
              0.7777777777777778,
              "#fb9f3a"
             ],
             [
              0.8888888888888888,
              "#fdca26"
             ],
             [
              1,
              "#f0f921"
             ]
            ],
            "type": "histogram2d"
           }
          ],
          "histogram2dcontour": [
           {
            "colorbar": {
             "outlinewidth": 0,
             "ticks": ""
            },
            "colorscale": [
             [
              0,
              "#0d0887"
             ],
             [
              0.1111111111111111,
              "#46039f"
             ],
             [
              0.2222222222222222,
              "#7201a8"
             ],
             [
              0.3333333333333333,
              "#9c179e"
             ],
             [
              0.4444444444444444,
              "#bd3786"
             ],
             [
              0.5555555555555556,
              "#d8576b"
             ],
             [
              0.6666666666666666,
              "#ed7953"
             ],
             [
              0.7777777777777778,
              "#fb9f3a"
             ],
             [
              0.8888888888888888,
              "#fdca26"
             ],
             [
              1,
              "#f0f921"
             ]
            ],
            "type": "histogram2dcontour"
           }
          ],
          "mesh3d": [
           {
            "colorbar": {
             "outlinewidth": 0,
             "ticks": ""
            },
            "type": "mesh3d"
           }
          ],
          "parcoords": [
           {
            "line": {
             "colorbar": {
              "outlinewidth": 0,
              "ticks": ""
             }
            },
            "type": "parcoords"
           }
          ],
          "pie": [
           {
            "automargin": true,
            "type": "pie"
           }
          ],
          "scatter": [
           {
            "fillpattern": {
             "fillmode": "overlay",
             "size": 10,
             "solidity": 0.2
            },
            "type": "scatter"
           }
          ],
          "scatter3d": [
           {
            "line": {
             "colorbar": {
              "outlinewidth": 0,
              "ticks": ""
             }
            },
            "marker": {
             "colorbar": {
              "outlinewidth": 0,
              "ticks": ""
             }
            },
            "type": "scatter3d"
           }
          ],
          "scattercarpet": [
           {
            "marker": {
             "colorbar": {
              "outlinewidth": 0,
              "ticks": ""
             }
            },
            "type": "scattercarpet"
           }
          ],
          "scattergeo": [
           {
            "marker": {
             "colorbar": {
              "outlinewidth": 0,
              "ticks": ""
             }
            },
            "type": "scattergeo"
           }
          ],
          "scattergl": [
           {
            "marker": {
             "colorbar": {
              "outlinewidth": 0,
              "ticks": ""
             }
            },
            "type": "scattergl"
           }
          ],
          "scattermapbox": [
           {
            "marker": {
             "colorbar": {
              "outlinewidth": 0,
              "ticks": ""
             }
            },
            "type": "scattermapbox"
           }
          ],
          "scatterpolar": [
           {
            "marker": {
             "colorbar": {
              "outlinewidth": 0,
              "ticks": ""
             }
            },
            "type": "scatterpolar"
           }
          ],
          "scatterpolargl": [
           {
            "marker": {
             "colorbar": {
              "outlinewidth": 0,
              "ticks": ""
             }
            },
            "type": "scatterpolargl"
           }
          ],
          "scatterternary": [
           {
            "marker": {
             "colorbar": {
              "outlinewidth": 0,
              "ticks": ""
             }
            },
            "type": "scatterternary"
           }
          ],
          "surface": [
           {
            "colorbar": {
             "outlinewidth": 0,
             "ticks": ""
            },
            "colorscale": [
             [
              0,
              "#0d0887"
             ],
             [
              0.1111111111111111,
              "#46039f"
             ],
             [
              0.2222222222222222,
              "#7201a8"
             ],
             [
              0.3333333333333333,
              "#9c179e"
             ],
             [
              0.4444444444444444,
              "#bd3786"
             ],
             [
              0.5555555555555556,
              "#d8576b"
             ],
             [
              0.6666666666666666,
              "#ed7953"
             ],
             [
              0.7777777777777778,
              "#fb9f3a"
             ],
             [
              0.8888888888888888,
              "#fdca26"
             ],
             [
              1,
              "#f0f921"
             ]
            ],
            "type": "surface"
           }
          ],
          "table": [
           {
            "cells": {
             "fill": {
              "color": "#EBF0F8"
             },
             "line": {
              "color": "white"
             }
            },
            "header": {
             "fill": {
              "color": "#C8D4E3"
             },
             "line": {
              "color": "white"
             }
            },
            "type": "table"
           }
          ]
         },
         "layout": {
          "annotationdefaults": {
           "arrowcolor": "#2a3f5f",
           "arrowhead": 0,
           "arrowwidth": 1
          },
          "autotypenumbers": "strict",
          "coloraxis": {
           "colorbar": {
            "outlinewidth": 0,
            "ticks": ""
           }
          },
          "colorscale": {
           "diverging": [
            [
             0,
             "#8e0152"
            ],
            [
             0.1,
             "#c51b7d"
            ],
            [
             0.2,
             "#de77ae"
            ],
            [
             0.3,
             "#f1b6da"
            ],
            [
             0.4,
             "#fde0ef"
            ],
            [
             0.5,
             "#f7f7f7"
            ],
            [
             0.6,
             "#e6f5d0"
            ],
            [
             0.7,
             "#b8e186"
            ],
            [
             0.8,
             "#7fbc41"
            ],
            [
             0.9,
             "#4d9221"
            ],
            [
             1,
             "#276419"
            ]
           ],
           "sequential": [
            [
             0,
             "#0d0887"
            ],
            [
             0.1111111111111111,
             "#46039f"
            ],
            [
             0.2222222222222222,
             "#7201a8"
            ],
            [
             0.3333333333333333,
             "#9c179e"
            ],
            [
             0.4444444444444444,
             "#bd3786"
            ],
            [
             0.5555555555555556,
             "#d8576b"
            ],
            [
             0.6666666666666666,
             "#ed7953"
            ],
            [
             0.7777777777777778,
             "#fb9f3a"
            ],
            [
             0.8888888888888888,
             "#fdca26"
            ],
            [
             1,
             "#f0f921"
            ]
           ],
           "sequentialminus": [
            [
             0,
             "#0d0887"
            ],
            [
             0.1111111111111111,
             "#46039f"
            ],
            [
             0.2222222222222222,
             "#7201a8"
            ],
            [
             0.3333333333333333,
             "#9c179e"
            ],
            [
             0.4444444444444444,
             "#bd3786"
            ],
            [
             0.5555555555555556,
             "#d8576b"
            ],
            [
             0.6666666666666666,
             "#ed7953"
            ],
            [
             0.7777777777777778,
             "#fb9f3a"
            ],
            [
             0.8888888888888888,
             "#fdca26"
            ],
            [
             1,
             "#f0f921"
            ]
           ]
          },
          "colorway": [
           "#636efa",
           "#EF553B",
           "#00cc96",
           "#ab63fa",
           "#FFA15A",
           "#19d3f3",
           "#FF6692",
           "#B6E880",
           "#FF97FF",
           "#FECB52"
          ],
          "font": {
           "color": "#2a3f5f"
          },
          "geo": {
           "bgcolor": "white",
           "lakecolor": "white",
           "landcolor": "#E5ECF6",
           "showlakes": true,
           "showland": true,
           "subunitcolor": "white"
          },
          "hoverlabel": {
           "align": "left"
          },
          "hovermode": "closest",
          "mapbox": {
           "style": "light"
          },
          "paper_bgcolor": "white",
          "plot_bgcolor": "#E5ECF6",
          "polar": {
           "angularaxis": {
            "gridcolor": "white",
            "linecolor": "white",
            "ticks": ""
           },
           "bgcolor": "#E5ECF6",
           "radialaxis": {
            "gridcolor": "white",
            "linecolor": "white",
            "ticks": ""
           }
          },
          "scene": {
           "xaxis": {
            "backgroundcolor": "#E5ECF6",
            "gridcolor": "white",
            "gridwidth": 2,
            "linecolor": "white",
            "showbackground": true,
            "ticks": "",
            "zerolinecolor": "white"
           },
           "yaxis": {
            "backgroundcolor": "#E5ECF6",
            "gridcolor": "white",
            "gridwidth": 2,
            "linecolor": "white",
            "showbackground": true,
            "ticks": "",
            "zerolinecolor": "white"
           },
           "zaxis": {
            "backgroundcolor": "#E5ECF6",
            "gridcolor": "white",
            "gridwidth": 2,
            "linecolor": "white",
            "showbackground": true,
            "ticks": "",
            "zerolinecolor": "white"
           }
          },
          "shapedefaults": {
           "line": {
            "color": "#2a3f5f"
           }
          },
          "ternary": {
           "aaxis": {
            "gridcolor": "white",
            "linecolor": "white",
            "ticks": ""
           },
           "baxis": {
            "gridcolor": "white",
            "linecolor": "white",
            "ticks": ""
           },
           "bgcolor": "#E5ECF6",
           "caxis": {
            "gridcolor": "white",
            "linecolor": "white",
            "ticks": ""
           }
          },
          "title": {
           "x": 0.05
          },
          "xaxis": {
           "automargin": true,
           "gridcolor": "white",
           "linecolor": "white",
           "ticks": "",
           "title": {
            "standoff": 15
           },
           "zerolinecolor": "white",
           "zerolinewidth": 2
          },
          "yaxis": {
           "automargin": true,
           "gridcolor": "white",
           "linecolor": "white",
           "ticks": "",
           "title": {
            "standoff": 15
           },
           "zerolinecolor": "white",
           "zerolinewidth": 2
          }
         }
        },
        "xaxis": {
         "anchor": "y",
         "domain": [
          0,
          1
         ],
         "title": {
          "text": "filed"
         }
        },
        "yaxis": {
         "anchor": "x",
         "domain": [
          0,
          1
         ],
         "title": {
          "text": "val"
         }
        }
       }
      }
     },
     "metadata": {},
     "output_type": "display_data"
    }
   ],
   "source": [
    "plx.scatter(\n",
    "    data_frame = final_df ,\n",
    "    x = 'filed',\n",
    "    y = 'val',\n",
    ")"
   ]
  },
  {
   "cell_type": "code",
   "execution_count": 16,
   "metadata": {},
   "outputs": [
    {
     "data": {
      "text/html": [
       "<div>\n",
       "<style scoped>\n",
       "    .dataframe tbody tr th:only-of-type {\n",
       "        vertical-align: middle;\n",
       "    }\n",
       "\n",
       "    .dataframe tbody tr th {\n",
       "        vertical-align: top;\n",
       "    }\n",
       "\n",
       "    .dataframe thead th {\n",
       "        text-align: right;\n",
       "    }\n",
       "</style>\n",
       "<table border=\"1\" class=\"dataframe\">\n",
       "  <thead>\n",
       "    <tr style=\"text-align: right;\">\n",
       "      <th></th>\n",
       "      <th></th>\n",
       "      <th></th>\n",
       "      <th>start</th>\n",
       "      <th>end</th>\n",
       "      <th>val</th>\n",
       "      <th>accn</th>\n",
       "      <th>form</th>\n",
       "      <th>filed</th>\n",
       "      <th>frame</th>\n",
       "      <th>period</th>\n",
       "    </tr>\n",
       "    <tr>\n",
       "      <th>fy</th>\n",
       "      <th>fp</th>\n",
       "      <th>delay</th>\n",
       "      <th></th>\n",
       "      <th></th>\n",
       "      <th></th>\n",
       "      <th></th>\n",
       "      <th></th>\n",
       "      <th></th>\n",
       "      <th></th>\n",
       "      <th></th>\n",
       "    </tr>\n",
       "  </thead>\n",
       "  <tbody>\n",
       "    <tr>\n",
       "      <th rowspan=\"9\" valign=\"top\">2010</th>\n",
       "      <th rowspan=\"3\" valign=\"top\">FY</th>\n",
       "      <th>30 days</th>\n",
       "      <td>2009-07-01</td>\n",
       "      <td>2010-06-30</td>\n",
       "      <td>24098000000</td>\n",
       "      <td>0001193125-10-171791</td>\n",
       "      <td>10-K</td>\n",
       "      <td>2010-07-30</td>\n",
       "      <td>NaN</td>\n",
       "      <td>364 days</td>\n",
       "    </tr>\n",
       "    <tr>\n",
       "      <th>395 days</th>\n",
       "      <td>2008-07-01</td>\n",
       "      <td>2009-06-30</td>\n",
       "      <td>20363000000</td>\n",
       "      <td>0001193125-10-171791</td>\n",
       "      <td>10-K</td>\n",
       "      <td>2010-07-30</td>\n",
       "      <td>NaN</td>\n",
       "      <td>364 days</td>\n",
       "    </tr>\n",
       "    <tr>\n",
       "      <th>760 days</th>\n",
       "      <td>2007-07-01</td>\n",
       "      <td>2008-06-30</td>\n",
       "      <td>22271000000</td>\n",
       "      <td>0001193125-10-171791</td>\n",
       "      <td>10-K</td>\n",
       "      <td>2010-07-30</td>\n",
       "      <td>CY2008</td>\n",
       "      <td>365 days</td>\n",
       "    </tr>\n",
       "    <tr>\n",
       "      <th rowspan=\"2\" valign=\"top\">Q1</th>\n",
       "      <th>23 days</th>\n",
       "      <td>2009-07-01</td>\n",
       "      <td>2009-09-30</td>\n",
       "      <td>4482000000</td>\n",
       "      <td>0001193125-09-212454</td>\n",
       "      <td>10-Q</td>\n",
       "      <td>2009-10-23</td>\n",
       "      <td>NaN</td>\n",
       "      <td>91 days</td>\n",
       "    </tr>\n",
       "    <tr>\n",
       "      <th>388 days</th>\n",
       "      <td>2008-07-01</td>\n",
       "      <td>2008-09-30</td>\n",
       "      <td>5999000000</td>\n",
       "      <td>0001193125-09-212454</td>\n",
       "      <td>10-Q</td>\n",
       "      <td>2009-10-23</td>\n",
       "      <td>CY2008Q3</td>\n",
       "      <td>91 days</td>\n",
       "    </tr>\n",
       "    <tr>\n",
       "      <th rowspan=\"2\" valign=\"top\">Q2</th>\n",
       "      <th>28 days</th>\n",
       "      <td>2009-10-01</td>\n",
       "      <td>2009-12-31</td>\n",
       "      <td>8513000000</td>\n",
       "      <td>0001193125-10-015598</td>\n",
       "      <td>10-Q</td>\n",
       "      <td>2010-01-28</td>\n",
       "      <td>NaN</td>\n",
       "      <td>91 days</td>\n",
       "    </tr>\n",
       "    <tr>\n",
       "      <th>393 days</th>\n",
       "      <td>2008-10-01</td>\n",
       "      <td>2008-12-31</td>\n",
       "      <td>5939000000</td>\n",
       "      <td>0001193125-10-015598</td>\n",
       "      <td>10-Q</td>\n",
       "      <td>2010-01-28</td>\n",
       "      <td>CY2008Q4</td>\n",
       "      <td>91 days</td>\n",
       "    </tr>\n",
       "    <tr>\n",
       "      <th rowspan=\"2\" valign=\"top\">Q3</th>\n",
       "      <th>22 days</th>\n",
       "      <td>2010-01-01</td>\n",
       "      <td>2010-03-31</td>\n",
       "      <td>5173000000</td>\n",
       "      <td>0001193125-10-090116</td>\n",
       "      <td>10-Q</td>\n",
       "      <td>2010-04-22</td>\n",
       "      <td>NaN</td>\n",
       "      <td>89 days</td>\n",
       "    </tr>\n",
       "    <tr>\n",
       "      <th>387 days</th>\n",
       "      <td>2009-01-01</td>\n",
       "      <td>2009-03-31</td>\n",
       "      <td>4438000000</td>\n",
       "      <td>0001193125-10-090116</td>\n",
       "      <td>10-Q</td>\n",
       "      <td>2010-04-22</td>\n",
       "      <td>CY2009Q1</td>\n",
       "      <td>89 days</td>\n",
       "    </tr>\n",
       "    <tr>\n",
       "      <th rowspan=\"9\" valign=\"top\">2011</th>\n",
       "      <th rowspan=\"3\" valign=\"top\">FY</th>\n",
       "      <th>28 days</th>\n",
       "      <td>2010-07-01</td>\n",
       "      <td>2011-06-30</td>\n",
       "      <td>27161000000</td>\n",
       "      <td>0001193125-11-200680</td>\n",
       "      <td>10-K</td>\n",
       "      <td>2011-07-28</td>\n",
       "      <td>NaN</td>\n",
       "      <td>364 days</td>\n",
       "    </tr>\n",
       "    <tr>\n",
       "      <th>393 days</th>\n",
       "      <td>2009-07-01</td>\n",
       "      <td>2010-06-30</td>\n",
       "      <td>24098000000</td>\n",
       "      <td>0001193125-11-200680</td>\n",
       "      <td>10-K</td>\n",
       "      <td>2011-07-28</td>\n",
       "      <td>NaN</td>\n",
       "      <td>364 days</td>\n",
       "    </tr>\n",
       "    <tr>\n",
       "      <th>758 days</th>\n",
       "      <td>2008-07-01</td>\n",
       "      <td>2009-06-30</td>\n",
       "      <td>20363000000</td>\n",
       "      <td>0001193125-11-200680</td>\n",
       "      <td>10-K</td>\n",
       "      <td>2011-07-28</td>\n",
       "      <td>CY2009</td>\n",
       "      <td>364 days</td>\n",
       "    </tr>\n",
       "    <tr>\n",
       "      <th rowspan=\"2\" valign=\"top\">Q1</th>\n",
       "      <th>28 days</th>\n",
       "      <td>2010-07-01</td>\n",
       "      <td>2010-09-30</td>\n",
       "      <td>7116000000</td>\n",
       "      <td>0001193125-10-239825</td>\n",
       "      <td>10-Q</td>\n",
       "      <td>2010-10-28</td>\n",
       "      <td>NaN</td>\n",
       "      <td>91 days</td>\n",
       "    </tr>\n",
       "    <tr>\n",
       "      <th>393 days</th>\n",
       "      <td>2009-07-01</td>\n",
       "      <td>2009-09-30</td>\n",
       "      <td>4482000000</td>\n",
       "      <td>0001193125-10-239825</td>\n",
       "      <td>10-Q</td>\n",
       "      <td>2010-10-28</td>\n",
       "      <td>CY2009Q3</td>\n",
       "      <td>91 days</td>\n",
       "    </tr>\n",
       "    <tr>\n",
       "      <th rowspan=\"2\" valign=\"top\">Q2</th>\n",
       "      <th>27 days</th>\n",
       "      <td>2010-10-01</td>\n",
       "      <td>2010-12-31</td>\n",
       "      <td>8165000000</td>\n",
       "      <td>0001193125-11-015947</td>\n",
       "      <td>10-Q</td>\n",
       "      <td>2011-01-27</td>\n",
       "      <td>NaN</td>\n",
       "      <td>91 days</td>\n",
       "    </tr>\n",
       "    <tr>\n",
       "      <th>392 days</th>\n",
       "      <td>2009-10-01</td>\n",
       "      <td>2009-12-31</td>\n",
       "      <td>8513000000</td>\n",
       "      <td>0001193125-11-015947</td>\n",
       "      <td>10-Q</td>\n",
       "      <td>2011-01-27</td>\n",
       "      <td>CY2009Q4</td>\n",
       "      <td>91 days</td>\n",
       "    </tr>\n",
       "    <tr>\n",
       "      <th rowspan=\"2\" valign=\"top\">Q3</th>\n",
       "      <th>28 days</th>\n",
       "      <td>2011-01-01</td>\n",
       "      <td>2011-03-31</td>\n",
       "      <td>5709000000</td>\n",
       "      <td>0001193125-11-115186</td>\n",
       "      <td>10-Q</td>\n",
       "      <td>2011-04-28</td>\n",
       "      <td>NaN</td>\n",
       "      <td>89 days</td>\n",
       "    </tr>\n",
       "    <tr>\n",
       "      <th>393 days</th>\n",
       "      <td>2010-01-01</td>\n",
       "      <td>2010-03-31</td>\n",
       "      <td>5173000000</td>\n",
       "      <td>0001193125-11-115186</td>\n",
       "      <td>10-Q</td>\n",
       "      <td>2011-04-28</td>\n",
       "      <td>CY2010Q1</td>\n",
       "      <td>89 days</td>\n",
       "    </tr>\n",
       "    <tr>\n",
       "      <th rowspan=\"9\" valign=\"top\">2012</th>\n",
       "      <th rowspan=\"3\" valign=\"top\">FY</th>\n",
       "      <th>26 days</th>\n",
       "      <td>2011-07-01</td>\n",
       "      <td>2012-06-30</td>\n",
       "      <td>21763000000</td>\n",
       "      <td>0001193125-12-316848</td>\n",
       "      <td>10-K</td>\n",
       "      <td>2012-07-26</td>\n",
       "      <td>NaN</td>\n",
       "      <td>365 days</td>\n",
       "    </tr>\n",
       "    <tr>\n",
       "      <th>392 days</th>\n",
       "      <td>2010-07-01</td>\n",
       "      <td>2011-06-30</td>\n",
       "      <td>27161000000</td>\n",
       "      <td>0001193125-12-316848</td>\n",
       "      <td>10-K</td>\n",
       "      <td>2012-07-26</td>\n",
       "      <td>NaN</td>\n",
       "      <td>364 days</td>\n",
       "    </tr>\n",
       "    <tr>\n",
       "      <th>757 days</th>\n",
       "      <td>2009-07-01</td>\n",
       "      <td>2010-06-30</td>\n",
       "      <td>24098000000</td>\n",
       "      <td>0001193125-12-316848</td>\n",
       "      <td>10-K</td>\n",
       "      <td>2012-07-26</td>\n",
       "      <td>CY2010</td>\n",
       "      <td>364 days</td>\n",
       "    </tr>\n",
       "    <tr>\n",
       "      <th rowspan=\"2\" valign=\"top\">Q1</th>\n",
       "      <th>20 days</th>\n",
       "      <td>2011-07-01</td>\n",
       "      <td>2011-09-30</td>\n",
       "      <td>7203000000</td>\n",
       "      <td>0001193125-11-276022</td>\n",
       "      <td>10-Q</td>\n",
       "      <td>2011-10-20</td>\n",
       "      <td>NaN</td>\n",
       "      <td>91 days</td>\n",
       "    </tr>\n",
       "    <tr>\n",
       "      <th>385 days</th>\n",
       "      <td>2010-07-01</td>\n",
       "      <td>2010-09-30</td>\n",
       "      <td>7116000000</td>\n",
       "      <td>0001193125-11-276022</td>\n",
       "      <td>10-Q</td>\n",
       "      <td>2011-10-20</td>\n",
       "      <td>CY2010Q3</td>\n",
       "      <td>91 days</td>\n",
       "    </tr>\n",
       "    <tr>\n",
       "      <th rowspan=\"2\" valign=\"top\">Q2</th>\n",
       "      <th>27 days</th>\n",
       "      <td>2011-10-01</td>\n",
       "      <td>2011-12-31</td>\n",
       "      <td>7994000000</td>\n",
       "      <td>0001193125-12-026864</td>\n",
       "      <td>10-Q/A</td>\n",
       "      <td>2012-01-27</td>\n",
       "      <td>NaN</td>\n",
       "      <td>91 days</td>\n",
       "    </tr>\n",
       "    <tr>\n",
       "      <th>392 days</th>\n",
       "      <td>2010-10-01</td>\n",
       "      <td>2010-12-31</td>\n",
       "      <td>8165000000</td>\n",
       "      <td>0001193125-12-026864</td>\n",
       "      <td>10-Q/A</td>\n",
       "      <td>2012-01-27</td>\n",
       "      <td>CY2010Q4</td>\n",
       "      <td>91 days</td>\n",
       "    </tr>\n",
       "    <tr>\n",
       "      <th rowspan=\"2\" valign=\"top\">Q3</th>\n",
       "      <th>19 days</th>\n",
       "      <td>2012-01-01</td>\n",
       "      <td>2012-03-31</td>\n",
       "      <td>6374000000</td>\n",
       "      <td>0001193125-12-170665</td>\n",
       "      <td>10-Q</td>\n",
       "      <td>2012-04-19</td>\n",
       "      <td>NaN</td>\n",
       "      <td>90 days</td>\n",
       "    </tr>\n",
       "    <tr>\n",
       "      <th>385 days</th>\n",
       "      <td>2011-01-01</td>\n",
       "      <td>2011-03-31</td>\n",
       "      <td>5709000000</td>\n",
       "      <td>0001193125-12-170665</td>\n",
       "      <td>10-Q</td>\n",
       "      <td>2012-04-19</td>\n",
       "      <td>CY2011Q1</td>\n",
       "      <td>89 days</td>\n",
       "    </tr>\n",
       "    <tr>\n",
       "      <th rowspan=\"12\" valign=\"top\">2013</th>\n",
       "      <th rowspan=\"6\" valign=\"top\">FY</th>\n",
       "      <th>30 days</th>\n",
       "      <td>2012-07-01</td>\n",
       "      <td>2013-06-30</td>\n",
       "      <td>26764000000</td>\n",
       "      <td>0001193125-13-310206</td>\n",
       "      <td>10-K</td>\n",
       "      <td>2013-07-30</td>\n",
       "      <td>NaN</td>\n",
       "      <td>364 days</td>\n",
       "    </tr>\n",
       "    <tr>\n",
       "      <th>149 days</th>\n",
       "      <td>2012-07-01</td>\n",
       "      <td>2013-06-30</td>\n",
       "      <td>26764000000</td>\n",
       "      <td>0001193125-13-455144</td>\n",
       "      <td>8-K</td>\n",
       "      <td>2013-11-26</td>\n",
       "      <td>NaN</td>\n",
       "      <td>364 days</td>\n",
       "    </tr>\n",
       "    <tr>\n",
       "      <th>395 days</th>\n",
       "      <td>2011-07-01</td>\n",
       "      <td>2012-06-30</td>\n",
       "      <td>21763000000</td>\n",
       "      <td>0001193125-13-310206</td>\n",
       "      <td>10-K</td>\n",
       "      <td>2013-07-30</td>\n",
       "      <td>NaN</td>\n",
       "      <td>365 days</td>\n",
       "    </tr>\n",
       "    <tr>\n",
       "      <th>514 days</th>\n",
       "      <td>2011-07-01</td>\n",
       "      <td>2012-06-30</td>\n",
       "      <td>21763000000</td>\n",
       "      <td>0001193125-13-455144</td>\n",
       "      <td>8-K</td>\n",
       "      <td>2013-11-26</td>\n",
       "      <td>NaN</td>\n",
       "      <td>365 days</td>\n",
       "    </tr>\n",
       "    <tr>\n",
       "      <th>761 days</th>\n",
       "      <td>2010-07-01</td>\n",
       "      <td>2011-06-30</td>\n",
       "      <td>27161000000</td>\n",
       "      <td>0001193125-13-310206</td>\n",
       "      <td>10-K</td>\n",
       "      <td>2013-07-30</td>\n",
       "      <td>NaN</td>\n",
       "      <td>364 days</td>\n",
       "    </tr>\n",
       "    <tr>\n",
       "      <th>880 days</th>\n",
       "      <td>2010-07-01</td>\n",
       "      <td>2011-06-30</td>\n",
       "      <td>27161000000</td>\n",
       "      <td>0001193125-13-455144</td>\n",
       "      <td>8-K</td>\n",
       "      <td>2013-11-26</td>\n",
       "      <td>CY2011</td>\n",
       "      <td>364 days</td>\n",
       "    </tr>\n",
       "    <tr>\n",
       "      <th rowspan=\"2\" valign=\"top\">Q1</th>\n",
       "      <th>18 days</th>\n",
       "      <td>2012-07-01</td>\n",
       "      <td>2012-09-30</td>\n",
       "      <td>5308000000</td>\n",
       "      <td>0001193125-12-427209</td>\n",
       "      <td>10-Q</td>\n",
       "      <td>2012-10-18</td>\n",
       "      <td>NaN</td>\n",
       "      <td>91 days</td>\n",
       "    </tr>\n",
       "    <tr>\n",
       "      <th>384 days</th>\n",
       "      <td>2011-07-01</td>\n",
       "      <td>2011-09-30</td>\n",
       "      <td>7203000000</td>\n",
       "      <td>0001193125-12-427209</td>\n",
       "      <td>10-Q</td>\n",
       "      <td>2012-10-18</td>\n",
       "      <td>CY2011Q3</td>\n",
       "      <td>91 days</td>\n",
       "    </tr>\n",
       "    <tr>\n",
       "      <th rowspan=\"2\" valign=\"top\">Q2</th>\n",
       "      <th>24 days</th>\n",
       "      <td>2012-10-01</td>\n",
       "      <td>2012-12-31</td>\n",
       "      <td>7771000000</td>\n",
       "      <td>0001193125-13-022207</td>\n",
       "      <td>10-Q</td>\n",
       "      <td>2013-01-24</td>\n",
       "      <td>NaN</td>\n",
       "      <td>91 days</td>\n",
       "    </tr>\n",
       "    <tr>\n",
       "      <th>390 days</th>\n",
       "      <td>2011-10-01</td>\n",
       "      <td>2011-12-31</td>\n",
       "      <td>7994000000</td>\n",
       "      <td>0001193125-13-022207</td>\n",
       "      <td>10-Q</td>\n",
       "      <td>2013-01-24</td>\n",
       "      <td>CY2011Q4</td>\n",
       "      <td>91 days</td>\n",
       "    </tr>\n",
       "    <tr>\n",
       "      <th rowspan=\"2\" valign=\"top\">Q3</th>\n",
       "      <th>18 days</th>\n",
       "      <td>2013-01-01</td>\n",
       "      <td>2013-03-31</td>\n",
       "      <td>7612000000</td>\n",
       "      <td>0001193125-13-160748</td>\n",
       "      <td>10-Q</td>\n",
       "      <td>2013-04-18</td>\n",
       "      <td>NaN</td>\n",
       "      <td>89 days</td>\n",
       "    </tr>\n",
       "    <tr>\n",
       "      <th>383 days</th>\n",
       "      <td>2012-01-01</td>\n",
       "      <td>2012-03-31</td>\n",
       "      <td>6374000000</td>\n",
       "      <td>0001193125-13-160748</td>\n",
       "      <td>10-Q</td>\n",
       "      <td>2013-04-18</td>\n",
       "      <td>CY2012Q1</td>\n",
       "      <td>90 days</td>\n",
       "    </tr>\n",
       "    <tr>\n",
       "      <th rowspan=\"9\" valign=\"top\">2014</th>\n",
       "      <th rowspan=\"3\" valign=\"top\">FY</th>\n",
       "      <th>31 days</th>\n",
       "      <td>2013-07-01</td>\n",
       "      <td>2014-06-30</td>\n",
       "      <td>27759000000</td>\n",
       "      <td>0001193125-14-289961</td>\n",
       "      <td>10-K</td>\n",
       "      <td>2014-07-31</td>\n",
       "      <td>NaN</td>\n",
       "      <td>364 days</td>\n",
       "    </tr>\n",
       "    <tr>\n",
       "      <th>396 days</th>\n",
       "      <td>2012-07-01</td>\n",
       "      <td>2013-06-30</td>\n",
       "      <td>26764000000</td>\n",
       "      <td>0001193125-14-289961</td>\n",
       "      <td>10-K</td>\n",
       "      <td>2014-07-31</td>\n",
       "      <td>NaN</td>\n",
       "      <td>364 days</td>\n",
       "    </tr>\n",
       "    <tr>\n",
       "      <th>761 days</th>\n",
       "      <td>2011-07-01</td>\n",
       "      <td>2012-06-30</td>\n",
       "      <td>21763000000</td>\n",
       "      <td>0001193125-14-289961</td>\n",
       "      <td>10-K</td>\n",
       "      <td>2014-07-31</td>\n",
       "      <td>CY2012</td>\n",
       "      <td>365 days</td>\n",
       "    </tr>\n",
       "    <tr>\n",
       "      <th rowspan=\"2\" valign=\"top\">Q1</th>\n",
       "      <th>24 days</th>\n",
       "      <td>2013-07-01</td>\n",
       "      <td>2013-09-30</td>\n",
       "      <td>6334000000</td>\n",
       "      <td>0001193125-13-409855</td>\n",
       "      <td>10-Q</td>\n",
       "      <td>2013-10-24</td>\n",
       "      <td>NaN</td>\n",
       "      <td>91 days</td>\n",
       "    </tr>\n",
       "    <tr>\n",
       "      <th>389 days</th>\n",
       "      <td>2012-07-01</td>\n",
       "      <td>2012-09-30</td>\n",
       "      <td>5308000000</td>\n",
       "      <td>0001193125-13-409855</td>\n",
       "      <td>10-Q</td>\n",
       "      <td>2013-10-24</td>\n",
       "      <td>CY2012Q3</td>\n",
       "      <td>91 days</td>\n",
       "    </tr>\n",
       "    <tr>\n",
       "      <th rowspan=\"2\" valign=\"top\">Q2</th>\n",
       "      <th>23 days</th>\n",
       "      <td>2013-10-01</td>\n",
       "      <td>2013-12-31</td>\n",
       "      <td>7969000000</td>\n",
       "      <td>0001193125-14-018634</td>\n",
       "      <td>10-Q</td>\n",
       "      <td>2014-01-23</td>\n",
       "      <td>NaN</td>\n",
       "      <td>91 days</td>\n",
       "    </tr>\n",
       "    <tr>\n",
       "      <th>388 days</th>\n",
       "      <td>2012-10-01</td>\n",
       "      <td>2012-12-31</td>\n",
       "      <td>7771000000</td>\n",
       "      <td>0001193125-14-018634</td>\n",
       "      <td>10-Q</td>\n",
       "      <td>2014-01-23</td>\n",
       "      <td>CY2012Q4</td>\n",
       "      <td>91 days</td>\n",
       "    </tr>\n",
       "    <tr>\n",
       "      <th rowspan=\"2\" valign=\"top\">Q3</th>\n",
       "      <th>24 days</th>\n",
       "      <td>2014-01-01</td>\n",
       "      <td>2014-03-31</td>\n",
       "      <td>6974000000</td>\n",
       "      <td>0001193125-14-157088</td>\n",
       "      <td>10-Q</td>\n",
       "      <td>2014-04-24</td>\n",
       "      <td>NaN</td>\n",
       "      <td>89 days</td>\n",
       "    </tr>\n",
       "    <tr>\n",
       "      <th>389 days</th>\n",
       "      <td>2013-01-01</td>\n",
       "      <td>2013-03-31</td>\n",
       "      <td>7612000000</td>\n",
       "      <td>0001193125-14-157088</td>\n",
       "      <td>10-Q</td>\n",
       "      <td>2014-04-24</td>\n",
       "      <td>CY2013Q1</td>\n",
       "      <td>89 days</td>\n",
       "    </tr>\n",
       "    <tr>\n",
       "      <th rowspan=\"20\" valign=\"top\">2015</th>\n",
       "      <th rowspan=\"14\" valign=\"top\">FY</th>\n",
       "      <th>31 days</th>\n",
       "      <td>2014-07-01</td>\n",
       "      <td>2015-06-30</td>\n",
       "      <td>18161000000</td>\n",
       "      <td>0001193125-15-272806</td>\n",
       "      <td>10-K</td>\n",
       "      <td>2015-07-31</td>\n",
       "      <td>NaN</td>\n",
       "      <td>364 days</td>\n",
       "    </tr>\n",
       "    <tr>\n",
       "      <th>119 days</th>\n",
       "      <td>2014-07-01</td>\n",
       "      <td>2015-06-30</td>\n",
       "      <td>18161000000</td>\n",
       "      <td>0001193125-15-353706</td>\n",
       "      <td>8-K</td>\n",
       "      <td>2015-10-27</td>\n",
       "      <td>NaN</td>\n",
       "      <td>364 days</td>\n",
       "    </tr>\n",
       "    <tr>\n",
       "      <th>119 days</th>\n",
       "      <td>2015-04-01</td>\n",
       "      <td>2015-06-30</td>\n",
       "      <td>-2053000000</td>\n",
       "      <td>0001193125-15-353706</td>\n",
       "      <td>8-K</td>\n",
       "      <td>2015-10-27</td>\n",
       "      <td>NaN</td>\n",
       "      <td>90 days</td>\n",
       "    </tr>\n",
       "    <tr>\n",
       "      <th>210 days</th>\n",
       "      <td>2015-01-01</td>\n",
       "      <td>2015-03-31</td>\n",
       "      <td>6594000000</td>\n",
       "      <td>0001193125-15-353706</td>\n",
       "      <td>8-K</td>\n",
       "      <td>2015-10-27</td>\n",
       "      <td>NaN</td>\n",
       "      <td>89 days</td>\n",
       "    </tr>\n",
       "    <tr>\n",
       "      <th>300 days</th>\n",
       "      <td>2014-10-01</td>\n",
       "      <td>2014-12-31</td>\n",
       "      <td>7776000000</td>\n",
       "      <td>0001193125-15-353706</td>\n",
       "      <td>8-K</td>\n",
       "      <td>2015-10-27</td>\n",
       "      <td>NaN</td>\n",
       "      <td>91 days</td>\n",
       "    </tr>\n",
       "    <tr>\n",
       "      <th>392 days</th>\n",
       "      <td>2014-07-01</td>\n",
       "      <td>2014-09-30</td>\n",
       "      <td>5844000000</td>\n",
       "      <td>0001193125-15-353706</td>\n",
       "      <td>8-K</td>\n",
       "      <td>2015-10-27</td>\n",
       "      <td>NaN</td>\n",
       "      <td>91 days</td>\n",
       "    </tr>\n",
       "    <tr>\n",
       "      <th>396 days</th>\n",
       "      <td>2013-07-01</td>\n",
       "      <td>2014-06-30</td>\n",
       "      <td>27759000000</td>\n",
       "      <td>0001193125-15-272806</td>\n",
       "      <td>10-K</td>\n",
       "      <td>2015-07-31</td>\n",
       "      <td>NaN</td>\n",
       "      <td>364 days</td>\n",
       "    </tr>\n",
       "    <tr>\n",
       "      <th>484 days</th>\n",
       "      <td>2013-07-01</td>\n",
       "      <td>2014-06-30</td>\n",
       "      <td>27759000000</td>\n",
       "      <td>0001193125-15-353706</td>\n",
       "      <td>8-K</td>\n",
       "      <td>2015-10-27</td>\n",
       "      <td>NaN</td>\n",
       "      <td>364 days</td>\n",
       "    </tr>\n",
       "    <tr>\n",
       "      <th>484 days</th>\n",
       "      <td>2014-04-01</td>\n",
       "      <td>2014-06-30</td>\n",
       "      <td>6482000000</td>\n",
       "      <td>0001193125-15-353706</td>\n",
       "      <td>8-K</td>\n",
       "      <td>2015-10-27</td>\n",
       "      <td>CY2014Q2</td>\n",
       "      <td>90 days</td>\n",
       "    </tr>\n",
       "    <tr>\n",
       "      <th>575 days</th>\n",
       "      <td>2014-01-01</td>\n",
       "      <td>2014-03-31</td>\n",
       "      <td>6974000000</td>\n",
       "      <td>0001193125-15-353706</td>\n",
       "      <td>8-K</td>\n",
       "      <td>2015-10-27</td>\n",
       "      <td>CY2014Q1</td>\n",
       "      <td>89 days</td>\n",
       "    </tr>\n",
       "    <tr>\n",
       "      <th>665 days</th>\n",
       "      <td>2013-10-01</td>\n",
       "      <td>2013-12-31</td>\n",
       "      <td>7969000000</td>\n",
       "      <td>0001193125-15-353706</td>\n",
       "      <td>8-K</td>\n",
       "      <td>2015-10-27</td>\n",
       "      <td>CY2013Q4</td>\n",
       "      <td>91 days</td>\n",
       "    </tr>\n",
       "    <tr>\n",
       "      <th>757 days</th>\n",
       "      <td>2013-07-01</td>\n",
       "      <td>2013-09-30</td>\n",
       "      <td>6334000000</td>\n",
       "      <td>0001193125-15-353706</td>\n",
       "      <td>8-K</td>\n",
       "      <td>2015-10-27</td>\n",
       "      <td>CY2013Q3</td>\n",
       "      <td>91 days</td>\n",
       "    </tr>\n",
       "    <tr>\n",
       "      <th>761 days</th>\n",
       "      <td>2012-07-01</td>\n",
       "      <td>2013-06-30</td>\n",
       "      <td>26764000000</td>\n",
       "      <td>0001193125-15-272806</td>\n",
       "      <td>10-K</td>\n",
       "      <td>2015-07-31</td>\n",
       "      <td>NaN</td>\n",
       "      <td>364 days</td>\n",
       "    </tr>\n",
       "    <tr>\n",
       "      <th>849 days</th>\n",
       "      <td>2012-07-01</td>\n",
       "      <td>2013-06-30</td>\n",
       "      <td>26764000000</td>\n",
       "      <td>0001193125-15-353706</td>\n",
       "      <td>8-K</td>\n",
       "      <td>2015-10-27</td>\n",
       "      <td>CY2013</td>\n",
       "      <td>364 days</td>\n",
       "    </tr>\n",
       "    <tr>\n",
       "      <th rowspan=\"2\" valign=\"top\">Q1</th>\n",
       "      <th>23 days</th>\n",
       "      <td>2014-07-01</td>\n",
       "      <td>2014-09-30</td>\n",
       "      <td>5844000000</td>\n",
       "      <td>0001193125-14-380252</td>\n",
       "      <td>10-Q</td>\n",
       "      <td>2014-10-23</td>\n",
       "      <td>NaN</td>\n",
       "      <td>91 days</td>\n",
       "    </tr>\n",
       "    <tr>\n",
       "      <th>388 days</th>\n",
       "      <td>2013-07-01</td>\n",
       "      <td>2013-09-30</td>\n",
       "      <td>6334000000</td>\n",
       "      <td>0001193125-14-380252</td>\n",
       "      <td>10-Q</td>\n",
       "      <td>2014-10-23</td>\n",
       "      <td>NaN</td>\n",
       "      <td>91 days</td>\n",
       "    </tr>\n",
       "    <tr>\n",
       "      <th rowspan=\"2\" valign=\"top\">Q2</th>\n",
       "      <th>26 days</th>\n",
       "      <td>2014-10-01</td>\n",
       "      <td>2014-12-31</td>\n",
       "      <td>7776000000</td>\n",
       "      <td>0001193125-15-020351</td>\n",
       "      <td>10-Q</td>\n",
       "      <td>2015-01-26</td>\n",
       "      <td>NaN</td>\n",
       "      <td>91 days</td>\n",
       "    </tr>\n",
       "    <tr>\n",
       "      <th>391 days</th>\n",
       "      <td>2013-10-01</td>\n",
       "      <td>2013-12-31</td>\n",
       "      <td>7969000000</td>\n",
       "      <td>0001193125-15-020351</td>\n",
       "      <td>10-Q</td>\n",
       "      <td>2015-01-26</td>\n",
       "      <td>NaN</td>\n",
       "      <td>91 days</td>\n",
       "    </tr>\n",
       "    <tr>\n",
       "      <th rowspan=\"2\" valign=\"top\">Q3</th>\n",
       "      <th>23 days</th>\n",
       "      <td>2015-01-01</td>\n",
       "      <td>2015-03-31</td>\n",
       "      <td>6594000000</td>\n",
       "      <td>0001193125-15-144151</td>\n",
       "      <td>10-Q</td>\n",
       "      <td>2015-04-23</td>\n",
       "      <td>NaN</td>\n",
       "      <td>89 days</td>\n",
       "    </tr>\n",
       "    <tr>\n",
       "      <th>388 days</th>\n",
       "      <td>2014-01-01</td>\n",
       "      <td>2014-03-31</td>\n",
       "      <td>6974000000</td>\n",
       "      <td>0001193125-15-144151</td>\n",
       "      <td>10-Q</td>\n",
       "      <td>2015-04-23</td>\n",
       "      <td>NaN</td>\n",
       "      <td>89 days</td>\n",
       "    </tr>\n",
       "    <tr>\n",
       "      <th rowspan=\"17\" valign=\"top\">2016</th>\n",
       "      <th rowspan=\"11\" valign=\"top\">FY</th>\n",
       "      <th>28 days</th>\n",
       "      <td>2015-07-01</td>\n",
       "      <td>2016-06-30</td>\n",
       "      <td>20182000000</td>\n",
       "      <td>0001193125-16-662209</td>\n",
       "      <td>10-K</td>\n",
       "      <td>2016-07-28</td>\n",
       "      <td>NaN</td>\n",
       "      <td>365 days</td>\n",
       "    </tr>\n",
       "    <tr>\n",
       "      <th>28 days</th>\n",
       "      <td>2016-04-01</td>\n",
       "      <td>2016-06-30</td>\n",
       "      <td>3080000000</td>\n",
       "      <td>0001193125-16-662209</td>\n",
       "      <td>10-K</td>\n",
       "      <td>2016-07-28</td>\n",
       "      <td>NaN</td>\n",
       "      <td>90 days</td>\n",
       "    </tr>\n",
       "    <tr>\n",
       "      <th>119 days</th>\n",
       "      <td>2016-01-01</td>\n",
       "      <td>2016-03-31</td>\n",
       "      <td>5283000000</td>\n",
       "      <td>0001193125-16-662209</td>\n",
       "      <td>10-K</td>\n",
       "      <td>2016-07-28</td>\n",
       "      <td>NaN</td>\n",
       "      <td>90 days</td>\n",
       "    </tr>\n",
       "    <tr>\n",
       "      <th>210 days</th>\n",
       "      <td>2015-10-01</td>\n",
       "      <td>2015-12-31</td>\n",
       "      <td>6026000000</td>\n",
       "      <td>0001193125-16-662209</td>\n",
       "      <td>10-K</td>\n",
       "      <td>2016-07-28</td>\n",
       "      <td>NaN</td>\n",
       "      <td>91 days</td>\n",
       "    </tr>\n",
       "    <tr>\n",
       "      <th>302 days</th>\n",
       "      <td>2015-07-01</td>\n",
       "      <td>2015-09-30</td>\n",
       "      <td>5793000000</td>\n",
       "      <td>0001193125-16-662209</td>\n",
       "      <td>10-K</td>\n",
       "      <td>2016-07-28</td>\n",
       "      <td>NaN</td>\n",
       "      <td>91 days</td>\n",
       "    </tr>\n",
       "    <tr>\n",
       "      <th>394 days</th>\n",
       "      <td>2014-07-01</td>\n",
       "      <td>2015-06-30</td>\n",
       "      <td>18161000000</td>\n",
       "      <td>0001193125-16-662209</td>\n",
       "      <td>10-K</td>\n",
       "      <td>2016-07-28</td>\n",
       "      <td>NaN</td>\n",
       "      <td>364 days</td>\n",
       "    </tr>\n",
       "    <tr>\n",
       "      <th>394 days</th>\n",
       "      <td>2015-04-01</td>\n",
       "      <td>2015-06-30</td>\n",
       "      <td>-2053000000</td>\n",
       "      <td>0001193125-16-662209</td>\n",
       "      <td>10-K</td>\n",
       "      <td>2016-07-28</td>\n",
       "      <td>CY2015Q2</td>\n",
       "      <td>90 days</td>\n",
       "    </tr>\n",
       "    <tr>\n",
       "      <th>485 days</th>\n",
       "      <td>2015-01-01</td>\n",
       "      <td>2015-03-31</td>\n",
       "      <td>6594000000</td>\n",
       "      <td>0001193125-16-662209</td>\n",
       "      <td>10-K</td>\n",
       "      <td>2016-07-28</td>\n",
       "      <td>CY2015Q1</td>\n",
       "      <td>89 days</td>\n",
       "    </tr>\n",
       "    <tr>\n",
       "      <th>575 days</th>\n",
       "      <td>2014-10-01</td>\n",
       "      <td>2014-12-31</td>\n",
       "      <td>7776000000</td>\n",
       "      <td>0001193125-16-662209</td>\n",
       "      <td>10-K</td>\n",
       "      <td>2016-07-28</td>\n",
       "      <td>CY2014Q4</td>\n",
       "      <td>91 days</td>\n",
       "    </tr>\n",
       "    <tr>\n",
       "      <th>667 days</th>\n",
       "      <td>2014-07-01</td>\n",
       "      <td>2014-09-30</td>\n",
       "      <td>5844000000</td>\n",
       "      <td>0001193125-16-662209</td>\n",
       "      <td>10-K</td>\n",
       "      <td>2016-07-28</td>\n",
       "      <td>CY2014Q3</td>\n",
       "      <td>91 days</td>\n",
       "    </tr>\n",
       "    <tr>\n",
       "      <th>759 days</th>\n",
       "      <td>2013-07-01</td>\n",
       "      <td>2014-06-30</td>\n",
       "      <td>27759000000</td>\n",
       "      <td>0001193125-16-662209</td>\n",
       "      <td>10-K</td>\n",
       "      <td>2016-07-28</td>\n",
       "      <td>CY2014</td>\n",
       "      <td>364 days</td>\n",
       "    </tr>\n",
       "    <tr>\n",
       "      <th rowspan=\"2\" valign=\"top\">Q1</th>\n",
       "      <th>22 days</th>\n",
       "      <td>2015-07-01</td>\n",
       "      <td>2015-09-30</td>\n",
       "      <td>5793000000</td>\n",
       "      <td>0001193125-15-350718</td>\n",
       "      <td>10-Q</td>\n",
       "      <td>2015-10-22</td>\n",
       "      <td>NaN</td>\n",
       "      <td>91 days</td>\n",
       "    </tr>\n",
       "    <tr>\n",
       "      <th>387 days</th>\n",
       "      <td>2014-07-01</td>\n",
       "      <td>2014-09-30</td>\n",
       "      <td>5844000000</td>\n",
       "      <td>0001193125-15-350718</td>\n",
       "      <td>10-Q</td>\n",
       "      <td>2015-10-22</td>\n",
       "      <td>NaN</td>\n",
       "      <td>91 days</td>\n",
       "    </tr>\n",
       "    <tr>\n",
       "      <th rowspan=\"2\" valign=\"top\">Q2</th>\n",
       "      <th>28 days</th>\n",
       "      <td>2015-10-01</td>\n",
       "      <td>2015-12-31</td>\n",
       "      <td>6026000000</td>\n",
       "      <td>0001193125-16-441821</td>\n",
       "      <td>10-Q</td>\n",
       "      <td>2016-01-28</td>\n",
       "      <td>NaN</td>\n",
       "      <td>91 days</td>\n",
       "    </tr>\n",
       "    <tr>\n",
       "      <th>393 days</th>\n",
       "      <td>2014-10-01</td>\n",
       "      <td>2014-12-31</td>\n",
       "      <td>7776000000</td>\n",
       "      <td>0001193125-16-441821</td>\n",
       "      <td>10-Q</td>\n",
       "      <td>2016-01-28</td>\n",
       "      <td>NaN</td>\n",
       "      <td>91 days</td>\n",
       "    </tr>\n",
       "    <tr>\n",
       "      <th rowspan=\"2\" valign=\"top\">Q3</th>\n",
       "      <th>21 days</th>\n",
       "      <td>2016-01-01</td>\n",
       "      <td>2016-03-31</td>\n",
       "      <td>5283000000</td>\n",
       "      <td>0001193125-16-550254</td>\n",
       "      <td>10-Q</td>\n",
       "      <td>2016-04-21</td>\n",
       "      <td>NaN</td>\n",
       "      <td>90 days</td>\n",
       "    </tr>\n",
       "    <tr>\n",
       "      <th>387 days</th>\n",
       "      <td>2015-01-01</td>\n",
       "      <td>2015-03-31</td>\n",
       "      <td>6594000000</td>\n",
       "      <td>0001193125-16-550254</td>\n",
       "      <td>10-Q</td>\n",
       "      <td>2016-04-21</td>\n",
       "      <td>NaN</td>\n",
       "      <td>89 days</td>\n",
       "    </tr>\n",
       "    <tr>\n",
       "      <th rowspan=\"17\" valign=\"top\">2017</th>\n",
       "      <th rowspan=\"11\" valign=\"top\">FY</th>\n",
       "      <th>33 days</th>\n",
       "      <td>2016-07-01</td>\n",
       "      <td>2017-06-30</td>\n",
       "      <td>22326000000</td>\n",
       "      <td>0001564590-17-014900</td>\n",
       "      <td>10-K</td>\n",
       "      <td>2017-08-02</td>\n",
       "      <td>NaN</td>\n",
       "      <td>364 days</td>\n",
       "    </tr>\n",
       "    <tr>\n",
       "      <th>33 days</th>\n",
       "      <td>2017-04-01</td>\n",
       "      <td>2017-06-30</td>\n",
       "      <td>5330000000</td>\n",
       "      <td>0001564590-17-014900</td>\n",
       "      <td>10-K</td>\n",
       "      <td>2017-08-02</td>\n",
       "      <td>NaN</td>\n",
       "      <td>90 days</td>\n",
       "    </tr>\n",
       "    <tr>\n",
       "      <th>124 days</th>\n",
       "      <td>2017-01-01</td>\n",
       "      <td>2017-03-31</td>\n",
       "      <td>5594000000</td>\n",
       "      <td>0001564590-17-014900</td>\n",
       "      <td>10-K</td>\n",
       "      <td>2017-08-02</td>\n",
       "      <td>NaN</td>\n",
       "      <td>89 days</td>\n",
       "    </tr>\n",
       "    <tr>\n",
       "      <th>214 days</th>\n",
       "      <td>2016-10-01</td>\n",
       "      <td>2016-12-31</td>\n",
       "      <td>6177000000</td>\n",
       "      <td>0001564590-17-014900</td>\n",
       "      <td>10-K</td>\n",
       "      <td>2017-08-02</td>\n",
       "      <td>NaN</td>\n",
       "      <td>91 days</td>\n",
       "    </tr>\n",
       "    <tr>\n",
       "      <th>306 days</th>\n",
       "      <td>2016-07-01</td>\n",
       "      <td>2016-09-30</td>\n",
       "      <td>5225000000</td>\n",
       "      <td>0001564590-17-014900</td>\n",
       "      <td>10-K</td>\n",
       "      <td>2017-08-02</td>\n",
       "      <td>NaN</td>\n",
       "      <td>91 days</td>\n",
       "    </tr>\n",
       "    <tr>\n",
       "      <th>398 days</th>\n",
       "      <td>2015-07-01</td>\n",
       "      <td>2016-06-30</td>\n",
       "      <td>20182000000</td>\n",
       "      <td>0001564590-17-014900</td>\n",
       "      <td>10-K</td>\n",
       "      <td>2017-08-02</td>\n",
       "      <td>NaN</td>\n",
       "      <td>365 days</td>\n",
       "    </tr>\n",
       "    <tr>\n",
       "      <th>398 days</th>\n",
       "      <td>2016-04-01</td>\n",
       "      <td>2016-06-30</td>\n",
       "      <td>3080000000</td>\n",
       "      <td>0001564590-17-014900</td>\n",
       "      <td>10-K</td>\n",
       "      <td>2017-08-02</td>\n",
       "      <td>CY2016Q2</td>\n",
       "      <td>90 days</td>\n",
       "    </tr>\n",
       "    <tr>\n",
       "      <th>489 days</th>\n",
       "      <td>2016-01-01</td>\n",
       "      <td>2016-03-31</td>\n",
       "      <td>5283000000</td>\n",
       "      <td>0001564590-17-014900</td>\n",
       "      <td>10-K</td>\n",
       "      <td>2017-08-02</td>\n",
       "      <td>CY2016Q1</td>\n",
       "      <td>90 days</td>\n",
       "    </tr>\n",
       "    <tr>\n",
       "      <th>580 days</th>\n",
       "      <td>2015-10-01</td>\n",
       "      <td>2015-12-31</td>\n",
       "      <td>6026000000</td>\n",
       "      <td>0001564590-17-014900</td>\n",
       "      <td>10-K</td>\n",
       "      <td>2017-08-02</td>\n",
       "      <td>CY2015Q4</td>\n",
       "      <td>91 days</td>\n",
       "    </tr>\n",
       "    <tr>\n",
       "      <th>672 days</th>\n",
       "      <td>2015-07-01</td>\n",
       "      <td>2015-09-30</td>\n",
       "      <td>5793000000</td>\n",
       "      <td>0001564590-17-014900</td>\n",
       "      <td>10-K</td>\n",
       "      <td>2017-08-02</td>\n",
       "      <td>CY2015Q3</td>\n",
       "      <td>91 days</td>\n",
       "    </tr>\n",
       "    <tr>\n",
       "      <th>764 days</th>\n",
       "      <td>2014-07-01</td>\n",
       "      <td>2015-06-30</td>\n",
       "      <td>18161000000</td>\n",
       "      <td>0001564590-17-014900</td>\n",
       "      <td>10-K</td>\n",
       "      <td>2017-08-02</td>\n",
       "      <td>CY2015</td>\n",
       "      <td>364 days</td>\n",
       "    </tr>\n",
       "    <tr>\n",
       "      <th rowspan=\"2\" valign=\"top\">Q1</th>\n",
       "      <th>20 days</th>\n",
       "      <td>2016-07-01</td>\n",
       "      <td>2016-09-30</td>\n",
       "      <td>5225000000</td>\n",
       "      <td>0001193125-16-742796</td>\n",
       "      <td>10-Q</td>\n",
       "      <td>2016-10-20</td>\n",
       "      <td>NaN</td>\n",
       "      <td>91 days</td>\n",
       "    </tr>\n",
       "    <tr>\n",
       "      <th>386 days</th>\n",
       "      <td>2015-07-01</td>\n",
       "      <td>2015-09-30</td>\n",
       "      <td>5793000000</td>\n",
       "      <td>0001193125-16-742796</td>\n",
       "      <td>10-Q</td>\n",
       "      <td>2016-10-20</td>\n",
       "      <td>NaN</td>\n",
       "      <td>91 days</td>\n",
       "    </tr>\n",
       "    <tr>\n",
       "      <th rowspan=\"2\" valign=\"top\">Q2</th>\n",
       "      <th>26 days</th>\n",
       "      <td>2016-10-01</td>\n",
       "      <td>2016-12-31</td>\n",
       "      <td>6177000000</td>\n",
       "      <td>0001564590-17-000654</td>\n",
       "      <td>10-Q</td>\n",
       "      <td>2017-01-26</td>\n",
       "      <td>NaN</td>\n",
       "      <td>91 days</td>\n",
       "    </tr>\n",
       "    <tr>\n",
       "      <th>392 days</th>\n",
       "      <td>2015-10-01</td>\n",
       "      <td>2015-12-31</td>\n",
       "      <td>6026000000</td>\n",
       "      <td>0001564590-17-000654</td>\n",
       "      <td>10-Q</td>\n",
       "      <td>2017-01-26</td>\n",
       "      <td>NaN</td>\n",
       "      <td>91 days</td>\n",
       "    </tr>\n",
       "    <tr>\n",
       "      <th rowspan=\"2\" valign=\"top\">Q3</th>\n",
       "      <th>27 days</th>\n",
       "      <td>2017-01-01</td>\n",
       "      <td>2017-03-31</td>\n",
       "      <td>5594000000</td>\n",
       "      <td>0001564590-17-007547</td>\n",
       "      <td>10-Q</td>\n",
       "      <td>2017-04-27</td>\n",
       "      <td>NaN</td>\n",
       "      <td>89 days</td>\n",
       "    </tr>\n",
       "    <tr>\n",
       "      <th>392 days</th>\n",
       "      <td>2016-01-01</td>\n",
       "      <td>2016-03-31</td>\n",
       "      <td>5283000000</td>\n",
       "      <td>0001564590-17-007547</td>\n",
       "      <td>10-Q</td>\n",
       "      <td>2017-04-27</td>\n",
       "      <td>NaN</td>\n",
       "      <td>90 days</td>\n",
       "    </tr>\n",
       "    <tr>\n",
       "      <th rowspan=\"17\" valign=\"top\">2018</th>\n",
       "      <th rowspan=\"11\" valign=\"top\">FY</th>\n",
       "      <th>34 days</th>\n",
       "      <td>2017-07-01</td>\n",
       "      <td>2018-06-30</td>\n",
       "      <td>35058000000</td>\n",
       "      <td>0001564590-18-019062</td>\n",
       "      <td>10-K</td>\n",
       "      <td>2018-08-03</td>\n",
       "      <td>NaN</td>\n",
       "      <td>364 days</td>\n",
       "    </tr>\n",
       "    <tr>\n",
       "      <th>34 days</th>\n",
       "      <td>2018-04-01</td>\n",
       "      <td>2018-06-30</td>\n",
       "      <td>10379000000</td>\n",
       "      <td>0001564590-18-019062</td>\n",
       "      <td>10-K</td>\n",
       "      <td>2018-08-03</td>\n",
       "      <td>NaN</td>\n",
       "      <td>90 days</td>\n",
       "    </tr>\n",
       "    <tr>\n",
       "      <th>125 days</th>\n",
       "      <td>2018-01-01</td>\n",
       "      <td>2018-03-31</td>\n",
       "      <td>8292000000</td>\n",
       "      <td>0001564590-18-019062</td>\n",
       "      <td>10-K</td>\n",
       "      <td>2018-08-03</td>\n",
       "      <td>NaN</td>\n",
       "      <td>89 days</td>\n",
       "    </tr>\n",
       "    <tr>\n",
       "      <th>215 days</th>\n",
       "      <td>2017-10-01</td>\n",
       "      <td>2017-12-31</td>\n",
       "      <td>8679000000</td>\n",
       "      <td>0001564590-18-019062</td>\n",
       "      <td>10-K</td>\n",
       "      <td>2018-08-03</td>\n",
       "      <td>NaN</td>\n",
       "      <td>91 days</td>\n",
       "    </tr>\n",
       "    <tr>\n",
       "      <th>307 days</th>\n",
       "      <td>2017-07-01</td>\n",
       "      <td>2017-09-30</td>\n",
       "      <td>7708000000</td>\n",
       "      <td>0001564590-18-019062</td>\n",
       "      <td>10-K</td>\n",
       "      <td>2018-08-03</td>\n",
       "      <td>NaN</td>\n",
       "      <td>91 days</td>\n",
       "    </tr>\n",
       "    <tr>\n",
       "      <th>399 days</th>\n",
       "      <td>2016-07-01</td>\n",
       "      <td>2017-06-30</td>\n",
       "      <td>29025000000</td>\n",
       "      <td>0001564590-18-019062</td>\n",
       "      <td>10-K</td>\n",
       "      <td>2018-08-03</td>\n",
       "      <td>NaN</td>\n",
       "      <td>364 days</td>\n",
       "    </tr>\n",
       "    <tr>\n",
       "      <th>399 days</th>\n",
       "      <td>2017-04-01</td>\n",
       "      <td>2017-06-30</td>\n",
       "      <td>7682000000</td>\n",
       "      <td>0001564590-18-019062</td>\n",
       "      <td>10-K</td>\n",
       "      <td>2018-08-03</td>\n",
       "      <td>CY2017Q2</td>\n",
       "      <td>90 days</td>\n",
       "    </tr>\n",
       "    <tr>\n",
       "      <th>490 days</th>\n",
       "      <td>2017-01-01</td>\n",
       "      <td>2017-03-31</td>\n",
       "      <td>6723000000</td>\n",
       "      <td>0001564590-18-019062</td>\n",
       "      <td>10-K</td>\n",
       "      <td>2018-08-03</td>\n",
       "      <td>CY2017Q1</td>\n",
       "      <td>89 days</td>\n",
       "    </tr>\n",
       "    <tr>\n",
       "      <th>580 days</th>\n",
       "      <td>2016-10-01</td>\n",
       "      <td>2016-12-31</td>\n",
       "      <td>7905000000</td>\n",
       "      <td>0001564590-18-019062</td>\n",
       "      <td>10-K</td>\n",
       "      <td>2018-08-03</td>\n",
       "      <td>CY2016Q4</td>\n",
       "      <td>91 days</td>\n",
       "    </tr>\n",
       "    <tr>\n",
       "      <th>672 days</th>\n",
       "      <td>2016-07-02</td>\n",
       "      <td>2016-09-30</td>\n",
       "      <td>6715000000</td>\n",
       "      <td>0001564590-18-019062</td>\n",
       "      <td>10-K</td>\n",
       "      <td>2018-08-03</td>\n",
       "      <td>NaN</td>\n",
       "      <td>90 days</td>\n",
       "    </tr>\n",
       "    <tr>\n",
       "      <th>764 days</th>\n",
       "      <td>2015-07-01</td>\n",
       "      <td>2016-06-30</td>\n",
       "      <td>26078000000</td>\n",
       "      <td>0001564590-18-019062</td>\n",
       "      <td>10-K</td>\n",
       "      <td>2018-08-03</td>\n",
       "      <td>CY2016</td>\n",
       "      <td>365 days</td>\n",
       "    </tr>\n",
       "    <tr>\n",
       "      <th rowspan=\"2\" valign=\"top\">Q1</th>\n",
       "      <th>26 days</th>\n",
       "      <td>2017-07-01</td>\n",
       "      <td>2017-09-30</td>\n",
       "      <td>7708000000</td>\n",
       "      <td>0001564590-17-020171</td>\n",
       "      <td>10-Q</td>\n",
       "      <td>2017-10-26</td>\n",
       "      <td>NaN</td>\n",
       "      <td>91 days</td>\n",
       "    </tr>\n",
       "    <tr>\n",
       "      <th>391 days</th>\n",
       "      <td>2016-07-01</td>\n",
       "      <td>2016-09-30</td>\n",
       "      <td>6715000000</td>\n",
       "      <td>0001564590-17-020171</td>\n",
       "      <td>10-Q</td>\n",
       "      <td>2017-10-26</td>\n",
       "      <td>CY2016Q3</td>\n",
       "      <td>91 days</td>\n",
       "    </tr>\n",
       "    <tr>\n",
       "      <th rowspan=\"2\" valign=\"top\">Q2</th>\n",
       "      <th>31 days</th>\n",
       "      <td>2017-10-01</td>\n",
       "      <td>2017-12-31</td>\n",
       "      <td>8679000000</td>\n",
       "      <td>0001564590-18-001129</td>\n",
       "      <td>10-Q</td>\n",
       "      <td>2018-01-31</td>\n",
       "      <td>NaN</td>\n",
       "      <td>91 days</td>\n",
       "    </tr>\n",
       "    <tr>\n",
       "      <th>396 days</th>\n",
       "      <td>2016-10-01</td>\n",
       "      <td>2016-12-31</td>\n",
       "      <td>7905000000</td>\n",
       "      <td>0001564590-18-001129</td>\n",
       "      <td>10-Q</td>\n",
       "      <td>2018-01-31</td>\n",
       "      <td>NaN</td>\n",
       "      <td>91 days</td>\n",
       "    </tr>\n",
       "    <tr>\n",
       "      <th rowspan=\"2\" valign=\"top\">Q3</th>\n",
       "      <th>26 days</th>\n",
       "      <td>2018-01-01</td>\n",
       "      <td>2018-03-31</td>\n",
       "      <td>8292000000</td>\n",
       "      <td>0001564590-18-009307</td>\n",
       "      <td>10-Q</td>\n",
       "      <td>2018-04-26</td>\n",
       "      <td>NaN</td>\n",
       "      <td>89 days</td>\n",
       "    </tr>\n",
       "    <tr>\n",
       "      <th>391 days</th>\n",
       "      <td>2017-01-01</td>\n",
       "      <td>2017-03-31</td>\n",
       "      <td>6723000000</td>\n",
       "      <td>0001564590-18-009307</td>\n",
       "      <td>10-Q</td>\n",
       "      <td>2018-04-26</td>\n",
       "      <td>NaN</td>\n",
       "      <td>89 days</td>\n",
       "    </tr>\n",
       "    <tr>\n",
       "      <th rowspan=\"17\" valign=\"top\">2019</th>\n",
       "      <th rowspan=\"11\" valign=\"top\">FY</th>\n",
       "      <th>32 days</th>\n",
       "      <td>2018-07-01</td>\n",
       "      <td>2019-06-30</td>\n",
       "      <td>42959000000</td>\n",
       "      <td>0001564590-19-027952</td>\n",
       "      <td>10-K</td>\n",
       "      <td>2019-08-01</td>\n",
       "      <td>NaN</td>\n",
       "      <td>364 days</td>\n",
       "    </tr>\n",
       "    <tr>\n",
       "      <th>32 days</th>\n",
       "      <td>2019-04-01</td>\n",
       "      <td>2019-06-30</td>\n",
       "      <td>12405000000</td>\n",
       "      <td>0001564590-19-027952</td>\n",
       "      <td>10-K</td>\n",
       "      <td>2019-08-01</td>\n",
       "      <td>NaN</td>\n",
       "      <td>90 days</td>\n",
       "    </tr>\n",
       "    <tr>\n",
       "      <th>123 days</th>\n",
       "      <td>2019-01-01</td>\n",
       "      <td>2019-03-31</td>\n",
       "      <td>10341000000</td>\n",
       "      <td>0001564590-19-027952</td>\n",
       "      <td>10-K</td>\n",
       "      <td>2019-08-01</td>\n",
       "      <td>NaN</td>\n",
       "      <td>89 days</td>\n",
       "    </tr>\n",
       "    <tr>\n",
       "      <th>213 days</th>\n",
       "      <td>2018-10-01</td>\n",
       "      <td>2018-12-31</td>\n",
       "      <td>10258000000</td>\n",
       "      <td>0001564590-19-027952</td>\n",
       "      <td>10-K</td>\n",
       "      <td>2019-08-01</td>\n",
       "      <td>NaN</td>\n",
       "      <td>91 days</td>\n",
       "    </tr>\n",
       "    <tr>\n",
       "      <th>305 days</th>\n",
       "      <td>2018-07-01</td>\n",
       "      <td>2018-09-30</td>\n",
       "      <td>9955000000</td>\n",
       "      <td>0001564590-19-027952</td>\n",
       "      <td>10-K</td>\n",
       "      <td>2019-08-01</td>\n",
       "      <td>NaN</td>\n",
       "      <td>91 days</td>\n",
       "    </tr>\n",
       "    <tr>\n",
       "      <th>397 days</th>\n",
       "      <td>2017-07-01</td>\n",
       "      <td>2018-06-30</td>\n",
       "      <td>35058000000</td>\n",
       "      <td>0001564590-19-027952</td>\n",
       "      <td>10-K</td>\n",
       "      <td>2019-08-01</td>\n",
       "      <td>NaN</td>\n",
       "      <td>364 days</td>\n",
       "    </tr>\n",
       "    <tr>\n",
       "      <th>397 days</th>\n",
       "      <td>2018-04-01</td>\n",
       "      <td>2018-06-30</td>\n",
       "      <td>10379000000</td>\n",
       "      <td>0001564590-19-027952</td>\n",
       "      <td>10-K</td>\n",
       "      <td>2019-08-01</td>\n",
       "      <td>CY2018Q2</td>\n",
       "      <td>90 days</td>\n",
       "    </tr>\n",
       "    <tr>\n",
       "      <th>488 days</th>\n",
       "      <td>2018-01-01</td>\n",
       "      <td>2018-03-31</td>\n",
       "      <td>8292000000</td>\n",
       "      <td>0001564590-19-027952</td>\n",
       "      <td>10-K</td>\n",
       "      <td>2019-08-01</td>\n",
       "      <td>CY2018Q1</td>\n",
       "      <td>89 days</td>\n",
       "    </tr>\n",
       "    <tr>\n",
       "      <th>578 days</th>\n",
       "      <td>2017-10-01</td>\n",
       "      <td>2017-12-31</td>\n",
       "      <td>8679000000</td>\n",
       "      <td>0001564590-19-027952</td>\n",
       "      <td>10-K</td>\n",
       "      <td>2019-08-01</td>\n",
       "      <td>CY2017Q4</td>\n",
       "      <td>91 days</td>\n",
       "    </tr>\n",
       "    <tr>\n",
       "      <th>670 days</th>\n",
       "      <td>2017-07-01</td>\n",
       "      <td>2017-09-30</td>\n",
       "      <td>7708000000</td>\n",
       "      <td>0001564590-19-027952</td>\n",
       "      <td>10-K</td>\n",
       "      <td>2019-08-01</td>\n",
       "      <td>CY2017Q3</td>\n",
       "      <td>91 days</td>\n",
       "    </tr>\n",
       "    <tr>\n",
       "      <th>762 days</th>\n",
       "      <td>2016-07-01</td>\n",
       "      <td>2017-06-30</td>\n",
       "      <td>29025000000</td>\n",
       "      <td>0001564590-19-027952</td>\n",
       "      <td>10-K</td>\n",
       "      <td>2019-08-01</td>\n",
       "      <td>CY2017</td>\n",
       "      <td>364 days</td>\n",
       "    </tr>\n",
       "    <tr>\n",
       "      <th rowspan=\"2\" valign=\"top\">Q1</th>\n",
       "      <th>24 days</th>\n",
       "      <td>2018-07-01</td>\n",
       "      <td>2018-09-30</td>\n",
       "      <td>9955000000</td>\n",
       "      <td>0001564590-18-024893</td>\n",
       "      <td>10-Q</td>\n",
       "      <td>2018-10-24</td>\n",
       "      <td>NaN</td>\n",
       "      <td>91 days</td>\n",
       "    </tr>\n",
       "    <tr>\n",
       "      <th>389 days</th>\n",
       "      <td>2017-07-01</td>\n",
       "      <td>2017-09-30</td>\n",
       "      <td>7708000000</td>\n",
       "      <td>0001564590-18-024893</td>\n",
       "      <td>10-Q</td>\n",
       "      <td>2018-10-24</td>\n",
       "      <td>NaN</td>\n",
       "      <td>91 days</td>\n",
       "    </tr>\n",
       "    <tr>\n",
       "      <th rowspan=\"2\" valign=\"top\">Q2</th>\n",
       "      <th>30 days</th>\n",
       "      <td>2018-10-01</td>\n",
       "      <td>2018-12-31</td>\n",
       "      <td>10258000000</td>\n",
       "      <td>0001564590-19-001392</td>\n",
       "      <td>10-Q</td>\n",
       "      <td>2019-01-30</td>\n",
       "      <td>NaN</td>\n",
       "      <td>91 days</td>\n",
       "    </tr>\n",
       "    <tr>\n",
       "      <th>395 days</th>\n",
       "      <td>2017-10-01</td>\n",
       "      <td>2017-12-31</td>\n",
       "      <td>8679000000</td>\n",
       "      <td>0001564590-19-001392</td>\n",
       "      <td>10-Q</td>\n",
       "      <td>2019-01-30</td>\n",
       "      <td>NaN</td>\n",
       "      <td>91 days</td>\n",
       "    </tr>\n",
       "    <tr>\n",
       "      <th rowspan=\"2\" valign=\"top\">Q3</th>\n",
       "      <th>24 days</th>\n",
       "      <td>2019-01-01</td>\n",
       "      <td>2019-03-31</td>\n",
       "      <td>10341000000</td>\n",
       "      <td>0001564590-19-012709</td>\n",
       "      <td>10-Q</td>\n",
       "      <td>2019-04-24</td>\n",
       "      <td>NaN</td>\n",
       "      <td>89 days</td>\n",
       "    </tr>\n",
       "    <tr>\n",
       "      <th>389 days</th>\n",
       "      <td>2018-01-01</td>\n",
       "      <td>2018-03-31</td>\n",
       "      <td>8292000000</td>\n",
       "      <td>0001564590-19-012709</td>\n",
       "      <td>10-Q</td>\n",
       "      <td>2019-04-24</td>\n",
       "      <td>NaN</td>\n",
       "      <td>89 days</td>\n",
       "    </tr>\n",
       "    <tr>\n",
       "      <th rowspan=\"17\" valign=\"top\">2020</th>\n",
       "      <th rowspan=\"11\" valign=\"top\">FY</th>\n",
       "      <th>31 days</th>\n",
       "      <td>2019-07-01</td>\n",
       "      <td>2020-06-30</td>\n",
       "      <td>52959000000</td>\n",
       "      <td>0001564590-20-034944</td>\n",
       "      <td>10-K</td>\n",
       "      <td>2020-07-31</td>\n",
       "      <td>NaN</td>\n",
       "      <td>365 days</td>\n",
       "    </tr>\n",
       "    <tr>\n",
       "      <th>31 days</th>\n",
       "      <td>2020-04-01</td>\n",
       "      <td>2020-06-30</td>\n",
       "      <td>13407000000</td>\n",
       "      <td>0001564590-20-034944</td>\n",
       "      <td>10-K</td>\n",
       "      <td>2020-07-31</td>\n",
       "      <td>CY2020Q2</td>\n",
       "      <td>90 days</td>\n",
       "    </tr>\n",
       "    <tr>\n",
       "      <th>122 days</th>\n",
       "      <td>2020-01-01</td>\n",
       "      <td>2020-03-31</td>\n",
       "      <td>12975000000</td>\n",
       "      <td>0001564590-20-034944</td>\n",
       "      <td>10-K</td>\n",
       "      <td>2020-07-31</td>\n",
       "      <td>NaN</td>\n",
       "      <td>90 days</td>\n",
       "    </tr>\n",
       "    <tr>\n",
       "      <th>213 days</th>\n",
       "      <td>2019-10-01</td>\n",
       "      <td>2019-12-31</td>\n",
       "      <td>13891000000</td>\n",
       "      <td>0001564590-20-034944</td>\n",
       "      <td>10-K</td>\n",
       "      <td>2020-07-31</td>\n",
       "      <td>NaN</td>\n",
       "      <td>91 days</td>\n",
       "    </tr>\n",
       "    <tr>\n",
       "      <th>305 days</th>\n",
       "      <td>2019-07-01</td>\n",
       "      <td>2019-09-30</td>\n",
       "      <td>12686000000</td>\n",
       "      <td>0001564590-20-034944</td>\n",
       "      <td>10-K</td>\n",
       "      <td>2020-07-31</td>\n",
       "      <td>NaN</td>\n",
       "      <td>91 days</td>\n",
       "    </tr>\n",
       "    <tr>\n",
       "      <th>397 days</th>\n",
       "      <td>2018-07-01</td>\n",
       "      <td>2019-06-30</td>\n",
       "      <td>42959000000</td>\n",
       "      <td>0001564590-20-034944</td>\n",
       "      <td>10-K</td>\n",
       "      <td>2020-07-31</td>\n",
       "      <td>NaN</td>\n",
       "      <td>364 days</td>\n",
       "    </tr>\n",
       "    <tr>\n",
       "      <th>397 days</th>\n",
       "      <td>2019-04-01</td>\n",
       "      <td>2019-06-30</td>\n",
       "      <td>12405000000</td>\n",
       "      <td>0001564590-20-034944</td>\n",
       "      <td>10-K</td>\n",
       "      <td>2020-07-31</td>\n",
       "      <td>CY2019Q2</td>\n",
       "      <td>90 days</td>\n",
       "    </tr>\n",
       "    <tr>\n",
       "      <th>488 days</th>\n",
       "      <td>2019-01-01</td>\n",
       "      <td>2019-03-31</td>\n",
       "      <td>10341000000</td>\n",
       "      <td>0001564590-20-034944</td>\n",
       "      <td>10-K</td>\n",
       "      <td>2020-07-31</td>\n",
       "      <td>CY2019Q1</td>\n",
       "      <td>89 days</td>\n",
       "    </tr>\n",
       "    <tr>\n",
       "      <th>578 days</th>\n",
       "      <td>2018-10-01</td>\n",
       "      <td>2018-12-31</td>\n",
       "      <td>10258000000</td>\n",
       "      <td>0001564590-20-034944</td>\n",
       "      <td>10-K</td>\n",
       "      <td>2020-07-31</td>\n",
       "      <td>CY2018Q4</td>\n",
       "      <td>91 days</td>\n",
       "    </tr>\n",
       "    <tr>\n",
       "      <th>670 days</th>\n",
       "      <td>2018-07-01</td>\n",
       "      <td>2018-09-30</td>\n",
       "      <td>9955000000</td>\n",
       "      <td>0001564590-20-034944</td>\n",
       "      <td>10-K</td>\n",
       "      <td>2020-07-31</td>\n",
       "      <td>CY2018Q3</td>\n",
       "      <td>91 days</td>\n",
       "    </tr>\n",
       "    <tr>\n",
       "      <th>762 days</th>\n",
       "      <td>2017-07-01</td>\n",
       "      <td>2018-06-30</td>\n",
       "      <td>35058000000</td>\n",
       "      <td>0001564590-20-034944</td>\n",
       "      <td>10-K</td>\n",
       "      <td>2020-07-31</td>\n",
       "      <td>CY2018</td>\n",
       "      <td>364 days</td>\n",
       "    </tr>\n",
       "    <tr>\n",
       "      <th rowspan=\"2\" valign=\"top\">Q1</th>\n",
       "      <th>23 days</th>\n",
       "      <td>2019-07-01</td>\n",
       "      <td>2019-09-30</td>\n",
       "      <td>12686000000</td>\n",
       "      <td>0001564590-19-037549</td>\n",
       "      <td>10-Q</td>\n",
       "      <td>2019-10-23</td>\n",
       "      <td>NaN</td>\n",
       "      <td>91 days</td>\n",
       "    </tr>\n",
       "    <tr>\n",
       "      <th>388 days</th>\n",
       "      <td>2018-07-01</td>\n",
       "      <td>2018-09-30</td>\n",
       "      <td>9955000000</td>\n",
       "      <td>0001564590-19-037549</td>\n",
       "      <td>10-Q</td>\n",
       "      <td>2019-10-23</td>\n",
       "      <td>NaN</td>\n",
       "      <td>91 days</td>\n",
       "    </tr>\n",
       "    <tr>\n",
       "      <th rowspan=\"2\" valign=\"top\">Q2</th>\n",
       "      <th>29 days</th>\n",
       "      <td>2019-10-01</td>\n",
       "      <td>2019-12-31</td>\n",
       "      <td>13891000000</td>\n",
       "      <td>0001564590-20-002450</td>\n",
       "      <td>10-Q</td>\n",
       "      <td>2020-01-29</td>\n",
       "      <td>NaN</td>\n",
       "      <td>91 days</td>\n",
       "    </tr>\n",
       "    <tr>\n",
       "      <th>394 days</th>\n",
       "      <td>2018-10-01</td>\n",
       "      <td>2018-12-31</td>\n",
       "      <td>10258000000</td>\n",
       "      <td>0001564590-20-002450</td>\n",
       "      <td>10-Q</td>\n",
       "      <td>2020-01-29</td>\n",
       "      <td>NaN</td>\n",
       "      <td>91 days</td>\n",
       "    </tr>\n",
       "    <tr>\n",
       "      <th rowspan=\"2\" valign=\"top\">Q3</th>\n",
       "      <th>29 days</th>\n",
       "      <td>2020-01-01</td>\n",
       "      <td>2020-03-31</td>\n",
       "      <td>12975000000</td>\n",
       "      <td>0001564590-20-019706</td>\n",
       "      <td>10-Q</td>\n",
       "      <td>2020-04-29</td>\n",
       "      <td>NaN</td>\n",
       "      <td>90 days</td>\n",
       "    </tr>\n",
       "    <tr>\n",
       "      <th>395 days</th>\n",
       "      <td>2019-01-01</td>\n",
       "      <td>2019-03-31</td>\n",
       "      <td>10341000000</td>\n",
       "      <td>0001564590-20-019706</td>\n",
       "      <td>10-Q</td>\n",
       "      <td>2020-04-29</td>\n",
       "      <td>NaN</td>\n",
       "      <td>89 days</td>\n",
       "    </tr>\n",
       "    <tr>\n",
       "      <th rowspan=\"9\" valign=\"top\">2021</th>\n",
       "      <th rowspan=\"3\" valign=\"top\">FY</th>\n",
       "      <th>29 days</th>\n",
       "      <td>2020-07-01</td>\n",
       "      <td>2021-06-30</td>\n",
       "      <td>69916000000</td>\n",
       "      <td>0001564590-21-039151</td>\n",
       "      <td>10-K</td>\n",
       "      <td>2021-07-29</td>\n",
       "      <td>NaN</td>\n",
       "      <td>364 days</td>\n",
       "    </tr>\n",
       "    <tr>\n",
       "      <th>394 days</th>\n",
       "      <td>2019-07-01</td>\n",
       "      <td>2020-06-30</td>\n",
       "      <td>52959000000</td>\n",
       "      <td>0001564590-21-039151</td>\n",
       "      <td>10-K</td>\n",
       "      <td>2021-07-29</td>\n",
       "      <td>NaN</td>\n",
       "      <td>365 days</td>\n",
       "    </tr>\n",
       "    <tr>\n",
       "      <th>760 days</th>\n",
       "      <td>2018-07-01</td>\n",
       "      <td>2019-06-30</td>\n",
       "      <td>42959000000</td>\n",
       "      <td>0001564590-21-039151</td>\n",
       "      <td>10-K</td>\n",
       "      <td>2021-07-29</td>\n",
       "      <td>CY2019</td>\n",
       "      <td>364 days</td>\n",
       "    </tr>\n",
       "    <tr>\n",
       "      <th rowspan=\"2\" valign=\"top\">Q1</th>\n",
       "      <th>27 days</th>\n",
       "      <td>2020-07-01</td>\n",
       "      <td>2020-09-30</td>\n",
       "      <td>15876000000</td>\n",
       "      <td>0001564590-20-047996</td>\n",
       "      <td>10-Q</td>\n",
       "      <td>2020-10-27</td>\n",
       "      <td>NaN</td>\n",
       "      <td>91 days</td>\n",
       "    </tr>\n",
       "    <tr>\n",
       "      <th>393 days</th>\n",
       "      <td>2019-07-01</td>\n",
       "      <td>2019-09-30</td>\n",
       "      <td>12686000000</td>\n",
       "      <td>0001564590-20-047996</td>\n",
       "      <td>10-Q</td>\n",
       "      <td>2020-10-27</td>\n",
       "      <td>CY2019Q3</td>\n",
       "      <td>91 days</td>\n",
       "    </tr>\n",
       "    <tr>\n",
       "      <th rowspan=\"2\" valign=\"top\">Q2</th>\n",
       "      <th>26 days</th>\n",
       "      <td>2020-10-01</td>\n",
       "      <td>2020-12-31</td>\n",
       "      <td>17897000000</td>\n",
       "      <td>0001564590-21-002316</td>\n",
       "      <td>10-Q</td>\n",
       "      <td>2021-01-26</td>\n",
       "      <td>NaN</td>\n",
       "      <td>91 days</td>\n",
       "    </tr>\n",
       "    <tr>\n",
       "      <th>392 days</th>\n",
       "      <td>2019-10-01</td>\n",
       "      <td>2019-12-31</td>\n",
       "      <td>13891000000</td>\n",
       "      <td>0001564590-21-002316</td>\n",
       "      <td>10-Q</td>\n",
       "      <td>2021-01-26</td>\n",
       "      <td>CY2019Q4</td>\n",
       "      <td>91 days</td>\n",
       "    </tr>\n",
       "    <tr>\n",
       "      <th rowspan=\"2\" valign=\"top\">Q3</th>\n",
       "      <th>27 days</th>\n",
       "      <td>2021-01-01</td>\n",
       "      <td>2021-03-31</td>\n",
       "      <td>17048000000</td>\n",
       "      <td>0001564590-21-020891</td>\n",
       "      <td>10-Q</td>\n",
       "      <td>2021-04-27</td>\n",
       "      <td>NaN</td>\n",
       "      <td>89 days</td>\n",
       "    </tr>\n",
       "    <tr>\n",
       "      <th>392 days</th>\n",
       "      <td>2020-01-01</td>\n",
       "      <td>2020-03-31</td>\n",
       "      <td>12975000000</td>\n",
       "      <td>0001564590-21-020891</td>\n",
       "      <td>10-Q</td>\n",
       "      <td>2021-04-27</td>\n",
       "      <td>CY2020Q1</td>\n",
       "      <td>90 days</td>\n",
       "    </tr>\n",
       "    <tr>\n",
       "      <th rowspan=\"9\" valign=\"top\">2022</th>\n",
       "      <th rowspan=\"3\" valign=\"top\">FY</th>\n",
       "      <th>28 days</th>\n",
       "      <td>2021-07-01</td>\n",
       "      <td>2022-06-30</td>\n",
       "      <td>83383000000</td>\n",
       "      <td>0001564590-22-026876</td>\n",
       "      <td>10-K</td>\n",
       "      <td>2022-07-28</td>\n",
       "      <td>NaN</td>\n",
       "      <td>364 days</td>\n",
       "    </tr>\n",
       "    <tr>\n",
       "      <th>393 days</th>\n",
       "      <td>2020-07-01</td>\n",
       "      <td>2021-06-30</td>\n",
       "      <td>69916000000</td>\n",
       "      <td>0001564590-22-026876</td>\n",
       "      <td>10-K</td>\n",
       "      <td>2022-07-28</td>\n",
       "      <td>NaN</td>\n",
       "      <td>364 days</td>\n",
       "    </tr>\n",
       "    <tr>\n",
       "      <th>758 days</th>\n",
       "      <td>2019-07-01</td>\n",
       "      <td>2020-06-30</td>\n",
       "      <td>52959000000</td>\n",
       "      <td>0001564590-22-026876</td>\n",
       "      <td>10-K</td>\n",
       "      <td>2022-07-28</td>\n",
       "      <td>CY2020</td>\n",
       "      <td>365 days</td>\n",
       "    </tr>\n",
       "    <tr>\n",
       "      <th rowspan=\"2\" valign=\"top\">Q1</th>\n",
       "      <th>26 days</th>\n",
       "      <td>2021-07-01</td>\n",
       "      <td>2021-09-30</td>\n",
       "      <td>20238000000</td>\n",
       "      <td>0001564590-21-051992</td>\n",
       "      <td>10-Q</td>\n",
       "      <td>2021-10-26</td>\n",
       "      <td>NaN</td>\n",
       "      <td>91 days</td>\n",
       "    </tr>\n",
       "    <tr>\n",
       "      <th>391 days</th>\n",
       "      <td>2020-07-01</td>\n",
       "      <td>2020-09-30</td>\n",
       "      <td>15876000000</td>\n",
       "      <td>0001564590-21-051992</td>\n",
       "      <td>10-Q</td>\n",
       "      <td>2021-10-26</td>\n",
       "      <td>CY2020Q3</td>\n",
       "      <td>91 days</td>\n",
       "    </tr>\n",
       "    <tr>\n",
       "      <th rowspan=\"2\" valign=\"top\">Q2</th>\n",
       "      <th>25 days</th>\n",
       "      <td>2021-10-01</td>\n",
       "      <td>2021-12-31</td>\n",
       "      <td>22247000000</td>\n",
       "      <td>0001564590-22-002324</td>\n",
       "      <td>10-Q</td>\n",
       "      <td>2022-01-25</td>\n",
       "      <td>NaN</td>\n",
       "      <td>91 days</td>\n",
       "    </tr>\n",
       "    <tr>\n",
       "      <th>390 days</th>\n",
       "      <td>2020-10-01</td>\n",
       "      <td>2020-12-31</td>\n",
       "      <td>17897000000</td>\n",
       "      <td>0001564590-22-002324</td>\n",
       "      <td>10-Q</td>\n",
       "      <td>2022-01-25</td>\n",
       "      <td>CY2020Q4</td>\n",
       "      <td>91 days</td>\n",
       "    </tr>\n",
       "    <tr>\n",
       "      <th rowspan=\"2\" valign=\"top\">Q3</th>\n",
       "      <th>26 days</th>\n",
       "      <td>2022-01-01</td>\n",
       "      <td>2022-03-31</td>\n",
       "      <td>20364000000</td>\n",
       "      <td>0001564590-22-015675</td>\n",
       "      <td>10-Q</td>\n",
       "      <td>2022-04-26</td>\n",
       "      <td>NaN</td>\n",
       "      <td>89 days</td>\n",
       "    </tr>\n",
       "    <tr>\n",
       "      <th>391 days</th>\n",
       "      <td>2021-01-01</td>\n",
       "      <td>2021-03-31</td>\n",
       "      <td>17048000000</td>\n",
       "      <td>0001564590-22-015675</td>\n",
       "      <td>10-Q</td>\n",
       "      <td>2022-04-26</td>\n",
       "      <td>CY2021Q1</td>\n",
       "      <td>89 days</td>\n",
       "    </tr>\n",
       "    <tr>\n",
       "      <th rowspan=\"9\" valign=\"top\">2023</th>\n",
       "      <th rowspan=\"3\" valign=\"top\">FY</th>\n",
       "      <th>27 days</th>\n",
       "      <td>2022-07-01</td>\n",
       "      <td>2023-06-30</td>\n",
       "      <td>88523000000</td>\n",
       "      <td>0000950170-23-035122</td>\n",
       "      <td>10-K</td>\n",
       "      <td>2023-07-27</td>\n",
       "      <td>CY2023</td>\n",
       "      <td>364 days</td>\n",
       "    </tr>\n",
       "    <tr>\n",
       "      <th>392 days</th>\n",
       "      <td>2021-07-01</td>\n",
       "      <td>2022-06-30</td>\n",
       "      <td>83383000000</td>\n",
       "      <td>0000950170-23-035122</td>\n",
       "      <td>10-K</td>\n",
       "      <td>2023-07-27</td>\n",
       "      <td>CY2022</td>\n",
       "      <td>364 days</td>\n",
       "    </tr>\n",
       "    <tr>\n",
       "      <th>757 days</th>\n",
       "      <td>2020-07-01</td>\n",
       "      <td>2021-06-30</td>\n",
       "      <td>69916000000</td>\n",
       "      <td>0000950170-23-035122</td>\n",
       "      <td>10-K</td>\n",
       "      <td>2023-07-27</td>\n",
       "      <td>CY2021</td>\n",
       "      <td>364 days</td>\n",
       "    </tr>\n",
       "    <tr>\n",
       "      <th rowspan=\"2\" valign=\"top\">Q1</th>\n",
       "      <th>25 days</th>\n",
       "      <td>2022-07-01</td>\n",
       "      <td>2022-09-30</td>\n",
       "      <td>21518000000</td>\n",
       "      <td>0001564590-22-035087</td>\n",
       "      <td>10-Q</td>\n",
       "      <td>2022-10-25</td>\n",
       "      <td>NaN</td>\n",
       "      <td>91 days</td>\n",
       "    </tr>\n",
       "    <tr>\n",
       "      <th>390 days</th>\n",
       "      <td>2021-07-01</td>\n",
       "      <td>2021-09-30</td>\n",
       "      <td>20238000000</td>\n",
       "      <td>0001564590-22-035087</td>\n",
       "      <td>10-Q</td>\n",
       "      <td>2022-10-25</td>\n",
       "      <td>CY2021Q3</td>\n",
       "      <td>91 days</td>\n",
       "    </tr>\n",
       "    <tr>\n",
       "      <th rowspan=\"2\" valign=\"top\">Q2</th>\n",
       "      <th>24 days</th>\n",
       "      <td>2022-10-01</td>\n",
       "      <td>2022-12-31</td>\n",
       "      <td>20399000000</td>\n",
       "      <td>0001564590-23-000733</td>\n",
       "      <td>10-Q</td>\n",
       "      <td>2023-01-24</td>\n",
       "      <td>CY2022Q4</td>\n",
       "      <td>91 days</td>\n",
       "    </tr>\n",
       "    <tr>\n",
       "      <th>389 days</th>\n",
       "      <td>2021-10-01</td>\n",
       "      <td>2021-12-31</td>\n",
       "      <td>22247000000</td>\n",
       "      <td>0001564590-23-000733</td>\n",
       "      <td>10-Q</td>\n",
       "      <td>2023-01-24</td>\n",
       "      <td>CY2021Q4</td>\n",
       "      <td>91 days</td>\n",
       "    </tr>\n",
       "    <tr>\n",
       "      <th rowspan=\"2\" valign=\"top\">Q3</th>\n",
       "      <th>25 days</th>\n",
       "      <td>2023-01-01</td>\n",
       "      <td>2023-03-31</td>\n",
       "      <td>22352000000</td>\n",
       "      <td>0000950170-23-014423</td>\n",
       "      <td>10-Q</td>\n",
       "      <td>2023-04-25</td>\n",
       "      <td>CY2023Q1</td>\n",
       "      <td>89 days</td>\n",
       "    </tr>\n",
       "    <tr>\n",
       "      <th>390 days</th>\n",
       "      <td>2022-01-01</td>\n",
       "      <td>2022-03-31</td>\n",
       "      <td>20364000000</td>\n",
       "      <td>0000950170-23-014423</td>\n",
       "      <td>10-Q</td>\n",
       "      <td>2023-04-25</td>\n",
       "      <td>CY2022Q1</td>\n",
       "      <td>89 days</td>\n",
       "    </tr>\n",
       "    <tr>\n",
       "      <th rowspan=\"2\" valign=\"top\">2024</th>\n",
       "      <th rowspan=\"2\" valign=\"top\">Q1</th>\n",
       "      <th>24 days</th>\n",
       "      <td>2023-07-01</td>\n",
       "      <td>2023-09-30</td>\n",
       "      <td>26895000000</td>\n",
       "      <td>0000950170-23-054855</td>\n",
       "      <td>10-Q</td>\n",
       "      <td>2023-10-24</td>\n",
       "      <td>CY2023Q3</td>\n",
       "      <td>91 days</td>\n",
       "    </tr>\n",
       "    <tr>\n",
       "      <th>389 days</th>\n",
       "      <td>2022-07-01</td>\n",
       "      <td>2022-09-30</td>\n",
       "      <td>21518000000</td>\n",
       "      <td>0000950170-23-054855</td>\n",
       "      <td>10-Q</td>\n",
       "      <td>2023-10-24</td>\n",
       "      <td>CY2022Q3</td>\n",
       "      <td>91 days</td>\n",
       "    </tr>\n",
       "  </tbody>\n",
       "</table>\n",
       "</div>"
      ],
      "text/plain": [
       "                      start        end          val                  accn  \\\n",
       "fy   fp delay                                                               \n",
       "2010 FY 30 days  2009-07-01 2010-06-30  24098000000  0001193125-10-171791   \n",
       "        395 days 2008-07-01 2009-06-30  20363000000  0001193125-10-171791   \n",
       "        760 days 2007-07-01 2008-06-30  22271000000  0001193125-10-171791   \n",
       "     Q1 23 days  2009-07-01 2009-09-30   4482000000  0001193125-09-212454   \n",
       "        388 days 2008-07-01 2008-09-30   5999000000  0001193125-09-212454   \n",
       "     Q2 28 days  2009-10-01 2009-12-31   8513000000  0001193125-10-015598   \n",
       "        393 days 2008-10-01 2008-12-31   5939000000  0001193125-10-015598   \n",
       "     Q3 22 days  2010-01-01 2010-03-31   5173000000  0001193125-10-090116   \n",
       "        387 days 2009-01-01 2009-03-31   4438000000  0001193125-10-090116   \n",
       "2011 FY 28 days  2010-07-01 2011-06-30  27161000000  0001193125-11-200680   \n",
       "        393 days 2009-07-01 2010-06-30  24098000000  0001193125-11-200680   \n",
       "        758 days 2008-07-01 2009-06-30  20363000000  0001193125-11-200680   \n",
       "     Q1 28 days  2010-07-01 2010-09-30   7116000000  0001193125-10-239825   \n",
       "        393 days 2009-07-01 2009-09-30   4482000000  0001193125-10-239825   \n",
       "     Q2 27 days  2010-10-01 2010-12-31   8165000000  0001193125-11-015947   \n",
       "        392 days 2009-10-01 2009-12-31   8513000000  0001193125-11-015947   \n",
       "     Q3 28 days  2011-01-01 2011-03-31   5709000000  0001193125-11-115186   \n",
       "        393 days 2010-01-01 2010-03-31   5173000000  0001193125-11-115186   \n",
       "2012 FY 26 days  2011-07-01 2012-06-30  21763000000  0001193125-12-316848   \n",
       "        392 days 2010-07-01 2011-06-30  27161000000  0001193125-12-316848   \n",
       "        757 days 2009-07-01 2010-06-30  24098000000  0001193125-12-316848   \n",
       "     Q1 20 days  2011-07-01 2011-09-30   7203000000  0001193125-11-276022   \n",
       "        385 days 2010-07-01 2010-09-30   7116000000  0001193125-11-276022   \n",
       "     Q2 27 days  2011-10-01 2011-12-31   7994000000  0001193125-12-026864   \n",
       "        392 days 2010-10-01 2010-12-31   8165000000  0001193125-12-026864   \n",
       "     Q3 19 days  2012-01-01 2012-03-31   6374000000  0001193125-12-170665   \n",
       "        385 days 2011-01-01 2011-03-31   5709000000  0001193125-12-170665   \n",
       "2013 FY 30 days  2012-07-01 2013-06-30  26764000000  0001193125-13-310206   \n",
       "        149 days 2012-07-01 2013-06-30  26764000000  0001193125-13-455144   \n",
       "        395 days 2011-07-01 2012-06-30  21763000000  0001193125-13-310206   \n",
       "        514 days 2011-07-01 2012-06-30  21763000000  0001193125-13-455144   \n",
       "        761 days 2010-07-01 2011-06-30  27161000000  0001193125-13-310206   \n",
       "        880 days 2010-07-01 2011-06-30  27161000000  0001193125-13-455144   \n",
       "     Q1 18 days  2012-07-01 2012-09-30   5308000000  0001193125-12-427209   \n",
       "        384 days 2011-07-01 2011-09-30   7203000000  0001193125-12-427209   \n",
       "     Q2 24 days  2012-10-01 2012-12-31   7771000000  0001193125-13-022207   \n",
       "        390 days 2011-10-01 2011-12-31   7994000000  0001193125-13-022207   \n",
       "     Q3 18 days  2013-01-01 2013-03-31   7612000000  0001193125-13-160748   \n",
       "        383 days 2012-01-01 2012-03-31   6374000000  0001193125-13-160748   \n",
       "2014 FY 31 days  2013-07-01 2014-06-30  27759000000  0001193125-14-289961   \n",
       "        396 days 2012-07-01 2013-06-30  26764000000  0001193125-14-289961   \n",
       "        761 days 2011-07-01 2012-06-30  21763000000  0001193125-14-289961   \n",
       "     Q1 24 days  2013-07-01 2013-09-30   6334000000  0001193125-13-409855   \n",
       "        389 days 2012-07-01 2012-09-30   5308000000  0001193125-13-409855   \n",
       "     Q2 23 days  2013-10-01 2013-12-31   7969000000  0001193125-14-018634   \n",
       "        388 days 2012-10-01 2012-12-31   7771000000  0001193125-14-018634   \n",
       "     Q3 24 days  2014-01-01 2014-03-31   6974000000  0001193125-14-157088   \n",
       "        389 days 2013-01-01 2013-03-31   7612000000  0001193125-14-157088   \n",
       "2015 FY 31 days  2014-07-01 2015-06-30  18161000000  0001193125-15-272806   \n",
       "        119 days 2014-07-01 2015-06-30  18161000000  0001193125-15-353706   \n",
       "        119 days 2015-04-01 2015-06-30  -2053000000  0001193125-15-353706   \n",
       "        210 days 2015-01-01 2015-03-31   6594000000  0001193125-15-353706   \n",
       "        300 days 2014-10-01 2014-12-31   7776000000  0001193125-15-353706   \n",
       "        392 days 2014-07-01 2014-09-30   5844000000  0001193125-15-353706   \n",
       "        396 days 2013-07-01 2014-06-30  27759000000  0001193125-15-272806   \n",
       "        484 days 2013-07-01 2014-06-30  27759000000  0001193125-15-353706   \n",
       "        484 days 2014-04-01 2014-06-30   6482000000  0001193125-15-353706   \n",
       "        575 days 2014-01-01 2014-03-31   6974000000  0001193125-15-353706   \n",
       "        665 days 2013-10-01 2013-12-31   7969000000  0001193125-15-353706   \n",
       "        757 days 2013-07-01 2013-09-30   6334000000  0001193125-15-353706   \n",
       "        761 days 2012-07-01 2013-06-30  26764000000  0001193125-15-272806   \n",
       "        849 days 2012-07-01 2013-06-30  26764000000  0001193125-15-353706   \n",
       "     Q1 23 days  2014-07-01 2014-09-30   5844000000  0001193125-14-380252   \n",
       "        388 days 2013-07-01 2013-09-30   6334000000  0001193125-14-380252   \n",
       "     Q2 26 days  2014-10-01 2014-12-31   7776000000  0001193125-15-020351   \n",
       "        391 days 2013-10-01 2013-12-31   7969000000  0001193125-15-020351   \n",
       "     Q3 23 days  2015-01-01 2015-03-31   6594000000  0001193125-15-144151   \n",
       "        388 days 2014-01-01 2014-03-31   6974000000  0001193125-15-144151   \n",
       "2016 FY 28 days  2015-07-01 2016-06-30  20182000000  0001193125-16-662209   \n",
       "        28 days  2016-04-01 2016-06-30   3080000000  0001193125-16-662209   \n",
       "        119 days 2016-01-01 2016-03-31   5283000000  0001193125-16-662209   \n",
       "        210 days 2015-10-01 2015-12-31   6026000000  0001193125-16-662209   \n",
       "        302 days 2015-07-01 2015-09-30   5793000000  0001193125-16-662209   \n",
       "        394 days 2014-07-01 2015-06-30  18161000000  0001193125-16-662209   \n",
       "        394 days 2015-04-01 2015-06-30  -2053000000  0001193125-16-662209   \n",
       "        485 days 2015-01-01 2015-03-31   6594000000  0001193125-16-662209   \n",
       "        575 days 2014-10-01 2014-12-31   7776000000  0001193125-16-662209   \n",
       "        667 days 2014-07-01 2014-09-30   5844000000  0001193125-16-662209   \n",
       "        759 days 2013-07-01 2014-06-30  27759000000  0001193125-16-662209   \n",
       "     Q1 22 days  2015-07-01 2015-09-30   5793000000  0001193125-15-350718   \n",
       "        387 days 2014-07-01 2014-09-30   5844000000  0001193125-15-350718   \n",
       "     Q2 28 days  2015-10-01 2015-12-31   6026000000  0001193125-16-441821   \n",
       "        393 days 2014-10-01 2014-12-31   7776000000  0001193125-16-441821   \n",
       "     Q3 21 days  2016-01-01 2016-03-31   5283000000  0001193125-16-550254   \n",
       "        387 days 2015-01-01 2015-03-31   6594000000  0001193125-16-550254   \n",
       "2017 FY 33 days  2016-07-01 2017-06-30  22326000000  0001564590-17-014900   \n",
       "        33 days  2017-04-01 2017-06-30   5330000000  0001564590-17-014900   \n",
       "        124 days 2017-01-01 2017-03-31   5594000000  0001564590-17-014900   \n",
       "        214 days 2016-10-01 2016-12-31   6177000000  0001564590-17-014900   \n",
       "        306 days 2016-07-01 2016-09-30   5225000000  0001564590-17-014900   \n",
       "        398 days 2015-07-01 2016-06-30  20182000000  0001564590-17-014900   \n",
       "        398 days 2016-04-01 2016-06-30   3080000000  0001564590-17-014900   \n",
       "        489 days 2016-01-01 2016-03-31   5283000000  0001564590-17-014900   \n",
       "        580 days 2015-10-01 2015-12-31   6026000000  0001564590-17-014900   \n",
       "        672 days 2015-07-01 2015-09-30   5793000000  0001564590-17-014900   \n",
       "        764 days 2014-07-01 2015-06-30  18161000000  0001564590-17-014900   \n",
       "     Q1 20 days  2016-07-01 2016-09-30   5225000000  0001193125-16-742796   \n",
       "        386 days 2015-07-01 2015-09-30   5793000000  0001193125-16-742796   \n",
       "     Q2 26 days  2016-10-01 2016-12-31   6177000000  0001564590-17-000654   \n",
       "        392 days 2015-10-01 2015-12-31   6026000000  0001564590-17-000654   \n",
       "     Q3 27 days  2017-01-01 2017-03-31   5594000000  0001564590-17-007547   \n",
       "        392 days 2016-01-01 2016-03-31   5283000000  0001564590-17-007547   \n",
       "2018 FY 34 days  2017-07-01 2018-06-30  35058000000  0001564590-18-019062   \n",
       "        34 days  2018-04-01 2018-06-30  10379000000  0001564590-18-019062   \n",
       "        125 days 2018-01-01 2018-03-31   8292000000  0001564590-18-019062   \n",
       "        215 days 2017-10-01 2017-12-31   8679000000  0001564590-18-019062   \n",
       "        307 days 2017-07-01 2017-09-30   7708000000  0001564590-18-019062   \n",
       "        399 days 2016-07-01 2017-06-30  29025000000  0001564590-18-019062   \n",
       "        399 days 2017-04-01 2017-06-30   7682000000  0001564590-18-019062   \n",
       "        490 days 2017-01-01 2017-03-31   6723000000  0001564590-18-019062   \n",
       "        580 days 2016-10-01 2016-12-31   7905000000  0001564590-18-019062   \n",
       "        672 days 2016-07-02 2016-09-30   6715000000  0001564590-18-019062   \n",
       "        764 days 2015-07-01 2016-06-30  26078000000  0001564590-18-019062   \n",
       "     Q1 26 days  2017-07-01 2017-09-30   7708000000  0001564590-17-020171   \n",
       "        391 days 2016-07-01 2016-09-30   6715000000  0001564590-17-020171   \n",
       "     Q2 31 days  2017-10-01 2017-12-31   8679000000  0001564590-18-001129   \n",
       "        396 days 2016-10-01 2016-12-31   7905000000  0001564590-18-001129   \n",
       "     Q3 26 days  2018-01-01 2018-03-31   8292000000  0001564590-18-009307   \n",
       "        391 days 2017-01-01 2017-03-31   6723000000  0001564590-18-009307   \n",
       "2019 FY 32 days  2018-07-01 2019-06-30  42959000000  0001564590-19-027952   \n",
       "        32 days  2019-04-01 2019-06-30  12405000000  0001564590-19-027952   \n",
       "        123 days 2019-01-01 2019-03-31  10341000000  0001564590-19-027952   \n",
       "        213 days 2018-10-01 2018-12-31  10258000000  0001564590-19-027952   \n",
       "        305 days 2018-07-01 2018-09-30   9955000000  0001564590-19-027952   \n",
       "        397 days 2017-07-01 2018-06-30  35058000000  0001564590-19-027952   \n",
       "        397 days 2018-04-01 2018-06-30  10379000000  0001564590-19-027952   \n",
       "        488 days 2018-01-01 2018-03-31   8292000000  0001564590-19-027952   \n",
       "        578 days 2017-10-01 2017-12-31   8679000000  0001564590-19-027952   \n",
       "        670 days 2017-07-01 2017-09-30   7708000000  0001564590-19-027952   \n",
       "        762 days 2016-07-01 2017-06-30  29025000000  0001564590-19-027952   \n",
       "     Q1 24 days  2018-07-01 2018-09-30   9955000000  0001564590-18-024893   \n",
       "        389 days 2017-07-01 2017-09-30   7708000000  0001564590-18-024893   \n",
       "     Q2 30 days  2018-10-01 2018-12-31  10258000000  0001564590-19-001392   \n",
       "        395 days 2017-10-01 2017-12-31   8679000000  0001564590-19-001392   \n",
       "     Q3 24 days  2019-01-01 2019-03-31  10341000000  0001564590-19-012709   \n",
       "        389 days 2018-01-01 2018-03-31   8292000000  0001564590-19-012709   \n",
       "2020 FY 31 days  2019-07-01 2020-06-30  52959000000  0001564590-20-034944   \n",
       "        31 days  2020-04-01 2020-06-30  13407000000  0001564590-20-034944   \n",
       "        122 days 2020-01-01 2020-03-31  12975000000  0001564590-20-034944   \n",
       "        213 days 2019-10-01 2019-12-31  13891000000  0001564590-20-034944   \n",
       "        305 days 2019-07-01 2019-09-30  12686000000  0001564590-20-034944   \n",
       "        397 days 2018-07-01 2019-06-30  42959000000  0001564590-20-034944   \n",
       "        397 days 2019-04-01 2019-06-30  12405000000  0001564590-20-034944   \n",
       "        488 days 2019-01-01 2019-03-31  10341000000  0001564590-20-034944   \n",
       "        578 days 2018-10-01 2018-12-31  10258000000  0001564590-20-034944   \n",
       "        670 days 2018-07-01 2018-09-30   9955000000  0001564590-20-034944   \n",
       "        762 days 2017-07-01 2018-06-30  35058000000  0001564590-20-034944   \n",
       "     Q1 23 days  2019-07-01 2019-09-30  12686000000  0001564590-19-037549   \n",
       "        388 days 2018-07-01 2018-09-30   9955000000  0001564590-19-037549   \n",
       "     Q2 29 days  2019-10-01 2019-12-31  13891000000  0001564590-20-002450   \n",
       "        394 days 2018-10-01 2018-12-31  10258000000  0001564590-20-002450   \n",
       "     Q3 29 days  2020-01-01 2020-03-31  12975000000  0001564590-20-019706   \n",
       "        395 days 2019-01-01 2019-03-31  10341000000  0001564590-20-019706   \n",
       "2021 FY 29 days  2020-07-01 2021-06-30  69916000000  0001564590-21-039151   \n",
       "        394 days 2019-07-01 2020-06-30  52959000000  0001564590-21-039151   \n",
       "        760 days 2018-07-01 2019-06-30  42959000000  0001564590-21-039151   \n",
       "     Q1 27 days  2020-07-01 2020-09-30  15876000000  0001564590-20-047996   \n",
       "        393 days 2019-07-01 2019-09-30  12686000000  0001564590-20-047996   \n",
       "     Q2 26 days  2020-10-01 2020-12-31  17897000000  0001564590-21-002316   \n",
       "        392 days 2019-10-01 2019-12-31  13891000000  0001564590-21-002316   \n",
       "     Q3 27 days  2021-01-01 2021-03-31  17048000000  0001564590-21-020891   \n",
       "        392 days 2020-01-01 2020-03-31  12975000000  0001564590-21-020891   \n",
       "2022 FY 28 days  2021-07-01 2022-06-30  83383000000  0001564590-22-026876   \n",
       "        393 days 2020-07-01 2021-06-30  69916000000  0001564590-22-026876   \n",
       "        758 days 2019-07-01 2020-06-30  52959000000  0001564590-22-026876   \n",
       "     Q1 26 days  2021-07-01 2021-09-30  20238000000  0001564590-21-051992   \n",
       "        391 days 2020-07-01 2020-09-30  15876000000  0001564590-21-051992   \n",
       "     Q2 25 days  2021-10-01 2021-12-31  22247000000  0001564590-22-002324   \n",
       "        390 days 2020-10-01 2020-12-31  17897000000  0001564590-22-002324   \n",
       "     Q3 26 days  2022-01-01 2022-03-31  20364000000  0001564590-22-015675   \n",
       "        391 days 2021-01-01 2021-03-31  17048000000  0001564590-22-015675   \n",
       "2023 FY 27 days  2022-07-01 2023-06-30  88523000000  0000950170-23-035122   \n",
       "        392 days 2021-07-01 2022-06-30  83383000000  0000950170-23-035122   \n",
       "        757 days 2020-07-01 2021-06-30  69916000000  0000950170-23-035122   \n",
       "     Q1 25 days  2022-07-01 2022-09-30  21518000000  0001564590-22-035087   \n",
       "        390 days 2021-07-01 2021-09-30  20238000000  0001564590-22-035087   \n",
       "     Q2 24 days  2022-10-01 2022-12-31  20399000000  0001564590-23-000733   \n",
       "        389 days 2021-10-01 2021-12-31  22247000000  0001564590-23-000733   \n",
       "     Q3 25 days  2023-01-01 2023-03-31  22352000000  0000950170-23-014423   \n",
       "        390 days 2022-01-01 2022-03-31  20364000000  0000950170-23-014423   \n",
       "2024 Q1 24 days  2023-07-01 2023-09-30  26895000000  0000950170-23-054855   \n",
       "        389 days 2022-07-01 2022-09-30  21518000000  0000950170-23-054855   \n",
       "\n",
       "                    form      filed     frame   period  \n",
       "fy   fp delay                                           \n",
       "2010 FY 30 days     10-K 2010-07-30       NaN 364 days  \n",
       "        395 days    10-K 2010-07-30       NaN 364 days  \n",
       "        760 days    10-K 2010-07-30    CY2008 365 days  \n",
       "     Q1 23 days     10-Q 2009-10-23       NaN  91 days  \n",
       "        388 days    10-Q 2009-10-23  CY2008Q3  91 days  \n",
       "     Q2 28 days     10-Q 2010-01-28       NaN  91 days  \n",
       "        393 days    10-Q 2010-01-28  CY2008Q4  91 days  \n",
       "     Q3 22 days     10-Q 2010-04-22       NaN  89 days  \n",
       "        387 days    10-Q 2010-04-22  CY2009Q1  89 days  \n",
       "2011 FY 28 days     10-K 2011-07-28       NaN 364 days  \n",
       "        393 days    10-K 2011-07-28       NaN 364 days  \n",
       "        758 days    10-K 2011-07-28    CY2009 364 days  \n",
       "     Q1 28 days     10-Q 2010-10-28       NaN  91 days  \n",
       "        393 days    10-Q 2010-10-28  CY2009Q3  91 days  \n",
       "     Q2 27 days     10-Q 2011-01-27       NaN  91 days  \n",
       "        392 days    10-Q 2011-01-27  CY2009Q4  91 days  \n",
       "     Q3 28 days     10-Q 2011-04-28       NaN  89 days  \n",
       "        393 days    10-Q 2011-04-28  CY2010Q1  89 days  \n",
       "2012 FY 26 days     10-K 2012-07-26       NaN 365 days  \n",
       "        392 days    10-K 2012-07-26       NaN 364 days  \n",
       "        757 days    10-K 2012-07-26    CY2010 364 days  \n",
       "     Q1 20 days     10-Q 2011-10-20       NaN  91 days  \n",
       "        385 days    10-Q 2011-10-20  CY2010Q3  91 days  \n",
       "     Q2 27 days   10-Q/A 2012-01-27       NaN  91 days  \n",
       "        392 days  10-Q/A 2012-01-27  CY2010Q4  91 days  \n",
       "     Q3 19 days     10-Q 2012-04-19       NaN  90 days  \n",
       "        385 days    10-Q 2012-04-19  CY2011Q1  89 days  \n",
       "2013 FY 30 days     10-K 2013-07-30       NaN 364 days  \n",
       "        149 days     8-K 2013-11-26       NaN 364 days  \n",
       "        395 days    10-K 2013-07-30       NaN 365 days  \n",
       "        514 days     8-K 2013-11-26       NaN 365 days  \n",
       "        761 days    10-K 2013-07-30       NaN 364 days  \n",
       "        880 days     8-K 2013-11-26    CY2011 364 days  \n",
       "     Q1 18 days     10-Q 2012-10-18       NaN  91 days  \n",
       "        384 days    10-Q 2012-10-18  CY2011Q3  91 days  \n",
       "     Q2 24 days     10-Q 2013-01-24       NaN  91 days  \n",
       "        390 days    10-Q 2013-01-24  CY2011Q4  91 days  \n",
       "     Q3 18 days     10-Q 2013-04-18       NaN  89 days  \n",
       "        383 days    10-Q 2013-04-18  CY2012Q1  90 days  \n",
       "2014 FY 31 days     10-K 2014-07-31       NaN 364 days  \n",
       "        396 days    10-K 2014-07-31       NaN 364 days  \n",
       "        761 days    10-K 2014-07-31    CY2012 365 days  \n",
       "     Q1 24 days     10-Q 2013-10-24       NaN  91 days  \n",
       "        389 days    10-Q 2013-10-24  CY2012Q3  91 days  \n",
       "     Q2 23 days     10-Q 2014-01-23       NaN  91 days  \n",
       "        388 days    10-Q 2014-01-23  CY2012Q4  91 days  \n",
       "     Q3 24 days     10-Q 2014-04-24       NaN  89 days  \n",
       "        389 days    10-Q 2014-04-24  CY2013Q1  89 days  \n",
       "2015 FY 31 days     10-K 2015-07-31       NaN 364 days  \n",
       "        119 days     8-K 2015-10-27       NaN 364 days  \n",
       "        119 days     8-K 2015-10-27       NaN  90 days  \n",
       "        210 days     8-K 2015-10-27       NaN  89 days  \n",
       "        300 days     8-K 2015-10-27       NaN  91 days  \n",
       "        392 days     8-K 2015-10-27       NaN  91 days  \n",
       "        396 days    10-K 2015-07-31       NaN 364 days  \n",
       "        484 days     8-K 2015-10-27       NaN 364 days  \n",
       "        484 days     8-K 2015-10-27  CY2014Q2  90 days  \n",
       "        575 days     8-K 2015-10-27  CY2014Q1  89 days  \n",
       "        665 days     8-K 2015-10-27  CY2013Q4  91 days  \n",
       "        757 days     8-K 2015-10-27  CY2013Q3  91 days  \n",
       "        761 days    10-K 2015-07-31       NaN 364 days  \n",
       "        849 days     8-K 2015-10-27    CY2013 364 days  \n",
       "     Q1 23 days     10-Q 2014-10-23       NaN  91 days  \n",
       "        388 days    10-Q 2014-10-23       NaN  91 days  \n",
       "     Q2 26 days     10-Q 2015-01-26       NaN  91 days  \n",
       "        391 days    10-Q 2015-01-26       NaN  91 days  \n",
       "     Q3 23 days     10-Q 2015-04-23       NaN  89 days  \n",
       "        388 days    10-Q 2015-04-23       NaN  89 days  \n",
       "2016 FY 28 days     10-K 2016-07-28       NaN 365 days  \n",
       "        28 days     10-K 2016-07-28       NaN  90 days  \n",
       "        119 days    10-K 2016-07-28       NaN  90 days  \n",
       "        210 days    10-K 2016-07-28       NaN  91 days  \n",
       "        302 days    10-K 2016-07-28       NaN  91 days  \n",
       "        394 days    10-K 2016-07-28       NaN 364 days  \n",
       "        394 days    10-K 2016-07-28  CY2015Q2  90 days  \n",
       "        485 days    10-K 2016-07-28  CY2015Q1  89 days  \n",
       "        575 days    10-K 2016-07-28  CY2014Q4  91 days  \n",
       "        667 days    10-K 2016-07-28  CY2014Q3  91 days  \n",
       "        759 days    10-K 2016-07-28    CY2014 364 days  \n",
       "     Q1 22 days     10-Q 2015-10-22       NaN  91 days  \n",
       "        387 days    10-Q 2015-10-22       NaN  91 days  \n",
       "     Q2 28 days     10-Q 2016-01-28       NaN  91 days  \n",
       "        393 days    10-Q 2016-01-28       NaN  91 days  \n",
       "     Q3 21 days     10-Q 2016-04-21       NaN  90 days  \n",
       "        387 days    10-Q 2016-04-21       NaN  89 days  \n",
       "2017 FY 33 days     10-K 2017-08-02       NaN 364 days  \n",
       "        33 days     10-K 2017-08-02       NaN  90 days  \n",
       "        124 days    10-K 2017-08-02       NaN  89 days  \n",
       "        214 days    10-K 2017-08-02       NaN  91 days  \n",
       "        306 days    10-K 2017-08-02       NaN  91 days  \n",
       "        398 days    10-K 2017-08-02       NaN 365 days  \n",
       "        398 days    10-K 2017-08-02  CY2016Q2  90 days  \n",
       "        489 days    10-K 2017-08-02  CY2016Q1  90 days  \n",
       "        580 days    10-K 2017-08-02  CY2015Q4  91 days  \n",
       "        672 days    10-K 2017-08-02  CY2015Q3  91 days  \n",
       "        764 days    10-K 2017-08-02    CY2015 364 days  \n",
       "     Q1 20 days     10-Q 2016-10-20       NaN  91 days  \n",
       "        386 days    10-Q 2016-10-20       NaN  91 days  \n",
       "     Q2 26 days     10-Q 2017-01-26       NaN  91 days  \n",
       "        392 days    10-Q 2017-01-26       NaN  91 days  \n",
       "     Q3 27 days     10-Q 2017-04-27       NaN  89 days  \n",
       "        392 days    10-Q 2017-04-27       NaN  90 days  \n",
       "2018 FY 34 days     10-K 2018-08-03       NaN 364 days  \n",
       "        34 days     10-K 2018-08-03       NaN  90 days  \n",
       "        125 days    10-K 2018-08-03       NaN  89 days  \n",
       "        215 days    10-K 2018-08-03       NaN  91 days  \n",
       "        307 days    10-K 2018-08-03       NaN  91 days  \n",
       "        399 days    10-K 2018-08-03       NaN 364 days  \n",
       "        399 days    10-K 2018-08-03  CY2017Q2  90 days  \n",
       "        490 days    10-K 2018-08-03  CY2017Q1  89 days  \n",
       "        580 days    10-K 2018-08-03  CY2016Q4  91 days  \n",
       "        672 days    10-K 2018-08-03       NaN  90 days  \n",
       "        764 days    10-K 2018-08-03    CY2016 365 days  \n",
       "     Q1 26 days     10-Q 2017-10-26       NaN  91 days  \n",
       "        391 days    10-Q 2017-10-26  CY2016Q3  91 days  \n",
       "     Q2 31 days     10-Q 2018-01-31       NaN  91 days  \n",
       "        396 days    10-Q 2018-01-31       NaN  91 days  \n",
       "     Q3 26 days     10-Q 2018-04-26       NaN  89 days  \n",
       "        391 days    10-Q 2018-04-26       NaN  89 days  \n",
       "2019 FY 32 days     10-K 2019-08-01       NaN 364 days  \n",
       "        32 days     10-K 2019-08-01       NaN  90 days  \n",
       "        123 days    10-K 2019-08-01       NaN  89 days  \n",
       "        213 days    10-K 2019-08-01       NaN  91 days  \n",
       "        305 days    10-K 2019-08-01       NaN  91 days  \n",
       "        397 days    10-K 2019-08-01       NaN 364 days  \n",
       "        397 days    10-K 2019-08-01  CY2018Q2  90 days  \n",
       "        488 days    10-K 2019-08-01  CY2018Q1  89 days  \n",
       "        578 days    10-K 2019-08-01  CY2017Q4  91 days  \n",
       "        670 days    10-K 2019-08-01  CY2017Q3  91 days  \n",
       "        762 days    10-K 2019-08-01    CY2017 364 days  \n",
       "     Q1 24 days     10-Q 2018-10-24       NaN  91 days  \n",
       "        389 days    10-Q 2018-10-24       NaN  91 days  \n",
       "     Q2 30 days     10-Q 2019-01-30       NaN  91 days  \n",
       "        395 days    10-Q 2019-01-30       NaN  91 days  \n",
       "     Q3 24 days     10-Q 2019-04-24       NaN  89 days  \n",
       "        389 days    10-Q 2019-04-24       NaN  89 days  \n",
       "2020 FY 31 days     10-K 2020-07-31       NaN 365 days  \n",
       "        31 days     10-K 2020-07-31  CY2020Q2  90 days  \n",
       "        122 days    10-K 2020-07-31       NaN  90 days  \n",
       "        213 days    10-K 2020-07-31       NaN  91 days  \n",
       "        305 days    10-K 2020-07-31       NaN  91 days  \n",
       "        397 days    10-K 2020-07-31       NaN 364 days  \n",
       "        397 days    10-K 2020-07-31  CY2019Q2  90 days  \n",
       "        488 days    10-K 2020-07-31  CY2019Q1  89 days  \n",
       "        578 days    10-K 2020-07-31  CY2018Q4  91 days  \n",
       "        670 days    10-K 2020-07-31  CY2018Q3  91 days  \n",
       "        762 days    10-K 2020-07-31    CY2018 364 days  \n",
       "     Q1 23 days     10-Q 2019-10-23       NaN  91 days  \n",
       "        388 days    10-Q 2019-10-23       NaN  91 days  \n",
       "     Q2 29 days     10-Q 2020-01-29       NaN  91 days  \n",
       "        394 days    10-Q 2020-01-29       NaN  91 days  \n",
       "     Q3 29 days     10-Q 2020-04-29       NaN  90 days  \n",
       "        395 days    10-Q 2020-04-29       NaN  89 days  \n",
       "2021 FY 29 days     10-K 2021-07-29       NaN 364 days  \n",
       "        394 days    10-K 2021-07-29       NaN 365 days  \n",
       "        760 days    10-K 2021-07-29    CY2019 364 days  \n",
       "     Q1 27 days     10-Q 2020-10-27       NaN  91 days  \n",
       "        393 days    10-Q 2020-10-27  CY2019Q3  91 days  \n",
       "     Q2 26 days     10-Q 2021-01-26       NaN  91 days  \n",
       "        392 days    10-Q 2021-01-26  CY2019Q4  91 days  \n",
       "     Q3 27 days     10-Q 2021-04-27       NaN  89 days  \n",
       "        392 days    10-Q 2021-04-27  CY2020Q1  90 days  \n",
       "2022 FY 28 days     10-K 2022-07-28       NaN 364 days  \n",
       "        393 days    10-K 2022-07-28       NaN 364 days  \n",
       "        758 days    10-K 2022-07-28    CY2020 365 days  \n",
       "     Q1 26 days     10-Q 2021-10-26       NaN  91 days  \n",
       "        391 days    10-Q 2021-10-26  CY2020Q3  91 days  \n",
       "     Q2 25 days     10-Q 2022-01-25       NaN  91 days  \n",
       "        390 days    10-Q 2022-01-25  CY2020Q4  91 days  \n",
       "     Q3 26 days     10-Q 2022-04-26       NaN  89 days  \n",
       "        391 days    10-Q 2022-04-26  CY2021Q1  89 days  \n",
       "2023 FY 27 days     10-K 2023-07-27    CY2023 364 days  \n",
       "        392 days    10-K 2023-07-27    CY2022 364 days  \n",
       "        757 days    10-K 2023-07-27    CY2021 364 days  \n",
       "     Q1 25 days     10-Q 2022-10-25       NaN  91 days  \n",
       "        390 days    10-Q 2022-10-25  CY2021Q3  91 days  \n",
       "     Q2 24 days     10-Q 2023-01-24  CY2022Q4  91 days  \n",
       "        389 days    10-Q 2023-01-24  CY2021Q4  91 days  \n",
       "     Q3 25 days     10-Q 2023-04-25  CY2023Q1  89 days  \n",
       "        390 days    10-Q 2023-04-25  CY2022Q1  89 days  \n",
       "2024 Q1 24 days     10-Q 2023-10-24  CY2023Q3  91 days  \n",
       "        389 days    10-Q 2023-10-24  CY2022Q3  91 days  "
      ]
     },
     "execution_count": 16,
     "metadata": {},
     "output_type": "execute_result"
    }
   ],
   "source": [
    "operating_result.set_index(['fy', 'fp', 'delay']).sort_index()"
   ]
  },
  {
   "cell_type": "code",
   "execution_count": 17,
   "metadata": {},
   "outputs": [
    {
     "data": {
      "text/plain": [
       "[<matplotlib.lines.Line2D at 0x79aa3dbcbb80>]"
      ]
     },
     "execution_count": 17,
     "metadata": {},
     "output_type": "execute_result"
    },
    {
     "data": {
      "image/png": "[encoded data removed]",
      "text/plain": [
       "<Figure size 640x480 with 1 Axes>"
      ]
     },
     "metadata": {},
     "output_type": "display_data"
    }
   ],
   "source": [
    "from scipy.stats import lognorm, norm\n",
    "\n",
    "fig, ax = plt.subplots(1, 1)\n",
    "s = 1.0\n",
    "\n",
    "x = np.linspace(lognorm.ppf(0.0001, s),\n",
    "                lognorm.ppf(0.99, s), 1000)\n",
    "ax.plot(\n",
    "    x, \n",
    "    lognorm.ppf(x, s),\n",
    "    'r-', \n",
    "    alpha=0.6, \n",
    "    label='lognorm ppf'\n",
    ")"
   ]
  },
  {
   "cell_type": "code",
   "execution_count": 18,
   "metadata": {},
   "outputs": [],
   "source": [
    "def stochastic_return(mean_log, deviation_log):\n",
    "    return np.exp(norm.rvs(scale=deviation_log, loc=mean_log, size=8192))"
   ]
  },
  {
   "cell_type": "code",
   "execution_count": 19,
   "metadata": {},
   "outputs": [],
   "source": [
    "def final_return(weight_a, weight_b, return_a=None, return_b=None, return_0=1):\n",
    "    weight_0 = 1 - weight_a - weight_b\n",
    "    if return_a is None:\n",
    "        return_a = stochastic_return(np.log(1.01), np.log(1.001))\n",
    "    if return_a is None:\n",
    "        return_b = stochastic_return(np.log(1.02), np.log(1.01))\n",
    "    return weight_a*return_a + weight_b*return_b + weight_0*return_0"
   ]
  },
  {
   "cell_type": "code",
   "execution_count": 20,
   "metadata": {},
   "outputs": [
    {
     "data": {
      "image/png": "[encoded data removed]",
      "text/plain": [
       "<Figure size 640x480 with 2 Axes>"
      ]
     },
     "metadata": {},
     "output_type": "display_data"
    }
   ],
   "source": [
    "mu_a, sigma_a = np.log(1.2), .05\n",
    "mu_b, sigma_b = np.log(1.03), .02\n",
    "risk_factor = 0.01\n",
    "return_0 = 1.01\n",
    "\n",
    "return_a, return_b = stochastic_return(mu_a, sigma_a), stochastic_return(mu_b, sigma_b)\n",
    "\n",
    "quantiles_from_coords = np.vectorize(lambda x, y: np.quantile(final_return(x/127, y/127, return_a, return_b, return_0), risk_factor))\n",
    "\n",
    "quantile_matrix = np.fromfunction(quantiles_from_coords, (128, 128)).T\n",
    "#quantile_matrix = [[ (x * y) for x in range(128)] for y in range(128)]\n",
    "#quantile_matrix = np.array(quantile_matrix)\n",
    "\n",
    "mask_function = np.vectorize(lambda x, y: (x + y) >= 128)\n",
    "mask = np.fromfunction(mask_function, (128, 128)).T\n",
    "\n",
    "graph = sns.heatmap(data=quantile_matrix, mask=mask)"
   ]
  }
 ],
 "metadata": {
  "kernelspec": {
   "display_name": "Python 3",
   "language": "python",
   "name": "python3"
  },
  "language_info": {
   "codemirror_mode": {
    "name": "ipython",
    "version": 3
   },
   "file_extension": ".py",
   "mimetype": "text/x-python",
   "name": "python",
   "nbconvert_exporter": "python",
   "pygments_lexer": "ipython3",
   "version": "3.10.12"
  }
 },
 "nbformat": 4,
 "nbformat_minor": 2
}
